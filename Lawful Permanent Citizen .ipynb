{
 "cells": [
  {
   "cell_type": "code",
   "execution_count": null,
   "metadata": {},
   "outputs": [],
   "source": [
    "#Create dependancies \n",
    "import pandas as pd \n",
    "import numpy as np\n",
    "import matplotlib as pylt \n",
    "import os "
   ]
  },
  {
   "cell_type": "code",
   "execution_count": null,
   "metadata": {},
   "outputs": [],
   "source": [
    "#Read in the Excel file and view the headers\n",
    "Lawful_df = pd.read_excel(\"./Resources/fy2018_Lawful.xlsx\", header=4)\n",
    "Lawful_df.head()"
   ]
  },
  {
   "cell_type": "code",
   "execution_count": null,
   "metadata": {},
   "outputs": [],
   "source": [
    "#Use the iloc function to locate the point of interest in a data set\n",
    "Broad_age = Lawful_df.iloc[19:23,:]\n",
    "Broad_age"
   ]
  },
  {
   "cell_type": "code",
   "execution_count": null,
   "metadata": {},
   "outputs": [],
   "source": [
    "#View the characteristic and Total columns \n",
    "Broad_age_df = pd.DataFrame(Broad_age)\n",
    "Sex = Broad_age_df.iloc[:, 0:2]\n",
    "Sex"
   ]
  },
  {
   "cell_type": "code",
   "execution_count": null,
   "metadata": {},
   "outputs": [],
   "source": [
    "#Rename your columns \n",
    "Cleaned = Sex.rename(columns={\"Characteristic\": \"Age\", \"Total\": \"Lawful 2018\"})\n",
    "Index_age = Cleaned.set_index(\"Age\")\n",
    "Index_age"
   ]
  },
  {
   "cell_type": "code",
   "execution_count": null,
   "metadata": {},
   "outputs": [],
   "source": [
    "#View a single row \n",
    "Sex = Lawful_df.iloc[19,1:]\n",
    "Sex.to_frame(name=\"LPR 2018\")"
   ]
  },
  {
   "cell_type": "code",
   "execution_count": null,
   "metadata": {},
   "outputs": [],
   "source": [
    "#Use the iloc function to locate the point of interest in a data set\n",
    "Marital_status = Lawful_df.iloc[24:30,:]\n",
    "Marital_status"
   ]
  },
  {
   "cell_type": "code",
   "execution_count": null,
   "metadata": {},
   "outputs": [],
   "source": [
    "#View the characteristic and Total columns \n",
    "New_marital_df = pd.DataFrame(Marital_status)\n",
    "Specific = New_marital_df.iloc[:, 0:2]\n",
    "Specific"
   ]
  },
  {
   "cell_type": "code",
   "execution_count": null,
   "metadata": {},
   "outputs": [],
   "source": [
    "#Rename your columns \n",
    "Renamed = Specific.rename(columns={\"Characteristic\": \"Marital Status\", \"Total\": \"Lawful Permanent Resident 2018\"})\n",
    "Renamed.head()"
   ]
  },
  {
   "cell_type": "code",
   "execution_count": null,
   "metadata": {},
   "outputs": [],
   "source": [
    "#View a single column \n",
    "Status = Lawful_df.iloc[24:30,0:2]\n",
    "Name18 = Status.rename(columns={\"Characteristic\": \"Marital Status\", \"Total\": \"Lawful 2018\"})\n",
    "#Set marital status as index for clarity\n",
    "Name18.set_index(\"Marital Status\", inplace=True)\n",
    "Name18"
   ]
  },
  {
   "cell_type": "code",
   "execution_count": null,
   "metadata": {},
   "outputs": [],
   "source": []
  }
 ],
 "metadata": {
  "kernelspec": {
   "display_name": "Python 3",
   "language": "python",
   "name": "python3"
  },
  "language_info": {
   "codemirror_mode": {
    "name": "ipython",
    "version": 3
   },
   "file_extension": ".py",
   "mimetype": "text/x-python",
   "name": "python",
   "nbconvert_exporter": "python",
   "pygments_lexer": "ipython3",
   "version": "3.6.9"
  }
 },
 "nbformat": 4,
 "nbformat_minor": 2
}