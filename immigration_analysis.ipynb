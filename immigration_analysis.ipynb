{
 "cells": [
  {
   "cell_type": "code",
   "execution_count": null,
   "metadata": {},
   "outputs": [],
   "source": [
    "import pandas as pd\n",
    "import matplotlib.pyplot as plt\n",
    "import numpy as np\n",
    "import os\n",
    "import gmaps"
   ]
  },
  {
   "cell_type": "code",
   "execution_count": null,
   "metadata": {},
   "outputs": [],
   "source": [
    "# Stacy's code starts here"
   ]
  },
  {
   "cell_type": "code",
   "execution_count": null,
   "metadata": {},
   "outputs": [],
   "source": [
    "# Load naturalization table\n",
    "nat_file = 'fy2018_naturalization.xlsx'\n",
    "filepath = os.path.join('.', 'Resources', nat_file)\n",
    "\n",
    "naturalization = pd.read_excel(filepath, header=5)"
   ]
  },
  {
   "cell_type": "code",
   "execution_count": null,
   "metadata": {},
   "outputs": [],
   "source": [
    "# Drop notes data at end of document\n",
    "naturalization.drop(labels=range(112,118), inplace=True)\n",
    "naturalization.tail()"
   ]
  },
  {
   "cell_type": "code",
   "execution_count": null,
   "metadata": {},
   "outputs": [],
   "source": [
    "# Rename columns\n",
    "naturalization.rename(columns={\n",
    "    'filed': 'Petitions filed',\n",
    "    'Total': 'Naturalized, total',\n",
    "    'denied': 'Petitions denied'\n",
    "}, inplace=True)\n",
    "\n",
    "# Drop unneeded columns\n",
    "naturalization = naturalization.drop(labels=['Civilian', 'Military 2', 'Not reported'], axis='columns')"
   ]
  },
  {
   "cell_type": "code",
   "execution_count": null,
   "metadata": {},
   "outputs": [],
   "source": [
    "# Find funny/footnoted years and fix them\n",
    "for index, row in naturalization.iterrows():\n",
    "    \n",
    "    year = naturalization.loc[index, 'Year']\n",
    "    \n",
    "    if len(str(year)) > 4:\n",
    "        year = int(year[0:5])\n",
    "        naturalization.loc[index, 'Year'] = year\n",
    "    else:\n",
    "        pass\n",
    "\n",
    "# Set year as index\n",
    "naturalization.set_index(keys=['Year'], inplace=True)"
   ]
  },
  {
   "cell_type": "code",
   "execution_count": null,
   "metadata": {},
   "outputs": [],
   "source": [
    "# Change datatype to int for all columns\n",
    "for c in naturalization.columns:\n",
    "    naturalization[c] = naturalization[c].astype('int')"
   ]
  },
  {
   "cell_type": "code",
   "execution_count": null,
   "metadata": {},
   "outputs": [],
   "source": [
    "naturalization.head()"
   ]
  },
  {
   "cell_type": "code",
   "execution_count": null,
   "metadata": {},
   "outputs": [],
   "source": [
    "# Load asylum seeker age/gender/etc table (2018)\n",
    "asy_2018_file = 'fy2018_table18d_asylum_age_etc.xlsx'\n",
    "filepath = os.path.join('.', 'Resources', asy_2018_file)\n",
    "\n",
    "asylum_2018 = pd.read_excel(filepath, header=4)"
   ]
  },
  {
   "cell_type": "code",
   "execution_count": null,
   "metadata": {},
   "outputs": [],
   "source": [
    "asylum_2018.tail(10)"
   ]
  },
  {
   "cell_type": "code",
   "execution_count": null,
   "metadata": {},
   "outputs": [],
   "source": [
    "# Drop notes data at end of document\n",
    "asylum_2018.drop(labels=range(34,38), inplace=True)\n",
    "asylum_2018.tail()"
   ]
  },
  {
   "cell_type": "code",
   "execution_count": null,
   "metadata": {},
   "outputs": [],
   "source": [
    "# Split into sex [5:8], rename column\n",
    "asylum_2018_sex = asylum_2018.iloc[1:4,0:2]\n",
    "asylum_2018_sex.rename(columns={\n",
    "    \"Characteristic\": \"Sex\"\n",
    "}, inplace=True)"
   ]
  },
  {
   "cell_type": "code",
   "execution_count": null,
   "metadata": {},
   "outputs": [],
   "source": [
    "# Drop unneeded rows and reset index\n",
    "asylum_2018_sex.set_index(keys='Sex', inplace=True)\n",
    "asylum_2018_sex"
   ]
  },
  {
   "cell_type": "code",
   "execution_count": null,
   "metadata": {},
   "outputs": [],
   "source": [
    "# Rename \"total\" to reflect dataset scope\n",
    "asylum_2018_sex.rename(columns={\n",
    "    \"Total\": \"Asylum 2018\"\n",
    "}, inplace=True)\n",
    "asylum_2018_sex"
   ]
  },
  {
   "cell_type": "code",
   "execution_count": null,
   "metadata": {},
   "outputs": [],
   "source": [
    "# Split out broad age group [27:31]\n",
    "asylum_2018_broad_age = asylum_2018.iloc[22:27,0:2]\n",
    "asylum_2018_broad_age_total = asylum_2018_broad_age.drop([22])\n",
    "asylum_2018_broad_age_total.rename(columns={\n",
    "    \"Characteristic\": \"Age\"\n",
    "}, inplace=True)\n",
    "asylum_2018_broad_age_total.set_index(keys='Age', inplace=True)\n",
    "asylum_2018_broad_age_total"
   ]
  },
  {
   "cell_type": "code",
   "execution_count": null,
   "metadata": {},
   "outputs": [],
   "source": [
    "# Rename \"total\" to reflect dataset scope\n",
    "asylum_2018_broad_age_total.rename(columns={\n",
    "    \"Total\": \"Asylum 2018\"\n",
    "}, inplace=True)\n",
    "asylum_2018_broad_age_total"
   ]
  },
  {
   "cell_type": "code",
   "execution_count": null,
   "metadata": {},
   "outputs": [],
   "source": [
    "# Split out marital status [32:38]"
   ]
  },
  {
   "cell_type": "code",
   "execution_count": null,
   "metadata": {},
   "outputs": [],
   "source": [
    "asylum_2018_marital = asylum_2018.iloc[28:34,0:2]\n",
    "asylum_2018_marital.rename(columns={\n",
    "    \"Characteristic\": \"Marital Status\"\n",
    "}, inplace=True)\n",
    "asylum_2018_marital.set_index(keys='Marital Status', inplace=True)\n",
    "asylum_2018_marital"
   ]
  },
  {
   "cell_type": "code",
   "execution_count": null,
   "metadata": {},
   "outputs": [],
   "source": [
    "# Rename \"total\" to reflect dataset scope\n",
    "asylum_2018_marital.rename(columns={\n",
    "    \"Total\": \"Asylum 2018\"\n",
    "}, inplace=True)\n",
    "asylum_2018_marital"
   ]
  },
  {
   "cell_type": "code",
   "execution_count": null,
   "metadata": {},
   "outputs": [],
   "source": [
    "# Cleaning asylum demographic data from 2009\n",
    "asy_2009_file = 'fy_2009_table15d_asylum_age_etc.xls'\n",
    "filepath = os.path.join('.', 'Resources', asy_2009_file)\n",
    "\n",
    "asylum_2009 = pd.read_excel(filepath, header=5)"
   ]
  },
  {
   "cell_type": "code",
   "execution_count": null,
   "metadata": {},
   "outputs": [],
   "source": [
    "asylum_2009.head(10)"
   ]
  },
  {
   "cell_type": "code",
   "execution_count": null,
   "metadata": {},
   "outputs": [],
   "source": [
    "# Drop notes data at end of document\n",
    "asylum_2009.drop(labels=range(37,41), inplace=True)\n",
    "asylum_2009.tail()"
   ]
  },
  {
   "cell_type": "code",
   "execution_count": null,
   "metadata": {},
   "outputs": [],
   "source": [
    "# Split into sex [5:8], rename column\n",
    "asylum_2009_sex = asylum_2009.iloc[1:4,0:2]\n",
    "asylum_2009_sex.rename(columns={\n",
    "    \"Characteristic\": \"Sex\"\n",
    "}, inplace=True)\n",
    "asylum_2009_sex\n",
    "\n",
    "# Rename \"total\" to reflect dataset scope\n",
    "asylum_2009_sex.rename(columns={\n",
    "    \"Total\": \"Asylum 2009\"\n",
    "}, inplace=True)\n",
    "\n",
    "# reset index\n",
    "asylum_2009_sex.set_index(keys='Sex', inplace=True)\n",
    "asylum_2009_sex"
   ]
  },
  {
   "cell_type": "code",
   "execution_count": null,
   "metadata": {},
   "outputs": [],
   "source": [
    "# Split out broad age group [32:35]\n",
    "asylum_2009_broad_age = asylum_2009.iloc[25:29,0:2]\n",
    "asylum_2009_broad_age.rename(columns={\n",
    "    \"Characteristic\": \"Age\"\n",
    "}, inplace=True)\n",
    "asylum_2009_broad_age.set_index(keys='Age', inplace=True)\n",
    "asylum_2009_broad_age\n",
    "\n",
    "# Rename \"total\" to reflect dataset scope\n",
    "asylum_2009_broad_age.rename(columns={\n",
    "    \"Total\": \"Asylum 2009\"\n",
    "}, inplace=True)\n",
    "\n",
    "asylum_2009_broad_age"
   ]
  },
  {
   "cell_type": "code",
   "execution_count": null,
   "metadata": {},
   "outputs": [],
   "source": [
    "# Split out marital status\n",
    "asylum_2009_marital = asylum_2009.iloc[31:37,0:2]\n",
    "asylum_2009_marital.rename(columns={\n",
    "    \"Characteristic\": \"Marital Status\"\n",
    "}, inplace=True)\n",
    "asylum_2009_marital.set_index(keys='Marital Status', inplace=True)\n",
    "\n",
    "# Rename \"total\" to reflect dataset scope\n",
    "asylum_2009_marital.rename(columns={\n",
    "    \"Total\": \"Asylum 2009\"\n",
    "}, inplace=True)\n",
    "\n",
    "asylum_2009_marital"
   ]
  },
  {
   "cell_type": "code",
   "execution_count": null,
   "metadata": {},
   "outputs": [],
   "source": [
    "# Stacy's code ends here"
   ]
  },
  {
   "cell_type": "code",
   "execution_count": null,
   "metadata": {},
   "outputs": [],
   "source": [
    "# Kana's code starts here"
   ]
  },
  {
   "cell_type": "code",
   "execution_count": null,
   "metadata": {},
   "outputs": [],
   "source": [
    "# Kana's code ends here"
   ]
  },
  {
   "cell_type": "code",
   "execution_count": null,
   "metadata": {},
   "outputs": [],
   "source": [
    "# Satish start"
   ]
  },
  {
   "cell_type": "code",
   "execution_count": null,
   "metadata": {},
   "outputs": [],
   "source": [
    "#Reading Data for Permanent_Resident_Years \n",
    "immigration_df=pd.read_csv(\"Resources/Permanent_Resident_Years.csv\")\n",
    "immigration_df['Number'] = [x.replace(',', '') for x in immigration_df['Number']]"
   ]
  },
  {
   "cell_type": "code",
   "execution_count": null,
   "metadata": {},
   "outputs": [],
   "source": [
    "#Data Cleaning\n",
    "immigration_df.Year=pd.to_numeric(immigration_df.Year)\n",
    "immigration_df.Number=pd.to_numeric(immigration_df.Number)\n",
    "#Plotting the Graph\n",
    "immigration_plt=immigration_df.plot(kind=\"line\", x=\"Year\", y=\"Number\", grid=True, figsize=(15,10),legend=False,title=\"Number of Lawful Permanent Resident Status Vs. Years\")\n",
    "#Finding Max value\n",
    "max_arrow_y=immigration_df['Number'].max()\n",
    "max_arrow_x=immigration_df.loc[immigration_df['Number']==max_arrow_y,\"Year\"].reset_index(drop=True)\n",
    "#Printing Max value in graph\n",
    "plt.annotate(\n",
    "    f\"maximum {max_arrow_x[0],max_arrow_y}\", \n",
    "    xy=(max_arrow_x[0], max_arrow_y))\n",
    "#Finding Minimum value\n",
    "min_arrow_y=immigration_df['Number'].min()\n",
    "min_arrow_x=immigration_df.loc[immigration_df['Number']==min_arrow_y,\"Year\"].reset_index(drop=True)\n",
    "#Printing Min Value in graph\n",
    "plt.annotate(\n",
    "    f\"Minimum {min_arrow_x[0],min_arrow_y}\", \n",
    "    xy=(min_arrow_x[0], min_arrow_y))\n",
    "#Labeling the Graph\n",
    "plt.ylabel(\"Number of Lawful Permanent Resident Status\")\n",
    "plt.xlabel(\"Timepoint in Years\")\n",
    "plt.tight_layout()\n",
    "plt.show()"
   ]
  },
  {
   "cell_type": "code",
   "execution_count": null,
   "metadata": {},
   "outputs": [],
   "source": [
    "#Reading CSV\n",
    "Country_Data_2018=pd.read_csv(\"Resources/Country_Data_2018.csv\")\n",
    "Country_Data_1999=pd.read_csv(\"Resources/Country_Data_1999.csv\")\n",
    "Country_Data_2009=pd.read_csv(\"Resources/Country_Data_2009.csv\")"
   ]
  },
  {
   "cell_type": "code",
   "execution_count": null,
   "metadata": {},
   "outputs": [],
   "source": [
    "#Data cleaning,Removing extra column\n",
    "Country_Data_1999=Country_Data_1999.iloc[:, :-1]"
   ]
  },
  {
   "cell_type": "code",
   "execution_count": null,
   "metadata": {},
   "outputs": [],
   "source": [
    "#Removing Data which has No value\n",
    "Country_Data_2018_df=Country_Data_2018.dropna()\n",
    "Country_Data_1999_df=Country_Data_1999.dropna()\n",
    "Country_Data_2009_df=Country_Data_2009.dropna()"
   ]
  },
  {
   "cell_type": "code",
   "execution_count": null,
   "metadata": {},
   "outputs": [],
   "source": [
    "#Extract First Column so that it can be used for Name as Header\n",
    "new_header_2018 = Country_Data_2018_df.iloc[0]\n",
    "new_header_1999 = Country_Data_1999_df.iloc[0]\n",
    "new_header_2009 = Country_Data_2009_df.iloc[0]"
   ]
  },
  {
   "cell_type": "code",
   "execution_count": null,
   "metadata": {},
   "outputs": [],
   "source": [
    "#Renaming the Header removing first row\n",
    "Country_Data_2018_df.columns=new_header_2018\n",
    "Country_Data_2018_df=Country_Data_2018_df[1:]\n",
    "\n",
    "Country_Data_1999_df.columns=new_header_1999\n",
    "Country_Data_1999_df=Country_Data_1999_df[1:]\n",
    "\n",
    "\n",
    "Country_Data_2009_df.columns=new_header_2009\n",
    "Country_Data_2009_df=Country_Data_2009_df[1:]"
   ]
  },
  {
   "cell_type": "code",
   "execution_count": null,
   "metadata": {},
   "outputs": [],
   "source": [
    "#List of Countries in central America\n",
    "Central_America_Data=['Mexico', 'Guatemala', 'Honduras', 'Nicaragua', 'El Salvador', 'Costa Rica', 'Panama', 'Belize']\n",
    "#Getting only records of Central America from main Data Set\n",
    "Latin_Data_df=Country_Data_2018_df[Country_Data_2018_df['Region and country of birth'].isin(Central_America_Data)]\n",
    "#Data Cleaning\n",
    "Latin_Data_df=Latin_Data_df.apply(lambda x: x.str.replace(',',''))"
   ]
  },
  {
   "cell_type": "code",
   "execution_count": null,
   "metadata": {},
   "outputs": [],
   "source": [
    "#Creating new DataFrame for required Data\n",
    "Latin_Data_summ=[['2014',pd.to_numeric(Latin_Data_df['2014']).sum()],['2015',pd.to_numeric(Latin_Data_df['2015']).sum()],['2017',pd.to_numeric(Latin_Data_df['2017']).sum()],['2018',pd.to_numeric(Latin_Data_df['2018']).sum()]]\n",
    "Latin_Data_summ_df=pd.DataFrame(Latin_Data_summ, columns = ['Year', 'Count'])"
   ]
  },
  {
   "cell_type": "code",
   "execution_count": null,
   "metadata": {},
   "outputs": [],
   "source": [
    "#Bar Graph showing the Central America and Years\n",
    "Latin_Data_summ_df.plot.bar(x='Year', y='Count', rot=0,legend=False)\n",
    "plt.axis('tight')\n",
    "plt.title(\"Number of Immigrants Vs Year\")\n",
    "plt.ylabel(\"Total Number of Immigrants from Central America\")\n",
    "plt.xlabel(\"Year\")\n",
    "plt.tight_layout()\n",
    "plt.show()"
   ]
  },
  {
   "cell_type": "code",
   "execution_count": null,
   "metadata": {},
   "outputs": [],
   "source": [
    "#List of Islamic Countries \n",
    "Islam_Country_Data=['Afghanistan','Iran','Yemen','Jordan','Saudi Arabia','Sudan','Pakistan','Syria','Oman']\n",
    "#Data Set till 1999 \n",
    "Islam_Data_1999_df=Country_Data_1999_df[Country_Data_1999_df['Region and country of birth'].isin(Islam_Country_Data)]\n",
    "#Data Cleaning\n",
    "Islam_Data_1999_df=Islam_Data_1999_df.apply(lambda x: x.str.replace(',',''))"
   ]
  },
  {
   "cell_type": "code",
   "execution_count": null,
   "metadata": {},
   "outputs": [],
   "source": [
    "#Data Set form 2000 to 2009 \n",
    "Islam_Data_2009_df=Country_Data_2009_df[Country_Data_2009_df['Region and country of birth'].isin(Islam_Country_Data)]\n",
    "#Data Cleaning\n",
    "Islam_Data_2009_df=Islam_Data_2009_df.apply(lambda x: x.str.replace(',',''))"
   ]
  },
  {
   "cell_type": "code",
   "execution_count": null,
   "metadata": {},
   "outputs": [],
   "source": [
    "#Merging the DataFrame\n",
    "Merge_Islam_Country=pd.merge(Islam_Data_1999_df,Islam_Data_2009_df,how='outer')\n",
    "#New DataFrame with reuqired Dataset\n",
    "Islam_Country_summ=[['1999',pd.to_numeric(Merge_Islam_Country['1999']).sum()],['2000',pd.to_numeric(Merge_Islam_Country['2000']).sum()],['2005',pd.to_numeric(Merge_Islam_Country['2005']).sum()],['20006',pd.to_numeric(Merge_Islam_Country['2006']).sum()]]\n",
    "Islam_Country_summ=pd.DataFrame(Islam_Country_summ, columns = ['Year', 'Count'])"
   ]
  },
  {
   "cell_type": "code",
   "execution_count": null,
   "metadata": {},
   "outputs": [],
   "source": [
    "#Ployyinh the Graph\n",
    "Islam_Country_summ.plot.bar(x='Year', y='Count', rot=0,legend=False)\n",
    "plt.axis('tight')\n",
    "plt.title(\"Number of Immigrants Vs Year\")\n",
    "plt.ylabel(\"Total Number of Immigrants from Arab Countries\")\n",
    "plt.xlabel(\"Year\")\n",
    "plt.tight_layout()\n",
    "plt.show()"
   ]
  },
  {
   "cell_type": "code",
   "execution_count": null,
   "metadata": {},
   "outputs": [],
   "source": [
    "# Satish end"
   ]
  },
  {
   "cell_type": "code",
   "execution_count": null,
   "metadata": {},
   "outputs": [],
   "source": [
    "# Satish's code starts here"
   ]
  },
  {
   "cell_type": "code",
   "execution_count": null,
   "metadata": {},
   "outputs": [],
   "source": [
    "# Satish's code ends here"
   ]
  },
  {
   "cell_type": "code",
   "execution_count": null,
   "metadata": {},
   "outputs": [],
   "source": [
    "# Umar's code starts here"
   ]
  },
  {
   "cell_type": "code",
   "execution_count": null,
   "metadata": {},
   "outputs": [],
   "source": [
    "# Umar's code ends here"
   ]
  }
 ],
 "metadata": {
  "kernelspec": {
   "display_name": "Python 3",
   "language": "python",
   "name": "python3"
  },
  "language_info": {
   "codemirror_mode": {
    "name": "ipython",
    "version": 3
   },
   "file_extension": ".py",
   "mimetype": "text/x-python",
   "name": "python",
   "nbconvert_exporter": "python",
   "pygments_lexer": "ipython3",
   "version": "3.7.4"
  }
 },
 "nbformat": 4,
 "nbformat_minor": 4
}
