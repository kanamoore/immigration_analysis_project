{
 "cells": [
  {
   "cell_type": "code",
   "execution_count": null,
   "metadata": {},
   "outputs": [],
   "source": [
    "import pandas as pd\n",
    "import matplotlib.pyplot as plt\n",
    "import numpy as np\n",
    "import os\n",
    "import folium\n",
    "import gmaps"
   ]
  },
  {
   "cell_type": "code",
   "execution_count": null,
   "metadata": {},
   "outputs": [],
   "source": [
    "# Stacy's code starts here"
   ]
  },
  {
   "cell_type": "markdown",
   "metadata": {},
   "source": [
    "## Naturalization data table cleaning"
   ]
  },
  {
   "cell_type": "code",
   "execution_count": null,
   "metadata": {},
   "outputs": [],
   "source": [
    "# Load naturalization table\n",
    "nat_file = 'fy2018_naturalization.xlsx'\n",
    "filepath = os.path.join('.', 'Resources', nat_file)\n",
    "\n",
    "naturalization = pd.read_excel(filepath, header=5)"
   ]
  },
  {
   "cell_type": "code",
   "execution_count": null,
   "metadata": {},
   "outputs": [],
   "source": [
    "# Drop notes data at end of document\n",
    "naturalization.drop(labels=range(112,118), inplace=True)\n",
    "naturalization.tail()"
   ]
  },
  {
   "cell_type": "code",
   "execution_count": null,
   "metadata": {},
   "outputs": [],
   "source": [
    "# Rename columns\n",
    "naturalization.rename(columns={\n",
    "    'filed': 'Petitions filed',\n",
    "    'Total': 'Naturalized, total',\n",
    "    'denied': 'Petitions denied'\n",
    "}, inplace=True)\n",
    "\n",
    "# Drop unneeded columns\n",
    "naturalization = naturalization.drop(labels=['Civilian', 'Military 2', 'Not reported'], axis='columns')"
   ]
  },
  {
   "cell_type": "code",
   "execution_count": null,
   "metadata": {},
   "outputs": [],
   "source": [
    "# Find funny/footnoted years and fix them\n",
    "for index, row in naturalization.iterrows():\n",
    "    \n",
    "    year = naturalization.loc[index, 'Year']\n",
    "    \n",
    "    if len(str(year)) > 4:\n",
    "        year = int(year[0:5])\n",
    "        naturalization.loc[index, 'Year'] = year\n",
    "    else:\n",
    "        pass\n",
    "\n",
    "# Set year as index\n",
    "naturalization.set_index(keys=['Year'], inplace=True)"
   ]
  },
  {
   "cell_type": "code",
   "execution_count": null,
   "metadata": {},
   "outputs": [],
   "source": [
    "# Change datatype to int for all columns\n",
    "for c in naturalization.columns:\n",
    "    naturalization[c] = naturalization[c].astype('int')"
   ]
  },
  {
   "cell_type": "code",
   "execution_count": null,
   "metadata": {},
   "outputs": [],
   "source": [
    "naturalization.head()"
   ]
  },
  {
   "cell_type": "code",
   "execution_count": null,
   "metadata": {},
   "outputs": [
    {
     "data": {
      "text/plain": [
       "Index(['Region and country of birth', '2009', '2010', '2011', '2012', '2013',\n",
       "       '2014', '2015', '2016', '2017', '2018'],\n",
       "      dtype='object')"
      ]
     },
     "execution_count": 86,
     "metadata": {},
     "output_type": "execute_result"
    }
   ],
   "source": [
    "# Clean up weird column spacing issues\n",
    "for c in nat_country.columns:\n",
    "    nat_country.rename(columns={\n",
    "    c: str(c).strip()\n",
    "}, inplace=True)\n",
    "    \n",
    "nat_country.columns"
   ]
  },
  {
   "cell_type": "code",
   "execution_count": 85,
   "metadata": {},
   "outputs": [],
   "source": [
    "# Test if samples from certain years have normal distribution\n",
    "\n"
   ]
  },
  {
   "cell_type": "markdown",
   "metadata": {},
   "source": [
    "## Asylum seeker demographic data 2018 cleaning"
   ]
  },
  {
   "cell_type": "code",
   "execution_count": 9,
   "metadata": {},
   "outputs": [],
   "source": [
    "# Load asylum seeker age/gender/etc table (2018)\n",
    "asy_2018_file = 'fy2018_table18d_asylum_age_etc.xlsx'\n",
    "filepath = os.path.join('.', 'Resources', asy_2018_file)\n",
    "\n",
    "asylum_2018 = pd.read_excel(filepath, header=4)"
   ]
  },
  {
   "cell_type": "code",
   "execution_count": null,
   "metadata": {},
   "outputs": [],
   "source": [
    "asylum_2018.tail(10)"
   ]
  },
  {
   "cell_type": "code",
   "execution_count": null,
   "metadata": {},
   "outputs": [],
   "source": [
    "# Drop notes data at end of document\n",
    "asylum_2018.drop(labels=range(34,38), inplace=True)\n",
    "asylum_2018.tail()"
   ]
  },
  {
   "cell_type": "code",
   "execution_count": null,
   "metadata": {},
   "outputs": [],
   "source": [
    "# Split into sex [5:8], rename column\n",
    "asylum_2018_sex = asylum_2018.iloc[1:4,0:2]\n",
    "asylum_2018_sex.rename(columns={\n",
    "    \"Characteristic\": \"Sex\"\n",
    "}, inplace=True)"
   ]
  },
  {
   "cell_type": "code",
   "execution_count": null,
   "metadata": {},
   "outputs": [],
   "source": [
    "# Drop unneeded rows and reset index\n",
    "asylum_2018_sex.set_index(keys='Sex', inplace=True)\n",
    "asylum_2018_sex"
   ]
  },
  {
   "cell_type": "code",
   "execution_count": null,
   "metadata": {},
   "outputs": [],
   "source": [
    "# Split into sex [5:8], rename column\n",
    "asylum_2018_sex = asylum_2018.iloc[1:4,0:2]\n",
    "asylum_2018_sex.rename(columns={\n",
    "    \"Characteristic\": \"Sex\"\n",
    "}, inplace=True)\n",
    "\n",
    "# reset index\n",
    "asylum_2018_sex.set_index(keys='Sex', inplace=True)\n",
    "asylum_2018_sex\n",
    "\n",
    "# Rename \"total\" to reflect dataset scope\n",
    "asylum_2018_sex.rename(columns={\n",
    "    \"Total\": \"Asylum 2018\"\n",
    "}, inplace=True)\n",
    "asylum_2018_sex"
   ]
  },
  {
   "cell_type": "code",
   "execution_count": null,
   "metadata": {},
   "outputs": [],
   "source": [
    "# Split out broad age group [27:31]\n",
    "asylum_2018_broad_age = asylum_2018.iloc[22:27,0:2]\n",
    "asylum_2018_broad_age_total = asylum_2018_broad_age.drop([22])\n",
    "asylum_2018_broad_age_total.rename(columns={\n",
    "    \"Characteristic\": \"Age\"\n",
    "}, inplace=True)\n",
    "asylum_2018_broad_age_total.set_index(keys='Age', inplace=True)\n",
    "asylum_2018_broad_age_total"
   ]
  },
  {
   "cell_type": "code",
   "execution_count": null,
   "metadata": {},
   "outputs": [],
   "source": [
    "# Split out broad age group [27:31]\n",
    "asylum_2018_broad_age = asylum_2018.iloc[22:27,0:2]\n",
    "asylum_2018_broad_age_total = asylum_2018_broad_age.drop([22])\n",
    "asylum_2018_broad_age_total.rename(columns={\n",
    "    \"Characteristic\": \"Age\"\n",
    "}, inplace=True)\n",
    "asylum_2018_broad_age_total.set_index(keys='Age', inplace=True)\n",
    "asylum_2018_broad_age_total\n",
    "\n",
    "# Rename \"total\" to reflect dataset scope\n",
    "asylum_2018_broad_age_total.rename(columns={\n",
    "    \"Total\": \"Asylum 2018\"\n",
    "}, inplace=True)\n",
    "asylum_2018_broad_age_total"
   ]
  },
  {
   "cell_type": "code",
   "execution_count": null,
   "metadata": {},
   "outputs": [],
   "source": [
    "# Split out marital status [32:38]"
   ]
  },
  {
   "cell_type": "code",
   "execution_count": null,
   "metadata": {},
   "outputs": [],
   "source": [
    "asylum_2018_marital = asylum_2018.iloc[28:34,0:2]\n",
    "asylum_2018_marital.rename(columns={\n",
    "    \"Characteristic\": \"Marital Status\"\n",
    "}, inplace=True)\n",
    "asylum_2018_marital.set_index(keys='Marital Status', inplace=True)\n",
    "asylum_2018_marital"
   ]
  },
  {
   "cell_type": "code",
   "execution_count": null,
   "metadata": {},
   "outputs": [],
   "source": [
    "# Split out marital status [32:38]\n",
    "asylum_2018_marital = asylum_2018.iloc[28:34,0:2]\n",
    "asylum_2018_marital.rename(columns={\n",
    "    \"Characteristic\": \"Marital Status\"\n",
    "}, inplace=True)\n",
    "asylum_2018_marital.set_index(keys='Marital Status', inplace=True)\n",
    "asylum_2018_marital\n",
    "\n",
    "# Rename \"total\" to reflect dataset scope\n",
    "asylum_2018_marital.rename(columns={\n",
    "    \"Total\": \"Asylum 2018\"\n",
    "}, inplace=True)\n",
    "asylum_2018_marital"
   ]
  },
  {
   "cell_type": "markdown",
   "metadata": {},
   "source": [
    "## Asylum seeker demographic data 2009 cleaning"
   ]
  },
  {
   "cell_type": "code",
   "execution_count": null,
   "metadata": {},
   "outputs": [],
   "source": [
    "# Cleaning asylum demographic data from 2009\n",
    "asy_2009_file = 'fy_2009_table15d_asylum_age_etc.xls'\n",
    "filepath = os.path.join('.', 'Resources', asy_2009_file)\n",
    "\n",
    "asylum_2009 = pd.read_excel(filepath, header=5)"
   ]
  },
  {
   "cell_type": "code",
   "execution_count": null,
   "metadata": {},
   "outputs": [],
   "source": [
    "asylum_2009.head(10)"
   ]
  },
  {
   "cell_type": "code",
   "execution_count": null,
   "metadata": {},
   "outputs": [],
   "source": [
    "# Drop notes data at end of document\n",
    "asylum_2009.drop(labels=range(37,41), inplace=True)\n",
    "asylum_2009.tail()"
   ]
  },
  {
   "cell_type": "code",
   "execution_count": null,
   "metadata": {},
   "outputs": [],
   "source": [
    "# Split into sex [5:8], rename column\n",
    "asylum_2009_sex = asylum_2009.iloc[1:4,0:2]\n",
    "asylum_2009_sex.rename(columns={\n",
    "    \"Characteristic\": \"Sex\"\n",
    "}, inplace=True)\n",
    "asylum_2009_sex\n",
    "\n",
    "# Rename \"total\" to reflect dataset scope\n",
    "asylum_2009_sex.rename(columns={\n",
    "    \"Total\": \"Asylum 2009\"\n",
    "}, inplace=True)\n",
    "\n",
    "# reset index\n",
    "asylum_2009_sex.set_index(keys='Sex', inplace=True)\n",
    "asylum_2009_sex"
   ]
  },
  {
   "cell_type": "code",
   "execution_count": null,
   "metadata": {},
   "outputs": [],
   "source": [
    "# Split out broad age group [32:35]\n",
    "asylum_2009_broad_age = asylum_2009.iloc[25:29,0:2]\n",
    "asylum_2009_broad_age.rename(columns={\n",
    "    \"Characteristic\": \"Age\"\n",
    "}, inplace=True)\n",
    "\n",
    "asylum_2009_broad_age['Age'] = asylum_2009_broad_age['Age'].str.strip()\n",
    "asylum_2009_broad_age['Age']\n",
    "\n",
    "asylum_2009_broad_age.set_index(keys='Age', inplace=True)\n",
    "\n",
    "asylum_2009_broad_age.index\n",
    "\n",
    "# Rename \"total\" to reflect dataset scope\n",
    "asylum_2009_broad_age.rename(columns={\n",
    "    \"Total\": \"Asylum 2009\"\n",
    "}, inplace=True)\n",
    "\n",
    "asylum_2009_broad_age"
   ]
  },
  {
   "cell_type": "code",
   "execution_count": null,
   "metadata": {},
   "outputs": [],
   "source": [
    "# Split out 2009 marital status\n",
    "asylum_2009_marital = asylum_2009.iloc[31:37,0:2]\n",
    "asylum_2009_marital.rename(columns={\n",
    "    \"Characteristic\": \"Marital Status\"\n",
    "}, inplace=True)\n",
    "asylum_2009_marital.set_index(keys='Marital Status', inplace=True)\n",
    "\n",
    "# Rename \"total\" to reflect dataset scope\n",
    "asylum_2009_marital.rename(columns={\n",
    "    \"Total\": \"Asylum 2009\"\n",
    "}, inplace=True)\n",
    "\n",
    "asylum_2009_marital"
   ]
  },
  {
   "cell_type": "markdown",
   "metadata": {},
   "source": [
    "## Join asylum and LPR data"
   ]
  },
  {
   "cell_type": "code",
   "execution_count": null,
   "metadata": {},
   "outputs": [],
   "source": [
    "# Clean up inconsistencies between df indices\n",
    "asylum_2009_broad_age.rename({'Under 16': '< 16', \n",
    "                                          'Age 16 to 20': '16 - 20', \n",
    "                                          'Age 21 and over': '21+'}, axis='index', inplace=True)\n",
    "\n",
    "asylum_2018_broad_age_total.rename({'Under 16 years': '< 16', \n",
    "                                          '16 to 20 years': '16 - 20', \n",
    "                                          '21 years and over': '21+'}, axis='index', inplace=True)"
   ]
  },
  {
   "cell_type": "code",
   "execution_count": 69,
   "metadata": {},
   "outputs": [
    {
     "data": {
      "text/html": [
       "<div>\n",
       "<style scoped>\n",
       "    .dataframe tbody tr th:only-of-type {\n",
       "        vertical-align: middle;\n",
       "    }\n",
       "\n",
       "    .dataframe tbody tr th {\n",
       "        vertical-align: top;\n",
       "    }\n",
       "\n",
       "    .dataframe thead th {\n",
       "        text-align: right;\n",
       "    }\n",
       "</style>\n",
       "<table border=\"1\" class=\"dataframe\">\n",
       "  <thead>\n",
       "    <tr style=\"text-align: right;\">\n",
       "      <th></th>\n",
       "      <th>Asylum 2009</th>\n",
       "      <th>Asylum 2018</th>\n",
       "    </tr>\n",
       "    <tr>\n",
       "      <th>Marital Status</th>\n",
       "      <th></th>\n",
       "      <th></th>\n",
       "    </tr>\n",
       "  </thead>\n",
       "  <tbody>\n",
       "    <tr>\n",
       "      <td>Single</td>\n",
       "      <td>40798.0</td>\n",
       "      <td>14154.0</td>\n",
       "    </tr>\n",
       "    <tr>\n",
       "      <td>Married</td>\n",
       "      <td>29770.0</td>\n",
       "      <td>10142.0</td>\n",
       "    </tr>\n",
       "    <tr>\n",
       "      <td>Widowed</td>\n",
       "      <td>2452.0</td>\n",
       "      <td>232.0</td>\n",
       "    </tr>\n",
       "    <tr>\n",
       "      <td>Divorced/separated</td>\n",
       "      <td>1483.0</td>\n",
       "      <td>896.0</td>\n",
       "    </tr>\n",
       "    <tr>\n",
       "      <td>Unknown</td>\n",
       "      <td>99.0</td>\n",
       "      <td>15.0</td>\n",
       "    </tr>\n",
       "  </tbody>\n",
       "</table>\n",
       "</div>"
      ],
      "text/plain": [
       "                    Asylum 2009  Asylum 2018\n",
       "Marital Status                              \n",
       "Single                  40798.0      14154.0\n",
       "Married                 29770.0      10142.0\n",
       "Widowed                  2452.0        232.0\n",
       "Divorced/separated       1483.0        896.0\n",
       "Unknown                    99.0         15.0"
      ]
     },
     "execution_count": 69,
     "metadata": {},
     "output_type": "execute_result"
    }
   ],
   "source": [
    "# Merge LPR and Asyulym seeker datasets\n",
    "\n",
    "# Join asylum datasets together\n",
    "lpr_asylum_sex = asylum_2009_sex.merge(asylum_2018_sex, how=\"inner\", left_index=True, right_index=True)\n",
    "lpr_asylum_age = asylum_2009_broad_age.merge(asylum_2018_broad_age_total, how=\"inner\", left_index=True, right_index=True)\n",
    "lpr_asylum_marital = asylum_2009_marital.merge(asylum_2018_marital, how=\"inner\", left_index=True, right_index=True)"
   ]
  },
  {
   "cell_type": "code",
   "execution_count": null,
   "metadata": {},
   "outputs": [],
   "source": [
    "# Stacy's code ends here"
   ]
  },
  {
   "cell_type": "code",
   "execution_count": null,
   "metadata": {},
   "outputs": [],
   "source": [
    "# Kana's code starts here"
   ]
  },
  {
   "cell_type": "code",
   "execution_count": null,
   "metadata": {},
   "outputs": [],
   "source": [
    "# Read bystate csv data\n",
    "bystate = pd.read_csv(\"Resources/By state data.csv\")\n",
    "\n",
    "# Dropna\n",
    "bystate = bystate.dropna()\n",
    "\n",
    "# Drop others\n",
    "bystate.drop(bystate.tail(1).index,inplace=True)\n",
    "\n",
    "# Change data to integer\n",
    "bystate.iloc[:,1:20].astype(int)\n",
    "\n",
    "# Show the dataframe\n",
    "bystate.head()"
   ]
  },
  {
   "cell_type": "code",
   "execution_count": null,
   "metadata": {},
   "outputs": [],
   "source": [
    "# List of US state abbreviation\n",
    "us_state_abbrev = {\n",
    "    'Alabama': 'AL',\n",
    "    'Alaska': 'AK',\n",
    "    'Arizona': 'AZ',\n",
    "    'Arkansas': 'AR',\n",
    "    'California': 'CA',\n",
    "    'Colorado': 'CO',\n",
    "    'Connecticut': 'CT',\n",
    "    'Delaware': 'DE',\n",
    "    'District of Columbia': 'DC',\n",
    "    'Florida': 'FL',\n",
    "    'Georgia': 'GA',\n",
    "    'Hawaii': 'HI',\n",
    "    'Idaho': 'ID',\n",
    "    'Illinois': 'IL',\n",
    "    'Indiana': 'IN',\n",
    "    'Iowa': 'IA',\n",
    "    'Kansas': 'KS',\n",
    "    'Kentucky': 'KY',\n",
    "    'Louisiana': 'LA',\n",
    "    'Maine': 'ME',\n",
    "    'Maryland': 'MD',\n",
    "    'Massachusetts': 'MA',\n",
    "    'Michigan': 'MI',\n",
    "    'Minnesota': 'MN',\n",
    "    'Mississippi': 'MS',\n",
    "    'Missouri': 'MO',\n",
    "    'Montana': 'MT',\n",
    "    'Nebraska': 'NE',\n",
    "    'Nevada': 'NV',\n",
    "    'New Hampshire': 'NH',\n",
    "    'New Jersey': 'NJ',\n",
    "    'New Mexico': 'NM',\n",
    "    'New York': 'NY',\n",
    "    'North Carolina': 'NC',\n",
    "    'North Dakota': 'ND',\n",
    "    'Northern Mariana Islands':'MP',\n",
    "    'Ohio': 'OH',\n",
    "    'Oklahoma': 'OK',\n",
    "    'Oregon': 'OR',\n",
    "    'Palau': 'PW',\n",
    "    'Pennsylvania': 'PA',\n",
    "    'Puerto Rico': 'PR',\n",
    "    'Rhode Island': 'RI',\n",
    "    'South Carolina': 'SC',\n",
    "    'South Dakota': 'SD',\n",
    "    'Tennessee': 'TN',\n",
    "    'Texas': 'TX',\n",
    "    'Utah': 'UT',\n",
    "    'Vermont': 'VT',\n",
    "    'Virgin Islands': 'VI',\n",
    "    'Virginia': 'VA',\n",
    "    'Washington': 'WA',\n",
    "    'West Virginia': 'WV',\n",
    "    'Wisconsin': 'WI',\n",
    "    'Wyoming': 'WY',\n",
    "}\n",
    "\n",
    "# Reverse key and value\n",
    "abbrev_us_state = dict(map(reversed, us_state_abbrev.items()))"
   ]
  },
  {
   "cell_type": "code",
   "execution_count": null,
   "metadata": {},
   "outputs": [],
   "source": [
    "# Create an empty dictionary list\n",
    "dict_list=[]\n",
    "\n",
    "# For each key and value in dictionary, combine them and add them to a list\n",
    "for key,value in abbrev_us_state.items():\n",
    "    dict_list.append((key,value))\n",
    "    \n",
    "# Print the list\n",
    "#print (dict_list)"
   ]
  },
  {
   "cell_type": "code",
   "execution_count": null,
   "metadata": {},
   "outputs": [],
   "source": [
    "# Create a dataframe using dictionary list\n",
    "state_abbrev = pd.DataFrame(dict_list)\n",
    "state_abbrev.columns = [\"Abbrev\",\"State\"]\n",
    "\n",
    "# Show the dataframe\n",
    "state_abbrev.head()"
   ]
  },
  {
   "cell_type": "code",
   "execution_count": null,
   "metadata": {},
   "outputs": [],
   "source": [
    "# Merge bystate data and state abbreveation dataframe\n",
    "complete_state_df = pd.merge(bystate, state_abbrev, on = \"State\")\n",
    "\n",
    "# Rename columns\n",
    "complete_state_df = complete_state_df.rename(columns = {\"State\" : \"State Name\",\n",
    "                                                        \"Abbrev\" : \"State\"})\n",
    "\n",
    "# Show the dataframe\n",
    "complete_state_df"
   ]
  },
  {
   "cell_type": "code",
   "execution_count": null,
   "metadata": {},
   "outputs": [],
   "source": [
    "# Get 2000 immigration data\n",
    "bystate_2000 = complete_state_df.loc[:,[\"State\",\"2000\"]]\n",
    "\n",
    "# Change data type\n",
    "convert_dict = {'State': str, \n",
    "                '2000': int} \n",
    "\n",
    "# \n",
    "bystate_2000 = bystate_2000.astype(convert_dict) \n",
    "bystate_2000.head()"
   ]
  },
  {
   "cell_type": "code",
   "execution_count": null,
   "metadata": {},
   "outputs": [],
   "source": [
    "# Get 2018 immigration data\n",
    "bystate_2018 = complete_state_df.loc[:,[\"State\",\"2018\"]]\n",
    "convert_dict = {'State': str, \n",
    "                '2018': int} \n",
    "\n",
    "# Change data type\n",
    "bystate_2018 = bystate_2018.astype(convert_dict) \n",
    "\n",
    "# Show the \n",
    "bystate_2018.head()"
   ]
  },
  {
   "cell_type": "code",
   "execution_count": null,
   "metadata": {},
   "outputs": [],
   "source": [
    "# Initialize the map:\n",
    "map_2000 = folium.Map(location=[37, -102], zoom_start=4)\n",
    "state_geo = os.path.join('us-states.json')\n",
    "\n",
    "# Add the color for the chloropleth:\n",
    "map_2000.choropleth(geo_data=state_geo,\n",
    "                    name='choropleth',\n",
    "                    data=bystate_2000,\n",
    "                    columns=['State', '2000'],\n",
    "                    key_on='feature.id',\n",
    "                    fill_color='YlGn',\n",
    "                    fill_opacity=0.7,\n",
    "                    line_opacity=0.2,\n",
    "                    legend_name='Number of Immigrants in 2000')\n",
    "\n",
    "folium.LayerControl().add_to(map_2000)\n",
    "\n",
    "# Show the map\n",
    "map_2000"
   ]
  },
  {
   "cell_type": "code",
   "execution_count": null,
   "metadata": {},
   "outputs": [],
   "source": [
    "# Initialize the map\n",
    "state_geo = os.path.join('us-states.json')\n",
    "map_2018 = folium.Map(location=[37, -102], zoom_start=4)\n",
    " \n",
    "# Add the color for the chloropleth:\n",
    "map_2018.choropleth(geo_data=state_geo,\n",
    "                    name='choropleth',\n",
    "                    data=bystate_2018,\n",
    "                    columns=['State', '2018'],\n",
    "                    key_on='feature.id',\n",
    "                    fill_color='YlGn',\n",
    "                    fill_opacity=0.7,\n",
    "                    line_opacity=0.2,\n",
    "                    legend_name='Number of Immigrants in 2018')\n",
    "folium.LayerControl().add_to(map_2018)\n",
    "\n",
    "# Show the map\n",
    "map_2018"
   ]
  },
  {
   "cell_type": "code",
   "execution_count": null,
   "metadata": {},
   "outputs": [],
   "source": [
    "# Kana's code ends here"
   ]
  },
  {
   "cell_type": "code",
   "execution_count": null,
   "metadata": {},
   "outputs": [],
   "source": [
    "# Satish start"
   ]
  },
  {
   "cell_type": "code",
   "execution_count": null,
   "metadata": {},
   "outputs": [],
   "source": [
    "#Reading Data for Permanent_Resident_Years \n",
    "immigration_df=pd.read_csv(\"Resources/Permanent_Resident_Years.csv\")\n",
    "immigration_df['Number'] = [x.replace(',', '') for x in immigration_df['Number']]"
   ]
  },
  {
   "cell_type": "code",
   "execution_count": null,
   "metadata": {},
   "outputs": [],
   "source": [
    "#Data Cleaning\n",
    "immigration_df.Year=pd.to_numeric(immigration_df.Year)\n",
    "immigration_df.Number=pd.to_numeric(immigration_df.Number)\n",
    "#Plotting the Graph\n",
    "immigration_plt=immigration_df.plot(kind=\"line\", x=\"Year\", y=\"Number\", grid=True, figsize=(15,10),legend=False,title=\"Number of Lawful Permanent Resident Status Vs. Years\")\n",
    "#Finding Max value\n",
    "max_arrow_y=immigration_df['Number'].max()\n",
    "max_arrow_x=immigration_df.loc[immigration_df['Number']==max_arrow_y,\"Year\"].reset_index(drop=True)\n",
    "#Printing Max value in graph\n",
    "plt.annotate(\n",
    "    f\"maximum {max_arrow_x[0],max_arrow_y}\", \n",
    "    xy=(max_arrow_x[0], max_arrow_y))\n",
    "#Finding Minimum value\n",
    "min_arrow_y=immigration_df['Number'].min()\n",
    "min_arrow_x=immigration_df.loc[immigration_df['Number']==min_arrow_y,\"Year\"].reset_index(drop=True)\n",
    "#Printing Min Value in graph\n",
    "plt.annotate(\n",
    "    f\"Minimum {min_arrow_x[0],min_arrow_y}\", \n",
    "    xy=(min_arrow_x[0], min_arrow_y))\n",
    "#Labeling the Graph\n",
    "plt.ylabel(\"Number of Lawful Permanent Resident Status\")\n",
    "plt.xlabel(\"Timepoint in Years\")\n",
    "plt.tight_layout()\n",
    "plt.show()"
   ]
  },
  {
   "cell_type": "code",
   "execution_count": null,
   "metadata": {},
   "outputs": [],
   "source": [
    "#Reading CSV\n",
    "Country_Data_2018=pd.read_csv(\"Resources/Country_Data_2018.csv\")\n",
    "Country_Data_1999=pd.read_csv(\"Resources/Country_Data_1999.csv\")\n",
    "Country_Data_2009=pd.read_csv(\"Resources/Country_Data_2009.csv\")"
   ]
  },
  {
   "cell_type": "code",
   "execution_count": null,
   "metadata": {},
   "outputs": [],
   "source": [
    "#Data cleaning,Removing extra column\n",
    "Country_Data_1999=Country_Data_1999.iloc[:, :-1]"
   ]
  },
  {
   "cell_type": "code",
   "execution_count": null,
   "metadata": {},
   "outputs": [],
   "source": [
    "#Removing Data which has No value\n",
    "Country_Data_2018_df=Country_Data_2018.dropna()\n",
    "Country_Data_1999_df=Country_Data_1999.dropna()\n",
    "Country_Data_2009_df=Country_Data_2009.dropna()"
   ]
  },
  {
   "cell_type": "code",
   "execution_count": null,
   "metadata": {},
   "outputs": [],
   "source": [
    "#Extract First Column so that it can be used for Name as Header\n",
    "new_header_2018 = Country_Data_2018_df.iloc[0]\n",
    "new_header_1999 = Country_Data_1999_df.iloc[0]\n",
    "new_header_2009 = Country_Data_2009_df.iloc[0]"
   ]
  },
  {
   "cell_type": "code",
   "execution_count": null,
   "metadata": {},
   "outputs": [],
   "source": [
    "#Renaming the Header removing first row\n",
    "Country_Data_2018_df.columns=new_header_2018\n",
    "Country_Data_2018_df=Country_Data_2018_df[1:]\n",
    "\n",
    "Country_Data_1999_df.columns=new_header_1999\n",
    "Country_Data_1999_df=Country_Data_1999_df[1:]\n",
    "\n",
    "\n",
    "Country_Data_2009_df.columns=new_header_2009\n",
    "Country_Data_2009_df=Country_Data_2009_df[1:]"
   ]
  },
  {
   "cell_type": "code",
   "execution_count": null,
   "metadata": {},
   "outputs": [],
   "source": [
    "#List of Countries in central America\n",
    "Central_America_Data=['Mexico', 'Guatemala', 'Honduras', 'Nicaragua', 'El Salvador', 'Costa Rica', 'Panama', 'Belize']\n",
    "#Getting only records of Central America from main Data Set\n",
    "Latin_Data_df=Country_Data_2018_df[Country_Data_2018_df['Region and country of birth'].isin(Central_America_Data)]\n",
    "#Data Cleaning\n",
    "Latin_Data_df=Latin_Data_df.apply(lambda x: x.str.replace(',',''))"
   ]
  },
  {
   "cell_type": "code",
   "execution_count": null,
   "metadata": {},
   "outputs": [],
   "source": [
    "#Creating new DataFrame for required Data\n",
    "Latin_Data_summ=[['2014',pd.to_numeric(Latin_Data_df['2014']).sum()],['2015',pd.to_numeric(Latin_Data_df['2015']).sum()],['2017',pd.to_numeric(Latin_Data_df['2017']).sum()],['2018',pd.to_numeric(Latin_Data_df['2018']).sum()]]\n",
    "Latin_Data_summ_df=pd.DataFrame(Latin_Data_summ, columns = ['Year', 'Count'])"
   ]
  },
  {
   "cell_type": "code",
   "execution_count": null,
   "metadata": {},
   "outputs": [],
   "source": [
    "#Bar Graph showing the Central America and Years\n",
    "Latin_Data_summ_df.plot.bar(x='Year', y='Count', rot=0,legend=False)\n",
    "plt.axis('tight')\n",
    "plt.title(\"Number of Immigrants Vs Year\")\n",
    "plt.ylabel(\"Total Number of Immigrants from Central America\")\n",
    "plt.xlabel(\"Year\")\n",
    "plt.tight_layout()\n",
    "plt.show()"
   ]
  },
  {
   "cell_type": "code",
   "execution_count": null,
   "metadata": {},
   "outputs": [],
   "source": [
    "#List of Islamic Countries \n",
    "Islam_Country_Data=['Afghanistan','Iran','Yemen','Jordan','Saudi Arabia','Sudan','Pakistan','Syria','Oman']\n",
    "#Data Set till 1999 \n",
    "Islam_Data_1999_df=Country_Data_1999_df[Country_Data_1999_df['Region and country of birth'].isin(Islam_Country_Data)]\n",
    "#Data Cleaning\n",
    "Islam_Data_1999_df=Islam_Data_1999_df.apply(lambda x: x.str.replace(',',''))"
   ]
  },
  {
   "cell_type": "code",
   "execution_count": null,
   "metadata": {},
   "outputs": [],
   "source": [
    "#Data Set form 2000 to 2009 \n",
    "Islam_Data_2009_df=Country_Data_2009_df[Country_Data_2009_df['Region and country of birth'].isin(Islam_Country_Data)]\n",
    "#Data Cleaning\n",
    "Islam_Data_2009_df=Islam_Data_2009_df.apply(lambda x: x.str.replace(',',''))"
   ]
  },
  {
   "cell_type": "code",
   "execution_count": null,
   "metadata": {},
   "outputs": [],
   "source": [
    "#Merging the DataFrame\n",
    "Merge_Islam_Country=pd.merge(Islam_Data_1999_df,Islam_Data_2009_df,how='outer')\n",
    "#New DataFrame with reuqired Dataset\n",
    "Islam_Country_summ=[['1999',pd.to_numeric(Merge_Islam_Country['1999']).sum()],['2000',pd.to_numeric(Merge_Islam_Country['2000']).sum()],['2005',pd.to_numeric(Merge_Islam_Country['2005']).sum()],['20006',pd.to_numeric(Merge_Islam_Country['2006']).sum()]]\n",
    "Islam_Country_summ=pd.DataFrame(Islam_Country_summ, columns = ['Year', 'Count'])"
   ]
  },
  {
   "cell_type": "code",
   "execution_count": null,
   "metadata": {},
   "outputs": [],
   "source": [
    "#Ployyinh the Graph\n",
    "Islam_Country_summ.plot.bar(x='Year', y='Count', rot=0,legend=False)\n",
    "plt.axis('tight')\n",
    "plt.title(\"Number of Immigrants Vs Year\")\n",
    "plt.ylabel(\"Total Number of Immigrants from Arab Countries\")\n",
    "plt.xlabel(\"Year\")\n",
    "plt.tight_layout()\n",
    "plt.show()"
   ]
  },
  {
   "cell_type": "code",
   "execution_count": null,
   "metadata": {},
   "outputs": [],
   "source": [
    "# Satish end"
   ]
  },
  {
   "cell_type": "code",
   "execution_count": null,
   "metadata": {},
   "outputs": [],
   "source": [
    "# Satish's code starts here"
   ]
  },
  {
   "cell_type": "code",
   "execution_count": null,
   "metadata": {},
   "outputs": [],
   "source": [
    "# Satish's code ends here"
   ]
  },
  {
   "cell_type": "code",
   "execution_count": 3,
   "metadata": {},
   "outputs": [
    {
     "data": {
      "text/html": [
       "<div>\n",
       "<style scoped>\n",
       "    .dataframe tbody tr th:only-of-type {\n",
       "        vertical-align: middle;\n",
       "    }\n",
       "\n",
       "    .dataframe tbody tr th {\n",
       "        vertical-align: top;\n",
       "    }\n",
       "\n",
       "    .dataframe thead th {\n",
       "        text-align: right;\n",
       "    }\n",
       "</style>\n",
       "<table border=\"1\" class=\"dataframe\">\n",
       "  <thead>\n",
       "    <tr style=\"text-align: right;\">\n",
       "      <th></th>\n",
       "      <th>Characteristic</th>\n",
       "      <th>Total</th>\n",
       "      <th>Female</th>\n",
       "      <th>Male</th>\n",
       "      <th>Unknown</th>\n",
       "    </tr>\n",
       "  </thead>\n",
       "  <tbody>\n",
       "    <tr>\n",
       "      <th>0</th>\n",
       "      <td>AGE</td>\n",
       "      <td>NaN</td>\n",
       "      <td>NaN</td>\n",
       "      <td>NaN</td>\n",
       "      <td>NaN</td>\n",
       "    </tr>\n",
       "    <tr>\n",
       "      <th>1</th>\n",
       "      <td>Total</td>\n",
       "      <td>1096611.0</td>\n",
       "      <td>584426.0</td>\n",
       "      <td>512176.0</td>\n",
       "      <td>9</td>\n",
       "    </tr>\n",
       "    <tr>\n",
       "      <th>2</th>\n",
       "      <td>Under 1 year</td>\n",
       "      <td>2959.0</td>\n",
       "      <td>1472.0</td>\n",
       "      <td>1487.0</td>\n",
       "      <td>-</td>\n",
       "    </tr>\n",
       "    <tr>\n",
       "      <th>3</th>\n",
       "      <td>1 to 4 years</td>\n",
       "      <td>34215.0</td>\n",
       "      <td>16976.0</td>\n",
       "      <td>17239.0</td>\n",
       "      <td>-</td>\n",
       "    </tr>\n",
       "    <tr>\n",
       "      <th>4</th>\n",
       "      <td>5 to 9 years</td>\n",
       "      <td>61533.0</td>\n",
       "      <td>30098.0</td>\n",
       "      <td>31433.0</td>\n",
       "      <td>2</td>\n",
       "    </tr>\n",
       "  </tbody>\n",
       "</table>\n",
       "</div>"
      ],
      "text/plain": [
       "  Characteristic      Total    Female      Male Unknown\n",
       "0            AGE        NaN       NaN       NaN     NaN\n",
       "1          Total  1096611.0  584426.0  512176.0       9\n",
       "2   Under 1 year     2959.0    1472.0    1487.0       -\n",
       "3   1 to 4 years    34215.0   16976.0   17239.0       -\n",
       "4   5 to 9 years    61533.0   30098.0   31433.0       2"
      ]
     },
     "execution_count": 3,
     "metadata": {},
     "output_type": "execute_result"
    }
   ],
   "source": [
    "# Umar's code starts here\n",
    "#Read in the Excel file and view the headers\n",
    "Lawful_df = pd.read_excel(\"./Resources/fy2018_Lawful.xlsx\", header=4)\n",
    "Lawful_df.head()"
   ]
  },
  {
   "cell_type": "code",
   "execution_count": 4,
   "metadata": {},
   "outputs": [
    {
     "data": {
      "text/html": [
       "<div>\n",
       "<style scoped>\n",
       "    .dataframe tbody tr th:only-of-type {\n",
       "        vertical-align: middle;\n",
       "    }\n",
       "\n",
       "    .dataframe tbody tr th {\n",
       "        vertical-align: top;\n",
       "    }\n",
       "\n",
       "    .dataframe thead th {\n",
       "        text-align: right;\n",
       "    }\n",
       "</style>\n",
       "<table border=\"1\" class=\"dataframe\">\n",
       "  <thead>\n",
       "    <tr style=\"text-align: right;\">\n",
       "      <th></th>\n",
       "      <th>Characteristic</th>\n",
       "      <th>Total</th>\n",
       "      <th>Female</th>\n",
       "      <th>Male</th>\n",
       "      <th>Unknown</th>\n",
       "    </tr>\n",
       "  </thead>\n",
       "  <tbody>\n",
       "    <tr>\n",
       "      <th>19</th>\n",
       "      <td>Total</td>\n",
       "      <td>1096611.0</td>\n",
       "      <td>584426.0</td>\n",
       "      <td>512176.0</td>\n",
       "      <td>9</td>\n",
       "    </tr>\n",
       "    <tr>\n",
       "      <th>20</th>\n",
       "      <td>Under 16 years</td>\n",
       "      <td>177300.0</td>\n",
       "      <td>86839.0</td>\n",
       "      <td>90458.0</td>\n",
       "      <td>3</td>\n",
       "    </tr>\n",
       "    <tr>\n",
       "      <th>21</th>\n",
       "      <td>16 to 20 years</td>\n",
       "      <td>85830.0</td>\n",
       "      <td>42113.0</td>\n",
       "      <td>43715.0</td>\n",
       "      <td>2</td>\n",
       "    </tr>\n",
       "    <tr>\n",
       "      <th>22</th>\n",
       "      <td>21 years and over</td>\n",
       "      <td>833481.0</td>\n",
       "      <td>455474.0</td>\n",
       "      <td>378003.0</td>\n",
       "      <td>4</td>\n",
       "    </tr>\n",
       "  </tbody>\n",
       "</table>\n",
       "</div>"
      ],
      "text/plain": [
       "       Characteristic      Total    Female      Male Unknown\n",
       "19              Total  1096611.0  584426.0  512176.0       9\n",
       "20     Under 16 years   177300.0   86839.0   90458.0       3\n",
       "21     16 to 20 years    85830.0   42113.0   43715.0       2\n",
       "22  21 years and over   833481.0  455474.0  378003.0       4"
      ]
     },
     "execution_count": 4,
     "metadata": {},
     "output_type": "execute_result"
    }
   ],
   "source": [
    "#Use the iloc function to locate the point of interest in a data set\n",
    "Broad_age = Lawful_df.iloc[19:23,:]\n",
    "Broad_age"
   ]
  },
  {
   "cell_type": "code",
   "execution_count": 5,
   "metadata": {},
   "outputs": [
    {
     "data": {
      "text/html": [
       "<div>\n",
       "<style scoped>\n",
       "    .dataframe tbody tr th:only-of-type {\n",
       "        vertical-align: middle;\n",
       "    }\n",
       "\n",
       "    .dataframe tbody tr th {\n",
       "        vertical-align: top;\n",
       "    }\n",
       "\n",
       "    .dataframe thead th {\n",
       "        text-align: right;\n",
       "    }\n",
       "</style>\n",
       "<table border=\"1\" class=\"dataframe\">\n",
       "  <thead>\n",
       "    <tr style=\"text-align: right;\">\n",
       "      <th></th>\n",
       "      <th>Characteristic</th>\n",
       "      <th>Total</th>\n",
       "    </tr>\n",
       "  </thead>\n",
       "  <tbody>\n",
       "    <tr>\n",
       "      <th>19</th>\n",
       "      <td>Total</td>\n",
       "      <td>1096611.0</td>\n",
       "    </tr>\n",
       "    <tr>\n",
       "      <th>20</th>\n",
       "      <td>Under 16 years</td>\n",
       "      <td>177300.0</td>\n",
       "    </tr>\n",
       "    <tr>\n",
       "      <th>21</th>\n",
       "      <td>16 to 20 years</td>\n",
       "      <td>85830.0</td>\n",
       "    </tr>\n",
       "    <tr>\n",
       "      <th>22</th>\n",
       "      <td>21 years and over</td>\n",
       "      <td>833481.0</td>\n",
       "    </tr>\n",
       "  </tbody>\n",
       "</table>\n",
       "</div>"
      ],
      "text/plain": [
       "       Characteristic      Total\n",
       "19              Total  1096611.0\n",
       "20     Under 16 years   177300.0\n",
       "21     16 to 20 years    85830.0\n",
       "22  21 years and over   833481.0"
      ]
     },
     "execution_count": 5,
     "metadata": {},
     "output_type": "execute_result"
    }
   ],
   "source": [
    "#View the characteristic and Total columns \n",
    "Broad_age_df = pd.DataFrame(Broad_age)\n",
    "Sex = Broad_age_df.iloc[:, 0:2]\n",
    "Sex"
   ]
  },
  {
   "cell_type": "code",
   "execution_count": 6,
   "metadata": {},
   "outputs": [
    {
     "data": {
      "text/html": [
       "<div>\n",
       "<style scoped>\n",
       "    .dataframe tbody tr th:only-of-type {\n",
       "        vertical-align: middle;\n",
       "    }\n",
       "\n",
       "    .dataframe tbody tr th {\n",
       "        vertical-align: top;\n",
       "    }\n",
       "\n",
       "    .dataframe thead th {\n",
       "        text-align: right;\n",
       "    }\n",
       "</style>\n",
       "<table border=\"1\" class=\"dataframe\">\n",
       "  <thead>\n",
       "    <tr style=\"text-align: right;\">\n",
       "      <th></th>\n",
       "      <th>Lawful 2018</th>\n",
       "    </tr>\n",
       "    <tr>\n",
       "      <th>Age</th>\n",
       "      <th></th>\n",
       "    </tr>\n",
       "  </thead>\n",
       "  <tbody>\n",
       "    <tr>\n",
       "      <th>Total</th>\n",
       "      <td>1096611.0</td>\n",
       "    </tr>\n",
       "    <tr>\n",
       "      <th>Under 16 years</th>\n",
       "      <td>177300.0</td>\n",
       "    </tr>\n",
       "    <tr>\n",
       "      <th>16 to 20 years</th>\n",
       "      <td>85830.0</td>\n",
       "    </tr>\n",
       "    <tr>\n",
       "      <th>21 years and over</th>\n",
       "      <td>833481.0</td>\n",
       "    </tr>\n",
       "  </tbody>\n",
       "</table>\n",
       "</div>"
      ],
      "text/plain": [
       "                   Lawful 2018\n",
       "Age                           \n",
       "Total                1096611.0\n",
       "Under 16 years        177300.0\n",
       "16 to 20 years         85830.0\n",
       "21 years and over     833481.0"
      ]
     },
     "execution_count": 6,
     "metadata": {},
     "output_type": "execute_result"
    }
   ],
   "source": [
    "#Rename your columns \n",
    "Cleaned = Sex.rename(columns={\"Characteristic\": \"Age\", \"Total\": \"Lawful 2018\"})\n",
    "Index_age = Cleaned.set_index(\"Age\")\n",
    "Index_age"
   ]
  },
  {
   "cell_type": "code",
   "execution_count": 7,
   "metadata": {},
   "outputs": [
    {
     "data": {
      "text/html": [
       "<div>\n",
       "<style scoped>\n",
       "    .dataframe tbody tr th:only-of-type {\n",
       "        vertical-align: middle;\n",
       "    }\n",
       "\n",
       "    .dataframe tbody tr th {\n",
       "        vertical-align: top;\n",
       "    }\n",
       "\n",
       "    .dataframe thead th {\n",
       "        text-align: right;\n",
       "    }\n",
       "</style>\n",
       "<table border=\"1\" class=\"dataframe\">\n",
       "  <thead>\n",
       "    <tr style=\"text-align: right;\">\n",
       "      <th></th>\n",
       "      <th>LPR 2018</th>\n",
       "    </tr>\n",
       "  </thead>\n",
       "  <tbody>\n",
       "    <tr>\n",
       "      <th>Total</th>\n",
       "      <td>1.09661e+06</td>\n",
       "    </tr>\n",
       "    <tr>\n",
       "      <th>Female</th>\n",
       "      <td>584426</td>\n",
       "    </tr>\n",
       "    <tr>\n",
       "      <th>Male</th>\n",
       "      <td>512176</td>\n",
       "    </tr>\n",
       "    <tr>\n",
       "      <th>Unknown</th>\n",
       "      <td>9</td>\n",
       "    </tr>\n",
       "  </tbody>\n",
       "</table>\n",
       "</div>"
      ],
      "text/plain": [
       "            LPR 2018\n",
       "Total    1.09661e+06\n",
       "Female        584426\n",
       "Male          512176\n",
       "Unknown            9"
      ]
     },
     "execution_count": 7,
     "metadata": {},
     "output_type": "execute_result"
    }
   ],
   "source": [
    "#View a single row \n",
    "Sex = Lawful_df.iloc[19,1:]\n",
    "Sex.to_frame(name=\"LPR 2018\")"
   ]
  },
  {
   "cell_type": "code",
   "execution_count": 8,
   "metadata": {},
   "outputs": [
    {
     "data": {
      "text/html": [
       "<div>\n",
       "<style scoped>\n",
       "    .dataframe tbody tr th:only-of-type {\n",
       "        vertical-align: middle;\n",
       "    }\n",
       "\n",
       "    .dataframe tbody tr th {\n",
       "        vertical-align: top;\n",
       "    }\n",
       "\n",
       "    .dataframe thead th {\n",
       "        text-align: right;\n",
       "    }\n",
       "</style>\n",
       "<table border=\"1\" class=\"dataframe\">\n",
       "  <thead>\n",
       "    <tr style=\"text-align: right;\">\n",
       "      <th></th>\n",
       "      <th>Characteristic</th>\n",
       "      <th>Total</th>\n",
       "      <th>Female</th>\n",
       "      <th>Male</th>\n",
       "      <th>Unknown</th>\n",
       "    </tr>\n",
       "  </thead>\n",
       "  <tbody>\n",
       "    <tr>\n",
       "      <th>24</th>\n",
       "      <td>Total</td>\n",
       "      <td>1096611.0</td>\n",
       "      <td>584426.0</td>\n",
       "      <td>512176.0</td>\n",
       "      <td>9</td>\n",
       "    </tr>\n",
       "    <tr>\n",
       "      <th>25</th>\n",
       "      <td>Married</td>\n",
       "      <td>627443.0</td>\n",
       "      <td>342625.0</td>\n",
       "      <td>284816.0</td>\n",
       "      <td>2</td>\n",
       "    </tr>\n",
       "    <tr>\n",
       "      <th>26</th>\n",
       "      <td>Single</td>\n",
       "      <td>400196.0</td>\n",
       "      <td>191733.0</td>\n",
       "      <td>208457.0</td>\n",
       "      <td>6</td>\n",
       "    </tr>\n",
       "    <tr>\n",
       "      <th>27</th>\n",
       "      <td>Widowed</td>\n",
       "      <td>26579.0</td>\n",
       "      <td>23446.0</td>\n",
       "      <td>3133.0</td>\n",
       "      <td>-</td>\n",
       "    </tr>\n",
       "    <tr>\n",
       "      <th>28</th>\n",
       "      <td>Divorced/separated</td>\n",
       "      <td>32416.0</td>\n",
       "      <td>22045.0</td>\n",
       "      <td>10371.0</td>\n",
       "      <td>-</td>\n",
       "    </tr>\n",
       "    <tr>\n",
       "      <th>29</th>\n",
       "      <td>Unknown</td>\n",
       "      <td>9977.0</td>\n",
       "      <td>4577.0</td>\n",
       "      <td>5399.0</td>\n",
       "      <td>1</td>\n",
       "    </tr>\n",
       "  </tbody>\n",
       "</table>\n",
       "</div>"
      ],
      "text/plain": [
       "        Characteristic      Total    Female      Male Unknown\n",
       "24               Total  1096611.0  584426.0  512176.0       9\n",
       "25             Married   627443.0  342625.0  284816.0       2\n",
       "26              Single   400196.0  191733.0  208457.0       6\n",
       "27             Widowed    26579.0   23446.0    3133.0       -\n",
       "28  Divorced/separated    32416.0   22045.0   10371.0       -\n",
       "29             Unknown     9977.0    4577.0    5399.0       1"
      ]
     },
     "execution_count": 8,
     "metadata": {},
     "output_type": "execute_result"
    }
   ],
   "source": [
    "#Use the iloc function to locate the point of interest in a data set\n",
    "Marital_status = Lawful_df.iloc[24:30,:]\n",
    "Marital_status"
   ]
  },
  {
   "cell_type": "code",
   "execution_count": 9,
   "metadata": {},
   "outputs": [
    {
     "data": {
      "text/html": [
       "<div>\n",
       "<style scoped>\n",
       "    .dataframe tbody tr th:only-of-type {\n",
       "        vertical-align: middle;\n",
       "    }\n",
       "\n",
       "    .dataframe tbody tr th {\n",
       "        vertical-align: top;\n",
       "    }\n",
       "\n",
       "    .dataframe thead th {\n",
       "        text-align: right;\n",
       "    }\n",
       "</style>\n",
       "<table border=\"1\" class=\"dataframe\">\n",
       "  <thead>\n",
       "    <tr style=\"text-align: right;\">\n",
       "      <th></th>\n",
       "      <th>Characteristic</th>\n",
       "      <th>Total</th>\n",
       "    </tr>\n",
       "  </thead>\n",
       "  <tbody>\n",
       "    <tr>\n",
       "      <th>24</th>\n",
       "      <td>Total</td>\n",
       "      <td>1096611.0</td>\n",
       "    </tr>\n",
       "    <tr>\n",
       "      <th>25</th>\n",
       "      <td>Married</td>\n",
       "      <td>627443.0</td>\n",
       "    </tr>\n",
       "    <tr>\n",
       "      <th>26</th>\n",
       "      <td>Single</td>\n",
       "      <td>400196.0</td>\n",
       "    </tr>\n",
       "    <tr>\n",
       "      <th>27</th>\n",
       "      <td>Widowed</td>\n",
       "      <td>26579.0</td>\n",
       "    </tr>\n",
       "    <tr>\n",
       "      <th>28</th>\n",
       "      <td>Divorced/separated</td>\n",
       "      <td>32416.0</td>\n",
       "    </tr>\n",
       "    <tr>\n",
       "      <th>29</th>\n",
       "      <td>Unknown</td>\n",
       "      <td>9977.0</td>\n",
       "    </tr>\n",
       "  </tbody>\n",
       "</table>\n",
       "</div>"
      ],
      "text/plain": [
       "        Characteristic      Total\n",
       "24               Total  1096611.0\n",
       "25             Married   627443.0\n",
       "26              Single   400196.0\n",
       "27             Widowed    26579.0\n",
       "28  Divorced/separated    32416.0\n",
       "29             Unknown     9977.0"
      ]
     },
     "execution_count": 9,
     "metadata": {},
     "output_type": "execute_result"
    }
   ],
   "source": [
    "#View the characteristic and Total columns \n",
    "New_marital_df = pd.DataFrame(Marital_status)\n",
    "Specific = New_marital_df.iloc[:, 0:2]\n",
    "Specific"
   ]
  },
  {
   "cell_type": "code",
   "execution_count": 10,
   "metadata": {},
   "outputs": [
    {
     "data": {
      "text/html": [
       "<div>\n",
       "<style scoped>\n",
       "    .dataframe tbody tr th:only-of-type {\n",
       "        vertical-align: middle;\n",
       "    }\n",
       "\n",
       "    .dataframe tbody tr th {\n",
       "        vertical-align: top;\n",
       "    }\n",
       "\n",
       "    .dataframe thead th {\n",
       "        text-align: right;\n",
       "    }\n",
       "</style>\n",
       "<table border=\"1\" class=\"dataframe\">\n",
       "  <thead>\n",
       "    <tr style=\"text-align: right;\">\n",
       "      <th></th>\n",
       "      <th>Marital Status</th>\n",
       "      <th>Lawful Permanent Resident 2018</th>\n",
       "    </tr>\n",
       "  </thead>\n",
       "  <tbody>\n",
       "    <tr>\n",
       "      <th>24</th>\n",
       "      <td>Total</td>\n",
       "      <td>1096611.0</td>\n",
       "    </tr>\n",
       "    <tr>\n",
       "      <th>25</th>\n",
       "      <td>Married</td>\n",
       "      <td>627443.0</td>\n",
       "    </tr>\n",
       "    <tr>\n",
       "      <th>26</th>\n",
       "      <td>Single</td>\n",
       "      <td>400196.0</td>\n",
       "    </tr>\n",
       "    <tr>\n",
       "      <th>27</th>\n",
       "      <td>Widowed</td>\n",
       "      <td>26579.0</td>\n",
       "    </tr>\n",
       "    <tr>\n",
       "      <th>28</th>\n",
       "      <td>Divorced/separated</td>\n",
       "      <td>32416.0</td>\n",
       "    </tr>\n",
       "  </tbody>\n",
       "</table>\n",
       "</div>"
      ],
      "text/plain": [
       "        Marital Status  Lawful Permanent Resident 2018\n",
       "24               Total                       1096611.0\n",
       "25             Married                        627443.0\n",
       "26              Single                        400196.0\n",
       "27             Widowed                         26579.0\n",
       "28  Divorced/separated                         32416.0"
      ]
     },
     "execution_count": 10,
     "metadata": {},
     "output_type": "execute_result"
    }
   ],
   "source": [
    "#Rename your columns \n",
    "Renamed = Specific.rename(columns={\"Characteristic\": \"Marital Status\", \"Total\": \"Lawful Permanent Resident 2018\"})\n",
    "Renamed.head()"
   ]
  },
  {
   "cell_type": "code",
   "execution_count": 11,
   "metadata": {},
   "outputs": [
    {
     "data": {
      "text/html": [
       "<div>\n",
       "<style scoped>\n",
       "    .dataframe tbody tr th:only-of-type {\n",
       "        vertical-align: middle;\n",
       "    }\n",
       "\n",
       "    .dataframe tbody tr th {\n",
       "        vertical-align: top;\n",
       "    }\n",
       "\n",
       "    .dataframe thead th {\n",
       "        text-align: right;\n",
       "    }\n",
       "</style>\n",
       "<table border=\"1\" class=\"dataframe\">\n",
       "  <thead>\n",
       "    <tr style=\"text-align: right;\">\n",
       "      <th></th>\n",
       "      <th>Lawful 2018</th>\n",
       "    </tr>\n",
       "    <tr>\n",
       "      <th>Marital Status</th>\n",
       "      <th></th>\n",
       "    </tr>\n",
       "  </thead>\n",
       "  <tbody>\n",
       "    <tr>\n",
       "      <th>Total</th>\n",
       "      <td>1096611.0</td>\n",
       "    </tr>\n",
       "    <tr>\n",
       "      <th>Married</th>\n",
       "      <td>627443.0</td>\n",
       "    </tr>\n",
       "    <tr>\n",
       "      <th>Single</th>\n",
       "      <td>400196.0</td>\n",
       "    </tr>\n",
       "    <tr>\n",
       "      <th>Widowed</th>\n",
       "      <td>26579.0</td>\n",
       "    </tr>\n",
       "    <tr>\n",
       "      <th>Divorced/separated</th>\n",
       "      <td>32416.0</td>\n",
       "    </tr>\n",
       "    <tr>\n",
       "      <th>Unknown</th>\n",
       "      <td>9977.0</td>\n",
       "    </tr>\n",
       "  </tbody>\n",
       "</table>\n",
       "</div>"
      ],
      "text/plain": [
       "                    Lawful 2018\n",
       "Marital Status                 \n",
       "Total                 1096611.0\n",
       "Married                627443.0\n",
       "Single                 400196.0\n",
       "Widowed                 26579.0\n",
       "Divorced/separated      32416.0\n",
       "Unknown                  9977.0"
      ]
     },
     "execution_count": 11,
     "metadata": {},
     "output_type": "execute_result"
    }
   ],
   "source": [
    "#View a single column \n",
    "Status = Lawful_df.iloc[24:30,0:2]\n",
    "Name18 = Status.rename(columns={\"Characteristic\": \"Marital Status\", \"Total\": \"Lawful 2018\"})\n",
    "#Set marital status as index for clarity\n",
    "Name18.set_index(\"Marital Status\", inplace=True)\n",
    "Name18"
   ]
  },
  {
   "cell_type": "code",
   "execution_count": 12,
   "metadata": {},
   "outputs": [
    {
     "data": {
      "text/html": [
       "<div>\n",
       "<style scoped>\n",
       "    .dataframe tbody tr th:only-of-type {\n",
       "        vertical-align: middle;\n",
       "    }\n",
       "\n",
       "    .dataframe tbody tr th {\n",
       "        vertical-align: top;\n",
       "    }\n",
       "\n",
       "    .dataframe thead th {\n",
       "        text-align: right;\n",
       "    }\n",
       "</style>\n",
       "<table border=\"1\" class=\"dataframe\">\n",
       "  <thead>\n",
       "    <tr style=\"text-align: right;\">\n",
       "      <th></th>\n",
       "      <th>Characteristic</th>\n",
       "      <th>Total</th>\n",
       "      <th>Male</th>\n",
       "      <th>Female</th>\n",
       "      <th>Unknown</th>\n",
       "    </tr>\n",
       "  </thead>\n",
       "  <tbody>\n",
       "    <tr>\n",
       "      <th>0</th>\n",
       "      <td>AGE</td>\n",
       "      <td>NaN</td>\n",
       "      <td>NaN</td>\n",
       "      <td>NaN</td>\n",
       "      <td>NaN</td>\n",
       "    </tr>\n",
       "    <tr>\n",
       "      <th>1</th>\n",
       "      <td>Total</td>\n",
       "      <td>1130818.0</td>\n",
       "      <td>513015.0</td>\n",
       "      <td>617799</td>\n",
       "      <td>4</td>\n",
       "    </tr>\n",
       "    <tr>\n",
       "      <th>2</th>\n",
       "      <td>Under 1 year</td>\n",
       "      <td>5782.0</td>\n",
       "      <td>2706.0</td>\n",
       "      <td>3076</td>\n",
       "      <td>-</td>\n",
       "    </tr>\n",
       "    <tr>\n",
       "      <th>3</th>\n",
       "      <td>1 to 4 years</td>\n",
       "      <td>32395.0</td>\n",
       "      <td>15975.0</td>\n",
       "      <td>16420</td>\n",
       "      <td>-</td>\n",
       "    </tr>\n",
       "    <tr>\n",
       "      <th>4</th>\n",
       "      <td>5 to 9 years</td>\n",
       "      <td>55373.0</td>\n",
       "      <td>28263.0</td>\n",
       "      <td>27110</td>\n",
       "      <td>-</td>\n",
       "    </tr>\n",
       "  </tbody>\n",
       "</table>\n",
       "</div>"
      ],
      "text/plain": [
       "  Characteristic      Total      Male  Female Unknown\n",
       "0            AGE        NaN       NaN     NaN     NaN\n",
       "1          Total  1130818.0  513015.0  617799       4\n",
       "2   Under 1 year     5782.0    2706.0    3076       -\n",
       "3   1 to 4 years    32395.0   15975.0   16420       -\n",
       "4   5 to 9 years    55373.0   28263.0   27110       -"
      ]
     },
     "execution_count": 12,
     "metadata": {},
     "output_type": "execute_result"
    }
   ],
   "source": [
    "#Read in the Excel file and \n",
    "Lawful09_df = pd.read_excel(\"./Resources/fy2009_Lawful.xls\", header=4)\n",
    "Lawful09_df.head()"
   ]
  },
  {
   "cell_type": "code",
   "execution_count": 13,
   "metadata": {},
   "outputs": [
    {
     "data": {
      "text/html": [
       "<div>\n",
       "<style scoped>\n",
       "    .dataframe tbody tr th:only-of-type {\n",
       "        vertical-align: middle;\n",
       "    }\n",
       "\n",
       "    .dataframe tbody tr th {\n",
       "        vertical-align: top;\n",
       "    }\n",
       "\n",
       "    .dataframe thead th {\n",
       "        text-align: right;\n",
       "    }\n",
       "</style>\n",
       "<table border=\"1\" class=\"dataframe\">\n",
       "  <thead>\n",
       "    <tr style=\"text-align: right;\">\n",
       "      <th></th>\n",
       "      <th>Characteristic</th>\n",
       "      <th>Total</th>\n",
       "      <th>Male</th>\n",
       "      <th>Female</th>\n",
       "      <th>Unknown</th>\n",
       "    </tr>\n",
       "  </thead>\n",
       "  <tbody>\n",
       "    <tr>\n",
       "      <th>20</th>\n",
       "      <td>Total</td>\n",
       "      <td>1130818.0</td>\n",
       "      <td>513015.0</td>\n",
       "      <td>617799</td>\n",
       "      <td>4</td>\n",
       "    </tr>\n",
       "    <tr>\n",
       "      <th>21</th>\n",
       "      <td>Under 16 years</td>\n",
       "      <td>185960.0</td>\n",
       "      <td>94529.0</td>\n",
       "      <td>91431</td>\n",
       "      <td>-</td>\n",
       "    </tr>\n",
       "    <tr>\n",
       "      <th>22</th>\n",
       "      <td>16 to 20 years</td>\n",
       "      <td>101864.0</td>\n",
       "      <td>50720.0</td>\n",
       "      <td>51144</td>\n",
       "      <td>-</td>\n",
       "    </tr>\n",
       "    <tr>\n",
       "      <th>23</th>\n",
       "      <td>21 years and over</td>\n",
       "      <td>842992.0</td>\n",
       "      <td>367764.0</td>\n",
       "      <td>475224</td>\n",
       "      <td>4</td>\n",
       "    </tr>\n",
       "  </tbody>\n",
       "</table>\n",
       "</div>"
      ],
      "text/plain": [
       "       Characteristic      Total      Male  Female Unknown\n",
       "20              Total  1130818.0  513015.0  617799       4\n",
       "21     Under 16 years   185960.0   94529.0   91431       -\n",
       "22     16 to 20 years   101864.0   50720.0   51144       -\n",
       "23  21 years and over   842992.0  367764.0  475224       4"
      ]
     },
     "execution_count": 13,
     "metadata": {},
     "output_type": "execute_result"
    }
   ],
   "source": [
    "#Use the iloc function to locate the point of interest in a data set\n",
    "Broad09_age = Lawful09_df.iloc[20:24,:]\n",
    "Broad09_age"
   ]
  },
  {
   "cell_type": "code",
   "execution_count": 14,
   "metadata": {},
   "outputs": [
    {
     "data": {
      "text/html": [
       "<div>\n",
       "<style scoped>\n",
       "    .dataframe tbody tr th:only-of-type {\n",
       "        vertical-align: middle;\n",
       "    }\n",
       "\n",
       "    .dataframe tbody tr th {\n",
       "        vertical-align: top;\n",
       "    }\n",
       "\n",
       "    .dataframe thead th {\n",
       "        text-align: right;\n",
       "    }\n",
       "</style>\n",
       "<table border=\"1\" class=\"dataframe\">\n",
       "  <thead>\n",
       "    <tr style=\"text-align: right;\">\n",
       "      <th></th>\n",
       "      <th>Characteristic</th>\n",
       "      <th>Total</th>\n",
       "    </tr>\n",
       "  </thead>\n",
       "  <tbody>\n",
       "    <tr>\n",
       "      <th>20</th>\n",
       "      <td>Total</td>\n",
       "      <td>1130818.0</td>\n",
       "    </tr>\n",
       "    <tr>\n",
       "      <th>21</th>\n",
       "      <td>Under 16 years</td>\n",
       "      <td>185960.0</td>\n",
       "    </tr>\n",
       "    <tr>\n",
       "      <th>22</th>\n",
       "      <td>16 to 20 years</td>\n",
       "      <td>101864.0</td>\n",
       "    </tr>\n",
       "    <tr>\n",
       "      <th>23</th>\n",
       "      <td>21 years and over</td>\n",
       "      <td>842992.0</td>\n",
       "    </tr>\n",
       "  </tbody>\n",
       "</table>\n",
       "</div>"
      ],
      "text/plain": [
       "       Characteristic      Total\n",
       "20              Total  1130818.0\n",
       "21     Under 16 years   185960.0\n",
       "22     16 to 20 years   101864.0\n",
       "23  21 years and over   842992.0"
      ]
     },
     "execution_count": 14,
     "metadata": {},
     "output_type": "execute_result"
    }
   ],
   "source": [
    "#View the characteristic and Total columns \n",
    "Broad09_age_df = pd.DataFrame(Broad09_age)\n",
    "Sex09 = Broad09_age_df.iloc[:, 0:2]\n",
    "Sex09"
   ]
  },
  {
   "cell_type": "code",
   "execution_count": 15,
   "metadata": {},
   "outputs": [
    {
     "data": {
      "text/html": [
       "<div>\n",
       "<style scoped>\n",
       "    .dataframe tbody tr th:only-of-type {\n",
       "        vertical-align: middle;\n",
       "    }\n",
       "\n",
       "    .dataframe tbody tr th {\n",
       "        vertical-align: top;\n",
       "    }\n",
       "\n",
       "    .dataframe thead th {\n",
       "        text-align: right;\n",
       "    }\n",
       "</style>\n",
       "<table border=\"1\" class=\"dataframe\">\n",
       "  <thead>\n",
       "    <tr style=\"text-align: right;\">\n",
       "      <th></th>\n",
       "      <th>Lawful Permanent Resident 2009</th>\n",
       "    </tr>\n",
       "    <tr>\n",
       "      <th>Age</th>\n",
       "      <th></th>\n",
       "    </tr>\n",
       "  </thead>\n",
       "  <tbody>\n",
       "    <tr>\n",
       "      <th>Total</th>\n",
       "      <td>1130818.0</td>\n",
       "    </tr>\n",
       "    <tr>\n",
       "      <th>Under 16 years</th>\n",
       "      <td>185960.0</td>\n",
       "    </tr>\n",
       "    <tr>\n",
       "      <th>16 to 20 years</th>\n",
       "      <td>101864.0</td>\n",
       "    </tr>\n",
       "    <tr>\n",
       "      <th>21 years and over</th>\n",
       "      <td>842992.0</td>\n",
       "    </tr>\n",
       "  </tbody>\n",
       "</table>\n",
       "</div>"
      ],
      "text/plain": [
       "                   Lawful Permanent Resident 2009\n",
       "Age                                              \n",
       "Total                                   1130818.0\n",
       "Under 16 years                           185960.0\n",
       "16 to 20 years                           101864.0\n",
       "21 years and over                        842992.0"
      ]
     },
     "execution_count": 15,
     "metadata": {},
     "output_type": "execute_result"
    }
   ],
   "source": [
    "#Rename your columns \n",
    "Age09 = Sex09.rename(columns={\"Characteristic\": \"Age\", \"Total\": \"Lawful Permanent Resident 2009\"})\n",
    "New_index09 = Age09.set_index(\"Age\")\n",
    "New_index09"
   ]
  },
  {
   "cell_type": "code",
   "execution_count": 16,
   "metadata": {},
   "outputs": [
    {
     "data": {
      "text/html": [
       "<div>\n",
       "<style scoped>\n",
       "    .dataframe tbody tr th:only-of-type {\n",
       "        vertical-align: middle;\n",
       "    }\n",
       "\n",
       "    .dataframe tbody tr th {\n",
       "        vertical-align: top;\n",
       "    }\n",
       "\n",
       "    .dataframe thead th {\n",
       "        text-align: right;\n",
       "    }\n",
       "</style>\n",
       "<table border=\"1\" class=\"dataframe\">\n",
       "  <thead>\n",
       "    <tr style=\"text-align: right;\">\n",
       "      <th></th>\n",
       "      <th>LPR 2009</th>\n",
       "    </tr>\n",
       "  </thead>\n",
       "  <tbody>\n",
       "    <tr>\n",
       "      <th>Total</th>\n",
       "      <td>1.13082e+06</td>\n",
       "    </tr>\n",
       "    <tr>\n",
       "      <th>Male</th>\n",
       "      <td>513015</td>\n",
       "    </tr>\n",
       "    <tr>\n",
       "      <th>Female</th>\n",
       "      <td>617799</td>\n",
       "    </tr>\n",
       "    <tr>\n",
       "      <th>Unknown</th>\n",
       "      <td>4</td>\n",
       "    </tr>\n",
       "  </tbody>\n",
       "</table>\n",
       "</div>"
      ],
      "text/plain": [
       "            LPR 2009\n",
       "Total    1.13082e+06\n",
       "Male          513015\n",
       "Female        617799\n",
       "Unknown            4"
      ]
     },
     "execution_count": 16,
     "metadata": {},
     "output_type": "execute_result"
    }
   ],
   "source": [
    "#View a single row \n",
    "Sex09 = Lawful09_df.iloc[20,1:]\n",
    "Sex09.to_frame(name=\"LPR 2009\")"
   ]
  },
  {
   "cell_type": "code",
   "execution_count": 17,
   "metadata": {},
   "outputs": [
    {
     "data": {
      "text/html": [
       "<div>\n",
       "<style scoped>\n",
       "    .dataframe tbody tr th:only-of-type {\n",
       "        vertical-align: middle;\n",
       "    }\n",
       "\n",
       "    .dataframe tbody tr th {\n",
       "        vertical-align: top;\n",
       "    }\n",
       "\n",
       "    .dataframe thead th {\n",
       "        text-align: right;\n",
       "    }\n",
       "</style>\n",
       "<table border=\"1\" class=\"dataframe\">\n",
       "  <thead>\n",
       "    <tr style=\"text-align: right;\">\n",
       "      <th></th>\n",
       "      <th>Characteristic</th>\n",
       "      <th>Total</th>\n",
       "      <th>Male</th>\n",
       "      <th>Female</th>\n",
       "      <th>Unknown</th>\n",
       "    </tr>\n",
       "  </thead>\n",
       "  <tbody>\n",
       "    <tr>\n",
       "      <th>26</th>\n",
       "      <td>Total</td>\n",
       "      <td>1130818.0</td>\n",
       "      <td>513015.0</td>\n",
       "      <td>617799</td>\n",
       "      <td>4</td>\n",
       "    </tr>\n",
       "    <tr>\n",
       "      <th>27</th>\n",
       "      <td>Single</td>\n",
       "      <td>417232.0</td>\n",
       "      <td>219812.0</td>\n",
       "      <td>197419</td>\n",
       "      <td>1</td>\n",
       "    </tr>\n",
       "    <tr>\n",
       "      <th>28</th>\n",
       "      <td>Married</td>\n",
       "      <td>654674.0</td>\n",
       "      <td>279354.0</td>\n",
       "      <td>375320</td>\n",
       "      <td>-</td>\n",
       "    </tr>\n",
       "    <tr>\n",
       "      <th>29</th>\n",
       "      <td>Widowed</td>\n",
       "      <td>28439.0</td>\n",
       "      <td>3288.0</td>\n",
       "      <td>25151</td>\n",
       "      <td>-</td>\n",
       "    </tr>\n",
       "    <tr>\n",
       "      <th>30</th>\n",
       "      <td>Divorced/separated</td>\n",
       "      <td>26015.0</td>\n",
       "      <td>8261.0</td>\n",
       "      <td>17754</td>\n",
       "      <td>-</td>\n",
       "    </tr>\n",
       "    <tr>\n",
       "      <th>31</th>\n",
       "      <td>Unknown</td>\n",
       "      <td>4458.0</td>\n",
       "      <td>2300.0</td>\n",
       "      <td>2155</td>\n",
       "      <td>3</td>\n",
       "    </tr>\n",
       "  </tbody>\n",
       "</table>\n",
       "</div>"
      ],
      "text/plain": [
       "        Characteristic      Total      Male  Female Unknown\n",
       "26               Total  1130818.0  513015.0  617799       4\n",
       "27              Single   417232.0  219812.0  197419       1\n",
       "28             Married   654674.0  279354.0  375320       -\n",
       "29             Widowed    28439.0    3288.0   25151       -\n",
       "30  Divorced/separated    26015.0    8261.0   17754       -\n",
       "31             Unknown     4458.0    2300.0    2155       3"
      ]
     },
     "execution_count": 17,
     "metadata": {},
     "output_type": "execute_result"
    }
   ],
   "source": [
    "#Use the iloc function to locate the point of interest in a data set\n",
    "Marital09_status = Lawful09_df.iloc[26:32,:]\n",
    "Marital09_status"
   ]
  },
  {
   "cell_type": "code",
   "execution_count": 18,
   "metadata": {},
   "outputs": [
    {
     "data": {
      "text/html": [
       "<div>\n",
       "<style scoped>\n",
       "    .dataframe tbody tr th:only-of-type {\n",
       "        vertical-align: middle;\n",
       "    }\n",
       "\n",
       "    .dataframe tbody tr th {\n",
       "        vertical-align: top;\n",
       "    }\n",
       "\n",
       "    .dataframe thead th {\n",
       "        text-align: right;\n",
       "    }\n",
       "</style>\n",
       "<table border=\"1\" class=\"dataframe\">\n",
       "  <thead>\n",
       "    <tr style=\"text-align: right;\">\n",
       "      <th></th>\n",
       "      <th>Characteristic</th>\n",
       "      <th>Total</th>\n",
       "    </tr>\n",
       "  </thead>\n",
       "  <tbody>\n",
       "    <tr>\n",
       "      <th>26</th>\n",
       "      <td>Total</td>\n",
       "      <td>1130818.0</td>\n",
       "    </tr>\n",
       "    <tr>\n",
       "      <th>27</th>\n",
       "      <td>Single</td>\n",
       "      <td>417232.0</td>\n",
       "    </tr>\n",
       "    <tr>\n",
       "      <th>28</th>\n",
       "      <td>Married</td>\n",
       "      <td>654674.0</td>\n",
       "    </tr>\n",
       "    <tr>\n",
       "      <th>29</th>\n",
       "      <td>Widowed</td>\n",
       "      <td>28439.0</td>\n",
       "    </tr>\n",
       "    <tr>\n",
       "      <th>30</th>\n",
       "      <td>Divorced/separated</td>\n",
       "      <td>26015.0</td>\n",
       "    </tr>\n",
       "    <tr>\n",
       "      <th>31</th>\n",
       "      <td>Unknown</td>\n",
       "      <td>4458.0</td>\n",
       "    </tr>\n",
       "  </tbody>\n",
       "</table>\n",
       "</div>"
      ],
      "text/plain": [
       "        Characteristic      Total\n",
       "26               Total  1130818.0\n",
       "27              Single   417232.0\n",
       "28             Married   654674.0\n",
       "29             Widowed    28439.0\n",
       "30  Divorced/separated    26015.0\n",
       "31             Unknown     4458.0"
      ]
     },
     "execution_count": 18,
     "metadata": {},
     "output_type": "execute_result"
    }
   ],
   "source": [
    "#View the characteristic and Total columns \n",
    "New09_marital_df = pd.DataFrame(Marital09_status)\n",
    "Specific09 = New09_marital_df.iloc[:, 0:2]\n",
    "Specific09"
   ]
  },
  {
   "cell_type": "code",
   "execution_count": 19,
   "metadata": {},
   "outputs": [
    {
     "data": {
      "text/html": [
       "<div>\n",
       "<style scoped>\n",
       "    .dataframe tbody tr th:only-of-type {\n",
       "        vertical-align: middle;\n",
       "    }\n",
       "\n",
       "    .dataframe tbody tr th {\n",
       "        vertical-align: top;\n",
       "    }\n",
       "\n",
       "    .dataframe thead th {\n",
       "        text-align: right;\n",
       "    }\n",
       "</style>\n",
       "<table border=\"1\" class=\"dataframe\">\n",
       "  <thead>\n",
       "    <tr style=\"text-align: right;\">\n",
       "      <th></th>\n",
       "      <th>Marital Status</th>\n",
       "      <th>Lawful Permanent Resident 2009</th>\n",
       "    </tr>\n",
       "  </thead>\n",
       "  <tbody>\n",
       "    <tr>\n",
       "      <th>26</th>\n",
       "      <td>Total</td>\n",
       "      <td>1130818.0</td>\n",
       "    </tr>\n",
       "    <tr>\n",
       "      <th>27</th>\n",
       "      <td>Single</td>\n",
       "      <td>417232.0</td>\n",
       "    </tr>\n",
       "    <tr>\n",
       "      <th>28</th>\n",
       "      <td>Married</td>\n",
       "      <td>654674.0</td>\n",
       "    </tr>\n",
       "    <tr>\n",
       "      <th>29</th>\n",
       "      <td>Widowed</td>\n",
       "      <td>28439.0</td>\n",
       "    </tr>\n",
       "    <tr>\n",
       "      <th>30</th>\n",
       "      <td>Divorced/separated</td>\n",
       "      <td>26015.0</td>\n",
       "    </tr>\n",
       "  </tbody>\n",
       "</table>\n",
       "</div>"
      ],
      "text/plain": [
       "        Marital Status  Lawful Permanent Resident 2009\n",
       "26               Total                       1130818.0\n",
       "27              Single                        417232.0\n",
       "28             Married                        654674.0\n",
       "29             Widowed                         28439.0\n",
       "30  Divorced/separated                         26015.0"
      ]
     },
     "execution_count": 19,
     "metadata": {},
     "output_type": "execute_result"
    }
   ],
   "source": [
    "#Rename your columns \n",
    "Renamed09 = Specific09.rename(columns={\"Characteristic\": \"Marital Status\", \"Total\": \"Lawful Permanent Resident 2009\"})\n",
    "Renamed09.head()"
   ]
  },
  {
   "cell_type": "code",
   "execution_count": 20,
   "metadata": {},
   "outputs": [
    {
     "data": {
      "text/html": [
       "<div>\n",
       "<style scoped>\n",
       "    .dataframe tbody tr th:only-of-type {\n",
       "        vertical-align: middle;\n",
       "    }\n",
       "\n",
       "    .dataframe tbody tr th {\n",
       "        vertical-align: top;\n",
       "    }\n",
       "\n",
       "    .dataframe thead th {\n",
       "        text-align: right;\n",
       "    }\n",
       "</style>\n",
       "<table border=\"1\" class=\"dataframe\">\n",
       "  <thead>\n",
       "    <tr style=\"text-align: right;\">\n",
       "      <th></th>\n",
       "      <th>Lawful 2009</th>\n",
       "    </tr>\n",
       "    <tr>\n",
       "      <th>Marital Status</th>\n",
       "      <th></th>\n",
       "    </tr>\n",
       "  </thead>\n",
       "  <tbody>\n",
       "    <tr>\n",
       "      <th>Total</th>\n",
       "      <td>1130818.0</td>\n",
       "    </tr>\n",
       "    <tr>\n",
       "      <th>Single</th>\n",
       "      <td>417232.0</td>\n",
       "    </tr>\n",
       "    <tr>\n",
       "      <th>Married</th>\n",
       "      <td>654674.0</td>\n",
       "    </tr>\n",
       "    <tr>\n",
       "      <th>Widowed</th>\n",
       "      <td>28439.0</td>\n",
       "    </tr>\n",
       "    <tr>\n",
       "      <th>Divorced/separated</th>\n",
       "      <td>26015.0</td>\n",
       "    </tr>\n",
       "    <tr>\n",
       "      <th>Unknown</th>\n",
       "      <td>4458.0</td>\n",
       "    </tr>\n",
       "  </tbody>\n",
       "</table>\n",
       "</div>"
      ],
      "text/plain": [
       "                    Lawful 2009\n",
       "Marital Status                 \n",
       "Total                 1130818.0\n",
       "Single                 417232.0\n",
       "Married                654674.0\n",
       "Widowed                 28439.0\n",
       "Divorced/separated      26015.0\n",
       "Unknown                  4458.0"
      ]
     },
     "execution_count": 20,
     "metadata": {},
     "output_type": "execute_result"
    }
   ],
   "source": [
    "#View a single column\n",
    "Status09 = Lawful09_df.iloc[26:32,0:2]\n",
    "Name09 = Status09.rename(columns={\"Characteristic\": \"Marital Status\", \"Total\": \"Lawful 2009\"})\n",
    "#Set marital status as index for clarity\n",
    "Name09.set_index(\"Marital Status\", inplace=True)\n",
    "Name09\n",
    "\n",
    "#Umar Code ends here"
   ]
  }
 ],
 "metadata": {
  "kernelspec": {
   "display_name": "Python 3",
   "language": "python",
   "name": "python3"
  },
  "language_info": {
   "codemirror_mode": {
    "name": "ipython",
    "version": 3
   },
   "file_extension": ".py",
   "mimetype": "text/x-python",
   "name": "python",
   "nbconvert_exporter": "python",
   "pygments_lexer": "ipython3",
   "version": "3.7.4"
  }
 },
 "nbformat": 4,
 "nbformat_minor": 4
}
