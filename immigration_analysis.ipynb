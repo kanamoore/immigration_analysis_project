{
 "cells": [
  {
   "cell_type": "code",
   "execution_count": null,
   "metadata": {},
   "outputs": [],
   "source": [
    "import pandas as pd\n",
    "import matplotlib.pyplot as plt\n",
    "import numpy as np\n",
    "import os"
   ]
  },
  {
   "cell_type": "code",
   "execution_count": null,
   "metadata": {},
   "outputs": [],
   "source": [
    "# Stacy's code starts here"
   ]
  },
  {
   "cell_type": "code",
   "execution_count": null,
   "metadata": {},
   "outputs": [],
   "source": [
    "# Load naturalization table\n",
    "nat_file = 'fy2018_naturalization.xlsx'\n",
    "filepath = os.path.join('.', 'Resources', nat_file)\n",
    "\n",
    "naturalization = pd.read_excel(filepath, header=5)"
   ]
  },
  {
   "cell_type": "code",
   "execution_count": null,
   "metadata": {},
   "outputs": [],
   "source": [
    "# Drop notes data at end of document\n",
    "naturalization.drop(labels=range(112,118), inplace=True)\n",
    "naturalization.tail()"
   ]
  },
  {
   "cell_type": "code",
   "execution_count": null,
   "metadata": {},
   "outputs": [],
   "source": [
    "# Rename columns\n",
    "naturalization.rename(columns={\n",
    "    'filed': 'Petitions filed',\n",
    "    'Total': 'Naturalized, total',\n",
    "    'denied': 'Petitions denied'\n",
    "}, inplace=True)\n",
    "\n",
    "# Drop unneeded columns\n",
    "naturalization = naturalization.drop(labels=['Civilian', 'Military 2', 'Not reported'], axis='columns')"
   ]
  },
  {
   "cell_type": "code",
   "execution_count": null,
   "metadata": {},
   "outputs": [],
   "source": [
    "# Find funny/footnoted years and fix them\n",
    "for index, row in naturalization.iterrows():\n",
    "    \n",
    "    year = naturalization.loc[index, 'Year']\n",
    "    \n",
    "    if len(str(year)) > 4:\n",
    "        year = int(year[0:5])\n",
    "        naturalization.loc[index, 'Year'] = year\n",
    "    else:\n",
    "        pass\n",
    "\n",
    "# Set year as index\n",
    "naturalization.set_index(keys=['Year'], inplace=True)"
   ]
  },
  {
   "cell_type": "code",
   "execution_count": null,
   "metadata": {},
   "outputs": [],
   "source": [
    "# Change datatype to int for all columns\n",
    "for c in naturalization.columns:\n",
    "    naturalization[c] = naturalization[c].astype('int')"
   ]
  },
  {
   "cell_type": "code",
   "execution_count": null,
   "metadata": {},
   "outputs": [],
   "source": [
    "naturalization.head()"
   ]
  },
  {
   "cell_type": "code",
   "execution_count": null,
   "metadata": {},
   "outputs": [],
   "source": [
    "# Plot the data\n",
    "plt.plot(naturalization.index, naturalization[['Petitions filed', 'Naturalized, total', 'Petitions denied']])\n",
    "plt.tight_layout()\n",
    "\n",
    "# Spike in 1996 - and general increase - can be explained by this bill: https://www.vox.com/2016/4/28/11515132/iirira-clinton-immigration\n",
    "\n",
    "\n",
    "\n",
    "\n",
    "\n",
    "\n",
    "# Need to plot just the 2000 - 2010, then 2015 - 2018 data - to examine whether there are trends"
   ]
  },
  {
   "cell_type": "code",
   "execution_count": null,
   "metadata": {},
   "outputs": [],
   "source": [
    "# Stacy's code ends here"
   ]
  },
  {
   "cell_type": "code",
   "execution_count": null,
   "metadata": {},
   "outputs": [],
   "source": [
    "# Kana's code starts here"
   ]
  },
  {
   "cell_type": "code",
   "execution_count": null,
   "metadata": {},
   "outputs": [],
   "source": [
    "# Kana's code ends here"
   ]
  },
  {
   "cell_type": "code",
   "execution_count": null,
   "metadata": {},
   "outputs": [],
   "source": [
    "# Satish's code starts here"
   ]
  },
  {
   "cell_type": "code",
   "execution_count": null,
   "metadata": {},
   "outputs": [],
   "source": [
    "# Satish's code ends here"
   ]
  },
  {
   "cell_type": "code",
   "execution_count": null,
   "metadata": {},
   "outputs": [],
   "source": [
    "# Umar's code starts here"
   ]
  },
  {
   "cell_type": "code",
   "execution_count": null,
   "metadata": {},
   "outputs": [],
   "source": [
    "# Umar's code ends here"
   ]
  }
 ],
 "metadata": {
  "kernelspec": {
   "display_name": "Python 3",
   "language": "python",
   "name": "python3"
  },
  "language_info": {
   "codemirror_mode": {
    "name": "ipython",
    "version": 3
   },
   "file_extension": ".py",
   "mimetype": "text/x-python",
   "name": "python",
   "nbconvert_exporter": "python",
   "pygments_lexer": "ipython3",
   "version": "3.7.4"
  }
 },
 "nbformat": 4,
 "nbformat_minor": 4
}
