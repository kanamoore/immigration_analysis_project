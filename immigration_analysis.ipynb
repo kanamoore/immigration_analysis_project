{
 "cells": [
  {
   "cell_type": "code",
   "execution_count": 1,
   "metadata": {},
   "outputs": [],
   "source": [
    "import pandas as pd\n",
    "import matplotlib.pyplot as plt\n",
    "import numpy as np\n",
    "import os"
   ]
  },
  {
   "cell_type": "code",
   "execution_count": null,
   "metadata": {},
   "outputs": [],
   "source": [
    "# Stacy's code starts here"
   ]
  },
  {
   "cell_type": "code",
   "execution_count": 47,
   "metadata": {},
   "outputs": [],
   "source": [
    "# Load naturalization table\n",
    "nat_file = 'fy2018_naturalization.xlsx'\n",
    "filepath = os.path.join('.', 'Resources', nat_file)\n",
    "\n",
    "naturalization = pd.read_excel(filepath, header=5)"
   ]
  },
  {
   "cell_type": "code",
   "execution_count": 48,
   "metadata": {},
   "outputs": [
    {
     "data": {
      "text/html": [
       "<div>\n",
       "<style scoped>\n",
       "    .dataframe tbody tr th:only-of-type {\n",
       "        vertical-align: middle;\n",
       "    }\n",
       "\n",
       "    .dataframe tbody tr th {\n",
       "        vertical-align: top;\n",
       "    }\n",
       "\n",
       "    .dataframe thead th {\n",
       "        text-align: right;\n",
       "    }\n",
       "</style>\n",
       "<table border=\"1\" class=\"dataframe\">\n",
       "  <thead>\n",
       "    <tr style=\"text-align: right;\">\n",
       "      <th></th>\n",
       "      <th>Year</th>\n",
       "      <th>filed</th>\n",
       "      <th>Total</th>\n",
       "      <th>Civilian</th>\n",
       "      <th>Military 2</th>\n",
       "      <th>Not reported</th>\n",
       "      <th>denied</th>\n",
       "    </tr>\n",
       "  </thead>\n",
       "  <tbody>\n",
       "    <tr>\n",
       "      <th>107</th>\n",
       "      <td>2014</td>\n",
       "      <td>773824.0</td>\n",
       "      <td>653416.0</td>\n",
       "      <td>642431.0</td>\n",
       "      <td>7468.0</td>\n",
       "      <td>3517</td>\n",
       "      <td>66767.0</td>\n",
       "    </tr>\n",
       "    <tr>\n",
       "      <th>108</th>\n",
       "      <td>2015</td>\n",
       "      <td>783062.0</td>\n",
       "      <td>730259.0</td>\n",
       "      <td>720645.0</td>\n",
       "      <td>7234.0</td>\n",
       "      <td>2380</td>\n",
       "      <td>75810.0</td>\n",
       "    </tr>\n",
       "    <tr>\n",
       "      <th>109</th>\n",
       "      <td>2016</td>\n",
       "      <td>972151.0</td>\n",
       "      <td>753060.0</td>\n",
       "      <td>742090.0</td>\n",
       "      <td>8885.0</td>\n",
       "      <td>2085</td>\n",
       "      <td>86033.0</td>\n",
       "    </tr>\n",
       "    <tr>\n",
       "      <th>110</th>\n",
       "      <td>2017</td>\n",
       "      <td>986851.0</td>\n",
       "      <td>707265.0</td>\n",
       "      <td>695718.0</td>\n",
       "      <td>6883.0</td>\n",
       "      <td>4664</td>\n",
       "      <td>83176.0</td>\n",
       "    </tr>\n",
       "    <tr>\n",
       "      <th>111</th>\n",
       "      <td>2018</td>\n",
       "      <td>810548.0</td>\n",
       "      <td>761901.0</td>\n",
       "      <td>750771.0</td>\n",
       "      <td>4495.0</td>\n",
       "      <td>6635</td>\n",
       "      <td>92586.0</td>\n",
       "    </tr>\n",
       "  </tbody>\n",
       "</table>\n",
       "</div>"
      ],
      "text/plain": [
       "     Year     filed     Total  Civilian  Military 2 Not reported   denied\n",
       "107  2014  773824.0  653416.0  642431.0      7468.0         3517  66767.0\n",
       "108  2015  783062.0  730259.0  720645.0      7234.0         2380  75810.0\n",
       "109  2016  972151.0  753060.0  742090.0      8885.0         2085  86033.0\n",
       "110  2017  986851.0  707265.0  695718.0      6883.0         4664  83176.0\n",
       "111  2018  810548.0  761901.0  750771.0      4495.0         6635  92586.0"
      ]
     },
     "execution_count": 48,
     "metadata": {},
     "output_type": "execute_result"
    }
   ],
   "source": [
    "# Drop notes data at end of document\n",
    "naturalization.drop(labels=range(112,118), inplace=True)\n",
    "naturalization.tail()"
   ]
  },
  {
   "cell_type": "code",
   "execution_count": 49,
   "metadata": {},
   "outputs": [],
   "source": [
    "# Rename columns\n",
    "naturalization.rename(columns={\n",
    "    'filed': 'Petitions filed',\n",
    "    'Total': 'Naturalized, total',\n",
    "    'denied': 'Petitions denied'\n",
    "}, inplace=True)\n",
    "\n",
    "# Drop unneeded columns\n",
    "naturalization = naturalization.drop(labels=['Civilian', 'Military 2', 'Not reported'], axis='columns')"
   ]
  },
  {
   "cell_type": "code",
   "execution_count": 50,
   "metadata": {},
   "outputs": [
    {
     "data": {
      "text/html": [
       "<div>\n",
       "<style scoped>\n",
       "    .dataframe tbody tr th:only-of-type {\n",
       "        vertical-align: middle;\n",
       "    }\n",
       "\n",
       "    .dataframe tbody tr th {\n",
       "        vertical-align: top;\n",
       "    }\n",
       "\n",
       "    .dataframe thead th {\n",
       "        text-align: right;\n",
       "    }\n",
       "</style>\n",
       "<table border=\"1\" class=\"dataframe\">\n",
       "  <thead>\n",
       "    <tr style=\"text-align: right;\">\n",
       "      <th></th>\n",
       "      <th>Petitions filed</th>\n",
       "      <th>Naturalized, total</th>\n",
       "      <th>Petitions denied</th>\n",
       "    </tr>\n",
       "    <tr>\n",
       "      <th>Year</th>\n",
       "      <th></th>\n",
       "      <th></th>\n",
       "      <th></th>\n",
       "    </tr>\n",
       "  </thead>\n",
       "  <tbody>\n",
       "    <tr>\n",
       "      <th>1907</th>\n",
       "      <td>21113.0</td>\n",
       "      <td>7941.0</td>\n",
       "      <td>250.0</td>\n",
       "    </tr>\n",
       "    <tr>\n",
       "      <th>1908</th>\n",
       "      <td>44032.0</td>\n",
       "      <td>25975.0</td>\n",
       "      <td>3330.0</td>\n",
       "    </tr>\n",
       "    <tr>\n",
       "      <th>1909</th>\n",
       "      <td>43141.0</td>\n",
       "      <td>38374.0</td>\n",
       "      <td>6341.0</td>\n",
       "    </tr>\n",
       "    <tr>\n",
       "      <th>1910</th>\n",
       "      <td>55750.0</td>\n",
       "      <td>39448.0</td>\n",
       "      <td>7781.0</td>\n",
       "    </tr>\n",
       "    <tr>\n",
       "      <th>1911</th>\n",
       "      <td>74740.0</td>\n",
       "      <td>56683.0</td>\n",
       "      <td>9017.0</td>\n",
       "    </tr>\n",
       "  </tbody>\n",
       "</table>\n",
       "</div>"
      ],
      "text/plain": [
       "      Petitions filed  Naturalized, total  Petitions denied\n",
       "Year                                                       \n",
       "1907          21113.0              7941.0             250.0\n",
       "1908          44032.0             25975.0            3330.0\n",
       "1909          43141.0             38374.0            6341.0\n",
       "1910          55750.0             39448.0            7781.0\n",
       "1911          74740.0             56683.0            9017.0"
      ]
     },
     "execution_count": 50,
     "metadata": {},
     "output_type": "execute_result"
    }
   ],
   "source": [
    "# Find funny/footnoted years and fix them\n",
    "for index, row in naturalization.iterrows():\n",
    "    \n",
    "    year = naturalization.loc[index, 'Year']\n",
    "    \n",
    "    if len(str(year)) > 4:\n",
    "        year = int(year[0:5])\n",
    "        naturalization.loc[index, 'Year'] = year\n",
    "    else:\n",
    "        pass\n",
    "\n",
    "# Set year as index\n",
    "naturalization.set_index(keys=['Year'], inplace=True)"
   ]
  },
  {
   "cell_type": "code",
   "execution_count": 51,
   "metadata": {},
   "outputs": [],
   "source": [
    "# Change datatype to int for all columns\n",
    "for c in naturalization.columns:\n",
    "    naturalization[c] = naturalization[c].astype('int')"
   ]
  },
  {
   "cell_type": "code",
   "execution_count": 53,
   "metadata": {},
   "outputs": [
    {
     "data": {
      "text/html": [
       "<div>\n",
       "<style scoped>\n",
       "    .dataframe tbody tr th:only-of-type {\n",
       "        vertical-align: middle;\n",
       "    }\n",
       "\n",
       "    .dataframe tbody tr th {\n",
       "        vertical-align: top;\n",
       "    }\n",
       "\n",
       "    .dataframe thead th {\n",
       "        text-align: right;\n",
       "    }\n",
       "</style>\n",
       "<table border=\"1\" class=\"dataframe\">\n",
       "  <thead>\n",
       "    <tr style=\"text-align: right;\">\n",
       "      <th></th>\n",
       "      <th>Petitions filed</th>\n",
       "      <th>Naturalized, total</th>\n",
       "      <th>Petitions denied</th>\n",
       "    </tr>\n",
       "    <tr>\n",
       "      <th>Year</th>\n",
       "      <th></th>\n",
       "      <th></th>\n",
       "      <th></th>\n",
       "    </tr>\n",
       "  </thead>\n",
       "  <tbody>\n",
       "    <tr>\n",
       "      <th>1907</th>\n",
       "      <td>21113</td>\n",
       "      <td>7941</td>\n",
       "      <td>250</td>\n",
       "    </tr>\n",
       "    <tr>\n",
       "      <th>1908</th>\n",
       "      <td>44032</td>\n",
       "      <td>25975</td>\n",
       "      <td>3330</td>\n",
       "    </tr>\n",
       "    <tr>\n",
       "      <th>1909</th>\n",
       "      <td>43141</td>\n",
       "      <td>38374</td>\n",
       "      <td>6341</td>\n",
       "    </tr>\n",
       "    <tr>\n",
       "      <th>1910</th>\n",
       "      <td>55750</td>\n",
       "      <td>39448</td>\n",
       "      <td>7781</td>\n",
       "    </tr>\n",
       "    <tr>\n",
       "      <th>1911</th>\n",
       "      <td>74740</td>\n",
       "      <td>56683</td>\n",
       "      <td>9017</td>\n",
       "    </tr>\n",
       "  </tbody>\n",
       "</table>\n",
       "</div>"
      ],
      "text/plain": [
       "      Petitions filed  Naturalized, total  Petitions denied\n",
       "Year                                                       \n",
       "1907            21113                7941               250\n",
       "1908            44032               25975              3330\n",
       "1909            43141               38374              6341\n",
       "1910            55750               39448              7781\n",
       "1911            74740               56683              9017"
      ]
     },
     "execution_count": 53,
     "metadata": {},
     "output_type": "execute_result"
    }
   ],
   "source": [
    "naturalization.head()"
   ]
  },
  {
   "cell_type": "code",
   "execution_count": null,
   "metadata": {},
   "outputs": [],
   "source": [
    "# Stacy's code ends here"
   ]
  },
  {
   "cell_type": "code",
   "execution_count": null,
   "metadata": {},
   "outputs": [],
   "source": [
    "# Kana's code starts here"
   ]
  },
  {
   "cell_type": "code",
   "execution_count": null,
   "metadata": {},
   "outputs": [],
   "source": [
    "# Kana's code ends here"
   ]
  },
  {
   "cell_type": "code",
   "execution_count": null,
   "metadata": {},
   "outputs": [],
   "source": [
    "# Satish's code starts here"
   ]
  },
  {
   "cell_type": "code",
   "execution_count": null,
   "metadata": {},
   "outputs": [],
   "source": [
    "# Satish's code ends here"
   ]
  },
  {
   "cell_type": "code",
   "execution_count": null,
   "metadata": {},
   "outputs": [],
   "source": [
    "# Umar's code starts here"
   ]
  },
  {
   "cell_type": "code",
   "execution_count": null,
   "metadata": {},
   "outputs": [],
   "source": [
    "# Umar's code ends here"
   ]
  }
 ],
 "metadata": {
  "kernelspec": {
   "display_name": "Python 3",
   "language": "python",
   "name": "python3"
  },
  "language_info": {
   "codemirror_mode": {
    "name": "ipython",
    "version": 3
   },
   "file_extension": ".py",
   "mimetype": "text/x-python",
   "name": "python",
   "nbconvert_exporter": "python",
   "pygments_lexer": "ipython3",
   "version": "3.6.10"
  }
 },
 "nbformat": 4,
 "nbformat_minor": 4
}
