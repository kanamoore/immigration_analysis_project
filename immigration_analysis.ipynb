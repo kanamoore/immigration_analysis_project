{
 "cells": [
  {
   "cell_type": "code",
   "execution_count": 2,
   "metadata": {},
   "outputs": [],
   "source": [
    "import pandas as pd\n",
    "import matplotlib.pyplot as plt\n",
    "import numpy as np\n",
    "import os"
   ]
  },
  {
   "cell_type": "code",
   "execution_count": 3,
   "metadata": {},
   "outputs": [],
   "source": [
    "# Stacy's code starts here"
   ]
  },
  {
   "cell_type": "code",
   "execution_count": 4,
   "metadata": {},
   "outputs": [],
   "source": [
    "# Load naturalization table\n",
    "nat_file = 'fy2018_naturalization.xlsx'\n",
    "filepath = os.path.join('.', 'Resources', nat_file)\n",
    "\n",
    "naturalization = pd.read_excel(filepath, header=5)"
   ]
  },
  {
   "cell_type": "code",
   "execution_count": 5,
   "metadata": {},
   "outputs": [
    {
     "data": {
      "text/html": [
       "<div>\n",
       "<style scoped>\n",
       "    .dataframe tbody tr th:only-of-type {\n",
       "        vertical-align: middle;\n",
       "    }\n",
       "\n",
       "    .dataframe tbody tr th {\n",
       "        vertical-align: top;\n",
       "    }\n",
       "\n",
       "    .dataframe thead th {\n",
       "        text-align: right;\n",
       "    }\n",
       "</style>\n",
       "<table border=\"1\" class=\"dataframe\">\n",
       "  <thead>\n",
       "    <tr style=\"text-align: right;\">\n",
       "      <th></th>\n",
       "      <th>Year</th>\n",
       "      <th>filed</th>\n",
       "      <th>Total</th>\n",
       "      <th>Civilian</th>\n",
       "      <th>Military 2</th>\n",
       "      <th>Not reported</th>\n",
       "      <th>denied</th>\n",
       "    </tr>\n",
       "  </thead>\n",
       "  <tbody>\n",
       "    <tr>\n",
       "      <td>107</td>\n",
       "      <td>2014</td>\n",
       "      <td>773824.0</td>\n",
       "      <td>653416.0</td>\n",
       "      <td>642431.0</td>\n",
       "      <td>7468.0</td>\n",
       "      <td>3517</td>\n",
       "      <td>66767.0</td>\n",
       "    </tr>\n",
       "    <tr>\n",
       "      <td>108</td>\n",
       "      <td>2015</td>\n",
       "      <td>783062.0</td>\n",
       "      <td>730259.0</td>\n",
       "      <td>720645.0</td>\n",
       "      <td>7234.0</td>\n",
       "      <td>2380</td>\n",
       "      <td>75810.0</td>\n",
       "    </tr>\n",
       "    <tr>\n",
       "      <td>109</td>\n",
       "      <td>2016</td>\n",
       "      <td>972151.0</td>\n",
       "      <td>753060.0</td>\n",
       "      <td>742090.0</td>\n",
       "      <td>8885.0</td>\n",
       "      <td>2085</td>\n",
       "      <td>86033.0</td>\n",
       "    </tr>\n",
       "    <tr>\n",
       "      <td>110</td>\n",
       "      <td>2017</td>\n",
       "      <td>986851.0</td>\n",
       "      <td>707265.0</td>\n",
       "      <td>695718.0</td>\n",
       "      <td>6883.0</td>\n",
       "      <td>4664</td>\n",
       "      <td>83176.0</td>\n",
       "    </tr>\n",
       "    <tr>\n",
       "      <td>111</td>\n",
       "      <td>2018</td>\n",
       "      <td>810548.0</td>\n",
       "      <td>761901.0</td>\n",
       "      <td>750771.0</td>\n",
       "      <td>4495.0</td>\n",
       "      <td>6635</td>\n",
       "      <td>92586.0</td>\n",
       "    </tr>\n",
       "  </tbody>\n",
       "</table>\n",
       "</div>"
      ],
      "text/plain": [
       "     Year     filed     Total  Civilian  Military 2 Not reported   denied\n",
       "107  2014  773824.0  653416.0  642431.0      7468.0         3517  66767.0\n",
       "108  2015  783062.0  730259.0  720645.0      7234.0         2380  75810.0\n",
       "109  2016  972151.0  753060.0  742090.0      8885.0         2085  86033.0\n",
       "110  2017  986851.0  707265.0  695718.0      6883.0         4664  83176.0\n",
       "111  2018  810548.0  761901.0  750771.0      4495.0         6635  92586.0"
      ]
     },
     "execution_count": 5,
     "metadata": {},
     "output_type": "execute_result"
    }
   ],
   "source": [
    "# Drop notes data at end of document\n",
    "naturalization.drop(labels=range(112,118), inplace=True)\n",
    "naturalization.tail()"
   ]
  },
  {
   "cell_type": "code",
   "execution_count": 6,
   "metadata": {},
   "outputs": [],
   "source": [
    "# Rename columns\n",
    "naturalization.rename(columns={\n",
    "    'filed': 'Petitions filed',\n",
    "    'Total': 'Naturalized, total',\n",
    "    'denied': 'Petitions denied'\n",
    "}, inplace=True)\n",
    "\n",
    "# Drop unneeded columns\n",
    "naturalization = naturalization.drop(labels=['Civilian', 'Military 2', 'Not reported'], axis='columns')"
   ]
  },
  {
   "cell_type": "code",
   "execution_count": 7,
   "metadata": {},
   "outputs": [],
   "source": [
    "# Find funny/footnoted years and fix them\n",
    "for index, row in naturalization.iterrows():\n",
    "    \n",
    "    year = naturalization.loc[index, 'Year']\n",
    "    \n",
    "    if len(str(year)) > 4:\n",
    "        year = int(year[0:5])\n",
    "        naturalization.loc[index, 'Year'] = year\n",
    "    else:\n",
    "        pass\n",
    "\n",
    "# Set year as index\n",
    "naturalization.set_index(keys=['Year'], inplace=True)"
   ]
  },
  {
   "cell_type": "code",
   "execution_count": 8,
   "metadata": {},
   "outputs": [],
   "source": [
    "# Change datatype to int for all columns\n",
    "for c in naturalization.columns:\n",
    "    naturalization[c] = naturalization[c].astype('int')"
   ]
  },
  {
   "cell_type": "code",
   "execution_count": 9,
   "metadata": {},
   "outputs": [
    {
     "data": {
      "text/html": [
       "<div>\n",
       "<style scoped>\n",
       "    .dataframe tbody tr th:only-of-type {\n",
       "        vertical-align: middle;\n",
       "    }\n",
       "\n",
       "    .dataframe tbody tr th {\n",
       "        vertical-align: top;\n",
       "    }\n",
       "\n",
       "    .dataframe thead th {\n",
       "        text-align: right;\n",
       "    }\n",
       "</style>\n",
       "<table border=\"1\" class=\"dataframe\">\n",
       "  <thead>\n",
       "    <tr style=\"text-align: right;\">\n",
       "      <th></th>\n",
       "      <th>Petitions filed</th>\n",
       "      <th>Naturalized, total</th>\n",
       "      <th>Petitions denied</th>\n",
       "    </tr>\n",
       "    <tr>\n",
       "      <th>Year</th>\n",
       "      <th></th>\n",
       "      <th></th>\n",
       "      <th></th>\n",
       "    </tr>\n",
       "  </thead>\n",
       "  <tbody>\n",
       "    <tr>\n",
       "      <td>1907</td>\n",
       "      <td>21113</td>\n",
       "      <td>7941</td>\n",
       "      <td>250</td>\n",
       "    </tr>\n",
       "    <tr>\n",
       "      <td>1908</td>\n",
       "      <td>44032</td>\n",
       "      <td>25975</td>\n",
       "      <td>3330</td>\n",
       "    </tr>\n",
       "    <tr>\n",
       "      <td>1909</td>\n",
       "      <td>43141</td>\n",
       "      <td>38374</td>\n",
       "      <td>6341</td>\n",
       "    </tr>\n",
       "    <tr>\n",
       "      <td>1910</td>\n",
       "      <td>55750</td>\n",
       "      <td>39448</td>\n",
       "      <td>7781</td>\n",
       "    </tr>\n",
       "    <tr>\n",
       "      <td>1911</td>\n",
       "      <td>74740</td>\n",
       "      <td>56683</td>\n",
       "      <td>9017</td>\n",
       "    </tr>\n",
       "  </tbody>\n",
       "</table>\n",
       "</div>"
      ],
      "text/plain": [
       "      Petitions filed  Naturalized, total  Petitions denied\n",
       "Year                                                       \n",
       "1907            21113                7941               250\n",
       "1908            44032               25975              3330\n",
       "1909            43141               38374              6341\n",
       "1910            55750               39448              7781\n",
       "1911            74740               56683              9017"
      ]
     },
     "execution_count": 9,
     "metadata": {},
     "output_type": "execute_result"
    }
   ],
   "source": [
    "naturalization.head()"
   ]
  },
  {
   "cell_type": "code",
   "execution_count": 10,
   "metadata": {},
   "outputs": [
    {
     "data": {
      "image/png": "[encoded data removed]",
      "text/plain": [
       "<Figure size 432x288 with 1 Axes>"
      ]
     },
     "metadata": {
      "needs_background": "light"
     },
     "output_type": "display_data"
    }
   ],
   "source": [
    "# Plot the data\n",
    "plt.plot(naturalization.index, naturalization[['Petitions filed', 'Naturalized, total', 'Petitions denied']])\n",
    "plt.tight_layout()\n",
    "\n",
    "# Spike in 1996 - and general increase - can be explained by this bill: https://www.vox.com/2016/4/28/11515132/iirira-clinton-immigration\n",
    "# Need to plot just the 2000 - 2010, then 2015 - 2018 data - to examine whether there are trends"
   ]
  },
  {
   "cell_type": "code",
   "execution_count": 86,
   "metadata": {},
   "outputs": [],
   "source": [
    "# Load asylum seeker age/gender/etc table (2018)\n",
    "asy_2018_file = 'fy2018_table18d_asylum_age_etc.xlsx'\n",
    "filepath = os.path.join('.', 'Resources', asy_2018_file)\n",
    "\n",
    "asylum_2018 = pd.read_excel(filepath, header=4)"
   ]
  },
  {
   "cell_type": "code",
   "execution_count": 87,
   "metadata": {},
   "outputs": [
    {
     "data": {
      "text/html": [
       "<div>\n",
       "<style scoped>\n",
       "    .dataframe tbody tr th:only-of-type {\n",
       "        vertical-align: middle;\n",
       "    }\n",
       "\n",
       "    .dataframe tbody tr th {\n",
       "        vertical-align: top;\n",
       "    }\n",
       "\n",
       "    .dataframe thead th {\n",
       "        text-align: right;\n",
       "    }\n",
       "</style>\n",
       "<table border=\"1\" class=\"dataframe\">\n",
       "  <thead>\n",
       "    <tr style=\"text-align: right;\">\n",
       "      <th></th>\n",
       "      <th>Characteristic</th>\n",
       "      <th>Total</th>\n",
       "      <th>Unnamed: 2</th>\n",
       "      <th>Spouses</th>\n",
       "      <th>Children</th>\n",
       "    </tr>\n",
       "  </thead>\n",
       "  <tbody>\n",
       "    <tr>\n",
       "      <td>28</td>\n",
       "      <td>Total</td>\n",
       "      <td>25439.0</td>\n",
       "      <td>16927</td>\n",
       "      <td>3636</td>\n",
       "      <td>4876</td>\n",
       "    </tr>\n",
       "    <tr>\n",
       "      <td>29</td>\n",
       "      <td>Married</td>\n",
       "      <td>10142.0</td>\n",
       "      <td>6506</td>\n",
       "      <td>3636</td>\n",
       "      <td>-</td>\n",
       "    </tr>\n",
       "    <tr>\n",
       "      <td>30</td>\n",
       "      <td>Single</td>\n",
       "      <td>14154.0</td>\n",
       "      <td>9278</td>\n",
       "      <td>-</td>\n",
       "      <td>4876</td>\n",
       "    </tr>\n",
       "    <tr>\n",
       "      <td>31</td>\n",
       "      <td>Widowed</td>\n",
       "      <td>232.0</td>\n",
       "      <td>232</td>\n",
       "      <td>-</td>\n",
       "      <td>-</td>\n",
       "    </tr>\n",
       "    <tr>\n",
       "      <td>32</td>\n",
       "      <td>Divorced/separated</td>\n",
       "      <td>896.0</td>\n",
       "      <td>896</td>\n",
       "      <td>-</td>\n",
       "      <td>-</td>\n",
       "    </tr>\n",
       "    <tr>\n",
       "      <td>33</td>\n",
       "      <td>Unknown</td>\n",
       "      <td>15.0</td>\n",
       "      <td>15</td>\n",
       "      <td>-</td>\n",
       "      <td>-</td>\n",
       "    </tr>\n",
       "    <tr>\n",
       "      <td>34</td>\n",
       "      <td>D Data withheld to limit disclosure.</td>\n",
       "      <td>NaN</td>\n",
       "      <td>NaN</td>\n",
       "      <td>NaN</td>\n",
       "      <td>NaN</td>\n",
       "    </tr>\n",
       "    <tr>\n",
       "      <td>35</td>\n",
       "      <td>- Represents zero.</td>\n",
       "      <td>NaN</td>\n",
       "      <td>NaN</td>\n",
       "      <td>NaN</td>\n",
       "      <td>NaN</td>\n",
       "    </tr>\n",
       "    <tr>\n",
       "      <td>36</td>\n",
       "      <td>Note: Data not available for individuals grant...</td>\n",
       "      <td>NaN</td>\n",
       "      <td>NaN</td>\n",
       "      <td>NaN</td>\n",
       "      <td>NaN</td>\n",
       "    </tr>\n",
       "    <tr>\n",
       "      <td>37</td>\n",
       "      <td>Source: U.S. Department of Homeland Security.</td>\n",
       "      <td>NaN</td>\n",
       "      <td>NaN</td>\n",
       "      <td>NaN</td>\n",
       "      <td>NaN</td>\n",
       "    </tr>\n",
       "  </tbody>\n",
       "</table>\n",
       "</div>"
      ],
      "text/plain": [
       "                                       Characteristic    Total Unnamed: 2  \\\n",
       "28                                              Total  25439.0      16927   \n",
       "29                                            Married  10142.0       6506   \n",
       "30                                             Single  14154.0       9278   \n",
       "31                                            Widowed    232.0        232   \n",
       "32                                 Divorced/separated    896.0        896   \n",
       "33                                            Unknown     15.0         15   \n",
       "34               D Data withheld to limit disclosure.      NaN        NaN   \n",
       "35                                - Represents zero.       NaN        NaN   \n",
       "36  Note: Data not available for individuals grant...      NaN        NaN   \n",
       "37      Source: U.S. Department of Homeland Security.      NaN        NaN   \n",
       "\n",
       "   Spouses Children  \n",
       "28    3636     4876  \n",
       "29    3636        -  \n",
       "30       -     4876  \n",
       "31       -        -  \n",
       "32       -        -  \n",
       "33       -        -  \n",
       "34     NaN      NaN  \n",
       "35     NaN      NaN  \n",
       "36     NaN      NaN  \n",
       "37     NaN      NaN  "
      ]
     },
     "execution_count": 87,
     "metadata": {},
     "output_type": "execute_result"
    }
   ],
   "source": [
    "asylum_2018.tail(10)"
   ]
  },
  {
   "cell_type": "code",
   "execution_count": 88,
   "metadata": {},
   "outputs": [
    {
     "data": {
      "text/html": [
       "<div>\n",
       "<style scoped>\n",
       "    .dataframe tbody tr th:only-of-type {\n",
       "        vertical-align: middle;\n",
       "    }\n",
       "\n",
       "    .dataframe tbody tr th {\n",
       "        vertical-align: top;\n",
       "    }\n",
       "\n",
       "    .dataframe thead th {\n",
       "        text-align: right;\n",
       "    }\n",
       "</style>\n",
       "<table border=\"1\" class=\"dataframe\">\n",
       "  <thead>\n",
       "    <tr style=\"text-align: right;\">\n",
       "      <th></th>\n",
       "      <th>Characteristic</th>\n",
       "      <th>Total</th>\n",
       "      <th>Unnamed: 2</th>\n",
       "      <th>Spouses</th>\n",
       "      <th>Children</th>\n",
       "    </tr>\n",
       "  </thead>\n",
       "  <tbody>\n",
       "    <tr>\n",
       "      <td>29</td>\n",
       "      <td>Married</td>\n",
       "      <td>10142.0</td>\n",
       "      <td>6506</td>\n",
       "      <td>3636</td>\n",
       "      <td>-</td>\n",
       "    </tr>\n",
       "    <tr>\n",
       "      <td>30</td>\n",
       "      <td>Single</td>\n",
       "      <td>14154.0</td>\n",
       "      <td>9278</td>\n",
       "      <td>-</td>\n",
       "      <td>4876</td>\n",
       "    </tr>\n",
       "    <tr>\n",
       "      <td>31</td>\n",
       "      <td>Widowed</td>\n",
       "      <td>232.0</td>\n",
       "      <td>232</td>\n",
       "      <td>-</td>\n",
       "      <td>-</td>\n",
       "    </tr>\n",
       "    <tr>\n",
       "      <td>32</td>\n",
       "      <td>Divorced/separated</td>\n",
       "      <td>896.0</td>\n",
       "      <td>896</td>\n",
       "      <td>-</td>\n",
       "      <td>-</td>\n",
       "    </tr>\n",
       "    <tr>\n",
       "      <td>33</td>\n",
       "      <td>Unknown</td>\n",
       "      <td>15.0</td>\n",
       "      <td>15</td>\n",
       "      <td>-</td>\n",
       "      <td>-</td>\n",
       "    </tr>\n",
       "  </tbody>\n",
       "</table>\n",
       "</div>"
      ],
      "text/plain": [
       "        Characteristic    Total Unnamed: 2 Spouses Children\n",
       "29             Married  10142.0       6506    3636        -\n",
       "30              Single  14154.0       9278       -     4876\n",
       "31             Widowed    232.0        232       -        -\n",
       "32  Divorced/separated    896.0        896       -        -\n",
       "33             Unknown     15.0         15       -        -"
      ]
     },
     "execution_count": 88,
     "metadata": {},
     "output_type": "execute_result"
    }
   ],
   "source": [
    "# Drop notes data at end of document\n",
    "asylum_2018.drop(labels=range(34,38), inplace=True)\n",
    "asylum_2018.tail()"
   ]
  },
  {
   "cell_type": "code",
   "execution_count": 89,
   "metadata": {},
   "outputs": [],
   "source": [
    "# Split into sex [5:8], rename column\n",
    "asylum_2018_sex = asylum_2018.iloc[1:4,0:2]\n",
    "asylum_2018_sex.rename(columns={\n",
    "    \"Characteristic\": \"Sex\"\n",
    "}, inplace=True)"
   ]
  },
  {
   "cell_type": "code",
   "execution_count": 90,
   "metadata": {},
   "outputs": [
    {
     "data": {
      "text/html": [
       "<div>\n",
       "<style scoped>\n",
       "    .dataframe tbody tr th:only-of-type {\n",
       "        vertical-align: middle;\n",
       "    }\n",
       "\n",
       "    .dataframe tbody tr th {\n",
       "        vertical-align: top;\n",
       "    }\n",
       "\n",
       "    .dataframe thead th {\n",
       "        text-align: right;\n",
       "    }\n",
       "</style>\n",
       "<table border=\"1\" class=\"dataframe\">\n",
       "  <thead>\n",
       "    <tr style=\"text-align: right;\">\n",
       "      <th></th>\n",
       "      <th>Total</th>\n",
       "    </tr>\n",
       "    <tr>\n",
       "      <th>Sex</th>\n",
       "      <th></th>\n",
       "    </tr>\n",
       "  </thead>\n",
       "  <tbody>\n",
       "    <tr>\n",
       "      <td>Total</td>\n",
       "      <td>25439.0</td>\n",
       "    </tr>\n",
       "    <tr>\n",
       "      <td>Female</td>\n",
       "      <td>12483.0</td>\n",
       "    </tr>\n",
       "    <tr>\n",
       "      <td>Male</td>\n",
       "      <td>12956.0</td>\n",
       "    </tr>\n",
       "  </tbody>\n",
       "</table>\n",
       "</div>"
      ],
      "text/plain": [
       "          Total\n",
       "Sex            \n",
       "Total   25439.0\n",
       "Female  12483.0\n",
       "Male    12956.0"
      ]
     },
     "execution_count": 90,
     "metadata": {},
     "output_type": "execute_result"
    }
   ],
   "source": [
    "# Drop unneeded rows and reset index\n",
    "asylum_2018_sex.set_index(keys='Sex', inplace=True)\n",
    "asylum_2018_sex"
   ]
  },
  {
   "cell_type": "code",
   "execution_count": 91,
   "metadata": {},
   "outputs": [
    {
     "data": {
      "text/html": [
       "<div>\n",
       "<style scoped>\n",
       "    .dataframe tbody tr th:only-of-type {\n",
       "        vertical-align: middle;\n",
       "    }\n",
       "\n",
       "    .dataframe tbody tr th {\n",
       "        vertical-align: top;\n",
       "    }\n",
       "\n",
       "    .dataframe thead th {\n",
       "        text-align: right;\n",
       "    }\n",
       "</style>\n",
       "<table border=\"1\" class=\"dataframe\">\n",
       "  <thead>\n",
       "    <tr style=\"text-align: right;\">\n",
       "      <th></th>\n",
       "      <th>Total</th>\n",
       "    </tr>\n",
       "    <tr>\n",
       "      <th>Age</th>\n",
       "      <th></th>\n",
       "    </tr>\n",
       "  </thead>\n",
       "  <tbody>\n",
       "    <tr>\n",
       "      <td>Total</td>\n",
       "      <td>25439.0</td>\n",
       "    </tr>\n",
       "    <tr>\n",
       "      <td>Under 16 years</td>\n",
       "      <td>4837.0</td>\n",
       "    </tr>\n",
       "    <tr>\n",
       "      <td>16 to 20 years</td>\n",
       "      <td>3278.0</td>\n",
       "    </tr>\n",
       "    <tr>\n",
       "      <td>21 years and over</td>\n",
       "      <td>17324.0</td>\n",
       "    </tr>\n",
       "  </tbody>\n",
       "</table>\n",
       "</div>"
      ],
      "text/plain": [
       "                     Total\n",
       "Age                       \n",
       "Total              25439.0\n",
       "Under 16 years      4837.0\n",
       "16 to 20 years      3278.0\n",
       "21 years and over  17324.0"
      ]
     },
     "execution_count": 91,
     "metadata": {},
     "output_type": "execute_result"
    }
   ],
   "source": [
    "# Split out broad age group [27:31]\n",
    "asylum_2018_broad_age = asylum_2018.iloc[22:27,0:2]\n",
    "asylum_2018_broad_age_total = asylum_2018_broad_age.drop([22])\n",
    "asylum_2018_broad_age_total.rename(columns={\n",
    "    \"Characteristic\": \"Age\"\n",
    "}, inplace=True)\n",
    "asylum_2018_broad_age_total.set_index(keys='Age', inplace=True)\n",
    "asylum_2018_broad_age_total"
   ]
  },
  {
   "cell_type": "code",
   "execution_count": 92,
   "metadata": {},
   "outputs": [],
   "source": [
    "# Split out marital status [32:38]"
   ]
  },
  {
   "cell_type": "code",
   "execution_count": 93,
   "metadata": {},
   "outputs": [
    {
     "data": {
      "text/html": [
       "<div>\n",
       "<style scoped>\n",
       "    .dataframe tbody tr th:only-of-type {\n",
       "        vertical-align: middle;\n",
       "    }\n",
       "\n",
       "    .dataframe tbody tr th {\n",
       "        vertical-align: top;\n",
       "    }\n",
       "\n",
       "    .dataframe thead th {\n",
       "        text-align: right;\n",
       "    }\n",
       "</style>\n",
       "<table border=\"1\" class=\"dataframe\">\n",
       "  <thead>\n",
       "    <tr style=\"text-align: right;\">\n",
       "      <th></th>\n",
       "      <th>Total</th>\n",
       "    </tr>\n",
       "    <tr>\n",
       "      <th>Marital Status</th>\n",
       "      <th></th>\n",
       "    </tr>\n",
       "  </thead>\n",
       "  <tbody>\n",
       "    <tr>\n",
       "      <td>Total</td>\n",
       "      <td>25439.0</td>\n",
       "    </tr>\n",
       "    <tr>\n",
       "      <td>Married</td>\n",
       "      <td>10142.0</td>\n",
       "    </tr>\n",
       "    <tr>\n",
       "      <td>Single</td>\n",
       "      <td>14154.0</td>\n",
       "    </tr>\n",
       "    <tr>\n",
       "      <td>Widowed</td>\n",
       "      <td>232.0</td>\n",
       "    </tr>\n",
       "    <tr>\n",
       "      <td>Divorced/separated</td>\n",
       "      <td>896.0</td>\n",
       "    </tr>\n",
       "    <tr>\n",
       "      <td>Unknown</td>\n",
       "      <td>15.0</td>\n",
       "    </tr>\n",
       "  </tbody>\n",
       "</table>\n",
       "</div>"
      ],
      "text/plain": [
       "                      Total\n",
       "Marital Status             \n",
       "Total               25439.0\n",
       "Married             10142.0\n",
       "Single              14154.0\n",
       "Widowed               232.0\n",
       "Divorced/separated    896.0\n",
       "Unknown                15.0"
      ]
     },
     "execution_count": 93,
     "metadata": {},
     "output_type": "execute_result"
    }
   ],
   "source": [
    "asylum_2018_marital = asylum_2018.iloc[28:34,0:2]\n",
    "asylum_2018_marital.rename(columns={\n",
    "    \"Characteristic\": \"Marital Status\"\n",
    "}, inplace=True)\n",
    "asylum_2018_marital.set_index(keys='Marital Status', inplace=True)\n",
    "asylum_2018_marital"
   ]
  },
  {
   "cell_type": "code",
   "execution_count": null,
   "metadata": {},
   "outputs": [],
   "source": []
  },
  {
   "cell_type": "code",
   "execution_count": null,
   "metadata": {},
   "outputs": [],
   "source": []
  },
  {
   "cell_type": "code",
   "execution_count": null,
   "metadata": {},
   "outputs": [],
   "source": []
  },
  {
   "cell_type": "code",
   "execution_count": null,
   "metadata": {},
   "outputs": [],
   "source": []
  },
  {
   "cell_type": "code",
   "execution_count": null,
   "metadata": {},
   "outputs": [],
   "source": []
  },
  {
   "cell_type": "code",
   "execution_count": null,
   "metadata": {},
   "outputs": [],
   "source": []
  },
  {
   "cell_type": "code",
   "execution_count": null,
   "metadata": {},
   "outputs": [],
   "source": []
  },
  {
   "cell_type": "code",
   "execution_count": null,
   "metadata": {},
   "outputs": [],
   "source": []
  },
  {
   "cell_type": "code",
   "execution_count": null,
   "metadata": {},
   "outputs": [],
   "source": [
    "# Stacy's code ends here"
   ]
  },
  {
   "cell_type": "code",
   "execution_count": null,
   "metadata": {},
   "outputs": [],
   "source": [
    "# Kana's code starts here"
   ]
  },
  {
   "cell_type": "code",
   "execution_count": null,
   "metadata": {},
   "outputs": [],
   "source": [
    "# Kana's code ends here"
   ]
  },
  {
   "cell_type": "code",
   "execution_count": null,
   "metadata": {},
   "outputs": [],
   "source": [
    "# Satish's code starts here"
   ]
  },
  {
   "cell_type": "code",
   "execution_count": null,
   "metadata": {},
   "outputs": [],
   "source": [
    "# Satish's code ends here"
   ]
  },
  {
   "cell_type": "code",
   "execution_count": null,
   "metadata": {},
   "outputs": [],
   "source": [
    "# Umar's code starts here"
   ]
  },
  {
   "cell_type": "code",
   "execution_count": null,
   "metadata": {},
   "outputs": [],
   "source": [
    "# Umar's code ends here"
   ]
  }
 ],
 "metadata": {
  "kernelspec": {
   "display_name": "Python 3",
   "language": "python",
   "name": "python3"
  },
  "language_info": {
   "codemirror_mode": {
    "name": "ipython",
    "version": 3
   },
   "file_extension": ".py",
   "mimetype": "text/x-python",
   "name": "python",
   "nbconvert_exporter": "python",
   "pygments_lexer": "ipython3",
   "version": "3.7.4"
  }
 },
 "nbformat": 4,
 "nbformat_minor": 4
}
