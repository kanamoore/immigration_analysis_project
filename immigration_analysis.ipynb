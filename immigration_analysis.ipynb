{
 "cells": [
  {
   "cell_type": "code",
   "execution_count": null,
   "metadata": {},
   "outputs": [],
   "source": [
    "import pandas as pd\n",
    "import matplotlib.pyplot as plt\n",
    "import numpy as np\n",
    "import folium\n",
    "import os"
   ]
  },
  {
   "cell_type": "code",
   "execution_count": null,
   "metadata": {},
   "outputs": [],
   "source": [
    "# Stacy's code starts here"
   ]
  },
  {
   "cell_type": "code",
   "execution_count": null,
   "metadata": {},
   "outputs": [],
   "source": [
    "# Stacy's code ends here"
   ]
  },
  {
   "cell_type": "code",
   "execution_count": null,
   "metadata": {},
   "outputs": [],
   "source": [
    "# Kana's code starts here\n",
    "# Read bystate csv data\n",
    "bystate = pd.read_csv(\"Resources/By state data.csv\")\n",
    "\n",
    "# Dropna\n",
    "bystate = bystate.dropna()\n",
    "\n",
    "# Drop others\n",
    "bystate.drop(bystate.tail(1).index,inplace=True)\n",
    "\n",
    "# Change data to integer\n",
    "bystate.iloc[:,1:20].astype(int)\n",
    "\n",
    "# Show the dataframe\n",
    "bystate.head()"
   ]
  },
  {
   "cell_type": "code",
   "execution_count": null,
   "metadata": {},
   "outputs": [],
   "source": [
    "# List of US state abbreviation\n",
    "us_state_abbrev = {\n",
    "    'Alabama': 'AL',\n",
    "    'Alaska': 'AK',\n",
    "    'Arizona': 'AZ',\n",
    "    'Arkansas': 'AR',\n",
    "    'California': 'CA',\n",
    "    'Colorado': 'CO',\n",
    "    'Connecticut': 'CT',\n",
    "    'Delaware': 'DE',\n",
    "    'District of Columbia': 'DC',\n",
    "    'Florida': 'FL',\n",
    "    'Georgia': 'GA',\n",
    "    'Hawaii': 'HI',\n",
    "    'Idaho': 'ID',\n",
    "    'Illinois': 'IL',\n",
    "    'Indiana': 'IN',\n",
    "    'Iowa': 'IA',\n",
    "    'Kansas': 'KS',\n",
    "    'Kentucky': 'KY',\n",
    "    'Louisiana': 'LA',\n",
    "    'Maine': 'ME',\n",
    "    'Maryland': 'MD',\n",
    "    'Massachusetts': 'MA',\n",
    "    'Michigan': 'MI',\n",
    "    'Minnesota': 'MN',\n",
    "    'Mississippi': 'MS',\n",
    "    'Missouri': 'MO',\n",
    "    'Montana': 'MT',\n",
    "    'Nebraska': 'NE',\n",
    "    'Nevada': 'NV',\n",
    "    'New Hampshire': 'NH',\n",
    "    'New Jersey': 'NJ',\n",
    "    'New Mexico': 'NM',\n",
    "    'New York': 'NY',\n",
    "    'North Carolina': 'NC',\n",
    "    'North Dakota': 'ND',\n",
    "    'Northern Mariana Islands':'MP',\n",
    "    'Ohio': 'OH',\n",
    "    'Oklahoma': 'OK',\n",
    "    'Oregon': 'OR',\n",
    "    'Palau': 'PW',\n",
    "    'Pennsylvania': 'PA',\n",
    "    'Puerto Rico': 'PR',\n",
    "    'Rhode Island': 'RI',\n",
    "    'South Carolina': 'SC',\n",
    "    'South Dakota': 'SD',\n",
    "    'Tennessee': 'TN',\n",
    "    'Texas': 'TX',\n",
    "    'Utah': 'UT',\n",
    "    'Vermont': 'VT',\n",
    "    'Virgin Islands': 'VI',\n",
    "    'Virginia': 'VA',\n",
    "    'Washington': 'WA',\n",
    "    'West Virginia': 'WV',\n",
    "    'Wisconsin': 'WI',\n",
    "    'Wyoming': 'WY',\n",
    "}\n",
    "\n",
    "# Reverse key and value\n",
    "abbrev_us_state = dict(map(reversed, us_state_abbrev.items()))"
   ]
  },
  {
   "cell_type": "code",
   "execution_count": null,
   "metadata": {},
   "outputs": [],
   "source": [
    "# Create an empty dictionary list\n",
    "dict_list=[]\n",
    "\n",
    "# For each key and value in dictionary, combine them and add them to a list\n",
    "for key,value in abbrev_us_state.items():\n",
    "    dict_list.append((key,value))\n",
    "    \n",
    "# Print the list\n",
    "#print (dict_list)"
   ]
  },
  {
   "cell_type": "code",
   "execution_count": null,
   "metadata": {},
   "outputs": [],
   "source": [
    "# Create a dataframe using dictionary list\n",
    "state_abbrev = pd.DataFrame(dict_list)\n",
    "state_abbrev.columns = [\"Abbrev\",\"State\"]\n",
    "\n",
    "# Show the dataframe\n",
    "state_abbrev.head()"
   ]
  },
  {
   "cell_type": "code",
   "execution_count": null,
   "metadata": {},
   "outputs": [],
   "source": [
    "# Merge bystate data and state abbreveation dataframe\n",
    "complete_state_df = pd.merge(bystate, state_abbrev, on = \"State\")\n",
    "\n",
    "# Rename columns\n",
    "complete_state_df = complete_state_df.rename(columns = {\"State\" : \"State Name\",\n",
    "                                                        \"Abbrev\" : \"State\"})\n",
    "\n",
    "# Show the dataframe\n",
    "complete_state_df"
   ]
  },
  {
   "cell_type": "code",
   "execution_count": null,
   "metadata": {},
   "outputs": [],
   "source": [
    "# Get 2000 immigration data\n",
    "bystate_2000 = complete_state_df.loc[:,[\"State\",\"2000\"]]\n",
    "\n",
    "# Change data type\n",
    "convert_dict = {'State': str, \n",
    "                '2000': int} \n",
    "\n",
    "# \n",
    "bystate_2000 = bystate_2000.astype(convert_dict) \n",
    "bystate_2000.head()"
   ]
  },
  {
   "cell_type": "code",
   "execution_count": null,
   "metadata": {},
   "outputs": [],
   "source": [
    "# Get 2018 immigration data\n",
    "bystate_2018 = complete_state_df.loc[:,[\"State\",\"2018\"]]\n",
    "convert_dict = {'State': str, \n",
    "                '2018': int} \n",
    "\n",
    "# Change data type\n",
    "bystate_2018 = bystate_2018.astype(convert_dict) \n",
    "\n",
    "# Show the \n",
    "bystate_2018.head()"
   ]
  },
  {
   "cell_type": "code",
   "execution_count": null,
   "metadata": {
    "scrolled": true
   },
   "outputs": [],
   "source": [
    "# Initialize the map:\n",
    "map_2000 = folium.Map(location=[37, -102], zoom_start=4)\n",
    "state_geo = os.path.join('us-states.json')\n",
    "\n",
    "# Add the color for the chloropleth:\n",
    "map_2000.choropleth(geo_data=state_geo,\n",
    "                    name='choropleth',\n",
    "                    data=bystate_2000,\n",
    "                    columns=['State', '2000'],\n",
    "                    key_on='feature.id',\n",
    "                    fill_color='YlGn',\n",
    "                    fill_opacity=0.7,\n",
    "                    line_opacity=0.2,\n",
    "                    legend_name='Number of Immigrants in 2000')\n",
    "\n",
    "folium.LayerControl().add_to(map_2000)\n",
    "\n",
    "# Show the map\n",
    "map_2000"
   ]
  },
  {
   "cell_type": "code",
   "execution_count": null,
   "metadata": {
    "scrolled": true
   },
   "outputs": [],
   "source": [
    "# Initialize the map\n",
    "state_geo = os.path.join('us-states.json')\n",
    "map_2018 = folium.Map(location=[37, -102], zoom_start=4)\n",
    " \n",
    "# Add the color for the chloropleth:\n",
    "map_2018.choropleth(geo_data=state_geo,\n",
    "                    name='choropleth',\n",
    "                    data=bystate_2018,\n",
    "                    columns=['State', '2018'],\n",
    "                    key_on='feature.id',\n",
    "                    fill_color='YlGn',\n",
    "                    fill_opacity=0.7,\n",
    "                    line_opacity=0.2,\n",
    "                    legend_name='Number of Immigrants in 2018')\n",
    "folium.LayerControl().add_to(map_2018)\n",
    "\n",
    "# Show the map\n",
    "map_2018"
   ]
  },
  {
   "cell_type": "code",
   "execution_count": null,
   "metadata": {},
   "outputs": [],
   "source": []
  },
  {
   "cell_type": "code",
   "execution_count": null,
   "metadata": {},
   "outputs": [],
   "source": [
    "# Kana's code ends here"
   ]
  },
  {
   "cell_type": "code",
   "execution_count": null,
   "metadata": {},
   "outputs": [],
   "source": []
  },
  {
   "cell_type": "code",
   "execution_count": null,
   "metadata": {},
   "outputs": [],
   "source": [
    "# Satish's code starts here"
   ]
  },
  {
   "cell_type": "code",
   "execution_count": null,
   "metadata": {},
   "outputs": [],
   "source": [
    "# Satish's code ends here"
   ]
  },
  {
   "cell_type": "code",
   "execution_count": null,
   "metadata": {},
   "outputs": [],
   "source": [
    "# Umar's code starts here"
   ]
  },
  {
   "cell_type": "code",
   "execution_count": null,
   "metadata": {},
   "outputs": [],
   "source": [
    "# Umar's code ends here"
   ]
  }
 ],
 "metadata": {
  "kernelspec": {
   "display_name": "Python 3",
   "language": "python",
   "name": "python3"
  },
  "language_info": {
   "codemirror_mode": {
    "name": "ipython",
    "version": 3
   },
   "file_extension": ".py",
   "mimetype": "text/x-python",
   "name": "python",
   "nbconvert_exporter": "python",
   "pygments_lexer": "ipython3",
   "version": "3.6.9"
  }
 },
 "nbformat": 4,
 "nbformat_minor": 2
}
