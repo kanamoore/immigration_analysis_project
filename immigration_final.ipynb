{
 "cells": [
  {
   "cell_type": "code",
   "execution_count": 1,
   "metadata": {},
   "outputs": [
    {
     "ename": "ModuleNotFoundError",
     "evalue": "No module named 'config'",
     "output_type": "error",
     "traceback": [
      "\u001b[1;31m---------------------------------------------------------------------------\u001b[0m",
      "\u001b[1;31mModuleNotFoundError\u001b[0m                       Traceback (most recent call last)",
      "\u001b[1;32m<ipython-input-1-ea531af0b19f>\u001b[0m in \u001b[0;36m<module>\u001b[1;34m\u001b[0m\n\u001b[0;32m      9\u001b[0m \u001b[1;32mfrom\u001b[0m \u001b[0mexpected\u001b[0m \u001b[1;32mimport\u001b[0m \u001b[0mexpected\u001b[0m\u001b[1;33m\u001b[0m\u001b[1;33m\u001b[0m\u001b[0m\n\u001b[0;32m     10\u001b[0m \u001b[1;32mfrom\u001b[0m \u001b[0mcountryinfo\u001b[0m \u001b[1;32mimport\u001b[0m \u001b[0mCountryInfo\u001b[0m\u001b[1;33m\u001b[0m\u001b[1;33m\u001b[0m\u001b[0m\n\u001b[1;32m---> 11\u001b[1;33m \u001b[1;32mfrom\u001b[0m \u001b[0mconfig\u001b[0m \u001b[1;32mimport\u001b[0m \u001b[0mgkey\u001b[0m\u001b[1;33m\u001b[0m\u001b[1;33m\u001b[0m\u001b[0m\n\u001b[0m",
      "\u001b[1;31mModuleNotFoundError\u001b[0m: No module named 'config'"
     ]
    }
   ],
   "source": [
    "# Import dependencies\n",
    "import matplotlib.pyplot as plt\n",
    "import pandas as pd\n",
    "import numpy as np\n",
    "import requests\n",
    "import folium\n",
    "import gmaps\n",
    "import os\n",
    "from expected import expected\n",
    "from countryinfo import CountryInfo\n",
    "from config import gkey"
   ]
  },
  {
   "cell_type": "code",
   "execution_count": null,
   "metadata": {},
   "outputs": [],
   "source": [
    "# Stacy start"
   ]
  },
  {
   "cell_type": "code",
   "execution_count": null,
   "metadata": {},
   "outputs": [],
   "source": [
    "# Import naturalization data\n",
    "filename = 'naturalization_filed_denied.csv'\n",
    "path = os.path.join('.', 'Output_files', filename)\n",
    "nat_df = pd.read_csv(path)\n",
    "\n",
    "nat_df.set_index(keys='Year', inplace=True)"
   ]
  },
  {
   "cell_type": "markdown",
   "metadata": {},
   "source": [
    "## Overall US naturalization trends"
   ]
  },
  {
   "cell_type": "code",
   "execution_count": null,
   "metadata": {},
   "outputs": [],
   "source": [
    "# Descriptive statistics\n",
    "\n",
    "# What is the minimum number of petitions filed, denied, and citizens naturalized, and what year did they occur?\n",
    "filed_min = nat_df['Petitions filed'].min()\n",
    "denied_min = nat_df['Petitions denied'].min()\n",
    "naturalized_min = nat_df['Naturalized, total'].min()\n",
    "\n",
    "print(f\"MINIMUMS: Petitions filed: {filed_min} | Petitions denied: {denied_min} | Naturalized: {naturalized_min}\")\n",
    "\n",
    "# denied_min = nat_df['Petitions denied'].min()\n",
    "print(f\"YEARS: {nat_df[['Petitions filed', 'Petitions denied', 'Naturalized, total']].idxmin().values}\")\n",
    "\n",
    "# What is the maximum number of petitions filed, denied, and citizens naturalized, and what year did they occur?\n",
    "filed_max = nat_df['Petitions filed'].max()\n",
    "denied_max = nat_df['Petitions denied'].max()\n",
    "naturalized_max = nat_df['Naturalized, total'].max()\n",
    "\n",
    "print(f\"MAXIMUMS: Petitions filed: {filed_max} | Petitions denied: {denied_max} | Naturalized: {naturalized_max}\")\n",
    "\n",
    "# denied_min = nat_df['Petitions denied'].min()\n",
    "print(f\"YEARS: {nat_df[['Petitions filed', 'Petitions denied', 'Naturalized, total']].idxmax().values}\")\n",
    "\n",
    "# What is the average number of petitions filed, denied, and citizens naturalized?\n",
    "filed_mean = nat_df['Petitions filed'].mean()\n",
    "denied_mean = nat_df['Petitions denied'].mean()\n",
    "naturalized_mean = nat_df['Naturalized, total'].mean()\n",
    "\n",
    "print(f\"AVERAGE PER YEAR (MEAN): Petitions filed: {round(filed_mean,2)} | Petitions denied: {round(denied_mean,2)} | Naturalized: {round(naturalized_mean,2)}\")"
   ]
  },
  {
   "cell_type": "markdown",
   "metadata": {},
   "source": [
    "### Takeaways\n",
    "* **1907 saw the lowest number of petitions filed and denied and naturalizations.** There were very restrictive immigration policies in place prior to 1907, particularly related to specific nationalities. The Immigration Act of 1907 paved the way for increases in overall immigration numbers over time.\n",
    "* **The late 1990's and early 2000's saw the greatest number of petitions filed and denied and naturalizations.** The peak in petitions denied is worth exploring.\n",
    "* **There was roughly a 10:1 ratio between the average number of petitions filed and denied each year.**\n",
    "* **On average, the US naturalized around 270,000 immigrants per year.**"
   ]
  },
  {
   "cell_type": "code",
   "execution_count": null,
   "metadata": {},
   "outputs": [],
   "source": [
    "# Plot the naturalization data - overall\n",
    "\n",
    "plt.figure(figsize=(10,6))\n",
    "plt.plot(nat_df.index, nat_df[['Petitions filed', 'Petitions denied', 'Naturalized, total']])\n",
    "plt.legend(loc='best', labels=['Petitions filed', 'Petitions denied', 'Naturalized, total'])\n",
    "plt.xlim(1907, 2020)\n",
    "plt.ylim(-1,1450000)\n",
    "plt.xticks(np.arange(1910, 2021, step=10))\n",
    "plt.grid(b=True, axis='y', color='#cccccc')\n",
    "\n",
    "# Add points of interest to grid\n",
    "plt.annotate(xy=(1915,300000), s='World War I begins')\n",
    "plt.vlines(x=1914.8, ymin = 0, ymax = 1450000, linestyle='dashed', alpha=0.2)\n",
    "plt.annotate(xy=(1940,460000), s='World War II begins')\n",
    "plt.vlines(x=1939.75, ymin = 0, ymax = 1450000, linestyle='dashed', alpha=0.2)\n",
    "plt.annotate(xy=(1997,250000), s='IIRIRA')\n",
    "plt.vlines(x=1996.75, ymin = 0, ymax = 1450000, linestyle='dashed', alpha=0.2)\n",
    "plt.annotate(xy=(2002,400000), s='9/11')\n",
    "plt.vlines(x=2001.75, ymin = 0, ymax = 1450000, linestyle='dashed', alpha=0.2)\n",
    "plt.annotate(xy=(2003,325000), s='Border wall EO')\n",
    "plt.vlines(x=2017, ymin = 0, ymax = 1450000, linestyle='dashed', alpha=0.2)\n",
    "plt.xlabel(\"Year\")\n",
    "plt.ylabel(\"Naturalizations\")\n",
    "plt.title(\"Trends in US naturalizations, 1907-2018\")\n",
    "plt.tight_layout()\n",
    "\n",
    "# Spike in 1996 - and general increase - can be explained by this bill: https://www.vox.com/2016/4/28/11515132/iirira-clinton-immigration"
   ]
  },
  {
   "cell_type": "markdown",
   "metadata": {},
   "source": [
    "### Takeaways\n",
    "We observed large spikes in petitions filed and naturalizations following globally disruptive events in the early 20th century (the World Wars). Towards the start of the 21st century, we see a spike in the number of petitions denied, likely due to the introduction of a restrictive law called [IIRIA](https://www.law.cornell.edu/wex/illegal_immigration_reform_and_immigration_responsibility_act) during the Clinton years."
   ]
  },
  {
   "cell_type": "markdown",
   "metadata": {},
   "source": [
    "## Major events and overall immigration rates in detail\n",
    "\n",
    "### 9/11 (September 2001)"
   ]
  },
  {
   "cell_type": "code",
   "execution_count": null,
   "metadata": {},
   "outputs": [],
   "source": [
    "# Pre and post 9/11\n",
    "# create df\n",
    "nat_911 = nat_df.loc[1999:2004,:]\n",
    "\n",
    "# plot data\n",
    "plt.figure(figsize=(4,4))\n",
    "plt.plot(nat_911.index, nat_911[['Petitions filed', 'Petitions denied', 'Naturalized, total']])\n",
    "plt.legend(loc='best', labels=['Filed', 'Denied', 'Naturalized'])\n",
    "plt.xlim(1999,2003)\n",
    "plt.ylim(0,950000)\n",
    "plt.xticks(np.arange(1999,2005))\n",
    "plt.yticks(np.arange(0,1000000, step=100000))\n",
    "plt.annotate(xy=(2001.9,400000), s='9/11')\n",
    "plt.vlines(x=2001.75, ymin = 0, ymax = 1450000, linestyle='dashed', alpha=0.2)\n",
    "plt.xlabel(\"Year\")\n",
    "plt.ylabel(\"Naturalizations\")\n",
    "plt.title(\"Trends in US naturalizations, before and after 9/11\")"
   ]
  },
  {
   "cell_type": "markdown",
   "metadata": {},
   "source": [
    "### Trump's \"border wall\" executive order (January 2017)"
   ]
  },
  {
   "cell_type": "code",
   "execution_count": null,
   "metadata": {},
   "outputs": [],
   "source": [
    "# Pre and post Trump\n",
    "# create df\n",
    "nat_trump = nat_df.loc[2015:2018,:]\n",
    "\n",
    "# plot data\n",
    "plt.figure(figsize=(5.75,4))\n",
    "plt.plot(nat_trump.index, nat_trump[['Petitions filed', 'Petitions denied', 'Naturalized, total']])\n",
    "plt.legend(loc='lower left', labels=['Filed', 'Denied', 'Naturalized'], bbox_to_anchor=(1, 0.7))\n",
    "plt.annotate(xy=(2016,400000), s='Border wall EO')\n",
    "plt.vlines(x=2017.1, ymin = 0, ymax = 1450000, linestyle='dashed', alpha=0.2)\n",
    "plt.xlabel(\"Year\")\n",
    "plt.ylabel(\"Naturalizations\")\n",
    "plt.title(\"Trends in US naturalizations, before and after border wall EO\")\n",
    "plt.xlim(2015,2018)\n",
    "plt.ylim(0,1100000)\n",
    "plt.xticks(np.arange(2015,2019))\n",
    "plt.yticks(np.arange(0,1100000, step=200000))\n",
    "plt.tight_layout()"
   ]
  },
  {
   "cell_type": "markdown",
   "metadata": {},
   "source": [
    "### Illegal Immigration Reform and Immigration Responsibility Act (IIRIA) (1996)"
   ]
  },
  {
   "cell_type": "code",
   "execution_count": null,
   "metadata": {},
   "outputs": [],
   "source": [
    "# Pre and post IIRIRA\n",
    "# create df\n",
    "nat_iiria = nat_df.loc[1995:1999,:]\n",
    "\n",
    "# plot data\n",
    "plt.figure(figsize=(5.75,4))\n",
    "plt.plot(nat_iiria.index, nat_iiria[['Petitions filed', 'Petitions denied', 'Naturalized, total']])\n",
    "plt.legend(loc='lower left', labels=['Filed', 'Denied', 'Naturalized'], bbox_to_anchor=(1, 0.7))\n",
    "plt.xlabel(\"Year\")\n",
    "plt.ylabel(\"Naturalizations\")\n",
    "plt.title(\"Trends in US naturalizations, before and after IIRIRA\")\n",
    "plt.annotate(xy=(1996.9,250000), s='IIRIRA')\n",
    "plt.vlines(x=1996.75, ymin = 0, ymax = 1500000, linestyle='dashed', alpha=0.2)\n",
    "plt.xlim(1995,1999)\n",
    "plt.ylim(0,1500000)\n",
    "plt.xticks(np.arange(1995,2000))\n",
    "plt.yticks(np.arange(0,1500000, step=200000))\n",
    "plt.tight_layout()"
   ]
  },
  {
   "cell_type": "markdown",
   "metadata": {},
   "source": [
    "### Takeaways\n",
    "* Post 9/11, we saw a downward trend in overall number of petitions filed and denied and naturalizations. \n",
    "* Post Trump border wall EO, we saw a downward trend in the overall number of petitions filed, but no major rise in the number of petitions denied. Interestingly, the number of naturalizations actually increased post-Order.\n",
    "* IIRIA appears to have had the biggest effect upon the number of petitions filed, which dramatically decreased, and a major increase in number of petitions denied."
   ]
  },
  {
   "cell_type": "markdown",
   "metadata": {},
   "source": [
    "## Are these changes statistically significant?\n",
    "### IIRIA"
   ]
  },
  {
   "cell_type": "code",
   "execution_count": null,
   "metadata": {},
   "outputs": [],
   "source": [
    "### IIRIA DATA\n",
    "# Are these trends statistically significant? Apply chi-squared test.\n",
    "\n",
    "# Get the sample size for petitions filed, denied\n",
    "# Drop naturalization data (due to lag in how quickly policy changes might affect nat numbers)\n",
    "nat_iiria_df = nat_iiria.drop(columns=['Naturalized, total'])\n",
    "# # Create new column to show petitions in pipeline (return to this if needed)\n",
    "# nat_iiria_df['Petitions in pipeline'] = nat_iiria_df['Petitions filed'] - nat_iiria_df['Petitions denied']\n",
    "nat_total_pet_filed = nat_iiria_df.loc[:,'Petitions filed'].sum()\n",
    "nat_total_pet_denied = nat_iiria_df.loc[:,'Petitions denied'].sum()\n",
    "\n",
    "# Get the sample size for the years\n",
    "nat_95 = nat_iiria_df.loc[1995,:].sum()\n",
    "nat_96 = nat_iiria_df.loc[1996,:].sum()\n",
    "nat_97 = nat_iiria_df.loc[1997,:].sum()\n",
    "nat_98 = nat_iiria_df.loc[1998,:].sum()\n",
    "nat_99 = nat_iiria_df.loc[1999,:].sum()"
   ]
  },
  {
   "cell_type": "code",
   "execution_count": null,
   "metadata": {},
   "outputs": [],
   "source": [
    "# Get population size\n",
    "nat_totals = nat_total_pet_filed + nat_total_pet_denied"
   ]
  },
  {
   "cell_type": "code",
   "execution_count": null,
   "metadata": {},
   "outputs": [],
   "source": [
    "# Get expected values using 'expected' function we imported\n",
    "\n",
    "# Calculate expected value for petitions filed in 95-97 (pre-IIRIA)\n",
    "expected_filed_95 = expected(nat_95, nat_total_pet_filed, nat_totals)\n",
    "expected_filed_96 = expected(nat_96, nat_total_pet_filed, nat_totals)\n",
    "expected_filed_97 = expected(nat_97, nat_total_pet_filed, nat_totals)\n",
    "\n",
    "# Calculate expected value for petitions filed in 98-99 (post-IIRIA)\n",
    "expected_filed_98 = expected(nat_98, nat_total_pet_filed, nat_totals)\n",
    "expected_filed_99 = expected(nat_99, nat_total_pet_filed, nat_totals)\n",
    "\n",
    "# Calculate expected value for petitions denied 95-97\n",
    "expected_denied_95 = expected(nat_95, nat_total_pet_denied, nat_totals)\n",
    "expected_denied_96 = expected(nat_96, nat_total_pet_denied, nat_totals)\n",
    "expected_denied_97 = expected(nat_97, nat_total_pet_denied, nat_totals)\n",
    "\n",
    "# Calculate expected value for petitions denied 98-99\n",
    "expected_denied_98 = expected(nat_98, nat_total_pet_denied, nat_totals)\n",
    "expected_denied_99 = expected(nat_99, nat_total_pet_denied, nat_totals)\n",
    "\n",
    "# Create list so we can loop through these in a moment\n",
    "expected_filed = [expected_filed_95, expected_filed_96, expected_filed_97, expected_filed_98, expected_filed_99]\n",
    "denied = [expected_denied_95, expected_denied_96, expected_denied_97, expected_denied_98, expected_denied_99]"
   ]
  },
  {
   "cell_type": "code",
   "execution_count": null,
   "metadata": {},
   "outputs": [],
   "source": [
    "degrees_freedom = 4\n",
    "crit_value = 9.49"
   ]
  },
  {
   "cell_type": "code",
   "execution_count": null,
   "metadata": {},
   "outputs": [],
   "source": [
    "# Apply chi-squared test for petitions filed and changes over time\n",
    "from scipy.stats import chisquare"
   ]
  },
  {
   "cell_type": "code",
   "execution_count": null,
   "metadata": {},
   "outputs": [],
   "source": [
    "# bracketed values are same as nat_iiria_df['Petitions filed'].values\n",
    "chisquare([959963, 1277403, 1412712,  932957,  765346], f_exp=expected_filed, ddof=degrees_freedom)"
   ]
  },
  {
   "cell_type": "markdown",
   "metadata": {},
   "source": [
    "### Takeaway\n",
    "The difference in the overall number of petitions filed through the years directly preceding and following the implementation of IIRIA is statistically significant. This fact, interpreted alongside the above graphs, suggests that IIRIA directly affected the number of petitions filed in the years following the passing of the Act.\n",
    "\n",
    "### Trump \"border wall\" executive order"
   ]
  },
  {
   "cell_type": "code",
   "execution_count": null,
   "metadata": {},
   "outputs": [],
   "source": [
    "### NATURALIZATION TRENDS FOR PRE AND POST TRUMP POLICY AMONG LATINX IMMIGRANTS\n",
    "\n",
    "# Load in by-country naturalization data\n",
    "filename = 'naturalization_by_country_merged_1990-2018.csv'\n",
    "path = os.path.join('.', 'Output_files', filename)\n",
    "nat_country_df = pd.read_csv(path)\n",
    "\n",
    "nat_country_df.set_index('Unnamed: 0', inplace=True)"
   ]
  },
  {
   "cell_type": "code",
   "execution_count": null,
   "metadata": {},
   "outputs": [],
   "source": [
    "# Calculate expected values\n",
    "latin_countries = ['Mexico', 'Guatemala', 'Honduras', 'Nicaragua', 'El Salvador', 'Costa Rica', 'Panama', 'Belize']\n",
    "latin_df = nat_country_df.loc[latin_countries, :].T\n",
    "latin_df = latin_df.loc[['2014', '2015', '2016', '2017', '2018'],:]\n",
    "pop = latin_df.Mexico + latin_df.Guatemala + latin_df.Honduras + latin_df.Nicaragua + \\\n",
    "                    latin_df['El Salvador'] + latin_df['Costa Rica'] + latin_df['Belize']\n",
    "lat_nat_pop = pop.sum() # Get population size for LatAm naturalized immigrants\n",
    "\n",
    "# Get yearly sample sizes\n",
    "latin_nat_14 = latin_df.loc['2014'].sum()\n",
    "latin_nat_15 = latin_df.loc['2015'].sum()\n",
    "latin_nat_16 = latin_df.loc['2016'].sum()\n",
    "latin_nat_17 = latin_df.loc['2017'].sum()\n",
    "latin_nat_18 = latin_df.loc['2018'].sum()\n",
    "\n",
    "# Get by-country sample sizes\n",
    "mex_nat = latin_df.Mexico.sum()\n",
    "guat_nat = latin_df.Guatemala.sum()\n",
    "hond_nat = latin_df.Honduras.sum()\n",
    "nic_nat = latin_df.Nicaragua.sum()\n",
    "elsal_nat = latin_df['El Salvador'].sum()\n",
    "costa_nat = latin_df['Costa Rica'].sum()\n",
    "bel_nat = latin_df['Belize'].sum()\n",
    "\n",
    "degrees_freedom_lat = 24\n",
    "\n",
    "# Expected values for Mexico\n",
    "expected_mex_nat_14 = expected(latin_nat_14, mex_nat, lat_nat_pop)\n",
    "expected_mex_nat_15 = expected(latin_nat_15, mex_nat, lat_nat_pop)\n",
    "expected_mex_nat_16 = expected(latin_nat_16, mex_nat, lat_nat_pop)\n",
    "expected_mex_nat_17 = expected(latin_nat_17, mex_nat, lat_nat_pop)\n",
    "expected_mex_nat_18 = expected(latin_nat_18, mex_nat, lat_nat_pop)\n",
    "\n",
    "# Expected values for Guatemala\n",
    "expected_guat_nat_14 = expected(latin_nat_14, guat_nat, lat_nat_pop)\n",
    "expected_guat_nat_15 = expected(latin_nat_15, guat_nat, lat_nat_pop)\n",
    "expected_guat_nat_16 = expected(latin_nat_16, guat_nat, lat_nat_pop)\n",
    "expected_guat_nat_17 = expected(latin_nat_17, guat_nat, lat_nat_pop)\n",
    "expected_guat_nat_18 = expected(latin_nat_18, guat_nat, lat_nat_pop)\n",
    "\n",
    "# Expected values for Honduras\n",
    "expected_hond_nat_14 = expected(latin_nat_14, hond_nat, lat_nat_pop)\n",
    "expected_hond_nat_15 = expected(latin_nat_15, hond_nat, lat_nat_pop)\n",
    "expected_hond_nat_16 = expected(latin_nat_16, hond_nat, lat_nat_pop)\n",
    "expected_hond_nat_17 = expected(latin_nat_17, hond_nat, lat_nat_pop)\n",
    "expected_hond_nat_18 = expected(latin_nat_18, hond_nat, lat_nat_pop)\n",
    "\n",
    "mexico_expected = [expected_mex_nat_14, expected_mex_nat_15, expected_mex_nat_16, expected_mex_nat_17, expected_mex_nat_18]\n",
    "guatemala_expected = [expected_guat_nat_14, expected_guat_nat_15, expected_guat_nat_16, expected_guat_nat_17, expected_guat_nat_18]\n",
    "honduras_expected = [expected_hond_nat_14, expected_hond_nat_15, expected_hond_nat_16, expected_hond_nat_17, expected_hond_nat_18]"
   ]
  },
  {
   "cell_type": "code",
   "execution_count": null,
   "metadata": {},
   "outputs": [],
   "source": [
    "# Crit value is 36.42\n",
    "print(chisquare(latin_df.Mexico, f_exp=mexico_expected))\n",
    "print(chisquare(latin_df.Guatemala, f_exp=guatemala_expected))\n",
    "print(chisquare(latin_df.Honduras, f_exp=honduras_expected))"
   ]
  },
  {
   "cell_type": "code",
   "execution_count": null,
   "metadata": {},
   "outputs": [],
   "source": [
    "latin_df.reset_index(inplace=True) # \n",
    "latin_df.rename(columns={'index': 'Year'}, inplace=True)\n",
    "latin_df.plot(y=['Mexico', 'Guatemala', 'Honduras'], kind=\"bar\", logy=True)\n",
    "plt.xticks(np.arange(5), ('2014', '2015', '2016', '2017', '2018'), rotation=0)\n",
    "plt.title(\"Number of naturalizations, pre- and post-'border wall' EO\")\n",
    "plt.ylabel(\"Naturalizations (log)\")\n",
    "plt.xlabel(\"Year\")\n",
    "plt.legend(title=None)"
   ]
  },
  {
   "cell_type": "markdown",
   "metadata": {},
   "source": [
    "### Takeaway\n",
    "We found statistically significant differences for naturalization rates of Mexican, Guatemalan, and Honduran immigrants during the years immediately preceding and following the signing of the Trump \"border wall\" executive order. Surprisingly, these rates actually *increased*, rather than decreased, for Mexican and Honduran immigrants. Guatemalan naturalizations appear to stay roughly the same over time. However, these results should be interpreted carefully—naturalization is a process that takes time, and the individuals who were naturalized in 2017 and 2018 likely had been in the process of naturalization for months if not years before the EO was signed.\n",
    "\n",
    "### 9/11"
   ]
  },
  {
   "cell_type": "code",
   "execution_count": null,
   "metadata": {},
   "outputs": [],
   "source": [
    "# Calculate expected values\n",
    "muslim_countries =['Afghanistan','Iran','Yemen','Jordan','Saudi Arabia','Sudan','Pakistan','Syria','Oman']\n",
    "muslim_df = nat_country_df.loc[muslim_countries, :].T\n",
    "muslim_df = muslim_df.loc[['1999', '2000', '2005', '2006'],:]\n",
    "pop = muslim_df.Afghanistan + muslim_df.Iran + muslim_df.Jordan + muslim_df['Saudi Arabia'] + \\\n",
    "                    muslim_df.Sudan + muslim_df['Pakistan'] + muslim_df['Syria'] + muslim_df['Oman']\n",
    "muslim_nat_pop = pop.sum() # Get population size for Muslim naturalized immigrants\n",
    "\n",
    "# Get yearly sample sizes\n",
    "muslim_nat_99 = muslim_df.loc['1999'].sum()\n",
    "muslim_nat_00 = muslim_df.loc['2000'].sum()\n",
    "muslim_nat_05 = muslim_df.loc['2005'].sum()\n",
    "muslim_nat_06 = muslim_df.loc['2006'].sum()\n",
    "\n",
    "# Get by-country sample sizes\n",
    "afg_nat = muslim_df.Afghanistan.sum() # analyze\n",
    "iran_nat = muslim_df.Iran.sum() # analyze\n",
    "jor_nat = muslim_df.Jordan.sum()\n",
    "sud_nat = muslim_df.Sudan.sum()\n",
    "saudi_nat = muslim_df['Saudi Arabia'].sum() # analyze\n",
    "pakistan_nat = muslim_df.Pakistan.sum()\n",
    "syr_nat = muslim_df['Syria'].sum()\n",
    "oman_nat = muslim_df['Oman'].sum()\n",
    "\n",
    "degrees_freedom_muslim = 24\n",
    "\n",
    "# Expected values for Afghanistan\n",
    "expected_afg_nat_99 = expected(muslim_nat_99, afg_nat, muslim_nat_pop)\n",
    "expected_afg_nat_00 = expected(muslim_nat_00, afg_nat, muslim_nat_pop)\n",
    "expected_afg_nat_05 = expected(muslim_nat_05, afg_nat, muslim_nat_pop)\n",
    "expected_afg_nat_06 = expected(muslim_nat_06, afg_nat, muslim_nat_pop)\n",
    "\n",
    "# Expected values for Iran\n",
    "expected_iran_nat_99 = expected(muslim_nat_99, iran_nat, muslim_nat_pop)\n",
    "expected_iran_nat_00 = expected(muslim_nat_00, iran_nat, muslim_nat_pop)\n",
    "expected_iran_nat_05 = expected(muslim_nat_05, iran_nat, muslim_nat_pop)\n",
    "expected_iran_nat_06 = expected(muslim_nat_06, iran_nat, muslim_nat_pop)\n",
    "\n",
    "# Expected values for Syria\n",
    "expected_syr_nat_99 = expected(muslim_nat_99, syr_nat, muslim_nat_pop)\n",
    "expected_syr_nat_00 = expected(muslim_nat_00, syr_nat, muslim_nat_pop)\n",
    "expected_syr_nat_05 = expected(muslim_nat_05, syr_nat, muslim_nat_pop)\n",
    "expected_syr_nat_06 = expected(muslim_nat_06, syr_nat, muslim_nat_pop)\n",
    "\n",
    "# Expected values for Saudi Arabia\n",
    "expected_saudi_nat_99 = expected(muslim_nat_99, saudi_nat, muslim_nat_pop)\n",
    "expected_saudi_nat_00 = expected(muslim_nat_00, saudi_nat, muslim_nat_pop)\n",
    "expected_saudi_nat_05 = expected(muslim_nat_05, saudi_nat, muslim_nat_pop)\n",
    "expected_saudi_nat_06 = expected(muslim_nat_06, saudi_nat, muslim_nat_pop)\n",
    "\n",
    "afg_expected = [expected_afg_nat_99, expected_afg_nat_00, expected_afg_nat_05, expected_afg_nat_06]\n",
    "iran_expected = [expected_iran_nat_99, expected_iran_nat_00, expected_iran_nat_05, expected_iran_nat_06]\n",
    "syria_expected = [expected_syr_nat_99, expected_syr_nat_00, expected_syr_nat_05, expected_syr_nat_06]\n",
    "saudi_expected = [expected_saudi_nat_99, expected_saudi_nat_00, expected_saudi_nat_05, expected_saudi_nat_06]"
   ]
  },
  {
   "cell_type": "code",
   "execution_count": null,
   "metadata": {},
   "outputs": [],
   "source": [
    "# Critical value is 41.34\n",
    "\n",
    "print(chisquare(muslim_df.Afghanistan, f_exp=afg_expected))\n",
    "print(chisquare(muslim_df.Iran, f_exp=iran_expected))\n",
    "print(chisquare(muslim_df.Syria, f_exp=syria_expected))\n",
    "print(chisquare(muslim_df['Saudi Arabia'], f_exp=saudi_expected))"
   ]
  },
  {
   "cell_type": "code",
   "execution_count": null,
   "metadata": {},
   "outputs": [],
   "source": [
    "muslim_df.reset_index(inplace=True) # \n",
    "muslim_df.rename(columns={'index': 'Year'}, inplace=True)\n",
    "muslim_df.plot(y=['Afghanistan', 'Iran', 'Syria', 'Saudi Arabia'], kind=\"bar\")\n",
    "plt.xticks(np.arange(4), ('1999', '2000', '2005', '2006'), rotation=0)\n",
    "plt.title(\"Number of naturalizations, pre- and post-9/11\")\n",
    "plt.ylabel(\"Naturalizations\")\n",
    "plt.xlabel(\"Year\")\n",
    "plt.legend(title=None)"
   ]
  },
  {
   "cell_type": "markdown",
   "metadata": {},
   "source": [
    "### Takeaway\n",
    "We found statistically significant differences in the pre- and post-9/11 naturalization numbers for Afghan, Iranian, Syrian, and Saudi Arabian immigrants. We tried to account for the time-lag in immigration by sampling for 4-5 years following 9/11, rather than immediately following. Interestingly, though the number of naturalizations for Iranian immigrants dropped substantially and also noticably for Afghans, numbers for Saudi Arabians increased."
   ]
  },
  {
   "cell_type": "code",
   "execution_count": null,
   "metadata": {},
   "outputs": [],
   "source": [
    "# Stacy end"
   ]
  },
  {
   "cell_type": "code",
   "execution_count": null,
   "metadata": {},
   "outputs": [],
   "source": [
    "# Kana start"
   ]
  },
  {
   "cell_type": "markdown",
   "metadata": {},
   "source": [
    "# Persons Obtaining Legal Permanent Resident Status By State"
   ]
  },
  {
   "cell_type": "code",
   "execution_count": null,
   "metadata": {},
   "outputs": [],
   "source": [
    "# Read immigrants by state data\n",
    "complete_state_df = pd.read_csv(\"Output_files/Immigrants By State.csv\")\n",
    "complete_state_df.head()"
   ]
  },
  {
   "cell_type": "code",
   "execution_count": null,
   "metadata": {},
   "outputs": [],
   "source": [
    "# Initialize the map:\n",
    "map_2000 = folium.Map(location=[37, -102], zoom_start=4)\n",
    "state_geo = os.path.join(\"Resources/us-states.json\")\n",
    "\n",
    "# Add the color for the choloropleth:\n",
    "map_2000.choropleth(geo_data = state_geo,\n",
    "                    name = 'choropleth',\n",
    "                    data = complete_state_df,\n",
    "                    columns = ['State', '2000'],\n",
    "                    key_on = 'feature.id',\n",
    "                    fill_color = 'OrRd',\n",
    "                    fill_opacity = 0.7,\n",
    "                    line_opacity = 0.2,\n",
    "                    threshold_scale=[0,500 ,50000, 100000, 200000, 250000],\n",
    "                    legend_name='Number of Immigrants in 2000')\n",
    "\n",
    "# Add the data layer to map\n",
    "folium.LayerControl().add_to(map_2000)\n",
    "\n",
    "# Show the map\n",
    "map_2000"
   ]
  },
  {
   "cell_type": "code",
   "execution_count": null,
   "metadata": {},
   "outputs": [],
   "source": [
    "# Retrive states information that has max and min number of immigrants for 2000\n",
    "max_2000  = complete_state_df.sort_values(\"2000\").tail(1)\n",
    "min_2000  = complete_state_df.sort_values(\"2000\", ascending=False).tail(1)\n",
    "\n",
    "# print(f\"Biggest: {max_2000[\"2000\"]} people immigrated to {max_2000[\"State\"]} in 2000.\")\n",
    "# print(f\"Smallest: {max_2000[\"2000\"]} people immigrated to {max_2000[\"State\"]} in 2000.\")"
   ]
  },
  {
   "cell_type": "code",
   "execution_count": null,
   "metadata": {},
   "outputs": [],
   "source": [
    "# Initialize the map\n",
    "state_geo = os.path.join(\"Resources/us-states.json\")\n",
    "map_2018 = folium.Map(location=[37, -102], zoom_start=4)\n",
    " \n",
    "# Add the color for the choloropleth:\n",
    "map_2018.choropleth(geo_data = state_geo,\n",
    "                    name = 'choropleth',\n",
    "                    data = complete_state_df,\n",
    "                    columns = ['State', '2018'],\n",
    "                    key_on = 'feature.id',\n",
    "                    fill_color = 'OrRd',\n",
    "                    fill_opacity = 0.7,\n",
    "                    line_opacity = 0.2,\n",
    "                    threshold_scale=[0,500 ,50000, 100000, 200000, 250000],\n",
    "                    legend_name ='Number of Immigrants in 2018')\n",
    "\n",
    "# Add the data layer to map\n",
    "folium.LayerControl().add_to(map_2018)\n",
    "\n",
    "# Show the map\n",
    "map_2018"
   ]
  },
  {
   "cell_type": "code",
   "execution_count": null,
   "metadata": {},
   "outputs": [],
   "source": [
    "# Retrive states information that has max and min number of immigrants for 2018\n",
    "max_2018  = complete_state_df.sort_values(\"2018\").tail(1)\n",
    "min_2018  = complete_state_df.sort_values(\"2018\", ascending=False).tail(1)\n",
    "# print(f\"Biggest: {max_2018[\"2018\"]} people immigrated to {max_2018[\"State\"]} in 2018.\")\n",
    "# print(f\"Smallest: {max_2018[\"2018\"]} people immigrated to {max_2018[\"State\"]} in 2018.\")"
   ]
  },
  {
   "cell_type": "markdown",
   "metadata": {},
   "source": [
    "### Takeaway\n",
    "Based on 2000 and 2018 comparison, California, New York, Florida, Texas and New Jersey were top 5 immigrants destination. This order didn't change between 2000 and 2018. In 2000, 62% of immigrants moved to one of top 5 states. In 2018, 57 % immigrants move to one of top 5 states, which show immigrants started immigrating to non-top 5 states."
   ]
  },
  {
   "cell_type": "markdown",
   "metadata": {},
   "source": [
    "# US Population vs Immigrants Population 1950 - 2017"
   ]
  },
  {
   "cell_type": "code",
   "execution_count": null,
   "metadata": {},
   "outputs": [],
   "source": [
    "# Read csv file for US population vs immigrants analysis\n",
    "population_comparison = pd.read_csv(\"Output_files/US Population vs Immigrants.csv\")\n",
    "population_comparison.head()"
   ]
  },
  {
   "cell_type": "code",
   "execution_count": null,
   "metadata": {},
   "outputs": [],
   "source": [
    "# Change the figure size\n",
    "plt.figure(figsize = (20,10))\n",
    "\n",
    "# Plot us population vs year\n",
    "plt.plot(population_comparison[\"Year\"],population_comparison[\"US Population\"])\n",
    "\n",
    "# Plot us number of immigrans vs year\n",
    "plt.plot(population_comparison[\"Year\"],population_comparison[\"Number of Immigrants\"])\n",
    "\n",
    "# Set legend\n",
    "plt.legend(['US Population','Number of Immigrants'], loc='upper left', fontsize=15)\n",
    "\n",
    "# Set title\n",
    "plt.title(\"US Population vs Immigtants Population in U.S. By Year\", fontsize = 15)\n",
    "\n",
    "# Set xlabel\n",
    "plt.xlabel(\"Year\",fontsize = 15)\n",
    "\n",
    "# Set ylabel\n",
    "plt.ylabel(\"Population\", fontsize = 15)\n",
    "\n",
    "# Change ticker label to plain from scientific\n",
    "plt.ticklabel_format(style='plain', axis='y', scilimits=(0,0))\n",
    "\n",
    "# Show the plot\n",
    "plt.show()"
   ]
  },
  {
   "cell_type": "code",
   "execution_count": null,
   "metadata": {},
   "outputs": [],
   "source": [
    "# Kana end"
   ]
  },
  {
   "cell_type": "code",
   "execution_count": null,
   "metadata": {},
   "outputs": [],
   "source": [
    "#Satish Start"
   ]
  },
  {
   "cell_type": "markdown",
   "metadata": {},
   "source": [
    "## Lawful Permanent Resident Throughout time"
   ]
  },
  {
   "cell_type": "code",
   "execution_count": 3,
   "metadata": {},
   "outputs": [
    {
     "data": {
      "image/png": "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\n",
      "text/plain": [
       "<Figure size 1080x720 with 1 Axes>"
      ]
     },
     "metadata": {
      "needs_background": "light"
     },
     "output_type": "display_data"
    }
   ],
   "source": [
    "#Reading file for LPR over years \n",
    "immigration_df=pd.read_csv(\"Output_files/LPR_Years.csv\")\n",
    "immigration_df.Year=pd.to_numeric(immigration_df.Year)\n",
    "immigration_df.Number=pd.to_numeric(immigration_df.Number)\n",
    "#Plotting the graph\n",
    "immigration_plt=immigration_df.plot(kind=\"line\", x=\"Year\", y=\"Number\", grid=True, figsize=(15,10),legend=False,title=\"Number of Lawful Permanent Resident Status Vs. Years\")\n",
    "max_arrow_y=immigration_df['Number'].max()\n",
    "max_arrow_x=immigration_df.loc[immigration_df['Number']==max_arrow_y,\"Year\"].reset_index(drop=True)\n",
    "#finding Max and Minimum to annotate\n",
    "plt.annotate(\n",
    "    f\"maximum {max_arrow_x[0],max_arrow_y}\", \n",
    "    xy=(max_arrow_x[0], max_arrow_y))\n",
    "\n",
    "min_arrow_y=immigration_df['Number'].min()\n",
    "min_arrow_x=immigration_df.loc[immigration_df['Number']==min_arrow_y,\"Year\"].reset_index(drop=True)\n",
    "plt.annotate(\n",
    "    f\"Minimum {min_arrow_x[0],min_arrow_y}\", \n",
    "    xy=(min_arrow_x[0], min_arrow_y))\n",
    "#Labeling Graph\n",
    "plt.ylabel(\"Number of Lawful Permanent Resident Status\")\n",
    "plt.xlabel(\"Timepoint in Years\")\n",
    "plt.tight_layout()\n",
    "plt.show()"
   ]
  },
  {
   "cell_type": "markdown",
   "metadata": {},
   "source": [
    "## Central America LPR before and after Trump election"
   ]
  },
  {
   "cell_type": "code",
   "execution_count": 4,
   "metadata": {},
   "outputs": [
    {
     "data": {
      "image/png": "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\n",
      "text/plain": [
       "<Figure size 432x288 with 1 Axes>"
      ]
     },
     "metadata": {
      "needs_background": "light"
     },
     "output_type": "display_data"
    }
   ],
   "source": [
    "Latin_Data_summ_df=pd.read_csv(\"Output_files/Latin_Data_summ_df.csv\")\n",
    "#Bar Graph showing the Central America and Years\n",
    "Latin_Data_summ_df.plot.bar(x='Year', y='Count', rot=0,legend=False)\n",
    "plt.axis('tight')\n",
    "plt.title(\"Number of Immigrants Vs Year\")\n",
    "plt.ylabel(\"Number of Immigrants from Central America\")\n",
    "plt.xlabel(\"Year\")\n",
    "plt.tight_layout()\n",
    "plt.show()"
   ]
  },
  {
   "cell_type": "markdown",
   "metadata": {},
   "source": [
    "## Islamic Countries LPR before and after 9/11"
   ]
  },
  {
   "cell_type": "code",
   "execution_count": 5,
   "metadata": {},
   "outputs": [
    {
     "data": {
      "image/png": "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\n",
      "text/plain": [
       "<Figure size 432x288 with 1 Axes>"
      ]
     },
     "metadata": {
      "needs_background": "light"
     },
     "output_type": "display_data"
    }
   ],
   "source": [
    "Islam_Country_summ=pd.read_csv(\"Output_files/Islam_Country_summ.csv\")\n",
    "#Ploting the Graph\n",
    "Islam_Country_summ.plot.bar(x='Year', y='Count', rot=0,legend=False)\n",
    "plt.axis('tight')\n",
    "plt.title(\"Number of Immigrants Vs Year\")\n",
    "plt.ylabel(\"Total Number of Immigrants from Arab Countries\")\n",
    "plt.xlabel(\"Year\")\n",
    "plt.tight_layout()\n",
    "plt.show()"
   ]
  },
  {
   "cell_type": "code",
   "execution_count": 6,
   "metadata": {},
   "outputs": [],
   "source": [
    "location_df=pd.read_csv(\"Output_files/location_df.csv\").reset_index(drop=True)\n",
    "location_df=location_df.iloc[:, 1:]\n",
    "Country_Data_Merged=pd.read_csv(\"Output_files/Country_Data_Merged.csv\")"
   ]
  },
  {
   "cell_type": "code",
   "execution_count": 7,
   "metadata": {},
   "outputs": [],
   "source": [
    "## Major Historical events didnt impact LPR count from Islaminc and Central America. One reason could be the petitions were filed before the events occured"
   ]
  },
  {
   "cell_type": "markdown",
   "metadata": {},
   "source": [
    "## Major Historical events didnt impact LPR count from Islaminc and Central America. One reason could be the petitions were filed before the events occured."
   ]
  },
  {
   "cell_type": "markdown",
   "metadata": {},
   "source": [
    "## Heat Map showing Immigration from all over the world to US"
   ]
  },
  {
   "cell_type": "code",
   "execution_count": 8,
   "metadata": {},
   "outputs": [
    {
     "ename": "NameError",
     "evalue": "name 'gkey' is not defined",
     "output_type": "error",
     "traceback": [
      "\u001b[1;31m---------------------------------------------------------------------------\u001b[0m",
      "\u001b[1;31mNameError\u001b[0m                                 Traceback (most recent call last)",
      "\u001b[1;32m<ipython-input-8-9fc44b53df74>\u001b[0m in \u001b[0;36m<module>\u001b[1;34m\u001b[0m\n\u001b[0;32m      1\u001b[0m \u001b[1;31m#Configuring gmpas\u001b[0m\u001b[1;33m\u001b[0m\u001b[1;33m\u001b[0m\u001b[1;33m\u001b[0m\u001b[0m\n\u001b[1;32m----> 2\u001b[1;33m \u001b[0mgmaps\u001b[0m\u001b[1;33m.\u001b[0m\u001b[0mconfigure\u001b[0m\u001b[1;33m(\u001b[0m\u001b[0mapi_key\u001b[0m\u001b[1;33m=\u001b[0m\u001b[0mgkey\u001b[0m\u001b[1;33m)\u001b[0m\u001b[1;33m\u001b[0m\u001b[1;33m\u001b[0m\u001b[0m\n\u001b[0m\u001b[0;32m      3\u001b[0m \u001b[1;33m\u001b[0m\u001b[0m\n\u001b[0;32m      4\u001b[0m \u001b[0mfig\u001b[0m \u001b[1;33m=\u001b[0m \u001b[0mgmaps\u001b[0m\u001b[1;33m.\u001b[0m\u001b[0mfigure\u001b[0m\u001b[1;33m(\u001b[0m\u001b[1;33m)\u001b[0m\u001b[1;33m\u001b[0m\u001b[1;33m\u001b[0m\u001b[0m\n\u001b[0;32m      5\u001b[0m \u001b[1;33m\u001b[0m\u001b[0m\n",
      "\u001b[1;31mNameError\u001b[0m: name 'gkey' is not defined"
     ]
    }
   ],
   "source": [
    "#Configuring gmpas\n",
    "gmaps.configure(api_key=gkey)\n",
    "\n",
    "fig = gmaps.figure()\n",
    "\n",
    "#Creating Heat Map\n",
    "heat_layer = gmaps.heatmap_layer(location_df, weights=Country_Data_Merged['Total'], \n",
    "                                 dissipating=False, max_intensity=90000,\n",
    "                                 point_radius = 1)\n",
    "#Adding heat maps\n",
    "fig.add_layer(heat_layer)\n",
    "fig"
   ]
  },
  {
   "cell_type": "code",
   "execution_count": null,
   "metadata": {},
   "outputs": [],
   "source": [
    "## Highest Immigrants in last 30 years is from Maxico around 6.2 Million , lowest is from Maldives around 121. Due to Large diference between top and bottom countries, heatmap is failing to capture the bottom countries. To get all the countries in the heatmap,we have to use mean value for intensity. This caused having Red for all the countries which has count more than mean and green for low countries."
   ]
  },
  {
   "cell_type": "markdown",
   "metadata": {},
   "source": [
    "## Highest Immigrants in last 30 years is from Mexico around 6.2 Million , lowest is from Maldives around 121. Due to Large difference between top and bottom countries, heatmap is failing to capture the bottom countries. To get all the countries in the heatmap,we have to use mean value for intensity. This caused having Red for all the countries which has count more than mean and green for low countries."
   ]
  },
  {
   "cell_type": "markdown",
   "metadata": {},
   "source": [
    "## Statistical Analysis between Islamic and Central America's LPR before and after 9/11"
   ]
  },
  {
   "cell_type": "code",
   "execution_count": null,
   "metadata": {},
   "outputs": [],
   "source": [
    "#Finding the Data Frame for both Latin and Islam countries\n",
    "Central_America_Data=['Mexico', 'Guatemala', 'Honduras', 'Nicaragua', 'El Salvador', 'Costa Rica', 'Panama', 'Belize']\n",
    "Latin_Population=Country_Data_Merged[Country_Data_Merged['Region and country of birth'].isin(Central_America_Data)].T\n",
    "Islam_Country_Data=['Afghanistan','Iran','Yemen','Jordan','Saudi Arabia','Sudan','Pakistan','Syria','Oman']\n",
    "Islam_Population=Country_Data_Merged[Country_Data_Merged['Region and country of birth'].isin(Islam_Country_Data)].T"
   ]
  },
  {
   "cell_type": "code",
   "execution_count": null,
   "metadata": {},
   "outputs": [],
   "source": [
    "#Cleaning Up data\n",
    "Latin_Population=Latin_Population[2:]\n",
    "#Finding sum for each year for both Islamic and Central America countires\n",
    "Latin_Population_1999=Latin_Population.loc['1999',:].sum()\n",
    "Latin_Population_2000=Latin_Population.loc['2000',:].sum()\n",
    "Latin_Population_2005=Latin_Population.loc['2005',:].sum()\n",
    "Latin_Population_2006=Latin_Population.loc['2006',:].sum()\n",
    "Islam_Population_1999=Islam_Population.loc['1999',:].sum()\n",
    "Islam_Population_2000=Islam_Population.loc['2000',:].sum()\n",
    "Islam_Population_2005=Islam_Population.loc['2005',:].sum()\n",
    "Islam_Population_2006=Islam_Population.loc['2006',:].sum()\n",
    "List_total=[['1999',Latin_Population_1999,Islam_Population_1999],['2000',Latin_Population_2000,Islam_Population_2000],['2005',Latin_Population_2005,Islam_Population_2005],['2006',Latin_Population_2006,Islam_Population_2006]]"
   ]
  },
  {
   "cell_type": "code",
   "execution_count": null,
   "metadata": {},
   "outputs": [],
   "source": [
    "#Creating Data Frame and finding year wise total\n",
    "List_total_df=pd.DataFrame(List_total, columns=['Year','Latin America', 'Islam Country'])\n",
    "Total_1999=Latin_Population_1999+Islam_Population_1999\n",
    "Total_2000=Latin_Population_2000+Islam_Population_2000\n",
    "Total_2005=Latin_Population_2005+Islam_Population_2005\n",
    "Total_2006=Latin_Population_2006+Islam_Population_2006"
   ]
  },
  {
   "cell_type": "code",
   "execution_count": null,
   "metadata": {},
   "outputs": [],
   "source": [
    "#Creating total amount for Central America and Islam and Grand total\n",
    "Latin_Total=Latin_Population_1999+Latin_Population_2000+Latin_Population_2005+Latin_Population_2006\n",
    "Islam_Total=Islam_Population_1999+Islam_Population_2000+Islam_Population_2005+Islam_Population_2006\n",
    "Grand_Total=Latin_Total+Islam_Total"
   ]
  },
  {
   "cell_type": "code",
   "execution_count": null,
   "metadata": {},
   "outputs": [],
   "source": [
    "#Finding the Expected Value by calling function\n",
    "expected_99 = expected(Total_1999, Islam_Total, Grand_Total)\n",
    "expected_00 = expected(Total_2000, Islam_Total, Grand_Total)\n",
    "expected_05 = expected(Total_2005, Islam_Total, Grand_Total)\n",
    "expected_06 = expected(Total_2006, Islam_Total, Grand_Total)\n",
    "expected_list=[expected_99,expected_00,expected_05,expected_06]\n",
    "expected_list"
   ]
  },
  {
   "cell_type": "code",
   "execution_count": null,
   "metadata": {},
   "outputs": [],
   "source": [
    "#Degree of Freedom and Critical Value\n",
    "degree_of_freedom=3\n",
    "critical_value=7.815\n",
    "from scipy.stats import chisquare"
   ]
  },
  {
   "cell_type": "code",
   "execution_count": null,
   "metadata": {
    "scrolled": true
   },
   "outputs": [],
   "source": [
    "#Bar Graph for LPR for Latin and Islamic Countries\n",
    "List_total_df.plot(kind=\"bar\")\n",
    "plt.xticks(np.arange(4), ('1999', '2000', '2005', '2006'), rotation=0)\n",
    "plt.title(\"Number of Central America vs Islam Countries pre/Post 9/11\")\n",
    "plt.ylabel(\"Number of LPR\")\n",
    "plt.xlabel(\"Year\")\n",
    "plt.show()"
   ]
  },
  {
   "cell_type": "code",
   "execution_count": null,
   "metadata": {},
   "outputs": [],
   "source": [
    "#Finding Chi Square\n",
    "chisquare([ 675.63878934, 1636.52359017, 1512.45163711,  583.77323195], f_exp=expected_list, ddof=degree_of_freedom)"
   ]
  },
  {
   "cell_type": "markdown",
   "metadata": {},
   "source": [
    "#### We found statistically significant differences for LPR rates between Islamic countries and Central America after 9/11 . Even though the number of immigrants from Islam countries slightly increased as compare to pre 9/11 , but the rate of increase is less than the Central America."
   ]
  },
  {
   "cell_type": "code",
   "execution_count": null,
   "metadata": {},
   "outputs": [],
   "source": [
    "# Satish end"
   ]
  },
  {
   "cell_type": "code",
   "execution_count": null,
   "metadata": {},
   "outputs": [],
   "source": [
    "# Umar start"
   ]
  },
  {
   "cell_type": "code",
   "execution_count": null,
   "metadata": {},
   "outputs": [],
   "source": [
    "age = './Output_files/la_age.csv'\n",
    "age_pd =pd.read_csv(age)\n",
    "New_age_pd = age_pd.rename(columns={'Lawful Permanent Resident 2009': 'Lawful 2009'})\n",
    "New_age_pd.head()\n",
    "\n",
    "Final_age = New_age_pd.set_index('Age')\n",
    "New_age = Final_age.iloc[1:,:]\n",
    "New_age"
   ]
  },
  {
   "cell_type": "code",
   "execution_count": null,
   "metadata": {},
   "outputs": [],
   "source": [
    "fig, axes = plt.subplots(1,4, figsize=(15,9)) \n",
    "for ax, col in zip(axes, New_age.columns): \n",
    "    ax.pie(New_age[col], labels=New_age.index, autopct='%.2f') \n",
    "    ax.set(ylabel='', title=col, aspect='equal') \n",
    "axes[0].legend(bbox_to_anchor=(0, 0.5)) \n",
    "fig.savefig('your_file.png') \n",
    "plt.show()"
   ]
  },
  {
   "cell_type": "code",
   "execution_count": null,
   "metadata": {},
   "outputs": [],
   "source": [
    "marital = './Output_files/la_marital.csv' \n",
    "marital_pd =pd.read_csv(marital) \n",
    "marital_pd.head()"
   ]
  },
  {
   "cell_type": "code",
   "execution_count": null,
   "metadata": {},
   "outputs": [],
   "source": [
    "age = './Output_files/la_age.csv' \n",
    "age_pd =pd.read_csv(age) \n",
    "New_age_pd = age_pd.rename(columns={'Lawful Permanent Resident 2009': 'Lawful 2009'}) \n",
    "New_age_pd.head()"
   ]
  },
  {
   "cell_type": "code",
   "execution_count": null,
   "metadata": {},
   "outputs": [],
   "source": [
    "Final_age = New_age_pd.set_index('Age') \n",
    "New_age = Final_age.iloc[1:,:] \n",
    "New_age\n",
    "\n",
    "fig, axes = plt.subplots(1,4, figsize=(15,9)) \n",
    "for ax, col in zip(axes, New_age.columns): \n",
    "    ax.pie(New_age[col], labels=New_age.index, autopct='%.2f') \n",
    "    ax.set(ylabel='', title=col, aspect='equal') \n",
    "axes[0].legend(bbox_to_anchor=(0, 0.5)) \n",
    "fig.savefig('your_file.png') \n",
    "plt.show()"
   ]
  },
  {
   "cell_type": "code",
   "execution_count": null,
   "metadata": {},
   "outputs": [],
   "source": [
    "marital = './Output_files/la_marital.csv' \n",
    "marital_pd =pd.read_csv(marital) \n",
    "marital_pd.head()\n",
    "\n",
    "Final_marital = marital_pd.set_index('Marital Status') \n",
    "New_marital = Final_marital.iloc[:,:] \n",
    "New_marital\n",
    "\n",
    "fig, axes = plt.subplots(1,4, figsize=(15,9)) \n",
    "for ax, col in zip(axes, New_marital.columns): \n",
    "    ax.pie(New_marital[col], labels=New_marital.index, autopct='%.2f') \n",
    "    ax.set(ylabel='', title=col, aspect='equal') \n",
    "axes[0].legend(bbox_to_anchor=(0, 0.5)) \n",
    "fig.savefig('your_file.png') \n",
    "plt.show()"
   ]
  },
  {
   "cell_type": "code",
   "execution_count": null,
   "metadata": {},
   "outputs": [],
   "source": [
    "sex = './Output_files/la_sex.csv' \n",
    "sex_pd =pd.read_csv(sex) \n",
    "New_sex_pd = sex_pd.rename(columns={'Unnamed: 0': 'Sex'}) \n",
    "New_sex_pd.head()\n",
    "\n",
    "Final_sex = New_sex_pd.set_index('Sex') \n",
    "Graph_sex = Final_sex.iloc[1:,:] \n",
    "Graph_sex"
   ]
  },
  {
   "cell_type": "code",
   "execution_count": null,
   "metadata": {},
   "outputs": [],
   "source": [
    "fig, axes = plt.subplots(1,4, figsize=(15,9))\n",
    "for ax, col in zip(axes, Graph_sex.columns):\n",
    "    ax.pie(Graph_sex[col], labels=Graph_sex.index, autopct='%.2f')\n",
    "    ax.set(ylabel='', title=col, aspect='equal')\n",
    "axes[0].legend(bbox_to_anchor=(0, 0.5))\n",
    "fig.savefig('your_file.png')\n",
    "plt.show()"
   ]
  },
  {
   "cell_type": "code",
   "execution_count": null,
   "metadata": {},
   "outputs": [],
   "source": [
    "# Umar End"
   ]
  }
 ],
 "metadata": {
  "kernelspec": {
   "display_name": "Python 3",
   "language": "python",
   "name": "python3"
<<<<<<< HEAD
=======
  },
  "language_info": {
   "codemirror_mode": {
    "name": "ipython",
    "version": 3
   },
   "file_extension": ".py",
   "mimetype": "text/x-python",
   "name": "python",
   "nbconvert_exporter": "python",
   "pygments_lexer": "ipython3",
   "version": "3.6.10"
>>>>>>> f7df04052421fba212f8a123e63491dfc556d4bd
  }
 },
 "nbformat": 4,
 "nbformat_minor": 2
}
