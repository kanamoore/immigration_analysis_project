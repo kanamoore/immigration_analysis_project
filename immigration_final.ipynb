{
 "cells": [
  {
   "cell_type": "code",
   "execution_count": null,
   "metadata": {},
   "outputs": [],
   "source": [
    "# Import dependencies\n",
    "import matplotlib.pyplot as plt\n",
    "import pandas as pd\n",
    "import numpy as np\n",
    "import requests\n",
    "import gmaps\n",
    "import os\n",
    "from expected import expected"
   ]
  },
  {
   "cell_type": "code",
   "execution_count": null,
   "metadata": {},
   "outputs": [],
   "source": [
    "# Narrative/intro goes here"
   ]
  },
  {
   "cell_type": "code",
   "execution_count": null,
   "metadata": {},
   "outputs": [],
   "source": [
    "# Stacy start"
   ]
  },
  {
   "cell_type": "code",
   "execution_count": null,
   "metadata": {},
   "outputs": [],
   "source": [
    "# Import naturalization data\n",
    "filename = 'naturalization_filed_denied.csv'\n",
    "path = os.path.join('.', 'Output_files', filename)\n",
    "nat_df = pd.read_csv(path)\n",
    "\n",
    "nat_df.set_index(keys='Year', inplace=True)"
   ]
  },
  {
   "cell_type": "code",
   "execution_count": null,
   "metadata": {},
   "outputs": [],
   "source": [
    "# Plot the naturalization data - overall\n",
    "\n",
    "plt.figure(figsize=(10,6))\n",
    "plt.plot(nat_df.index, nat_df[['Petitions filed', 'Petitions denied', 'Naturalized, total']])\n",
    "plt.legend(loc='best', labels=['Petitions filed', 'Petitions denied', 'Naturalized, total'])\n",
    "plt.xlim(1907, 2020)\n",
    "plt.ylim(-1,1450000)\n",
    "plt.xticks(np.arange(1910, 2021, step=10))\n",
    "plt.grid(b=True, axis='y', color='#cccccc')\n",
    "\n",
    "# Add points of interest to grid\n",
    "plt.annotate(xy=(1915,300000), s='World War I begins')\n",
    "plt.vlines(x=1914.8, ymin = 0, ymax = 1450000, linestyle='dashed', alpha=0.2)\n",
    "plt.annotate(xy=(1940,460000), s='World War II begins')\n",
    "plt.vlines(x=1939.75, ymin = 0, ymax = 1450000, linestyle='dashed', alpha=0.2)\n",
    "plt.annotate(xy=(1997,250000), s='IIRIRA')\n",
    "plt.vlines(x=1996.75, ymin = 0, ymax = 1450000, linestyle='dashed', alpha=0.2)\n",
    "plt.annotate(xy=(2002,400000), s='9/11')\n",
    "plt.vlines(x=2001.75, ymin = 0, ymax = 1450000, linestyle='dashed', alpha=0.2)\n",
    "plt.annotate(xy=(2003,325000), s='Border wall EO')\n",
    "plt.vlines(x=2017, ymin = 0, ymax = 1450000, linestyle='dashed', alpha=0.2)\n",
    "plt.xlabel(\"Year\")\n",
    "plt.ylabel(\"Naturalizations\")\n",
    "plt.title(\"Trends in US naturalizations, 1907-2018\")\n",
    "plt.tight_layout()\n",
    "\n",
    "# Spike in 1996 - and general increase - can be explained by this bill: https://www.vox.com/2016/4/28/11515132/iirira-clinton-immigration"
   ]
  },
  {
   "cell_type": "code",
   "execution_count": null,
   "metadata": {},
   "outputs": [],
   "source": [
    "# Pre and post 9/11\n",
    "# create df\n",
    "nat_911 = nat_df.loc[1999:2004,:]\n",
    "\n",
    "# plot data\n",
    "plt.figure(figsize=(4,4))\n",
    "plt.plot(nat_911.index, nat_911[['Petitions filed', 'Petitions denied', 'Naturalized, total']])\n",
    "plt.legend(loc='best', labels=['Filed', 'Denied', 'Naturalized'])\n",
    "plt.xlim(1999,2003)\n",
    "plt.ylim(0,950000)\n",
    "plt.xticks(np.arange(1999,2005))\n",
    "plt.yticks(np.arange(0,1000000, step=100000))\n",
    "plt.annotate(xy=(2001.9,400000), s='9/11')\n",
    "plt.vlines(x=2001.75, ymin = 0, ymax = 1450000, linestyle='dashed', alpha=0.2)\n",
    "plt.xlabel(\"Year\")\n",
    "plt.ylabel(\"Naturalizations\")\n",
    "plt.title(\"Trends in US naturalizations, before and after 9/11\")"
   ]
  },
  {
   "cell_type": "code",
   "execution_count": null,
   "metadata": {},
   "outputs": [],
   "source": [
    "# Pre and post Trump\n",
    "# create df\n",
    "nat_trump = nat_df.loc[2015:2018,:]\n",
    "\n",
    "# plot data\n",
    "plt.figure(figsize=(5.75,4))\n",
    "plt.plot(nat_trump.index, nat_trump[['Petitions filed', 'Petitions denied', 'Naturalized, total']])\n",
    "plt.legend(loc='lower left', labels=['Filed', 'Denied', 'Naturalized'], bbox_to_anchor=(1, 0.7))\n",
    "plt.annotate(xy=(2016,400000), s='Border wall EO')\n",
    "plt.vlines(x=2017.1, ymin = 0, ymax = 1450000, linestyle='dashed', alpha=0.2)\n",
    "plt.xlabel(\"Year\")\n",
    "plt.ylabel(\"Naturalizations\")\n",
    "plt.title(\"Trends in US naturalizations, before and after border wall EO\")\n",
    "plt.xlim(2015,2018)\n",
    "plt.ylim(0,1100000)\n",
    "plt.xticks(np.arange(2015,2019))\n",
    "plt.yticks(np.arange(0,1100000, step=200000))\n",
    "plt.tight_layout()"
   ]
  },
  {
   "cell_type": "code",
   "execution_count": null,
   "metadata": {},
   "outputs": [],
   "source": [
    "# Pre and post IIRIRA\n",
    "# create df\n",
    "nat_iiria = nat_df.loc[1995:1999,:]\n",
    "\n",
    "# plot data\n",
    "plt.figure(figsize=(5.75,4))\n",
    "plt.plot(nat_iiria.index, nat_iiria[['Petitions filed', 'Petitions denied', 'Naturalized, total']])\n",
    "plt.legend(loc='lower left', labels=['Filed', 'Denied', 'Naturalized'], bbox_to_anchor=(1, 0.7))\n",
    "# plt.annotate(xy=(2016,400000), s='Border wall EO')\n",
    "# plt.vlines(x=2017.1, ymin = 0, ymax = 1450000, linestyle='dashed', alpha=0.2)\n",
    "plt.xlabel(\"Year\")\n",
    "plt.ylabel(\"Naturalizations\")\n",
    "plt.title(\"Trends in US naturalizations, before and after IIRIRA\")\n",
    "plt.annotate(xy=(1996.9,250000), s='IIRIRA')\n",
    "plt.vlines(x=1996.75, ymin = 0, ymax = 1500000, linestyle='dashed', alpha=0.2)\n",
    "plt.xlim(1995,1999)\n",
    "plt.ylim(0,1500000)\n",
    "plt.xticks(np.arange(1995,2000))\n",
    "plt.yticks(np.arange(0,1500000, step=200000))\n",
    "plt.tight_layout()"
   ]
  },
  {
   "cell_type": "code",
   "execution_count": null,
   "metadata": {},
   "outputs": [],
   "source": [
    "# Are these trends statistically significant? Apply chi-squared test.\n",
    "'''\n",
    "STEPS\n",
    "import by-country naturalization data\n",
    "create pre 9/11 sample for muslim countries 99-00\n",
    "create post 9/11 sample for muslim countries 04-05\n",
    "create pre 9/11 sample for random non-muslim countries (maybe overall immigration that year?)\n",
    "create post 9/11 sample for random non-muslim countries (maybe overall immigration that year?)\n",
    "find expected values for pre 9/11 and post 9/11 muslim countries\n",
    "find degrees of freedom\n",
    "perform chi-square test\n",
    "'''\n",
    "\n",
    "# Get the sample size for petitions filed, denied\n",
    "# Drop naturalization data (due to lag in how quickly policy changes might affect nat numbers)\n",
    "nat_iiria_df = nat_iiria.drop(columns=['Naturalized, total'])\n",
    "# # Create new column to show petitions in pipeline (return to this if needed)\n",
    "# nat_iiria_df['Petitions in pipeline'] = nat_iiria_df['Petitions filed'] - nat_iiria_df['Petitions denied']\n",
    "nat_total_pet_filed = nat_iiria_df.loc[:,'Petitions filed'].sum()\n",
    "nat_total_pet_denied = nat_iiria_df.loc[:,'Petitions denied'].sum()\n",
    "\n",
    "# Get the sample size for the years\n",
    "nat_95 = nat_iiria_df.loc[1995,:].sum()\n",
    "nat_96 = nat_iiria_df.loc[1996,:].sum()\n",
    "nat_97 = nat_iiria_df.loc[1997,:].sum()\n",
    "nat_98 = nat_iiria_df.loc[1998,:].sum()\n",
    "nat_99 = nat_iiria_df.loc[1999,:].sum()"
   ]
  },
  {
   "cell_type": "code",
   "execution_count": null,
   "metadata": {},
   "outputs": [],
   "source": [
    "# Get population size\n",
    "nat_totals = nat_total_pet_filed + nat_total_pet_denied"
   ]
  },
  {
   "cell_type": "code",
   "execution_count": null,
   "metadata": {},
   "outputs": [],
   "source": [
    "# Get expected values using 'expected' function we imported\n",
    "\n",
    "# Calculate expected value for petitions filed in 95-97 (pre-IIRIA)\n",
    "expected_filed_95 = expected(nat_95, nat_total_pet_filed, nat_totals)\n",
    "expected_filed_96 = expected(nat_96, nat_total_pet_filed, nat_totals)\n",
    "expected_filed_97 = expected(nat_97, nat_total_pet_filed, nat_totals)\n",
    "\n",
    "# Calculate expected value for petitions filed in 98-99 (post-IIRIA)\n",
    "expected_filed_98 = expected(nat_98, nat_total_pet_filed, nat_totals)\n",
    "expected_filed_99 = expected(nat_99, nat_total_pet_filed, nat_totals)\n",
    "\n",
    "# Calculate expected value for petitions denied 95-97\n",
    "expected_denied_95 = expected(nat_95, nat_total_pet_denied, nat_totals)\n",
    "expected_denied_96 = expected(nat_96, nat_total_pet_denied, nat_totals)\n",
    "expected_denied_97 = expected(nat_97, nat_total_pet_denied, nat_totals)\n",
    "\n",
    "# Calculate expected value for petitions denied 98-99\n",
    "expected_denied_98 = expected(nat_98, nat_total_pet_denied, nat_totals)\n",
    "expected_denied_99 = expected(nat_99, nat_total_pet_denied, nat_totals)\n",
    "\n",
    "# Create list so we can loop through these in a moment\n",
    "expected_filed = [expected_filed_95, expected_filed_96, expected_filed_97, expected_filed_98, expected_filed_99]\n",
    "# denied = [expected_denied_95, expected_denied_96, expected_denied_97, expected_denied_98, expected_denied_99]"
   ]
  },
  {
   "cell_type": "code",
   "execution_count": null,
   "metadata": {},
   "outputs": [],
   "source": [
    "degrees_freedom = 4\n",
    "crit_value = 9.49"
   ]
  },
  {
   "cell_type": "code",
   "execution_count": null,
   "metadata": {},
   "outputs": [],
   "source": [
    "expected_filed"
   ]
  },
  {
   "cell_type": "code",
   "execution_count": null,
   "metadata": {},
   "outputs": [],
   "source": [
    "# Apply chi-squared test for petitions filed and changes over time\n",
    "from scipy.stats import chisquare\n",
    "\n",
    "chisquare(nat_iiria_df['Petitions filed'].values, f_exp=expected_filed, ddof=degrees_freedom)"
   ]
  },
  {
   "cell_type": "code",
   "execution_count": null,
   "metadata": {},
   "outputs": [],
   "source": [
    "# bracketed values are same as nat_iiria_df['Petitions filed'].values\n",
    "chisquare([959963, 1277403, 1412712,  932957,  765346], f_exp=expected_filed, ddof=degrees_freedom)"
   ]
  },
  {
   "cell_type": "code",
   "execution_count": null,
   "metadata": {},
   "outputs": [],
   "source": [
    "# Stacy end"
   ]
  },
  {
   "cell_type": "code",
   "execution_count": null,
   "metadata": {},
   "outputs": [],
   "source": [
    "# Kana start"
   ]
  },
  {
   "cell_type": "code",
   "execution_count": null,
   "metadata": {},
   "outputs": [],
   "source": [
    "# Kana end"
   ]
  },
  {
   "cell_type": "code",
   "execution_count": null,
   "metadata": {},
   "outputs": [],
   "source": [
    "# Satish start"
   ]
  },
  {
   "cell_type": "code",
   "execution_count": null,
   "metadata": {},
   "outputs": [],
   "source": [
    "# Satish end"
   ]
  },
  {
   "cell_type": "code",
   "execution_count": null,
   "metadata": {},
   "outputs": [],
   "source": [
    "# Umar start"
   ]
  },
  {
   "cell_type": "code",
   "execution_count": null,
   "metadata": {},
   "outputs": [],
   "source": [
    "# Umar End"
   ]
  },
  {
   "cell_type": "code",
   "execution_count": null,
   "metadata": {},
   "outputs": [],
   "source": [
    "# Narrative/summary goes here"
   ]
  }
 ],
 "metadata": {
  "kernelspec": {
   "display_name": "Python 3",
   "language": "python",
   "name": "python3"
  },
  "language_info": {
   "codemirror_mode": {
    "name": "ipython",
    "version": 3
   },
   "file_extension": ".py",
   "mimetype": "text/x-python",
   "name": "python",
   "nbconvert_exporter": "python",
   "pygments_lexer": "ipython3",
   "version": "3.6.10"
  }
 },
 "nbformat": 4,
 "nbformat_minor": 2
}
