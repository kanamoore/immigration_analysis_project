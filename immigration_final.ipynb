{
 "cells": [
  {
   "cell_type": "code",
   "execution_count": 1,
   "metadata": {},
   "outputs": [],
   "source": [
    "#Import dependencies\n",
    "import pandas as pd\n",
    "import numpy as np\n",
    "import "
   ]
  },
  {
   "cell_type": "code",
   "execution_count": null,
   "metadata": {},
   "outputs": [],
   "source": [
    "# Narrative/intro goes here"
   ]
  },
  {
   "cell_type": "code",
   "execution_count": 2,
   "metadata": {},
   "outputs": [],
   "source": [
    "# Stacy start"
   ]
  },
  {
   "cell_type": "code",
   "execution_count": null,
   "metadata": {},
   "outputs": [],
   "source": [
    "# Plot the naturalization data\n",
    "\n",
    "## CLEAN THIS UP TO MATCH CORRECT VARIABLES\n",
    "\n",
    "plt.plot(naturalization.index, naturalization[['Petitions filed', 'Naturalized, total', 'Petitions denied']])\n",
    "plt.tight_layout()\n",
    "\n",
    "# Spike in 1996 - and general increase - can be explained by this bill: https://www.vox.com/2016/4/28/11515132/iirira-clinton-immigration\n",
    "# Need to plot just the 2000 - 2010, then 2015 - 2018 data - to examine whether there are trends"
   ]
  },
  {
   "cell_type": "code",
   "execution_count": 3,
   "metadata": {},
   "outputs": [],
   "source": [
    "# Stacy end"
   ]
  },
  {
   "cell_type": "code",
   "execution_count": 4,
   "metadata": {},
   "outputs": [],
   "source": [
    "# Kana start"
   ]
  },
  {
   "cell_type": "code",
   "execution_count": 5,
   "metadata": {},
   "outputs": [],
   "source": [
    "# Kana end"
   ]
  },
  {
   "cell_type": "code",
   "execution_count": 6,
   "metadata": {},
   "outputs": [],
   "source": [
    "# Satish start"
   ]
  },
  {
   "cell_type": "code",
   "execution_count": 7,
   "metadata": {},
   "outputs": [],
   "source": [
    "# Satish end"
   ]
  },
  {
   "cell_type": "code",
   "execution_count": 8,
   "metadata": {},
   "outputs": [],
   "source": [
    "# Umar start\n",
    "#Read in the Excel file and view the headers\n",
    "Lawful_df = pd.read_excel(\"./Resources/fy2018_Lawful.xlsx\", header=4)\n",
    "Lawful_df.head()"
   ]
  },
  {
   "cell_type": "code",
   "execution_count": null,
   "metadata": {},
   "outputs": [],
   "source": [
    "#Use the iloc function to locate the point of interest in a data set\n",
    "Broad_age = Lawful_df.iloc[19:23,:]\n",
    "Broad_age"
   ]
  },
  {
   "cell_type": "code",
   "execution_count": null,
   "metadata": {},
   "outputs": [],
   "source": [
    "#View the characteristic and Total columns \n",
    "Broad_age_df = pd.DataFrame(Broad_age)\n",
    "Sex = Broad_age_df.iloc[:, 0:2]\n",
    "Sex"
   ]
  },
  {
   "cell_type": "code",
   "execution_count": null,
   "metadata": {},
   "outputs": [],
   "source": [
    "#Rename your columns \n",
    "Cleaned = Sex.rename(columns={\"Characteristic\": \"Age\", \"Total\": \"Lawful 2018\"})\n",
    "Index_age = Cleaned.set_index(\"Age\")\n",
    "Index_age"
   ]
  },
  {
   "cell_type": "code",
   "execution_count": null,
   "metadata": {},
   "outputs": [],
   "source": [
    "#View a single row \n",
    "Sex = Lawful_df.iloc[19,1:]\n",
    "Sex.to_frame(name=\"LPR 2018\")"
   ]
  },
  {
   "cell_type": "code",
   "execution_count": null,
   "metadata": {},
   "outputs": [],
   "source": [
    "#Use the iloc function to locate the point of interest in a data set\n",
    "Marital_status = Lawful_df.iloc[24:30,:]\n",
    "Marital_status"
   ]
  },
  {
   "cell_type": "code",
   "execution_count": null,
   "metadata": {},
   "outputs": [],
   "source": [
    "#View the characteristic and Total columns \n",
    "New_marital_df = pd.DataFrame(Marital_status)\n",
    "Specific = New_marital_df.iloc[:, 0:2]\n",
    "Specific"
   ]
  },
  {
   "cell_type": "code",
   "execution_count": null,
   "metadata": {},
   "outputs": [],
   "source": [
    "#Rename your columns \n",
    "Renamed = Specific.rename(columns={\"Characteristic\": \"Marital Status\", \"Total\": \"Lawful Permanent Resident 2018\"})\n",
    "Renamed.head()"
   ]
  },
  {
   "cell_type": "code",
   "execution_count": null,
   "metadata": {},
   "outputs": [],
   "source": [
    "#View a single column \n",
    "Status = Lawful_df.iloc[24:30,0:2]\n",
    "Name18 = Status.rename(columns={\"Characteristic\": \"Marital Status\", \"Total\": \"Lawful 2018\"})\n",
    "#Set marital status as index for clarity\n",
    "Name18.set_index(\"Marital Status\", inplace=True)\n",
    "Name18"
   ]
  },
  {
   "cell_type": "code",
   "execution_count": null,
   "metadata": {},
   "outputs": [],
   "source": [
    "#Read in the Excel file and \n",
    "Lawful09_df = pd.read_excel(\"./Resources/fy2009_Lawful.xls\", header=4)\n",
    "Lawful09_df.head()"
   ]
  },
  {
   "cell_type": "code",
   "execution_count": null,
   "metadata": {},
   "outputs": [],
   "source": [
    "#Use the iloc function to locate the point of interest in a data set\n",
    "Broad09_age = Lawful09_df.iloc[20:24,:]\n",
    "Broad09_age"
   ]
  },
  {
   "cell_type": "code",
   "execution_count": null,
   "metadata": {},
   "outputs": [],
   "source": [
    "#View the characteristic and Total columns \n",
    "Broad09_age_df = pd.DataFrame(Broad09_age)\n",
    "Sex09 = Broad09_age_df.iloc[:, 0:2]\n",
    "Sex09"
   ]
  },
  {
   "cell_type": "code",
   "execution_count": null,
   "metadata": {},
   "outputs": [],
   "source": [
    "#Rename your columns \n",
    "Age09 = Sex09.rename(columns={\"Characteristic\": \"Age\", \"Total\": \"Lawful Permanent Resident 2009\"})\n",
    "New_index09 = Age09.set_index(\"Age\")\n",
    "New_index09"
   ]
  },
  {
   "cell_type": "code",
   "execution_count": null,
   "metadata": {},
   "outputs": [],
   "source": [
    "#View a single row \n",
    "Sex09 = Lawful09_df.iloc[20,1:]\n",
    "Sex09.to_frame(name=\"LPR 2009\")"
   ]
  },
  {
   "cell_type": "code",
   "execution_count": null,
   "metadata": {},
   "outputs": [],
   "source": [
    "#Use the iloc function to locate the point of interest in a data set\n",
    "Marital09_status = Lawful09_df.iloc[26:32,:]\n",
    "Marital09_status"
   ]
  },
  {
   "cell_type": "code",
   "execution_count": null,
   "metadata": {},
   "outputs": [],
   "source": [
    "#View the characteristic and Total columns \n",
    "New09_marital_df = pd.DataFrame(Marital09_status)\n",
    "Specific09 = New09_marital_df.iloc[:, 0:2]\n",
    "Specific09"
   ]
  },
  {
   "cell_type": "code",
   "execution_count": null,
   "metadata": {},
   "outputs": [],
   "source": [
    "#Rename your columns \n",
    "Renamed09 = Specific09.rename(columns={\"Characteristic\": \"Marital Status\", \"Total\": \"Lawful Permanent Resident 2009\"})\n",
    "Renamed09.head()"
   ]
  },
  {
   "cell_type": "code",
   "execution_count": null,
   "metadata": {},
   "outputs": [],
   "source": [
    "#View a single column\n",
    "Status09 = Lawful09_df.iloc[26:32,0:2]\n",
    "Name09 = Status09.rename(columns={\"Characteristic\": \"Marital Status\", \"Total\": \"Lawful 2009\"})\n",
    "#Set marital status as index for clarity\n",
    "Name09.set_index(\"Marital Status\", inplace=True)\n",
    "Name09\n",
    "\n",
    "#Umar Code ends here"
   ]
  },
  {
   "cell_type": "code",
   "execution_count": null,
   "metadata": {},
   "outputs": [],
   "source": [
    "# Narrative/summary goes here"
   ]
  }
 ],
 "metadata": {
  "kernelspec": {
   "display_name": "Python 3",
   "language": "python",
   "name": "python3"
  },
  "language_info": {
   "codemirror_mode": {
    "name": "ipython",
    "version": 3
   },
   "file_extension": ".py",
   "mimetype": "text/x-python",
   "name": "python",
   "nbconvert_exporter": "python",
   "pygments_lexer": "ipython3",
   "version": "3.7.4"
  }
 },
 "nbformat": 4,
 "nbformat_minor": 2
}
