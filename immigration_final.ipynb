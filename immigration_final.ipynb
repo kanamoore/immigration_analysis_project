{
 "cells": [
  {
   "cell_type": "code",
   "execution_count": null,
   "metadata": {},
   "outputs": [],
   "source": [
    "# Import dependencies\n",
    "import matplotlib.pyplot as plt\n",
    "import pandas as pd\n",
    "import numpy as np\n",
    "import requests\n",
    "import folium\n",
    "import gmaps\n",
    "import os\n",
    "from expected import expected"
   ]
  },
  {
   "cell_type": "code",
   "execution_count": null,
   "metadata": {},
   "outputs": [],
   "source": [
    "# Narrative/intro goes here"
   ]
  },
  {
   "cell_type": "code",
   "execution_count": null,
   "metadata": {},
   "outputs": [],
   "source": [
    "# Stacy start"
   ]
  },
  {
   "cell_type": "code",
   "execution_count": null,
   "metadata": {},
   "outputs": [],
   "source": [
    "# Import naturalization data\n",
    "filename = 'naturalization_filed_denied.csv'\n",
    "path = os.path.join('.', 'Output_files', filename)\n",
    "nat_df = pd.read_csv(path)\n",
    "\n",
    "nat_df.set_index(keys='Year', inplace=True)"
   ]
  },
  {
   "cell_type": "code",
   "execution_count": null,
   "metadata": {},
   "outputs": [],
   "source": [
    "# Plot the naturalization data - overall\n",
    "\n",
    "plt.figure(figsize=(10,6))\n",
    "plt.plot(nat_df.index, nat_df[['Petitions filed', 'Petitions denied', 'Naturalized, total']])\n",
    "plt.legend(loc='best', labels=['Petitions filed', 'Petitions denied', 'Naturalized, total'])\n",
    "plt.xlim(1907, 2020)\n",
    "plt.ylim(-1,1450000)\n",
    "plt.xticks(np.arange(1910, 2021, step=10))\n",
    "plt.grid(b=True, axis='y', color='#cccccc')\n",
    "\n",
    "# Add points of interest to grid\n",
    "plt.annotate(xy=(1915,300000), s='World War I begins')\n",
    "plt.vlines(x=1914.8, ymin = 0, ymax = 1450000, linestyle='dashed', alpha=0.2)\n",
    "plt.annotate(xy=(1940,460000), s='World War II begins')\n",
    "plt.vlines(x=1939.75, ymin = 0, ymax = 1450000, linestyle='dashed', alpha=0.2)\n",
    "plt.annotate(xy=(1997,250000), s='IIRIRA')\n",
    "plt.vlines(x=1996.75, ymin = 0, ymax = 1450000, linestyle='dashed', alpha=0.2)\n",
    "plt.annotate(xy=(2002,400000), s='9/11')\n",
    "plt.vlines(x=2001.75, ymin = 0, ymax = 1450000, linestyle='dashed', alpha=0.2)\n",
    "plt.annotate(xy=(2003,325000), s='Border wall EO')\n",
    "plt.vlines(x=2017, ymin = 0, ymax = 1450000, linestyle='dashed', alpha=0.2)\n",
    "plt.xlabel(\"Year\")\n",
    "plt.ylabel(\"Naturalizations\")\n",
    "plt.title(\"Trends in US naturalizations, 1907-2018\")\n",
    "plt.tight_layout()\n",
    "\n",
    "# Spike in 1996 - and general increase - can be explained by this bill: https://www.vox.com/2016/4/28/11515132/iirira-clinton-immigration"
   ]
  },
  {
   "cell_type": "code",
   "execution_count": null,
   "metadata": {},
   "outputs": [],
   "source": [
    "# Pre and post 9/11\n",
    "# create df\n",
    "nat_911 = nat_df.loc[1999:2004,:]\n",
    "\n",
    "# plot data\n",
    "plt.figure(figsize=(4,4))\n",
    "plt.plot(nat_911.index, nat_911[['Petitions filed', 'Petitions denied', 'Naturalized, total']])\n",
    "plt.legend(loc='best', labels=['Filed', 'Denied', 'Naturalized'])\n",
    "plt.xlim(1999,2003)\n",
    "plt.ylim(0,950000)\n",
    "plt.xticks(np.arange(1999,2005))\n",
    "plt.yticks(np.arange(0,1000000, step=100000))\n",
    "plt.annotate(xy=(2001.9,400000), s='9/11')\n",
    "plt.vlines(x=2001.75, ymin = 0, ymax = 1450000, linestyle='dashed', alpha=0.2)\n",
    "plt.xlabel(\"Year\")\n",
    "plt.ylabel(\"Naturalizations\")\n",
    "plt.title(\"Trends in US naturalizations, before and after 9/11\")"
   ]
  },
  {
   "cell_type": "code",
   "execution_count": null,
   "metadata": {},
   "outputs": [],
   "source": [
    "# Pre and post Trump\n",
    "# create df\n",
    "nat_trump = nat_df.loc[2015:2018,:]\n",
    "\n",
    "# plot data\n",
    "plt.figure(figsize=(5.75,4))\n",
    "plt.plot(nat_trump.index, nat_trump[['Petitions filed', 'Petitions denied', 'Naturalized, total']])\n",
    "plt.legend(loc='lower left', labels=['Filed', 'Denied', 'Naturalized'], bbox_to_anchor=(1, 0.7))\n",
    "plt.annotate(xy=(2016,400000), s='Border wall EO')\n",
    "plt.vlines(x=2017.1, ymin = 0, ymax = 1450000, linestyle='dashed', alpha=0.2)\n",
    "plt.xlabel(\"Year\")\n",
    "plt.ylabel(\"Naturalizations\")\n",
    "plt.title(\"Trends in US naturalizations, before and after border wall EO\")\n",
    "plt.xlim(2015,2018)\n",
    "plt.ylim(0,1100000)\n",
    "plt.xticks(np.arange(2015,2019))\n",
    "plt.yticks(np.arange(0,1100000, step=200000))\n",
    "plt.tight_layout()"
   ]
  },
  {
   "cell_type": "code",
   "execution_count": null,
   "metadata": {},
   "outputs": [],
   "source": [
    "# Pre and post IIRIRA\n",
    "# create df\n",
    "nat_iiria = nat_df.loc[1995:1999,:]\n",
    "\n",
    "# plot data\n",
    "plt.figure(figsize=(5.75,4))\n",
    "plt.plot(nat_iiria.index, nat_iiria[['Petitions filed', 'Petitions denied', 'Naturalized, total']])\n",
    "plt.legend(loc='lower left', labels=['Filed', 'Denied', 'Naturalized'], bbox_to_anchor=(1, 0.7))\n",
    "# plt.annotate(xy=(2016,400000), s='Border wall EO')\n",
    "# plt.vlines(x=2017.1, ymin = 0, ymax = 1450000, linestyle='dashed', alpha=0.2)\n",
    "plt.xlabel(\"Year\")\n",
    "plt.ylabel(\"Naturalizations\")\n",
    "plt.title(\"Trends in US naturalizations, before and after IIRIRA\")\n",
    "plt.annotate(xy=(1996.9,250000), s='IIRIRA')\n",
    "plt.vlines(x=1996.75, ymin = 0, ymax = 1500000, linestyle='dashed', alpha=0.2)\n",
    "plt.xlim(1995,1999)\n",
    "plt.ylim(0,1500000)\n",
    "plt.xticks(np.arange(1995,2000))\n",
    "plt.yticks(np.arange(0,1500000, step=200000))\n",
    "plt.tight_layout()"
   ]
  },
  {
   "cell_type": "code",
   "execution_count": null,
   "metadata": {},
   "outputs": [],
   "source": [
    "# Stacy end"
   ]
  },
  {
   "cell_type": "code",
   "execution_count": null,
   "metadata": {},
   "outputs": [],
   "source": [
    "# Kana start"
   ]
  },
  {
   "cell_type": "code",
   "execution_count": null,
   "metadata": {},
   "outputs": [],
   "source": [
    "# Kana end"
   ]
  },
  {
   "cell_type": "code",
   "execution_count": null,
   "metadata": {},
   "outputs": [],
   "source": [
    "# Satish start"
   ]
  },
  {
   "cell_type": "code",
   "execution_count": null,
   "metadata": {},
   "outputs": [],
   "source": [
    "# Satish end"
   ]
  },
  {
   "cell_type": "code",
   "execution_count": null,
<<<<<<< HEAD
    "age = \"./Output_files/la_age.csv\"\n",
    "age_pd =pd.read_csv(age)\n",
    "New_age_pd = age_pd.rename(columns={\"Lawful Permanent Resident 2009\": \"Lawful 2009\"})\n",
    "New_age_pd.head()"

    "Final_age = New_age_pd.set_index(\"Age\")\n",
    "New_age = Final_age.iloc[1:,:]\n",
    "New_age"

    "fig, axes = plt.subplots(1,4, figsize=(15,9))\n",
    "for ax, col in zip(axes, New_age.columns):\n",
    "    ax.pie(New_age[col], labels=New_age.index, autopct='%.2f')\n",
    "    ax.set(ylabel='', title=col, aspect='equal')\n",
    "axes[0].legend(bbox_to_anchor=(0, 0.5))\n",
    "fig.savefig('your_file.png')\n",
    "plt.show()"

    "marital = \"./Output_files/la_marital.csv\"\n",
    "marital_pd =pd.read_csv(marital)\n",
    "marital_pd.head()"

    "Final_marital = marital_pd.set_index(\"Marital Status\")\n",
    "New_marital = Final_marital.iloc[:,:]\n",
    "New_marital"

    "fig, axes = plt.subplots(1,4, figsize=(15,9))\n",
    "for ax, col in zip(axes, New_marital.columns):\n",
    "    ax.pie(New_marital[col], labels=New_marital.index, autopct='%.2f')\n",
    "    ax.set(ylabel='', title=col, aspect='equal')\n",
    "axes[0].legend(bbox_to_anchor=(0, 0.5))\n",
    "fig.savefig('your_file.png')\n",
    "plt.show()"

    "sex = \"./Output_files/la_sex.csv\"\n",
    "sex_pd =pd.read_csv(sex)\n",
    "New_sex_pd = sex_pd.rename(columns={\"Unnamed: 0\": \"Sex\"})\n",
    "New_sex_pd.head()"

    "Final_sex = New_sex_pd.set_index(\"Sex\")\n",
    "Graph_sex = Final_sex.iloc[1:,:]\n",
    "Graph_sex"
    
   "metadata": {},
   "outputs": [],
   "source": [
    "fig, axes = plt.subplots(1,4, figsize=(15,9))\n",
    "for ax, col in zip(axes, Graph_sex.columns):\n",
    "    ax.pie(Graph_sex[col], labels=Graph_sex.index, autopct='%.2f')\n",
    "    ax.set(ylabel='', title=col, aspect='equal')\n",
    "axes[0].legend(bbox_to_anchor=(0, 0.5))\n",
    "fig.savefig('your_file.png')\n",
    "plt.show()"
   ]
  },
  {
   "cell_type": "code",
   "execution_count": null,
   "metadata": {},
   "outputs": [],
   "source": [
    "# Umar End"
   ]
  },
  {
   "cell_type": "code",
   "execution_count": null,
   "metadata": {},
   "outputs": [],
   "source": [
    "# Narrative/summary goes here"
   ]
  }
 ],
 "metadata": {
  "kernelspec": {
   "display_name": "Python 3",
   "language": "python",
   "name": "python3"
  },
  "language_info": {
   "codemirror_mode": {
    "name": "ipython",
    "version": 3
   },
   "file_extension": ".py",
   "mimetype": "text/x-python",
   "name": "python",
   "nbconvert_exporter": "python",
   "pygments_lexer": "ipython3",
   "version": "3.7.4"
  }
 },
 "nbformat": 4,
 "nbformat_minor": 4
}
