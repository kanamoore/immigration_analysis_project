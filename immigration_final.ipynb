{
 "cells": [
  {
   "cell_type": "code",
   "execution_count": null,
   "metadata": {},
   "outputs": [],
   "source": [
    "# Import dependencies\n",
    "import matplotlib.pyplot as plt\n",
    "import pandas as pd\n",
    "import numpy as np\n",
    "import requests\n",
    "import gmaps\n",
    "import os"
   ]
  },
  {
   "cell_type": "code",
   "execution_count": null,
   "metadata": {},
   "outputs": [],
   "source": [
    "# Narrative/intro goes here"
   ]
  },
  {
   "cell_type": "code",
   "execution_count": null,
   "metadata": {},
   "outputs": [],
   "source": [
    "# Stacy start"
   ]
  },
  {
   "cell_type": "code",
   "execution_count": null,
   "metadata": {},
   "outputs": [],
   "source": [
    "# Plot the naturalization data\n",
    "\n",
    "## CLEAN THIS UP TO MATCH CORRECT VARIABLES\n",
    "\n",
    "plt.plot(naturalization.index, naturalization[['Petitions filed', 'Naturalized, total', 'Petitions denied']])\n",
    "plt.tight_layout()\n",
    "\n",
    "# Spike in 1996 - and general increase - can be explained by this bill: https://www.vox.com/2016/4/28/11515132/iirira-clinton-immigration\n",
    "# Need to plot just the 2000 - 2010, then 2015 - 2018 data - to examine whether there are trends"
   ]
  },
  {
   "cell_type": "code",
   "execution_count": null,
   "metadata": {},
   "outputs": [],
   "source": [
    "# Stacy end"
   ]
  },
  {
   "cell_type": "code",
   "execution_count": null,
   "metadata": {},
   "outputs": [],
   "source": [
    "# Kana start"
   ]
  },
  {
   "cell_type": "code",
   "execution_count": null,
   "metadata": {},
   "outputs": [],
   "source": [
    "# Kana end"
   ]
  },
  {
   "cell_type": "code",
   "execution_count": null,
   "metadata": {},
   "outputs": [],
   "source": [
    "# Satish start"
   ]
  },
  {
   "cell_type": "code",
   "execution_count": null,
   "metadata": {},
   "outputs": [],
   "source": [
    "# Satish end"
   ]
  },
  {
   "cell_type": "code",
   "execution_count": null,
   "metadata": {},
   "outputs": [],
   "source": [
    "#Umar start\n",
    "age = \"./Output_files/la_age.csv\"\n",
    "age_pd =pd.read_csv(age)\n",
    "New_age_pd = age_pd.rename(columns={\"Lawful Permanent Resident 2009\": \"Lawful 2009\"})\n",
    "New_age_pd.head()"
   ]
  },
  {
   "cell_type": "code",
   "execution_count": null,
   "metadata": {},
   "outputs": [],
   "source": [
    "Final_age = New_age_pd.set_index(\"Age\")\n",
    "New_age = Final_age.iloc[1:,:]\n",
    "New_age"
   ]
  },
  {
   "cell_type": "code",
   "execution_count": null,
   "metadata": {},
   "outputs": [],
   "source": [
    "fig, axes = plt.subplots(1,4, figsize=(15,9))\n",
    "for ax, col in zip(axes, New_age.columns):\n",
    "    ax.pie(New_age[col], labels=New_age.index, autopct='%.2f')\n",
    "    ax.set(ylabel='', title=col, aspect='equal')\n",
    "axes[0].legend(bbox_to_anchor=(0, 0.5))\n",
    "fig.savefig('your_file.png')\n",
    "plt.show()"
   ]
  },
  {
   "cell_type": "code",
   "execution_count": null,
   "metadata": {},
   "outputs": [],
   "source": [
    "marital = \"./Output_files/la_marital.csv\"\n",
    "marital_pd =pd.read_csv(marital)\n",
    "marital_pd.head()"
   ]
  },
  {
   "cell_type": "code",
   "execution_count": null,
   "metadata": {},
   "outputs": [],
   "source": [
    "Final_marital = marital_pd.set_index(\"Marital Status\")\n",
    "New_marital = Final_marital.iloc[:,:]\n",
    "New_marital"
   ]
  },
  {
   "cell_type": "code",
   "execution_count": null,
   "metadata": {},
   "outputs": [],
   "source": [
    "fig, axes = plt.subplots(1,4, figsize=(15,9))\n",
    "for ax, col in zip(axes, New_marital.columns):\n",
    "    ax.pie(New_marital[col], labels=New_marital.index, autopct='%.2f')\n",
    "    ax.set(ylabel='', title=col, aspect='equal')\n",
    "axes[0].legend(bbox_to_anchor=(0, 0.5))\n",
    "fig.savefig('your_file.png')\n",
    "plt.show()"
   ]
  },
  {
   "cell_type": "code",
   "execution_count": null,
   "metadata": {},
   "outputs": [],
   "source": [
    "sex = \"./Output_files/la_sex.csv\"\n",
    "sex_pd =pd.read_csv(sex)\n",
    "New_sex_pd = sex_pd.rename(columns={\"Unnamed: 0\": \"Sex\"})\n",
    "New_sex_pd.head()"
   ]
  },
  {
   "cell_type": "code",
   "execution_count": null,
   "metadata": {},
   "outputs": [],
   "source": [
    "Final_sex = New_sex_pd.set_index(\"Sex\")\n",
    "Graph_sex = Final_sex.iloc[1:,:]\n",
    "Graph_sex"
   ]
  },
  {
   "cell_type": "code",
   "execution_count": null,
   "metadata": {},
   "outputs": [],
   "source": [
    "fig, axes = plt.subplots(1,4, figsize=(15,9))\n",
    "for ax, col in zip(axes, Graph_sex.columns):\n",
    "    ax.pie(Graph_sex[col], labels=Graph_sex.index, autopct='%.2f')\n",
    "    ax.set(ylabel='', title=col, aspect='equal')\n",
    "axes[0].legend(bbox_to_anchor=(0, 0.5))\n",
    "fig.savefig('your_file.png')\n",
    "plt.show()"
   ]
  },
  {
   "cell_type": "code",
   "execution_count": null,
   "metadata": {},
   "outputs": [],
   "source": [
    "# Umar End"
   ]
  },
  {
   "cell_type": "code",
   "execution_count": null,
   "metadata": {},
   "outputs": [],
   "source": [
    "# Narrative/summary goes here"
   ]
  }
 ],
 "metadata": {
  "kernelspec": {
   "display_name": "Python 3",
   "language": "python",
   "name": "python3"
  },
  "language_info": {
   "codemirror_mode": {
    "name": "ipython",
    "version": 3
   },
   "file_extension": ".py",
   "mimetype": "text/x-python",
   "name": "python",
   "nbconvert_exporter": "python",
   "pygments_lexer": "ipython3",
   "version": "3.7.4"
  }
 },
 "nbformat": 4,
 "nbformat_minor": 4
}
