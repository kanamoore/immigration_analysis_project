{
 "cells": [
  {
   "cell_type": "code",
   "execution_count": null,
   "metadata": {},
   "outputs": [],
   "source": [
    "# Import dependencies\n",
    "import matplotlib.pyplot as plt\n",
    "import pandas as pd\n",
    "import numpy as np\n",
    "import requests\n",
    "import folium\n",
    "import gmaps\n",
    "import os"
   ]
  },
  {
   "cell_type": "code",
   "execution_count": null,
   "metadata": {},
   "outputs": [],
   "source": [
    "# Narrative/intro goes here"
   ]
  },
  {
   "cell_type": "code",
   "execution_count": null,
   "metadata": {},
   "outputs": [],
   "source": [
    "# Stacy start"
   ]
  },
  {
   "cell_type": "code",
   "execution_count": null,
   "metadata": {},
   "outputs": [],
   "source": [
    "# Plot the naturalization data\n",
    "\n",
    "## CLEAN THIS UP TO MATCH CORRECT VARIABLES\n",
    "\n",
    "plt.plot(naturalization.index, naturalization[['Petitions filed', 'Naturalized, total', 'Petitions denied']])\n",
    "plt.tight_layout()\n",
    "\n",
    "# Spike in 1996 - and general increase - can be explained by this bill: https://www.vox.com/2016/4/28/11515132/iirira-clinton-immigration\n",
    "# Need to plot just the 2000 - 2010, then 2015 - 2018 data - to examine whether there are trends"
   ]
  },
  {
   "cell_type": "code",
   "execution_count": null,
   "metadata": {},
   "outputs": [],
   "source": [
    "# Stacy end"
   ]
  },
  {
   "cell_type": "code",
   "execution_count": null,
   "metadata": {},
   "outputs": [],
   "source": [
    "# Kana start"
   ]
  },
  {
   "cell_type": "code",
   "execution_count": null,
   "metadata": {},
   "outputs": [],
   "source": [
    "# Read immigrants by state data\n",
    "complete_state_df = pd.read_csv(\"Output_files,Immigrants By State.csv\")\n",
    "complete_state_df.head()"
   ]
  },
  {
   "cell_type": "code",
   "execution_count": null,
   "metadata": {},
   "outputs": [],
   "source": [
    "# Initialize the map:\n",
    "map_2000 = folium.Map(location=[37, -102], zoom_start=4)\n",
    "state_geo = os.path.join(\"Resources/us-states.json\")\n",
    "\n",
    "# Add the color for the chloropleth:\n",
    "map_2000.choropleth(geo_data = state_geo,\n",
    "                    name = 'choropleth',\n",
    "                    data = complete_state_df,\n",
    "                    columns = ['State', '2000'],\n",
    "                    key_on = 'feature.id',\n",
    "                    fill_color = 'OrRd',\n",
    "                    fill_opacity = 0.7,\n",
    "                    line_opacity = 0.2,\n",
    "                    legend_name='Number of Immigrants in 2000')\n",
    "\n",
    "folium.LayerControl().add_to(map_2000)\n",
    "\n",
    "# Show the map\n",
    "map_2000"
   ]
  },
  {
   "cell_type": "code",
   "execution_count": null,
   "metadata": {},
   "outputs": [],
   "source": [
    "# Initialize the map\n",
    "state_geo = os.path.join(\"Resources/us-states.json\")\n",
    "map_2018 = folium.Map(location=[37, -102], zoom_start=4)\n",
    " \n",
    "# Add the color for the chloropleth:\n",
    "map_2018.choropleth(geo_data = state_geo,\n",
    "                    name = 'choropleth',\n",
    "                    data = complete_state_df,\n",
    "                    columns = ['State', '2018'],\n",
    "                    key_on = 'feature.id',\n",
    "                    fill_color = 'OrRd',\n",
    "                    fill_opacity = 0.7,\n",
    "                    line_opacity = 0.2,\n",
    "                    legend_name ='Number of Immigrants in 2018')\n",
    "folium.LayerControl().add_to(map_2018)\n",
    "\n",
    "# Show the map\n",
    "map_2018"
   ]
  },
  {
   "cell_type": "code",
   "execution_count": null,
   "metadata": {},
   "outputs": [],
   "source": [
    "# Read csv file for US population vs immigrants analysis\n",
    "population_comparison = pd.read_csv(\"Output_files/US Population vs Immigrants.csv\")\n",
    "population_comparison"
   ]
  },
  {
   "cell_type": "code",
   "execution_count": null,
   "metadata": {},
   "outputs": [],
   "source": [
    "# Change the figure size\n",
    "plt.figure(figsize = (20,10))\n",
    "\n",
    "# Plot us population vs year\n",
    "plt.plot(population_comparison[\"Year\"],population_comparison[\"US Population\"])\n",
    "\n",
    "# Plot us number of immigrans vs year\n",
    "plt.plot(population_comparison[\"Year\"],population_comparison[\"Number of Immigrants\"])\n",
    "\n",
    "# Set legend\n",
    "plt.legend(['Number of Immigrants', 'US Population'], loc='upper left')\n",
    "\n",
    "# Set title\n",
    "plt.title(\"US Population vs Immigtants Population in U.S. By Year\")\n",
    "\n",
    "# Set xlabel\n",
    "plt.xlabel(\"Year\")\n",
    "\n",
    "# Set ylabel\n",
    "plt.ylabel(\"Population\")\n",
    "\n",
    "# Change ticker label to plain from scientific\n",
    "plt.ticklabel_format(style='plain', axis='y', scilimits=(0,0))\n",
    "\n",
    "# Show the plot\n",
    "plt.show()"
   ]
  },
  {
   "cell_type": "code",
   "execution_count": null,
   "metadata": {},
   "outputs": [],
   "source": [
    "# Kana end"
   ]
  },
  {
   "cell_type": "code",
   "execution_count": null,
   "metadata": {},
   "outputs": [],
   "source": [
    "# Satish start"
   ]
  },
  {
   "cell_type": "code",
   "execution_count": null,
   "metadata": {},
   "outputs": [],
   "source": [
    "# Satish end"
   ]
  },
  {
   "cell_type": "code",
   "execution_count": null,
   "metadata": {},
   "outputs": [],
   "source": [
    "# Umar start"
   ]
  },
  {
   "cell_type": "code",
   "execution_count": null,
   "metadata": {},
   "outputs": [],
   "source": [
    "# Umar End"
   ]
  },
  {
   "cell_type": "code",
   "execution_count": null,
   "metadata": {},
   "outputs": [],
   "source": [
    "# Narrative/summary goes here"
   ]
  }
 ],
 "metadata": {
  "kernelspec": {
   "display_name": "Python 3",
   "language": "python",
   "name": "python3"
  },
  "language_info": {
   "codemirror_mode": {
    "name": "ipython",
    "version": 3
   },
   "file_extension": ".py",
   "mimetype": "text/x-python",
   "name": "python",
   "nbconvert_exporter": "python",
   "pygments_lexer": "ipython3",
   "version": "3.7.4"
  }
 },
 "nbformat": 4,
 "nbformat_minor": 2
}
