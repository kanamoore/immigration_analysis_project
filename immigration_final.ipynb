{
 "cells": [
  {
   "cell_type": "code",
   "execution_count": null,
   "metadata": {},
   "outputs": [
    {
     "ename": "ModuleNotFoundError",
     "evalue": "No module named 'folium'",
     "output_type": "error",
     "traceback": [
      "\u001b[1;31m---------------------------------------------------------------------------\u001b[0m",
      "\u001b[1;31mModuleNotFoundError\u001b[0m                       Traceback (most recent call last)",
      "\u001b[1;32m<ipython-input-1-d73debcc89da>\u001b[0m in \u001b[0;36m<module>\u001b[1;34m\u001b[0m\n\u001b[0;32m      4\u001b[0m \u001b[1;32mimport\u001b[0m \u001b[0mnumpy\u001b[0m \u001b[1;32mas\u001b[0m \u001b[0mnp\u001b[0m\u001b[1;33m\u001b[0m\u001b[1;33m\u001b[0m\u001b[0m\n\u001b[0;32m      5\u001b[0m \u001b[1;32mimport\u001b[0m \u001b[0mrequests\u001b[0m\u001b[1;33m\u001b[0m\u001b[1;33m\u001b[0m\u001b[0m\n\u001b[1;32m----> 6\u001b[1;33m \u001b[1;32mimport\u001b[0m \u001b[0mfolium\u001b[0m\u001b[1;33m\u001b[0m\u001b[1;33m\u001b[0m\u001b[0m\n\u001b[0m\u001b[0;32m      7\u001b[0m \u001b[1;32mimport\u001b[0m \u001b[0mgmaps\u001b[0m\u001b[1;33m\u001b[0m\u001b[1;33m\u001b[0m\u001b[0m\n\u001b[0;32m      8\u001b[0m \u001b[1;32mimport\u001b[0m \u001b[0mos\u001b[0m\u001b[1;33m\u001b[0m\u001b[1;33m\u001b[0m\u001b[0m\n",
      "\u001b[1;31mModuleNotFoundError\u001b[0m: No module named 'folium'"
     ]
    }
   ],
   "source": [
    "# Import dependencies\n",
    "import matplotlib.pyplot as plt\n",
    "import pandas as pd\n",
    "import numpy as np\n",
    "import requests\n",
    "import folium\n",
    "import gmaps\n",
    "import os\n",
    "from expected import expected\n",
    "from countryinfo import CountryInfo\n",
    "from config import gkey"
   ]
  },
  {
   "cell_type": "code",
   "execution_count": null,
   "metadata": {},
   "outputs": [],
   "source": [
    "# Narrative/intro goes here"
   ]
  },
  {
   "cell_type": "code",
   "execution_count": null,
   "metadata": {},
   "outputs": [],
   "source": [
    "# Stacy start"
   ]
  },
  {
   "cell_type": "code",
   "execution_count": null,

   "metadata": {},
   "outputs": [],
   "source": [
    "# Import naturalization data\n",
    "filename = 'naturalization_filed_denied.csv'\n",
    "path = os.path.join('.', 'Output_files', filename)\n",
    "nat_df = pd.read_csv(path)\n",
    "\n",
    "nat_df.set_index(keys='Year', inplace=True)"
   ]
  },
  {
   "cell_type": "markdown",
   "metadata": {},
   "source": [
    "## Overall US naturalization trends"
   ]
  },
  {
   "cell_type": "code",
   "execution_count": null,
   "metadata": {},
   "outputs": [],
   "source": [
    "# Descriptive statistics\n",
    "\n",
    "# What is the minimum number of petitions filed, denied, and citizens naturalized, and what year did they occur?\n",
    "filed_min = nat_df['Petitions filed'].min()\n",
    "denied_min = nat_df['Petitions denied'].min()\n",
    "naturalized_min = nat_df['Naturalized, total'].min()\n",
    "\n",
    "print(f\"MINIMUMS: Petitions filed: {filed_min} | Petitions denied: {denied_min} | Naturalized: {naturalized_min}\")\n",
    "\n",
    "# denied_min = nat_df['Petitions denied'].min()\n",
    "print(f\"YEARS: {nat_df[['Petitions filed', 'Petitions denied', 'Naturalized, total']].idxmin().values}\")\n",
    "\n",
    "# What is the maximum number of petitions filed, denied, and citizens naturalized, and what year did they occur?\n",
    "filed_max = nat_df['Petitions filed'].max()\n",
    "denied_max = nat_df['Petitions denied'].max()\n",
    "naturalized_max = nat_df['Naturalized, total'].max()\n",
    "\n",
    "print(f\"MAXIMUMS: Petitions filed: {filed_max} | Petitions denied: {denied_max} | Naturalized: {naturalized_max}\")\n",
    "\n",
    "# denied_min = nat_df['Petitions denied'].min()\n",
    "print(f\"YEARS: {nat_df[['Petitions filed', 'Petitions denied', 'Naturalized, total']].idxmax().values}\")\n",
    "\n",
    "# What is the average number of petitions filed, denied, and citizens naturalized?\n",
    "filed_mean = nat_df['Petitions filed'].mean()\n",
    "denied_mean = nat_df['Petitions denied'].mean()\n",
    "naturalized_mean = nat_df['Naturalized, total'].mean()\n",
    "\n",
    "print(f\"AVERAGE PER YEAR (MEAN): Petitions filed: {round(filed_mean,2)} | Petitions denied: {round(denied_mean,2)} | Naturalized: {round(naturalized_mean,2)}\")"
   ]
  },
  {
   "cell_type": "markdown",
   "metadata": {},
   "source": [
    "### Takeaways\n",
    "* **1907 saw the lowest number of petitions filed and denied and naturalizations.** There were very restrictive immigration policies in place prior to 1907, particularly related to specific nationalities. The Immigration Act of 1907 paved the way for increases in overall immigration numbers over time.\n",
    "* **The late 1990's and early 2000's saw the greatest number of petitions filed and denied and naturalizations.** The peak in petitions denied is worth exploring.\n",
    "* **There was roughly a 10:1 ratio between the average number of petitions filed and denied each year.**\n",
    "* **On average, the US naturalized around 270,000 immigrants per year.**"
   ]
  },
  {
   "cell_type": "code",
   "execution_count": null,
   "metadata": {},
   "outputs": [],
   "source": [
    "# Plot the naturalization data - overall\n",
    "\n",
    "plt.figure(figsize=(10,6))\n",
    "plt.plot(nat_df.index, nat_df[['Petitions filed', 'Petitions denied', 'Naturalized, total']])\n",
    "plt.legend(loc='best', labels=['Petitions filed', 'Petitions denied', 'Naturalized, total'])\n",
    "plt.xlim(1907, 2020)\n",
    "plt.ylim(-1,1450000)\n",
    "plt.xticks(np.arange(1910, 2021, step=10))\n",
    "plt.grid(b=True, axis='y', color='#cccccc')\n",
    "\n",
    "# Add points of interest to grid\n",
    "plt.annotate(xy=(1915,300000), s='World War I begins')\n",
    "plt.vlines(x=1914.8, ymin = 0, ymax = 1450000, linestyle='dashed', alpha=0.2)\n",
    "plt.annotate(xy=(1940,460000), s='World War II begins')\n",
    "plt.vlines(x=1939.75, ymin = 0, ymax = 1450000, linestyle='dashed', alpha=0.2)\n",
    "plt.annotate(xy=(1997,250000), s='IIRIRA')\n",
    "plt.vlines(x=1996.75, ymin = 0, ymax = 1450000, linestyle='dashed', alpha=0.2)\n",
    "plt.annotate(xy=(2002,400000), s='9/11')\n",
    "plt.vlines(x=2001.75, ymin = 0, ymax = 1450000, linestyle='dashed', alpha=0.2)\n",
    "plt.annotate(xy=(2003,325000), s='Border wall EO')\n",
    "plt.vlines(x=2017, ymin = 0, ymax = 1450000, linestyle='dashed', alpha=0.2)\n",
    "plt.xlabel(\"Year\")\n",
    "plt.ylabel(\"Naturalizations\")\n",
    "plt.title(\"Trends in US naturalizations, 1907-2018\")\n",
    "plt.tight_layout()\n",
    "\n",
    "# Spike in 1996 - and general increase - can be explained by this bill: https://www.vox.com/2016/4/28/11515132/iirira-clinton-immigration"
   ]
  },
  {
   "cell_type": "markdown",
   "metadata": {},
   "source": [
    "### Takeaways\n",
    "We observed large spikes in petitions filed and naturalizations following globally disruptive events in the early 20th century (the World Wars). Towards the start of the 21st century, we see a spike in the number of petitions denied, likely due to the introduction of a restrictive law called [IIRIA](https://www.law.cornell.edu/wex/illegal_immigration_reform_and_immigration_responsibility_act) during the Clinton years."
   ]
  },
  {
   "cell_type": "markdown",
   "metadata": {},
   "source": [
    "## Major events and overall immigration rates in detail\n",
    "\n",
    "### 9/11 (September 2001)"
   ]
  },
  {
   "cell_type": "code",
   "execution_count": null,
   "metadata": {},
   "outputs": [],
   "source": [
    "# Pre and post 9/11\n",
    "# create df\n",
    "nat_911 = nat_df.loc[1999:2004,:]\n",
    "\n",
    "# plot data\n",
    "plt.figure(figsize=(4,4))\n",
    "plt.plot(nat_911.index, nat_911[['Petitions filed', 'Petitions denied', 'Naturalized, total']])\n",
    "plt.legend(loc='best', labels=['Filed', 'Denied', 'Naturalized'])\n",
    "plt.xlim(1999,2003)\n",
    "plt.ylim(0,950000)\n",
    "plt.xticks(np.arange(1999,2005))\n",
    "plt.yticks(np.arange(0,1000000, step=100000))\n",
    "plt.annotate(xy=(2001.9,400000), s='9/11')\n",
    "plt.vlines(x=2001.75, ymin = 0, ymax = 1450000, linestyle='dashed', alpha=0.2)\n",
    "plt.xlabel(\"Year\")\n",
    "plt.ylabel(\"Naturalizations\")\n",
    "plt.title(\"Trends in US naturalizations, before and after 9/11\")"
   ]
  },
  {
   "cell_type": "markdown",
   "metadata": {},
   "source": [
    "### Trump's \"border wall\" executive order (January 2017)"
   ]
  },
  {
   "cell_type": "code",
   "execution_count": null,
   "metadata": {},
   "outputs": [],
   "source": [
    "# Pre and post Trump\n",
    "# create df\n",
    "nat_trump = nat_df.loc[2015:2018,:]\n",
    "\n",
    "# plot data\n",
    "plt.figure(figsize=(5.75,4))\n",
    "plt.plot(nat_trump.index, nat_trump[['Petitions filed', 'Petitions denied', 'Naturalized, total']])\n",
    "plt.legend(loc='lower left', labels=['Filed', 'Denied', 'Naturalized'], bbox_to_anchor=(1, 0.7))\n",
    "plt.annotate(xy=(2016,400000), s='Border wall EO')\n",
    "plt.vlines(x=2017.1, ymin = 0, ymax = 1450000, linestyle='dashed', alpha=0.2)\n",
    "plt.xlabel(\"Year\")\n",
    "plt.ylabel(\"Naturalizations\")\n",
    "plt.title(\"Trends in US naturalizations, before and after border wall EO\")\n",
    "plt.xlim(2015,2018)\n",
    "plt.ylim(0,1100000)\n",
    "plt.xticks(np.arange(2015,2019))\n",
    "plt.yticks(np.arange(0,1100000, step=200000))\n",
    "plt.tight_layout()"
   ]
  },
  {
   "cell_type": "markdown",
   "metadata": {},
   "source": [
    "### Illegal Immigration Reform and Immigration Responsibility Act (IIRIA) (1996)"
   ]
  },
  {
   "cell_type": "code",
   "execution_count": null,
   "metadata": {},
   "outputs": [],
   "source": [
    "# Pre and post IIRIRA\n",
    "# create df\n",
    "nat_iiria = nat_df.loc[1995:1999,:]\n",
    "\n",
    "# plot data\n",
    "plt.figure(figsize=(5.75,4))\n",
    "plt.plot(nat_iiria.index, nat_iiria[['Petitions filed', 'Petitions denied', 'Naturalized, total']])\n",
    "plt.legend(loc='lower left', labels=['Filed', 'Denied', 'Naturalized'], bbox_to_anchor=(1, 0.7))\n",
    "plt.xlabel(\"Year\")\n",
    "plt.ylabel(\"Naturalizations\")\n",
    "plt.title(\"Trends in US naturalizations, before and after IIRIRA\")\n",
    "plt.annotate(xy=(1996.9,250000), s='IIRIRA')\n",
    "plt.vlines(x=1996.75, ymin = 0, ymax = 1500000, linestyle='dashed', alpha=0.2)\n",
    "plt.xlim(1995,1999)\n",
    "plt.ylim(0,1500000)\n",
    "plt.xticks(np.arange(1995,2000))\n",
    "plt.yticks(np.arange(0,1500000, step=200000))\n",
    "plt.tight_layout()"
   ]
  },
  {
   "cell_type": "markdown",
   "metadata": {},
   "source": [
    "### Takeaways\n",
    "* Post 9/11, we saw a downward trend in overall number of petitions filed and denied and naturalizations. \n",
    "* Post Trump border wall EO, we saw a downward trend in the overall number of petitions filed, but no major rise in the number of petitions denied. Interestingly, the number of naturalizations actually increased post-Order.\n",
    "* IIRIA appears to have had the biggest effect upon the number of petitions filed, which dramatically decreased, and a major increase in number of petitions denied."
   ]
  },
  {
   "cell_type": "markdown",
   "metadata": {},
   "source": [
    "## Are these changes statistically significant?\n",
    "### IIRIA"
   ]
  },
  {
   "cell_type": "code",
   "execution_count": null,
   "metadata": {},
   "outputs": [],
   "source": [
    "### IIRIA DATA\n",
    "# Are these trends statistically significant? Apply chi-squared test.\n",
    "\n",
    "# Get the sample size for petitions filed, denied\n",
    "# Drop naturalization data (due to lag in how quickly policy changes might affect nat numbers)\n",
    "nat_iiria_df = nat_iiria.drop(columns=['Naturalized, total'])\n",
    "# # Create new column to show petitions in pipeline (return to this if needed)\n",
    "# nat_iiria_df['Petitions in pipeline'] = nat_iiria_df['Petitions filed'] - nat_iiria_df['Petitions denied']\n",
    "nat_total_pet_filed = nat_iiria_df.loc[:,'Petitions filed'].sum()\n",
    "nat_total_pet_denied = nat_iiria_df.loc[:,'Petitions denied'].sum()\n",
    "\n",
    "# Get the sample size for the years\n",
    "nat_95 = nat_iiria_df.loc[1995,:].sum()\n",
    "nat_96 = nat_iiria_df.loc[1996,:].sum()\n",
    "nat_97 = nat_iiria_df.loc[1997,:].sum()\n",
    "nat_98 = nat_iiria_df.loc[1998,:].sum()\n",
    "nat_99 = nat_iiria_df.loc[1999,:].sum()"
   ]
  },
  {
   "cell_type": "code",
   "execution_count": null,
   "metadata": {},
   "outputs": [],
   "source": [
    "# Get population size\n",
    "nat_totals = nat_total_pet_filed + nat_total_pet_denied"
   ]
  },
  {
   "cell_type": "code",
   "execution_count": null,
   "metadata": {},
   "outputs": [],
   "source": [
    "# Get expected values using 'expected' function we imported\n",
    "\n",
    "# Calculate expected value for petitions filed in 95-97 (pre-IIRIA)\n",
    "expected_filed_95 = expected(nat_95, nat_total_pet_filed, nat_totals)\n",
    "expected_filed_96 = expected(nat_96, nat_total_pet_filed, nat_totals)\n",
    "expected_filed_97 = expected(nat_97, nat_total_pet_filed, nat_totals)\n",
    "\n",
    "# Calculate expected value for petitions filed in 98-99 (post-IIRIA)\n",
    "expected_filed_98 = expected(nat_98, nat_total_pet_filed, nat_totals)\n",
    "expected_filed_99 = expected(nat_99, nat_total_pet_filed, nat_totals)\n",
    "\n",
    "# Calculate expected value for petitions denied 95-97\n",
    "expected_denied_95 = expected(nat_95, nat_total_pet_denied, nat_totals)\n",
    "expected_denied_96 = expected(nat_96, nat_total_pet_denied, nat_totals)\n",
    "expected_denied_97 = expected(nat_97, nat_total_pet_denied, nat_totals)\n",
    "\n",
    "# Calculate expected value for petitions denied 98-99\n",
    "expected_denied_98 = expected(nat_98, nat_total_pet_denied, nat_totals)\n",
    "expected_denied_99 = expected(nat_99, nat_total_pet_denied, nat_totals)\n",
    "\n",
    "# Create list so we can loop through these in a moment\n",
    "expected_filed = [expected_filed_95, expected_filed_96, expected_filed_97, expected_filed_98, expected_filed_99]\n",
    "denied = [expected_denied_95, expected_denied_96, expected_denied_97, expected_denied_98, expected_denied_99]"
   ]
  },
  {
   "cell_type": "code",
   "execution_count": null,
   "metadata": {},
   "outputs": [],
   "source": [
    "degrees_freedom = 4\n",
    "crit_value = 9.49"
   ]
  },
  {
   "cell_type": "code",
   "execution_count": null,
   "metadata": {},
   "outputs": [],
   "source": [
    "# Apply chi-squared test for petitions filed and changes over time\n",
    "from scipy.stats import chisquare"
   ]
  },
  {
   "cell_type": "code",
   "execution_count": null,
   "metadata": {},
   "outputs": [],
   "source": [
    "# bracketed values are same as nat_iiria_df['Petitions filed'].values\n",
    "chisquare([959963, 1277403, 1412712,  932957,  765346], f_exp=expected_filed, ddof=degrees_freedom)"
   ]
  },
  {
   "cell_type": "markdown",
   "metadata": {},
   "source": [
    "### Takeaway\n",
    "The difference in the overall number of petitions filed through the years directly preceding and following the implementation of IIRIA is statistically significant. This fact, interpreted alongside the above graphs, suggests that IIRIA directly affected the number of petitions filed in the years following the passing of the Act.\n",
    "\n",
    "### Trump \"border wall\" executive order"
   ]
  },
  {
   "cell_type": "code",
   "execution_count": null,
   "metadata": {},
   "outputs": [],
   "source": [
    "### NATURALIZATION TRENDS FOR PRE AND POST TRUMP POLICY AMONG LATINX IMMIGRANTS\n",
    "\n",
    "# Load in by-country naturalization data\n",
    "filename = 'naturalization_by_country_merged_1990-2018.csv'\n",
    "path = os.path.join('.', 'Output_files', filename)\n",
    "nat_country_df = pd.read_csv(path)\n",
    "\n",
    "nat_country_df.set_index('Unnamed: 0', inplace=True)"
   ]
  },
  {
   "cell_type": "code",
   "execution_count": null,
   "metadata": {},
   "outputs": [],
   "source": [
    "# Calculate expected values\n",
    "latin_countries = ['Mexico', 'Guatemala', 'Honduras', 'Nicaragua', 'El Salvador', 'Costa Rica', 'Panama', 'Belize']\n",
    "latin_df = nat_country_df.loc[latin_countries, :].T\n",
    "latin_df = latin_df.loc[['2014', '2015', '2016', '2017', '2018'],:]\n",
    "pop = latin_df.Mexico + latin_df.Guatemala + latin_df.Honduras + latin_df.Nicaragua + \\\n",
    "                    latin_df['El Salvador'] + latin_df['Costa Rica'] + latin_df['Belize']\n",
    "lat_nat_pop = pop.sum() # Get population size for LatAm naturalized immigrants\n",
    "\n",
    "# Get yearly sample sizes\n",
    "latin_nat_14 = latin_df.loc['2014'].sum()\n",
    "latin_nat_15 = latin_df.loc['2015'].sum()\n",
    "latin_nat_16 = latin_df.loc['2016'].sum()\n",
    "latin_nat_17 = latin_df.loc['2017'].sum()\n",
    "latin_nat_18 = latin_df.loc['2018'].sum()\n",
    "\n",
    "# Get by-country sample sizes\n",
    "mex_nat = latin_df.Mexico.sum()\n",
    "guat_nat = latin_df.Guatemala.sum()\n",
    "hond_nat = latin_df.Honduras.sum()\n",
    "nic_nat = latin_df.Nicaragua.sum()\n",
    "elsal_nat = latin_df['El Salvador'].sum()\n",
    "costa_nat = latin_df['Costa Rica'].sum()\n",
    "bel_nat = latin_df['Belize'].sum()\n",
    "\n",
    "degrees_freedom_lat = 24\n",
    "\n",
    "# Expected values for Mexico\n",
    "expected_mex_nat_14 = expected(latin_nat_14, mex_nat, lat_nat_pop)\n",
    "expected_mex_nat_15 = expected(latin_nat_15, mex_nat, lat_nat_pop)\n",
    "expected_mex_nat_16 = expected(latin_nat_16, mex_nat, lat_nat_pop)\n",
    "expected_mex_nat_17 = expected(latin_nat_17, mex_nat, lat_nat_pop)\n",
    "expected_mex_nat_18 = expected(latin_nat_18, mex_nat, lat_nat_pop)\n",
    "\n",
    "# Expected values for Guatemala\n",
    "expected_guat_nat_14 = expected(latin_nat_14, guat_nat, lat_nat_pop)\n",
    "expected_guat_nat_15 = expected(latin_nat_15, guat_nat, lat_nat_pop)\n",
    "expected_guat_nat_16 = expected(latin_nat_16, guat_nat, lat_nat_pop)\n",
    "expected_guat_nat_17 = expected(latin_nat_17, guat_nat, lat_nat_pop)\n",
    "expected_guat_nat_18 = expected(latin_nat_18, guat_nat, lat_nat_pop)\n",
    "\n",
    "# Expected values for Honduras\n",
    "expected_hond_nat_14 = expected(latin_nat_14, hond_nat, lat_nat_pop)\n",
    "expected_hond_nat_15 = expected(latin_nat_15, hond_nat, lat_nat_pop)\n",
    "expected_hond_nat_16 = expected(latin_nat_16, hond_nat, lat_nat_pop)\n",
    "expected_hond_nat_17 = expected(latin_nat_17, hond_nat, lat_nat_pop)\n",
    "expected_hond_nat_18 = expected(latin_nat_18, hond_nat, lat_nat_pop)\n",
    "\n",
    "mexico_expected = [expected_mex_nat_14, expected_mex_nat_15, expected_mex_nat_16, expected_mex_nat_17, expected_mex_nat_18]\n",
    "guatemala_expected = [expected_guat_nat_14, expected_guat_nat_15, expected_guat_nat_16, expected_guat_nat_17, expected_guat_nat_18]\n",
    "honduras_expected = [expected_hond_nat_14, expected_hond_nat_15, expected_hond_nat_16, expected_hond_nat_17, expected_hond_nat_18]"
   ]
  },
  {
   "cell_type": "code",
   "execution_count": null,
   "metadata": {},
   "outputs": [],
   "source": [
    "# Crit value is 36.42\n",
    "print(chisquare(latin_df.Mexico, f_exp=mexico_expected))\n",
    "print(chisquare(latin_df.Guatemala, f_exp=guatemala_expected))\n",
    "print(chisquare(latin_df.Honduras, f_exp=honduras_expected))"
   ]
  },
  {
   "cell_type": "code",
   "execution_count": null,
   "metadata": {},
   "outputs": [],
   "source": [
    "latin_df.reset_index(inplace=True) # \n",
    "latin_df.rename(columns={'index': 'Year'}, inplace=True)\n",
    "latin_df.plot(y=['Mexico', 'Guatemala', 'Honduras'], kind=\"bar\", logy=True)\n",
    "plt.xticks(np.arange(5), ('2014', '2015', '2016', '2017', '2018'), rotation=0)\n",
    "plt.title(\"Number of naturalizations, pre- and post-'border wall' EO\")\n",
    "plt.ylabel(\"Naturalizations (log)\")\n",
    "plt.xlabel(\"Year\")\n",
    "plt.legend(title=None)"
   ]
  },
  {
   "cell_type": "markdown",
   "metadata": {},
   "source": [
    "### Takeaway\n",
    "We found statistically significant differences for naturalization rates of Mexican, Guatemalan, and Honduran immigrants during the years immediately preceding and following the signing of the Trump \"border wall\" executive order. Surprisingly, these rates actually *increased*, rather than decreased, for Mexican and Honduran immigrants. Guatemalan naturalizations appear to stay roughly the same over time. However, these results should be interpreted carefully—naturalization is a process that takes time, and the individuals who were naturalized in 2017 and 2018 likely had been in the process of naturalization for months if not years before the EO was signed.\n",
    "\n",
    "### 9/11"
   ]
  },
  {
   "cell_type": "code",
   "execution_count": null,
   "metadata": {},
   "outputs": [],
   "source": [
    "# Calculate expected values\n",
    "muslim_countries =['Afghanistan','Iran','Yemen','Jordan','Saudi Arabia','Sudan','Pakistan','Syria','Oman']\n",
    "muslim_df = nat_country_df.loc[muslim_countries, :].T\n",
    "muslim_df = muslim_df.loc[['1999', '2000', '2005', '2006'],:]\n",
    "pop = muslim_df.Afghanistan + muslim_df.Iran + muslim_df.Jordan + muslim_df['Saudi Arabia'] + \\\n",
    "                    muslim_df.Sudan + muslim_df['Pakistan'] + muslim_df['Syria'] + muslim_df['Oman']\n",
    "muslim_nat_pop = pop.sum() # Get population size for Muslim naturalized immigrants\n",
    "\n",
    "# Get yearly sample sizes\n",
    "muslim_nat_99 = muslim_df.loc['1999'].sum()\n",
    "muslim_nat_00 = muslim_df.loc['2000'].sum()\n",
    "muslim_nat_05 = muslim_df.loc['2005'].sum()\n",
    "muslim_nat_06 = muslim_df.loc['2006'].sum()\n",
    "\n",
    "# Get by-country sample sizes\n",
    "afg_nat = muslim_df.Afghanistan.sum() # analyze\n",
    "iran_nat = muslim_df.Iran.sum() # analyze\n",
    "jor_nat = muslim_df.Jordan.sum()\n",
    "sud_nat = muslim_df.Sudan.sum()\n",
    "saudi_nat = muslim_df['Saudi Arabia'].sum() # analyze\n",
    "pakistan_nat = muslim_df.Pakistan.sum()\n",
    "syr_nat = muslim_df['Syria'].sum()\n",
    "oman_nat = muslim_df['Oman'].sum()\n",
    "\n",
    "degrees_freedom_muslim = 24\n",
    "\n",
    "# Expected values for Afghanistan\n",
    "expected_afg_nat_99 = expected(muslim_nat_99, afg_nat, muslim_nat_pop)\n",
    "expected_afg_nat_00 = expected(muslim_nat_00, afg_nat, muslim_nat_pop)\n",
    "expected_afg_nat_05 = expected(muslim_nat_05, afg_nat, muslim_nat_pop)\n",
    "expected_afg_nat_06 = expected(muslim_nat_06, afg_nat, muslim_nat_pop)\n",
    "\n",
    "# Expected values for Iran\n",
    "expected_iran_nat_99 = expected(muslim_nat_99, iran_nat, muslim_nat_pop)\n",
    "expected_iran_nat_00 = expected(muslim_nat_00, iran_nat, muslim_nat_pop)\n",
    "expected_iran_nat_05 = expected(muslim_nat_05, iran_nat, muslim_nat_pop)\n",
    "expected_iran_nat_06 = expected(muslim_nat_06, iran_nat, muslim_nat_pop)\n",
    "\n",
    "# Expected values for Syria\n",
    "expected_syr_nat_99 = expected(muslim_nat_99, syr_nat, muslim_nat_pop)\n",
    "expected_syr_nat_00 = expected(muslim_nat_00, syr_nat, muslim_nat_pop)\n",
    "expected_syr_nat_05 = expected(muslim_nat_05, syr_nat, muslim_nat_pop)\n",
    "expected_syr_nat_06 = expected(muslim_nat_06, syr_nat, muslim_nat_pop)\n",
    "\n",
    "# Expected values for Saudi Arabia\n",
    "expected_saudi_nat_99 = expected(muslim_nat_99, saudi_nat, muslim_nat_pop)\n",
    "expected_saudi_nat_00 = expected(muslim_nat_00, saudi_nat, muslim_nat_pop)\n",
    "expected_saudi_nat_05 = expected(muslim_nat_05, saudi_nat, muslim_nat_pop)\n",
    "expected_saudi_nat_06 = expected(muslim_nat_06, saudi_nat, muslim_nat_pop)\n",
    "\n",
    "afg_expected = [expected_afg_nat_99, expected_afg_nat_00, expected_afg_nat_05, expected_afg_nat_06]\n",
    "iran_expected = [expected_iran_nat_99, expected_iran_nat_00, expected_iran_nat_05, expected_iran_nat_06]\n",
    "syria_expected = [expected_syr_nat_99, expected_syr_nat_00, expected_syr_nat_05, expected_syr_nat_06]\n",
    "saudi_expected = [expected_saudi_nat_99, expected_saudi_nat_00, expected_saudi_nat_05, expected_saudi_nat_06]"
   ]
  },
  {
   "cell_type": "code",
   "execution_count": null,
   "metadata": {},
   "outputs": [],
   "source": [
    "# Critical value is 41.34\n",
    "\n",
    "print(chisquare(muslim_df.Afghanistan, f_exp=afg_expected))\n",
    "print(chisquare(muslim_df.Iran, f_exp=iran_expected))\n",
    "print(chisquare(muslim_df.Syria, f_exp=syria_expected))\n",
    "print(chisquare(muslim_df['Saudi Arabia'], f_exp=saudi_expected))"
   ]
  },
  {
   "cell_type": "code",
   "execution_count": null,
   "metadata": {},
   "outputs": [],
   "source": [
    "muslim_df.reset_index(inplace=True) # \n",
    "muslim_df.rename(columns={'index': 'Year'}, inplace=True)\n",
    "muslim_df.plot(y=['Afghanistan', 'Iran', 'Syria', 'Saudi Arabia'], kind=\"bar\")\n",
    "plt.xticks(np.arange(4), ('1999', '2000', '2005', '2006'), rotation=0)\n",
    "plt.title(\"Number of naturalizations, pre- and post-9/11\")\n",
    "plt.ylabel(\"Naturalizations\")\n",
    "plt.xlabel(\"Year\")\n",
    "plt.legend(title=None)"
   ]
  },
  {
   "cell_type": "markdown",
   "metadata": {},
   "source": [
    "### Takeaway\n",
    "We found statistically significant differences in the pre- and post-9/11 naturalization numbers for Afghan, Iranian, Syrian, and Saudi Arabian immigrants. We tried to account for the time-lag in immigration by sampling for 4-5 years following 9/11, rather than immediately following. Interestingly, though the number of naturalizations for Iranian immigrants dropped substantially and also noticably for Afghans, numbers for Saudi Arabians increased."
   ]
  },
  {
   "cell_type": "code",
   "execution_count": null,
   "metadata": {},
   "outputs": [],
   "source": [


    "# Are these trends statistically significant? Apply chi-squared test.\n",
    "'''\n",
    "STEPS\n",
    "import by-country naturalization data\n",
    "create pre 9/11 sample for muslim countries 99-00\n",
    "create post 9/11 sample for muslim countries 04-05\n",
    "create pre 9/11 sample for random non-muslim countries (maybe overall immigration that year?)\n",
    "create post 9/11 sample for random non-muslim countries (maybe overall immigration that year?)\n",
    "find expected values for pre 9/11 and post 9/11 muslim countries\n",
    "find degrees of freedom\n",
    "perform chi-square test\n",
    "'''\n",
    "\n",
    "# Get the sample size for petitions filed, denied\n",
    "# Drop naturalization data (due to lag in how quickly policy changes might affect nat numbers)\n",
    "nat_iiria_df = nat_iiria.drop(columns=['Naturalized, total'])\n",
    "# # Create new column to show petitions in pipeline (return to this if needed)\n",
    "# nat_iiria_df['Petitions in pipeline'] = nat_iiria_df['Petitions filed'] - nat_iiria_df['Petitions denied']\n",
    "nat_total_pet_filed = nat_iiria_df.loc[:,'Petitions filed'].sum()\n",
    "nat_total_pet_denied = nat_iiria_df.loc[:,'Petitions denied'].sum()\n",
    "\n",
    "# Get the sample size for the years\n",
    "nat_95 = nat_iiria_df.loc[1995,:].sum()\n",
    "nat_96 = nat_iiria_df.loc[1996,:].sum()\n",
    "nat_97 = nat_iiria_df.loc[1997,:].sum()\n",
    "nat_98 = nat_iiria_df.loc[1998,:].sum()\n",
    "nat_99 = nat_iiria_df.loc[1999,:].sum()"
   ]
  },
  {
   "cell_type": "code",
   "execution_count": null,

   "metadata": {},
   "outputs": [],
   "source": [
    "# Get population size\n",
    "nat_totals = nat_total_pet_filed + nat_total_pet_denied"
   ]
  },
  {
   "cell_type": "code",
   "execution_count": null,
   "metadata": {},
   "outputs": [],
   "source": [
    "# Get expected values using 'expected' function we imported\n",
    "\n",
    "# Calculate expected value for petitions filed in 95-97 (pre-IIRIA)\n",
    "expected_filed_95 = expected(nat_95, nat_total_pet_filed, nat_totals)\n",
    "expected_filed_96 = expected(nat_96, nat_total_pet_filed, nat_totals)\n",
    "expected_filed_97 = expected(nat_97, nat_total_pet_filed, nat_totals)\n",
    "\n",
    "# Calculate expected value for petitions filed in 98-99 (post-IIRIA)\n",
    "expected_filed_98 = expected(nat_98, nat_total_pet_filed, nat_totals)\n",
    "expected_filed_99 = expected(nat_99, nat_total_pet_filed, nat_totals)\n",
    "\n",
    "# Calculate expected value for petitions denied 95-97\n",
    "expected_denied_95 = expected(nat_95, nat_total_pet_denied, nat_totals)\n",
    "expected_denied_96 = expected(nat_96, nat_total_pet_denied, nat_totals)\n",
    "expected_denied_97 = expected(nat_97, nat_total_pet_denied, nat_totals)\n",
    "\n",
    "# Calculate expected value for petitions denied 98-99\n",
    "expected_denied_98 = expected(nat_98, nat_total_pet_denied, nat_totals)\n",
    "expected_denied_99 = expected(nat_99, nat_total_pet_denied, nat_totals)\n",
    "\n",
    "# Create list so we can loop through these in a moment\n",
    "expected_filed = [expected_filed_95, expected_filed_96, expected_filed_97, expected_filed_98, expected_filed_99]\n",
    "# denied = [expected_denied_95, expected_denied_96, expected_denied_97, expected_denied_98, expected_denied_99]"
   ]
  },
  {
   "cell_type": "code",
   "execution_count": null,
   "metadata": {},
   "outputs": [],
   "source": [
    "degrees_freedom = 4\n",
    "crit_value = 9.49"
   ]
  },
  {
   "cell_type": "code",
   "execution_count": null,
   "metadata": {},
   "outputs": [],
   "source": [
    "expected_filed"
   ]
  },
  {
   "cell_type": "code",
   "execution_count": null,
   "metadata": {},
   "outputs": [],
   "source": [
    "# Apply chi-squared test for petitions filed and changes over time\n",
    "from scipy.stats import chisquare\n",
    "\n",
    "chisquare(nat_iiria_df['Petitions filed'].values, f_exp=expected_filed, ddof=degrees_freedom)"
   ]
  },
  {
   "cell_type": "code",
   "execution_count": null,
   "metadata": {},
   "outputs": [],
   "source": [
    "# bracketed values are same as nat_iiria_df['Petitions filed'].values\n",
    "chisquare([959963, 1277403, 1412712,  932957,  765346], f_exp=expected_filed, ddof=degrees_freedom)"
   ]
  },
  {
   "cell_type": "code",
   "execution_count": null,

   "metadata": {},
   "outputs": [],
   "source": [
    "# Stacy end"
   ]
  },
  {
   "cell_type": "code",
   "execution_count": null,
   "metadata": {},
   "outputs": [],
   "source": [
    "# Kana start"
   ]
  },
  {
   "cell_type": "markdown",
   "metadata": {},
   "source": [
    "# Number of Immigrants by State "
   ]
  },
  {
   "cell_type": "code",
   "execution_count": null,
   "metadata": {},
   "outputs": [],
   "source": [
    "# Read immigrants by state data\n",
    "complete_state_df = pd.read_csv(\"Output_files/Immigrants By State.csv\")\n",
    "complete_state_df.head()"
   ]
  },
  {
   "cell_type": "code",
   "execution_count": null,
   "metadata": {},
   "outputs": [],
   "source": [
    "# Initialize the map:\n",
    "map_2000 = folium.Map(location=[37, -102], zoom_start=4)\n",
    "state_geo = os.path.join(\"Resources/us-states.json\")\n",
    "\n",
    "# Add the color for the choloropleth:\n",
    "map_2000.choropleth(geo_data = state_geo,\n",
    "                    name = 'choropleth',\n",
    "                    data = complete_state_df,\n",
    "                    columns = ['State', '2000'],\n",
    "                    key_on = 'feature.id',\n",
    "                    fill_color = 'OrRd',\n",
    "                    fill_opacity = 0.7,\n",
    "                    line_opacity = 0.2,\n",
    "                    threshold_scale=[0,500 ,50000, 100000, 200000, 250000],\n",
    "                    legend_name='Number of Immigrants in 2000')\n",
    "\n",
    "# Add the data layer to map\n",
    "folium.LayerControl().add_to(map_2000)\n",
    "\n",
    "# Show the map\n",
    "map_2000"
   ]
  },
  {
   "cell_type": "code",
   "execution_count": null,
   "metadata": {},
   "outputs": [],
   "source": [
    "# Retrive states information that has max and min number of immigrants for 2000\n",
    "max_2000  = complete_state_df.sort_values(\"2000\").tail(1)\n",
    "min_2000  = complete_state_df.sort_values(\"2000\", ascending=False).tail(1)\n",
    "\n",
    "# print(f\"Biggest: {max_2000[\"2000\"]} people immigrated to {max_2000[\"State\"]} in 2000.\")\n",
    "# print(f\"Smallest: {max_2000[\"2000\"]} people immigrated to {max_2000[\"State\"]} in 2000.\")"
   ]
  },
  {
   "cell_type": "code",
   "execution_count": null,
   "metadata": {},
   "outputs": [],
   "source": [
    "# Initialize the map\n",
    "state_geo = os.path.join(\"Resources/us-states.json\")\n",
    "map_2018 = folium.Map(location=[37, -102], zoom_start=4)\n",
    " \n",
    "# Add the color for the choloropleth:\n",
    "map_2018.choropleth(geo_data = state_geo,\n",
    "                    name = 'choropleth',\n",
    "                    data = complete_state_df,\n",
    "                    columns = ['State', '2018'],\n",
    "                    key_on = 'feature.id',\n",
    "                    fill_color = 'OrRd',\n",
    "                    fill_opacity = 0.7,\n",
    "                    line_opacity = 0.2,\n",
    "                    threshold_scale=[0,500 ,50000, 100000, 200000, 250000],\n",
    "                    legend_name ='Number of Immigrants in 2018')\n",
    "\n",
    "# Add the data layer to map\n",
    "folium.LayerControl().add_to(map_2018)\n",
    "\n",
    "# Show the map\n",
    "map_2018"
   ]
  },
  {
   "cell_type": "code",
   "execution_count": null,
   "metadata": {},
   "outputs": [],
   "source": [
    "# Retrive states information that has max and min number of immigrants for 2018\n",
    "max_2018  = complete_state_df.sort_values(\"2018\").tail(1)\n",
    "min_2018  = complete_state_df.sort_values(\"2018\", ascending=False).tail(1)\n",
    "# print(f\"Biggest: {max_2018[\"2018\"]} people immigrated to {max_2018[\"State\"]} in 2018.\")\n",
    "# print(f\"Smallest: {max_2018[\"2018\"]} people immigrated to {max_2018[\"State\"]} in 2018.\")"
   ]
  },
  {
   "cell_type": "markdown",
   "metadata": {},
   "source": [
    "# US Population vs Immigrants Population 1950 - 2017"
   ]
  },
  {
   "cell_type": "code",
   "execution_count": null,
   "metadata": {},
   "outputs": [],
   "source": [
    "# Read csv file for US population vs immigrants analysis\n",
    "population_comparison = pd.read_csv(\"Output_files/US Population vs Immigrants.csv\")\n",
    "population_comparison.head()"
   ]
  },
  {
   "cell_type": "code",
   "execution_count": null,
   "metadata": {},
   "outputs": [],
   "source": [
    "# Change the figure size\n",
    "plt.figure(figsize = (20,10))\n",
    "\n",
    "# Plot us population vs year\n",
    "plt.plot(population_comparison[\"Year\"],population_comparison[\"US Population\"])\n",
    "\n",
    "# Plot us number of immigrans vs year\n",
    "plt.plot(population_comparison[\"Year\"],population_comparison[\"Number of Immigrants\"])\n",
    "\n",
    "# Set legend\n",
    "plt.legend(['US Population','Number of Immigrants'], loc='upper left', fontsize=15)\n",
    "\n",
    "# Set title\n",
    "plt.title(\"US Population vs Immigtants Population in U.S. By Year\", fontsize = 15)\n",
    "\n",
    "# Set xlabel\n",
    "plt.xlabel(\"Year\",fontsize = 15)\n",
    "\n",
    "# Set ylabel\n",
    "plt.ylabel(\"Population\", fontsize = 15)\n",
    "\n",
    "# Change ticker label to plain from scientific\n",
    "plt.ticklabel_format(style='plain', axis='y', scilimits=(0,0))\n",
    "\n",
    "# Show the plot\n",
    "plt.show()\n",
   ]
  },
  {
   "cell_type": "code",
   "execution_count": null,

   "metadata": {},
   "outputs": [],
   "source": [
    "# Read immigrants by state data\n",
    "complete_state_df = pd.read_csv(\"Output_files,Immigrants By State.csv\")\n",
    "complete_state_df.head()"
   ]
  },
  {
   "cell_type": "code",
   "execution_count": null,
   "metadata": {},
   "outputs": [],
   "source": [
    "# Initialize the map:\n",
    "map_2000 = folium.Map(location=[37, -102], zoom_start=4)\n",
    "state_geo = os.path.join(\"Resources/us-states.json\")\n",
    "\n",
    "# Add the color for the chloropleth:\n",
    "map_2000.choropleth(geo_data = state_geo,\n",
    "                    name = 'choropleth',\n",
    "                    data = complete_state_df,\n",
    "                    columns = ['State', '2000'],\n",
    "                    key_on = 'feature.id',\n",
    "                    fill_color = 'OrRd',\n",
    "                    fill_opacity = 0.7,\n",
    "                    line_opacity = 0.2,\n",
    "                    legend_name='Number of Immigrants in 2000')\n",
    "\n",
    "folium.LayerControl().add_to(map_2000)\n",
    "\n",
    "# Show the map\n",
    "map_2000"
   ]
  },
  {
   "cell_type": "code",
   "execution_count": null,
   "metadata": {},
   "outputs": [],
   "source": [
    "# Initialize the map\n",
    "state_geo = os.path.join(\"Resources/us-states.json\")\n",
    "map_2018 = folium.Map(location=[37, -102], zoom_start=4)\n",
    " \n",
    "# Add the color for the chloropleth:\n",
    "map_2018.choropleth(geo_data = state_geo,\n",
    "                    name = 'choropleth',\n",
    "                    data = complete_state_df,\n",
    "                    columns = ['State', '2018'],\n",
    "                    key_on = 'feature.id',\n",
    "                    fill_color = 'OrRd',\n",
    "                    fill_opacity = 0.7,\n",
    "                    line_opacity = 0.2,\n",
    "                    legend_name ='Number of Immigrants in 2018')\n",
    "folium.LayerControl().add_to(map_2018)\n",
    "\n",
    "# Show the map\n",
    "map_2018"
   ]
  },
  {
   "cell_type": "code",
   "execution_count": 2,
   "metadata": {},
   "outputs": [
    {
     "data": {
      "text/html": [
       "<div>\n",
       "<style scoped>\n",
       "    .dataframe tbody tr th:only-of-type {\n",
       "        vertical-align: middle;\n",
       "    }\n",
       "\n",
       "    .dataframe tbody tr th {\n",
       "        vertical-align: top;\n",
       "    }\n",
       "\n",
       "    .dataframe thead th {\n",
       "        text-align: right;\n",
       "    }\n",
       "</style>\n",
       "<table border=\"1\" class=\"dataframe\">\n",
       "  <thead>\n",
       "    <tr style=\"text-align: right;\">\n",
       "      <th></th>\n",
       "      <th>Year</th>\n",
       "      <th>Number of Immigrants</th>\n",
       "      <th>US Population</th>\n",
       "    </tr>\n",
       "  </thead>\n",
       "  <tbody>\n",
       "    <tr>\n",
       "      <td>0</td>\n",
       "      <td>1950</td>\n",
       "      <td>10347400</td>\n",
       "      <td>158804397.0</td>\n",
       "    </tr>\n",
       "    <tr>\n",
       "      <td>1</td>\n",
       "      <td>1960</td>\n",
       "      <td>9738100</td>\n",
       "      <td>186720570.0</td>\n",
       "    </tr>\n",
       "    <tr>\n",
       "      <td>2</td>\n",
       "      <td>1970</td>\n",
       "      <td>9619300</td>\n",
       "      <td>209513340.0</td>\n",
       "    </tr>\n",
       "    <tr>\n",
       "      <td>3</td>\n",
       "      <td>1980</td>\n",
       "      <td>14079900</td>\n",
       "      <td>229476360.0</td>\n",
       "    </tr>\n",
       "    <tr>\n",
       "      <td>4</td>\n",
       "      <td>1990</td>\n",
       "      <td>19767300</td>\n",
       "      <td>252120309.0</td>\n",
       "    </tr>\n",
       "    <tr>\n",
       "      <td>5</td>\n",
       "      <td>2000</td>\n",
       "      <td>31107900</td>\n",
       "      <td>281710914.0</td>\n",
       "    </tr>\n",
       "    <tr>\n",
       "      <td>6</td>\n",
       "      <td>2010</td>\n",
       "      <td>39955900</td>\n",
       "      <td>309011469.0</td>\n",
       "    </tr>\n",
       "    <tr>\n",
       "      <td>7</td>\n",
       "      <td>2011</td>\n",
       "      <td>40377900</td>\n",
       "      <td>311584051.0</td>\n",
       "    </tr>\n",
       "    <tr>\n",
       "      <td>8</td>\n",
       "      <td>2012</td>\n",
       "      <td>40824700</td>\n",
       "      <td>314043885.0</td>\n",
       "    </tr>\n",
       "    <tr>\n",
       "      <td>9</td>\n",
       "      <td>2013</td>\n",
       "      <td>41348100</td>\n",
       "      <td>316400539.0</td>\n",
       "    </tr>\n",
       "    <tr>\n",
       "      <td>10</td>\n",
       "      <td>2014</td>\n",
       "      <td>42391800</td>\n",
       "      <td>318673422.0</td>\n",
       "    </tr>\n",
       "    <tr>\n",
       "      <td>11</td>\n",
       "      <td>2015</td>\n",
       "      <td>43290400</td>\n",
       "      <td>320878312.0</td>\n",
       "    </tr>\n",
       "    <tr>\n",
       "      <td>12</td>\n",
       "      <td>2016</td>\n",
       "      <td>43739300</td>\n",
       "      <td>323015992.0</td>\n",
       "    </tr>\n",
       "    <tr>\n",
       "      <td>13</td>\n",
       "      <td>2017</td>\n",
       "      <td>44525900</td>\n",
       "      <td>325084758.0</td>\n",
       "    </tr>\n",
       "  </tbody>\n",
       "</table>\n",
       "</div>"
      ],
      "text/plain": [
       "    Year  Number of Immigrants  US Population\n",
       "0   1950              10347400    158804397.0\n",
       "1   1960               9738100    186720570.0\n",
       "2   1970               9619300    209513340.0\n",
       "3   1980              14079900    229476360.0\n",
       "4   1990              19767300    252120309.0\n",
       "5   2000              31107900    281710914.0\n",
       "6   2010              39955900    309011469.0\n",
       "7   2011              40377900    311584051.0\n",
       "8   2012              40824700    314043885.0\n",
       "9   2013              41348100    316400539.0\n",
       "10  2014              42391800    318673422.0\n",
       "11  2015              43290400    320878312.0\n",
       "12  2016              43739300    323015992.0\n",
       "13  2017              44525900    325084758.0"
      ]
     },
     "execution_count": 2,
     "metadata": {},
     "output_type": "execute_result"
    }
   ],
   "source": [
    "# Read csv file for US population vs immigrants analysis\n",
    "population_comparison = pd.read_csv(\"Output_files/US Population vs Immigrants.csv\")\n",
    "population_comparison"
   ]
  },
  {
   "cell_type": "code",
   "execution_count": 3,
   "metadata": {},
   "outputs": [
    {
     "data": {
      "image/png": "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\n",
      "text/plain": [
       "<Figure size 1440x720 with 1 Axes>"
      ]
     },
     "metadata": {
      "needs_background": "light"
     },
     "output_type": "display_data"
    }
   ],
   "source": [
    "# Change the figure size\n",
    "plt.figure(figsize = (20,10))\n",
    "\n",
    "# Plot us population vs year\n",
    "plt.plot(population_comparison[\"Year\"],population_comparison[\"US Population\"])\n",
    "\n",
    "# Plot us number of immigrans vs year\n",
    "plt.plot(population_comparison[\"Year\"],population_comparison[\"Number of Immigrants\"])\n",
    "\n",
    "# Set legend\n",
    "plt.legend(['Number of Immigrants', 'US Population'], loc='upper left')\n",
    "\n",
    "# Set title\n",
    "plt.title(\"US Population vs Immigtants Population in U.S. By Year\")\n",
    "\n",
    "# Set xlabel\n",
    "plt.xlabel(\"Year\")\n",
    "\n",
    "# Set ylabel\n",
    "plt.ylabel(\"Population\")\n",
    "\n",
    "# Change ticker label to plain from scientific\n",
    "plt.ticklabel_format(style='plain', axis='y', scilimits=(0,0))\n",
    "\n",
    "# Show the plot\n",
    "plt.show()\n",
   ]
  },
  {
   "cell_type": "code",
   "execution_count": null,
   "metadata": {},
   "outputs": [],
   "source": [
    "# Kana end"
   ]
  },
  {
   "cell_type": "code",
   "execution_count": null,
   "metadata": {},
   "outputs": [],
   "source": [
    "#Satish Start"
   ]
  },
  {
   "cell_type": "markdown",
   "metadata": {},
   "source": [
    "## Lawful Permanent Resident Throughout time"
   ]
  },
  {
   "cell_type": "code",
   "execution_count": null,
   "metadata": {},
   "outputs": [],
   "source": [
    "immigration_df=pd.read_csv(\"Output_files/LPR_Years.csv\")\n",
    "immigration_df.Year=pd.to_numeric(immigration_df.Year)\n",
    "immigration_df.Number=pd.to_numeric(immigration_df.Number)\n",
    "immigration_plt=immigration_df.plot(kind=\"line\", x=\"Year\", y=\"Number\", grid=True, figsize=(15,10),legend=False,title=\"Number of Lawful Permanent Resident Status Vs. Years\")\n",
    "max_arrow_y=immigration_df['Number'].max()\n",
    "max_arrow_x=immigration_df.loc[immigration_df['Number']==max_arrow_y,\"Year\"].reset_index(drop=True)\n",
    "plt.annotate(\n",
    "    f\"maximum {max_arrow_x[0],max_arrow_y}\", \n",
    "    xy=(max_arrow_x[0], max_arrow_y))\n",
    "\n",
    "min_arrow_y=immigration_df['Number'].min()\n",
    "min_arrow_x=immigration_df.loc[immigration_df['Number']==min_arrow_y,\"Year\"].reset_index(drop=True)\n",
    "plt.annotate(\n",
    "    f\"Minimum {min_arrow_x[0],min_arrow_y}\", \n",
    "    xy=(min_arrow_x[0], min_arrow_y))\n",
    "\n",
    "plt.ylabel(\"Number of Lawful Permanent Resident Status\")\n",
    "plt.xlabel(\"Timepoint in Years\")\n",
    "plt.tight_layout()\n",
    "plt.show()\n",
   ]
  },
  {
   "cell_type": "markdown",
   "metadata": {},
   "source": [
    "## Central America LPR before and after Trump election"
   ]
  },
  {
   "cell_type": "code",
   "execution_count": null,
   "metadata": {},
   "outputs": [],
   "source": [
    "Latin_Data_summ_df=pd.read_csv(\"Output_files/Latin_Data_summ_df.csv\")\n",
    "#Bar Graph showing the Central America and Years\n",
    "Latin_Data_summ_df.plot.bar(x='Year', y='Count', rot=0,legend=False)\n",
    "plt.axis('tight')\n",
    "plt.title(\"Number of Immigrants Vs Year\")\n",
    "plt.ylabel(\"Number of Immigrants from Central America\")\n",
    "plt.xlabel(\"Year\")\n",
    "plt.tight_layout()\n",
    "plt.show()\n",
   ]
  },
  {
   "cell_type": "markdown",
   "metadata": {},
   "source": [
    "## Islamic Countries LPR before and after 9/11"
   ]
  },
  {
   "cell_type": "code",
   "execution_count": null,
   "metadata": {},
   "outputs": [],
   "source": [
    "Islam_Country_summ=pd.read_csv(\"Output_files/Islam_Country_summ.csv\")\n",
    "#Ploting the Graph\n",
    "Islam_Country_summ.plot.bar(x='Year', y='Count', rot=0,legend=False)\n",
    "plt.axis('tight')\n",
    "plt.title(\"Number of Immigrants Vs Year\")\n",
    "plt.ylabel(\"Total Number of Immigrants from Arab Countries\")\n",
    "plt.xlabel(\"Year\")\n",
    "plt.tight_layout()\n",
    "plt.show()\n",

    "sex = \"./Output_files/la_sex.csv\"\n",
    "sex_pd =pd.read_csv(sex)\n",
    "New_sex_pd = sex_pd.rename(columns={\"Unnamed: 0\": \"Sex\"})\n",
    "New_sex_pd.head()"

    "Final_sex = New_sex_pd.set_index(\"Sex\")\n",
    "Graph_sex = Final_sex.iloc[1:,:]\n",
    "Graph_sex"
    "fig, axes = plt.subplots(1,4, figsize=(15,9))\n",
    "for ax, col in zip(axes, Graph_sex.columns):\n",
    "    ax.pie(Graph_sex[col], labels=Graph_sex.index, autopct='%.2f')\n",
    "    ax.set(ylabel='', title=col, aspect='equal')\n",
    "axes[0].legend(bbox_to_anchor=(0, 0.5))\n",
    "fig.savefig('your_file.png')\n",
   ]
  },
  {
   "cell_type": "code",
   "execution_count": null,
   "metadata": {},
   "outputs": [],
   "source": [
    "location_df=pd.read_csv(\"Output_files/location_df.csv\").reset_index(drop=True)\n",
    "location_df=location_df.iloc[:, 1:]\n",
    "Country_Data_Merged=pd.read_csv(\"Output_files/Country_Data_Merged.csv\")"
   ]
  },
  {
   "cell_type": "markdown",
   "metadata": {},
   "source": [
    "## Heat Map showing Immigration from all over the world to US"
   ]
  },
  {
   "cell_type": "code",
   "execution_count": null,
   "metadata": {},
   "outputs": [],
   "source": [
    "#Configuring gmpas\n",
    "gmaps.configure(api_key=gkey)\n",
    "\n",
    "fig = gmaps.figure()\n",
    "\n",
    "#Creating Heat Map\n",
    "heat_layer = gmaps.heatmap_layer(location_df, weights=Country_Data_Merged['Total'], \n",
    "                                 dissipating=False, max_intensity=90000,\n",
    "                                 point_radius = 1)\n",
    "#Adding heat maps\n",
    "fig.add_layer(heat_layer)\n",
    "fig"
   ]
  },
  {
   "cell_type": "markdown",
   "metadata": {},
   "source": [
    "## Statistical Analysis between Islamic and Central America's LPR before and after 9/11"
   ]
  },
  {
   "cell_type": "code",
   "execution_count": null,
   "metadata": {},
   "outputs": [],
   "source": [
    "Central_America_Data=['Mexico', 'Guatemala', 'Honduras', 'Nicaragua', 'El Salvador', 'Costa Rica', 'Panama', 'Belize']\n",
    "Latin_Population=Country_Data_Merged[Country_Data_Merged['Region and country of birth'].isin(Central_America_Data)].T\n",
    "Islam_Country_Data=['Afghanistan','Iran','Yemen','Jordan','Saudi Arabia','Sudan','Pakistan','Syria','Oman']\n",
    "Islam_Population=Country_Data_Merged[Country_Data_Merged['Region and country of birth'].isin(Islam_Country_Data)].T"
   ]
  },
  {
   "cell_type": "code",
   "execution_count": null,
   "metadata": {},
   "outputs": [],
   "source": [
    "Latin_Population=Latin_Population[2:]\n",
    "#df.groupby(['']).mean()\n",
    "#new_header_Latin = Country_Data_2018_df.iloc[0]\n",
    "Latin_Population_1999=Latin_Population.loc['1999',:].sum()\n",
    "Latin_Population_2000=Latin_Population.loc['2000',:].sum()\n",
    "Latin_Population_2005=Latin_Population.loc['2005',:].sum()\n",
    "Latin_Population_2006=Latin_Population.loc['2006',:].sum()\n",
    "Islam_Population_1999=Islam_Population.loc['1999',:].sum()\n",
    "Islam_Population_2000=Islam_Population.loc['2000',:].sum()\n",
    "Islam_Population_2005=Islam_Population.loc['2005',:].sum()\n",
    "Islam_Population_2006=Islam_Population.loc['2006',:].sum()\n",
    "List_total=[['1999',Latin_Population_1999,Islam_Population_1999],['2000',Latin_Population_2000,Islam_Population_2000],['2005',Latin_Population_2005,Islam_Population_2005],['2006',Latin_Population_2006,Islam_Population_2006]]"
   ]
  },
  {
   "cell_type": "code",
   "execution_count": null,
   "metadata": {},
   "outputs": [],
   "source": [
    "List_total_df=pd.DataFrame(List_total, columns=['Year','Latin America', 'Islam Country'])\n",
    "Total_1999=Latin_Population_1999+Islam_Population_1999\n",
    "Total_2000=Latin_Population_2000+Islam_Population_2000\n",
    "Total_2005=Latin_Population_2005+Islam_Population_2005\n",
    "Total_2006=Latin_Population_2006+Islam_Population_2006"
   ]
  },
  {
   "cell_type": "code",
   "execution_count": null,
   "metadata": {},
   "outputs": [],
   "source": [
    "Latin_Total=Latin_Population_1999+Latin_Population_2000+Latin_Population_2005+Latin_Population_2006\n",
    "Islam_Total=Islam_Population_1999+Islam_Population_2000+Islam_Population_2005+Islam_Population_2006\n",
    "Grand_Total=Latin_Total+Islam_Total"
   ]
  },
  {
   "cell_type": "code",
   "execution_count": null,
   "metadata": {},
   "outputs": [],
   "source": [
    "expected_99 = expected(Total_1999, Islam_Total, Grand_Total)\n",
    "expected_00 = expected(Total_2000, Islam_Total, Grand_Total)\n",
    "expected_05 = expected(Total_2005, Islam_Total, Grand_Total)\n",
    "expected_06 = expected(Total_2006, Islam_Total, Grand_Total)\n",
    "expected_list=[expected_99,expected_00,expected_05,expected_06]\n",
    "expected_list"
   ]
  },
  {
   "cell_type": "code",
   "execution_count": null,
   "metadata": {},
   "outputs": [],
   "source": [
    "degree_of_freedom=3\n",
    "critical_value=7.815\n",
    "from scipy.stats import chisquare"
   ]
  },
  {
   "cell_type": "code",
   "execution_count": null,
   "metadata": {
    "scrolled": true
   },
   "outputs": [],
   "source": [
    "List_total_df.plot(kind=\"bar\")\n",
    "plt.xticks(np.arange(4), ('1999', '2000', '2005', '2006'), rotation=0)\n",
    "plt.title(\"Number of Central America vs Islam Countries pre/Post 9/11\")\n",
    "plt.ylabel(\"Number of LPR\")\n",
    "plt.xlabel(\"Year\")\n",
    "plt.show()\n",
   ]
  },
  {
   "cell_type": "code",
   "execution_count": null,
   "metadata": {},
   "outputs": [],
   "source": [
    "chisquare([ 675.63878934, 1636.52359017, 1512.45163711,  583.77323195], f_exp=expected_list, ddof=degree_of_freedom)"
   ]
  },
  {
   "cell_type": "markdown",
   "metadata": {},
   "source": [
    "#### We found statistically significant differences for LPR rates between Islamic countries and Central America after 9/11 . Even though the number of immigrants from Islam countries slightly increased as compare to pre 9/11 , but the rate of increase is less than the Central America."
   ]
  },
  {
   "cell_type": "code",
   "execution_count": null,
   "metadata": {},
   "outputs": [],
   "source": [
    "# Satish end"
   ]
  },
  {
   "cell_type": "code",
   "execution_count": null,
   "metadata": {},
   "outputs": [],
   "source": [
    "# Umar start"
   ]
  },
  {
   "cell_type": "code",
   "execution_count": null,
   "metadata": {},
   "outputs": [],
   "source": [
    "# Umar End"
   ]
  },
  {
   "cell_type": "code",
   "execution_count": null,
   "metadata": {},
   "outputs": [],
   "source": [
    "# Narrative/summary goes here"
   ]
  },
  {
   "cell_type": "code",
   "execution_count": null,
   "metadata": {},
   "outputs": [],
   "source": []
  }
 ],
 "metadata": {
  "kernelspec": {
   "display_name": "Python 3",
   "language": "python",
   "name": "python3"
  },
  "language_info": {
   "codemirror_mode": {
    "name": "ipython",
    "version": 3
   },
   "file_extension": ".py",
   "mimetype": "text/x-python",
   "name": "python",
   "nbconvert_exporter": "python",
   "pygments_lexer": "ipython3",
   "version": "3.6.10"
  }
 },
 "nbformat": 4,
 "nbformat_minor": 2
}
