{
 "cells": [
  {
   "cell_type": "code",
   "execution_count": null,
   "metadata": {},
   "outputs": [],
   "source": [
    "# Import dependencies\n",
    "import matplotlib.pyplot as plt\n",
    "import pandas as pd\n",
    "import numpy as np\n",
    "import requests\n",
    "import folium\n",
    "import gmaps\n",
    "import os\n",
    "from expected import expected\n",
    "from countryinfo import CountryInfo\n",
    "from config import gkey"
   ]
  },
  {
   "cell_type": "code",
   "execution_count": null,
   "metadata": {},
   "outputs": [],
   "source": [
    "# Narrative/intro goes here"
   ]
  },
  {
   "cell_type": "code",
   "execution_count": null,
   "metadata": {},
   "outputs": [],
   "source": [
    "# Stacy start"
   ]
  },
  {
   "cell_type": "code",
   "execution_count": null,
   "metadata": {},
   "outputs": [],
   "source": [
    "# Import naturalization data\n",
    "filename = 'naturalization_filed_denied.csv'\n",
    "path = os.path.join('.', 'Output_files', filename)\n",
    "nat_df = pd.read_csv(path)\n",
    "\n",
    "nat_df.set_index(keys='Year', inplace=True)"
   ]
  },
  {
   "cell_type": "markdown",
   "metadata": {},
   "source": [
    "## Overall US naturalization trends"
   ]
  },
  {
   "cell_type": "code",
   "execution_count": null,
   "metadata": {},
   "outputs": [],
   "source": [
    "# Descriptive statistics\n",
    "\n",
    "# What is the minimum number of petitions filed, denied, and citizens naturalized, and what year did they occur?\n",
    "filed_min = nat_df['Petitions filed'].min()\n",
    "denied_min = nat_df['Petitions denied'].min()\n",
    "naturalized_min = nat_df['Naturalized, total'].min()\n",
    "\n",
    "print(f\"MINIMUMS: Petitions filed: {filed_min} | Petitions denied: {denied_min} | Naturalized: {naturalized_min}\")\n",
    "\n",
    "# denied_min = nat_df['Petitions denied'].min()\n",
    "print(f\"YEARS: {nat_df[['Petitions filed', 'Petitions denied', 'Naturalized, total']].idxmin().values}\")\n",
    "\n",
    "# What is the maximum number of petitions filed, denied, and citizens naturalized, and what year did they occur?\n",
    "filed_max = nat_df['Petitions filed'].max()\n",
    "denied_max = nat_df['Petitions denied'].max()\n",
    "naturalized_max = nat_df['Naturalized, total'].max()\n",
    "\n",
    "print(f\"MAXIMUMS: Petitions filed: {filed_max} | Petitions denied: {denied_max} | Naturalized: {naturalized_max}\")\n",
    "\n",
    "# denied_min = nat_df['Petitions denied'].min()\n",
    "print(f\"YEARS: {nat_df[['Petitions filed', 'Petitions denied', 'Naturalized, total']].idxmax().values}\")\n",
    "\n",
    "# What is the average number of petitions filed, denied, and citizens naturalized?\n",
    "filed_mean = nat_df['Petitions filed'].mean()\n",
    "denied_mean = nat_df['Petitions denied'].mean()\n",
    "naturalized_mean = nat_df['Naturalized, total'].mean()\n",
    "\n",
    "print(f\"AVERAGE PER YEAR (MEAN): Petitions filed: {round(filed_mean,2)} | Petitions denied: {round(denied_mean,2)} | Naturalized: {round(naturalized_mean,2)}\")"
   ]
  },
  {
   "cell_type": "markdown",
   "metadata": {},
   "source": [
    "### Takeaways\n",
    "* **1907 saw the lowest number of petitions filed and denied and naturalizations.** There were very restrictive immigration policies in place prior to 1907, particularly related to specific nationalities. The Immigration Act of 1907 paved the way for increases in overall immigration numbers over time.\n",
    "* **The late 1990's and early 2000's saw the greatest number of petitions filed and denied and naturalizations.** The peak in petitions denied is worth exploring.\n",
    "* **There was roughly a 10:1 ratio between the average number of petitions filed and denied each year.**\n",
    "* **On average, the US naturalized around 270,000 immigrants per year.**"
   ]
  },
  {
   "cell_type": "code",
   "execution_count": null,
   "metadata": {},
   "outputs": [],
   "source": [
    "# Plot the naturalization data - overall\n",
    "\n",
    "plt.figure(figsize=(10,6))\n",
    "plt.plot(nat_df.index, nat_df[['Petitions filed', 'Petitions denied', 'Naturalized, total']])\n",
    "plt.legend(loc='best', labels=['Petitions filed', 'Petitions denied', 'Naturalized, total'])\n",
    "plt.xlim(1907, 2020)\n",
    "plt.ylim(-1,1450000)\n",
    "plt.xticks(np.arange(1910, 2021, step=10))\n",
    "plt.grid(b=True, axis='y', color='#cccccc')\n",
    "\n",
    "# Add points of interest to grid\n",
    "plt.annotate(xy=(1915,300000), s='World War I begins')\n",
    "plt.vlines(x=1914.8, ymin = 0, ymax = 1450000, linestyle='dashed', alpha=0.2)\n",
    "plt.annotate(xy=(1940,460000), s='World War II begins')\n",
    "plt.vlines(x=1939.75, ymin = 0, ymax = 1450000, linestyle='dashed', alpha=0.2)\n",
    "plt.annotate(xy=(1997,250000), s='IIRIRA')\n",
    "plt.vlines(x=1996.75, ymin = 0, ymax = 1450000, linestyle='dashed', alpha=0.2)\n",
    "plt.annotate(xy=(2002,400000), s='9/11')\n",
    "plt.vlines(x=2001.75, ymin = 0, ymax = 1450000, linestyle='dashed', alpha=0.2)\n",
    "plt.annotate(xy=(2003,325000), s='Border wall EO')\n",
    "plt.vlines(x=2017, ymin = 0, ymax = 1450000, linestyle='dashed', alpha=0.2)\n",
    "plt.xlabel(\"Year\")\n",
    "plt.ylabel(\"Naturalizations\")\n",
    "plt.title(\"Trends in US naturalizations, 1907-2018\")\n",
    "plt.tight_layout()\n",
    "\n",
    "# Spike in 1996 - and general increase - can be explained by this bill: https://www.vox.com/2016/4/28/11515132/iirira-clinton-immigration"
   ]
  },
  {
   "cell_type": "markdown",
   "metadata": {},
   "source": [
    "### Takeaways\n",
    "We observed large spikes in petitions filed and naturalizations following globally disruptive events in the early 20th century (the World Wars). Towards the start of the 21st century, we see a spike in the number of petitions denied, likely due to the introduction of a restrictive law called [IIRIA](https://www.law.cornell.edu/wex/illegal_immigration_reform_and_immigration_responsibility_act) during the Clinton years."
   ]
  },
  {
   "cell_type": "markdown",
   "metadata": {},
   "source": [
    "## Major events and overall immigration rates in detail\n",
    "\n",
    "### 9/11 (September 2001)"
   ]
  },
  {
   "cell_type": "code",
   "execution_count": null,
   "metadata": {},
   "outputs": [],
   "source": [
    "# Pre and post 9/11\n",
    "# create df\n",
    "nat_911 = nat_df.loc[1999:2004,:]\n",
    "\n",
    "# plot data\n",
    "plt.figure(figsize=(4,4))\n",
    "plt.plot(nat_911.index, nat_911[['Petitions filed', 'Petitions denied', 'Naturalized, total']])\n",
    "plt.legend(loc='best', labels=['Filed', 'Denied', 'Naturalized'])\n",
    "plt.xlim(1999,2003)\n",
    "plt.ylim(0,950000)\n",
    "plt.xticks(np.arange(1999,2005))\n",
    "plt.yticks(np.arange(0,1000000, step=100000))\n",
    "plt.annotate(xy=(2001.9,400000), s='9/11')\n",
    "plt.vlines(x=2001.75, ymin = 0, ymax = 1450000, linestyle='dashed', alpha=0.2)\n",
    "plt.xlabel(\"Year\")\n",
    "plt.ylabel(\"Naturalizations\")\n",
    "plt.title(\"Trends in US naturalizations, before and after 9/11\")"
   ]
  },
  {
   "cell_type": "markdown",
   "metadata": {},
   "source": [
    "### Trump's \"border wall\" executive order (January 2017)"
   ]
  },
  {
   "cell_type": "code",
   "execution_count": null,
   "metadata": {},
   "outputs": [],
   "source": [
    "# Pre and post Trump\n",
    "# create df\n",
    "nat_trump = nat_df.loc[2015:2018,:]\n",
    "\n",
    "# plot data\n",
    "plt.figure(figsize=(5.75,4))\n",
    "plt.plot(nat_trump.index, nat_trump[['Petitions filed', 'Petitions denied', 'Naturalized, total']])\n",
    "plt.legend(loc='lower left', labels=['Filed', 'Denied', 'Naturalized'], bbox_to_anchor=(1, 0.7))\n",
    "plt.annotate(xy=(2016,400000), s='Border wall EO')\n",
    "plt.vlines(x=2017.1, ymin = 0, ymax = 1450000, linestyle='dashed', alpha=0.2)\n",
    "plt.xlabel(\"Year\")\n",
    "plt.ylabel(\"Naturalizations\")\n",
    "plt.title(\"Trends in US naturalizations, before and after border wall EO\")\n",
    "plt.xlim(2015,2018)\n",
    "plt.ylim(0,1100000)\n",
    "plt.xticks(np.arange(2015,2019))\n",
    "plt.yticks(np.arange(0,1100000, step=200000))\n",
    "plt.tight_layout()"
   ]
  },
  {
   "cell_type": "markdown",
   "metadata": {},
   "source": [
    "### Illegal Immigration Reform and Immigration Responsibility Act (IIRIA) (1996)"
   ]
  },
  {
   "cell_type": "code",
   "execution_count": null,
   "metadata": {},
   "outputs": [],
   "source": [
    "# Pre and post IIRIRA\n",
    "# create df\n",
    "nat_iiria = nat_df.loc[1995:1999,:]\n",
    "\n",
    "# plot data\n",
    "plt.figure(figsize=(5.75,4))\n",
    "plt.plot(nat_iiria.index, nat_iiria[['Petitions filed', 'Petitions denied', 'Naturalized, total']])\n",
    "plt.legend(loc='lower left', labels=['Filed', 'Denied', 'Naturalized'], bbox_to_anchor=(1, 0.7))\n",
    "plt.xlabel(\"Year\")\n",
    "plt.ylabel(\"Naturalizations\")\n",
    "plt.title(\"Trends in US naturalizations, before and after IIRIRA\")\n",
    "plt.annotate(xy=(1996.9,250000), s='IIRIRA')\n",
    "plt.vlines(x=1996.75, ymin = 0, ymax = 1500000, linestyle='dashed', alpha=0.2)\n",
    "plt.xlim(1995,1999)\n",
    "plt.ylim(0,1500000)\n",
    "plt.xticks(np.arange(1995,2000))\n",
    "plt.yticks(np.arange(0,1500000, step=200000))\n",
    "plt.tight_layout()"
   ]
  },
  {
   "cell_type": "markdown",
   "metadata": {},
   "source": [
    "### Takeaways\n",
    "* Post 9/11, we saw a downward trend in overall number of petitions filed and denied and naturalizations. \n",
    "* Post Trump border wall EO, we saw a downward trend in the overall number of petitions filed, but no major rise in the number of petitions denied. Interestingly, the number of naturalizations actually increased post-Order.\n",
    "* IIRIA appears to have had the biggest effect upon the number of petitions filed, which dramatically decreased, and a major increase in number of petitions denied."
   ]
  },
  {
   "cell_type": "markdown",
   "metadata": {},
   "source": [
    "## Are these changes statistically significant?\n",
    "### IIRIA"
   ]
  },
  {
   "cell_type": "code",
   "execution_count": null,
   "metadata": {},
   "outputs": [],
   "source": [
    "### IIRIA DATA\n",
    "# Are these trends statistically significant? Apply chi-squared test.\n",
    "\n",
    "# Get the sample size for petitions filed, denied\n",
    "# Drop naturalization data (due to lag in how quickly policy changes might affect nat numbers)\n",
    "nat_iiria_df = nat_iiria.drop(columns=['Naturalized, total'])\n",
    "# # Create new column to show petitions in pipeline (return to this if needed)\n",
    "# nat_iiria_df['Petitions in pipeline'] = nat_iiria_df['Petitions filed'] - nat_iiria_df['Petitions denied']\n",
    "nat_total_pet_filed = nat_iiria_df.loc[:,'Petitions filed'].sum()\n",
    "nat_total_pet_denied = nat_iiria_df.loc[:,'Petitions denied'].sum()\n",
    "\n",
    "# Get the sample size for the years\n",
    "nat_95 = nat_iiria_df.loc[1995,:].sum()\n",
    "nat_96 = nat_iiria_df.loc[1996,:].sum()\n",
    "nat_97 = nat_iiria_df.loc[1997,:].sum()\n",
    "nat_98 = nat_iiria_df.loc[1998,:].sum()\n",
    "nat_99 = nat_iiria_df.loc[1999,:].sum()"
   ]
  },
  {
   "cell_type": "code",
   "execution_count": null,
   "metadata": {},
   "outputs": [],
   "source": [
    "# Get population size\n",
    "nat_totals = nat_total_pet_filed + nat_total_pet_denied"
   ]
  },
  {
   "cell_type": "code",
   "execution_count": null,
   "metadata": {},
   "outputs": [],
   "source": [
    "# Get expected values using 'expected' function we imported\n",
    "\n",
    "# Calculate expected value for petitions filed in 95-97 (pre-IIRIA)\n",
    "expected_filed_95 = expected(nat_95, nat_total_pet_filed, nat_totals)\n",
    "expected_filed_96 = expected(nat_96, nat_total_pet_filed, nat_totals)\n",
    "expected_filed_97 = expected(nat_97, nat_total_pet_filed, nat_totals)\n",
    "\n",
    "# Calculate expected value for petitions filed in 98-99 (post-IIRIA)\n",
    "expected_filed_98 = expected(nat_98, nat_total_pet_filed, nat_totals)\n",
    "expected_filed_99 = expected(nat_99, nat_total_pet_filed, nat_totals)\n",
    "\n",
    "# Calculate expected value for petitions denied 95-97\n",
    "expected_denied_95 = expected(nat_95, nat_total_pet_denied, nat_totals)\n",
    "expected_denied_96 = expected(nat_96, nat_total_pet_denied, nat_totals)\n",
    "expected_denied_97 = expected(nat_97, nat_total_pet_denied, nat_totals)\n",
    "\n",
    "# Calculate expected value for petitions denied 98-99\n",
    "expected_denied_98 = expected(nat_98, nat_total_pet_denied, nat_totals)\n",
    "expected_denied_99 = expected(nat_99, nat_total_pet_denied, nat_totals)\n",
    "\n",
    "# Create list so we can loop through these in a moment\n",
    "expected_filed = [expected_filed_95, expected_filed_96, expected_filed_97, expected_filed_98, expected_filed_99]\n",
    "denied = [expected_denied_95, expected_denied_96, expected_denied_97, expected_denied_98, expected_denied_99]"
   ]
  },
  {
   "cell_type": "code",
   "execution_count": null,
   "metadata": {},
   "outputs": [],
   "source": [
    "degrees_freedom = 4\n",
    "crit_value = 9.49"
   ]
  },
  {
   "cell_type": "code",
   "execution_count": null,
   "metadata": {},
   "outputs": [],
   "source": [
    "# Apply chi-squared test for petitions filed and changes over time\n",
    "from scipy.stats import chisquare"
   ]
  },
  {
   "cell_type": "code",
   "execution_count": null,
   "metadata": {},
   "outputs": [],
   "source": [
    "# bracketed values are same as nat_iiria_df['Petitions filed'].values\n",
    "chisquare([959963, 1277403, 1412712,  932957,  765346], f_exp=expected_filed, ddof=degrees_freedom)"
   ]
  },
  {
   "cell_type": "markdown",
   "metadata": {},
   "source": [
    "### Takeaway\n",
    "The difference in the overall number of petitions filed through the years directly preceding and following the implementation of IIRIA is statistically significant. This fact, interpreted alongside the above graphs, suggests that IIRIA directly affected the number of petitions filed in the years following the passing of the Act.\n",
    "\n",
    "### Trump \"border wall\" executive order"
   ]
  },
  {
   "cell_type": "code",
   "execution_count": null,
   "metadata": {},
   "outputs": [],
   "source": [
    "### NATURALIZATION TRENDS FOR PRE AND POST TRUMP POLICY AMONG LATINX IMMIGRANTS\n",
    "\n",
    "# Load in by-country naturalization data\n",
    "filename = 'naturalization_by_country_merged_1990-2018.csv'\n",
    "path = os.path.join('.', 'Output_files', filename)\n",
    "nat_country_df = pd.read_csv(path)\n",
    "\n",
    "nat_country_df.set_index('Unnamed: 0', inplace=True)"
   ]
  },
  {
   "cell_type": "code",
   "execution_count": null,
   "metadata": {},
   "outputs": [],
   "source": [
    "# Calculate expected values\n",
    "latin_countries = ['Mexico', 'Guatemala', 'Honduras', 'Nicaragua', 'El Salvador', 'Costa Rica', 'Panama', 'Belize']\n",
    "latin_df = nat_country_df.loc[latin_countries, :].T\n",
    "latin_df = latin_df.loc[['2014', '2015', '2016', '2017', '2018'],:]\n",
    "pop = latin_df.Mexico + latin_df.Guatemala + latin_df.Honduras + latin_df.Nicaragua + \\\n",
    "                    latin_df['El Salvador'] + latin_df['Costa Rica'] + latin_df['Belize']\n",
    "lat_nat_pop = pop.sum() # Get population size for LatAm naturalized immigrants\n",
    "\n",
    "# Get yearly sample sizes\n",
    "latin_nat_14 = latin_df.loc['2014'].sum()\n",
    "latin_nat_15 = latin_df.loc['2015'].sum()\n",
    "latin_nat_16 = latin_df.loc['2016'].sum()\n",
    "latin_nat_17 = latin_df.loc['2017'].sum()\n",
    "latin_nat_18 = latin_df.loc['2018'].sum()\n",
    "\n",
    "# Get by-country sample sizes\n",
    "mex_nat = latin_df.Mexico.sum()\n",
    "guat_nat = latin_df.Guatemala.sum()\n",
    "hond_nat = latin_df.Honduras.sum()\n",
    "nic_nat = latin_df.Nicaragua.sum()\n",
    "elsal_nat = latin_df['El Salvador'].sum()\n",
    "costa_nat = latin_df['Costa Rica'].sum()\n",
    "bel_nat = latin_df['Belize'].sum()\n",
    "\n",
    "degrees_freedom_lat = 24\n",
    "\n",
    "# Expected values for Mexico\n",
    "expected_mex_nat_14 = expected(latin_nat_14, mex_nat, lat_nat_pop)\n",
    "expected_mex_nat_15 = expected(latin_nat_15, mex_nat, lat_nat_pop)\n",
    "expected_mex_nat_16 = expected(latin_nat_16, mex_nat, lat_nat_pop)\n",
    "expected_mex_nat_17 = expected(latin_nat_17, mex_nat, lat_nat_pop)\n",
    "expected_mex_nat_18 = expected(latin_nat_18, mex_nat, lat_nat_pop)\n",
    "\n",
    "# Expected values for Guatemala\n",
    "expected_guat_nat_14 = expected(latin_nat_14, guat_nat, lat_nat_pop)\n",
    "expected_guat_nat_15 = expected(latin_nat_15, guat_nat, lat_nat_pop)\n",
    "expected_guat_nat_16 = expected(latin_nat_16, guat_nat, lat_nat_pop)\n",
    "expected_guat_nat_17 = expected(latin_nat_17, guat_nat, lat_nat_pop)\n",
    "expected_guat_nat_18 = expected(latin_nat_18, guat_nat, lat_nat_pop)\n",
    "\n",
    "# Expected values for Honduras\n",
    "expected_hond_nat_14 = expected(latin_nat_14, hond_nat, lat_nat_pop)\n",
    "expected_hond_nat_15 = expected(latin_nat_15, hond_nat, lat_nat_pop)\n",
    "expected_hond_nat_16 = expected(latin_nat_16, hond_nat, lat_nat_pop)\n",
    "expected_hond_nat_17 = expected(latin_nat_17, hond_nat, lat_nat_pop)\n",
    "expected_hond_nat_18 = expected(latin_nat_18, hond_nat, lat_nat_pop)\n",
    "\n",
    "mexico_expected = [expected_mex_nat_14, expected_mex_nat_15, expected_mex_nat_16, expected_mex_nat_17, expected_mex_nat_18]\n",
    "guatemala_expected = [expected_guat_nat_14, expected_guat_nat_15, expected_guat_nat_16, expected_guat_nat_17, expected_guat_nat_18]\n",
    "honduras_expected = [expected_hond_nat_14, expected_hond_nat_15, expected_hond_nat_16, expected_hond_nat_17, expected_hond_nat_18]"
   ]
  },
  {
   "cell_type": "code",
   "execution_count": null,
   "metadata": {},
   "outputs": [],
   "source": [
    "# Crit value is 36.42\n",
    "print(chisquare(latin_df.Mexico, f_exp=mexico_expected))\n",
    "print(chisquare(latin_df.Guatemala, f_exp=guatemala_expected))\n",
    "print(chisquare(latin_df.Honduras, f_exp=honduras_expected))"
   ]
  },
  {
   "cell_type": "code",
   "execution_count": null,
   "metadata": {},
   "outputs": [],
   "source": [
    "latin_df.reset_index(inplace=True) # \n",
    "latin_df.rename(columns={'index': 'Year'}, inplace=True)\n",
    "latin_df.plot(y=['Mexico', 'Guatemala', 'Honduras'], kind=\"bar\", logy=True)\n",
    "plt.xticks(np.arange(5), ('2014', '2015', '2016', '2017', '2018'), rotation=0)\n",
    "plt.title(\"Number of naturalizations, pre- and post-'border wall' EO\")\n",
    "plt.ylabel(\"Naturalizations (log)\")\n",
    "plt.xlabel(\"Year\")\n",
    "plt.legend(title=None)"
   ]
  },
  {
   "cell_type": "markdown",
   "metadata": {},
   "source": [
    "### Takeaway\n",
    "We found statistically significant differences for naturalization rates of Mexican, Guatemalan, and Honduran immigrants during the years immediately preceding and following the signing of the Trump \"border wall\" executive order. Surprisingly, these rates actually *increased*, rather than decreased, for Mexican and Honduran immigrants. Guatemalan naturalizations appear to stay roughly the same over time. However, these results should be interpreted carefully—naturalization is a process that takes time, and the individuals who were naturalized in 2017 and 2018 likely had been in the process of naturalization for months if not years before the EO was signed.\n",
    "\n",
    "### 9/11"
   ]
  },
  {
   "cell_type": "code",
   "execution_count": null,
   "metadata": {},
   "outputs": [],
   "source": [
    "# Calculate expected values\n",
    "muslim_countries =['Afghanistan','Iran','Yemen','Jordan','Saudi Arabia','Sudan','Pakistan','Syria','Oman']\n",
    "muslim_df = nat_country_df.loc[muslim_countries, :].T\n",
    "muslim_df = muslim_df.loc[['1999', '2000', '2005', '2006'],:]\n",
    "pop = muslim_df.Afghanistan + muslim_df.Iran + muslim_df.Jordan + muslim_df['Saudi Arabia'] + \\\n",
    "                    muslim_df.Sudan + muslim_df['Pakistan'] + muslim_df['Syria'] + muslim_df['Oman']\n",
    "muslim_nat_pop = pop.sum() # Get population size for Muslim naturalized immigrants\n",
    "\n",
    "# Get yearly sample sizes\n",
    "muslim_nat_99 = muslim_df.loc['1999'].sum()\n",
    "muslim_nat_00 = muslim_df.loc['2000'].sum()\n",
    "muslim_nat_05 = muslim_df.loc['2005'].sum()\n",
    "muslim_nat_06 = muslim_df.loc['2006'].sum()\n",
    "\n",
    "# Get by-country sample sizes\n",
    "afg_nat = muslim_df.Afghanistan.sum() # analyze\n",
    "iran_nat = muslim_df.Iran.sum() # analyze\n",
    "jor_nat = muslim_df.Jordan.sum()\n",
    "sud_nat = muslim_df.Sudan.sum()\n",
    "saudi_nat = muslim_df['Saudi Arabia'].sum() # analyze\n",
    "pakistan_nat = muslim_df.Pakistan.sum()\n",
    "syr_nat = muslim_df['Syria'].sum()\n",
    "oman_nat = muslim_df['Oman'].sum()\n",
    "\n",
    "degrees_freedom_muslim = 24\n",
    "\n",
    "# Expected values for Afghanistan\n",
    "expected_afg_nat_99 = expected(muslim_nat_99, afg_nat, muslim_nat_pop)\n",
    "expected_afg_nat_00 = expected(muslim_nat_00, afg_nat, muslim_nat_pop)\n",
    "expected_afg_nat_05 = expected(muslim_nat_05, afg_nat, muslim_nat_pop)\n",
    "expected_afg_nat_06 = expected(muslim_nat_06, afg_nat, muslim_nat_pop)\n",
    "\n",
    "# Expected values for Iran\n",
    "expected_iran_nat_99 = expected(muslim_nat_99, iran_nat, muslim_nat_pop)\n",
    "expected_iran_nat_00 = expected(muslim_nat_00, iran_nat, muslim_nat_pop)\n",
    "expected_iran_nat_05 = expected(muslim_nat_05, iran_nat, muslim_nat_pop)\n",
    "expected_iran_nat_06 = expected(muslim_nat_06, iran_nat, muslim_nat_pop)\n",
    "\n",
    "# Expected values for Syria\n",
    "expected_syr_nat_99 = expected(muslim_nat_99, syr_nat, muslim_nat_pop)\n",
    "expected_syr_nat_00 = expected(muslim_nat_00, syr_nat, muslim_nat_pop)\n",
    "expected_syr_nat_05 = expected(muslim_nat_05, syr_nat, muslim_nat_pop)\n",
    "expected_syr_nat_06 = expected(muslim_nat_06, syr_nat, muslim_nat_pop)\n",
    "\n",
    "# Expected values for Saudi Arabia\n",
    "expected_saudi_nat_99 = expected(muslim_nat_99, saudi_nat, muslim_nat_pop)\n",
    "expected_saudi_nat_00 = expected(muslim_nat_00, saudi_nat, muslim_nat_pop)\n",
    "expected_saudi_nat_05 = expected(muslim_nat_05, saudi_nat, muslim_nat_pop)\n",
    "expected_saudi_nat_06 = expected(muslim_nat_06, saudi_nat, muslim_nat_pop)\n",
    "\n",
    "afg_expected = [expected_afg_nat_99, expected_afg_nat_00, expected_afg_nat_05, expected_afg_nat_06]\n",
    "iran_expected = [expected_iran_nat_99, expected_iran_nat_00, expected_iran_nat_05, expected_iran_nat_06]\n",
    "syria_expected = [expected_syr_nat_99, expected_syr_nat_00, expected_syr_nat_05, expected_syr_nat_06]\n",
    "saudi_expected = [expected_saudi_nat_99, expected_saudi_nat_00, expected_saudi_nat_05, expected_saudi_nat_06]"
   ]
  },
  {
   "cell_type": "code",
   "execution_count": null,
   "metadata": {},
   "outputs": [],
   "source": [
    "# Critical value is 41.34\n",
    "\n",
    "print(chisquare(muslim_df.Afghanistan, f_exp=afg_expected))\n",
    "print(chisquare(muslim_df.Iran, f_exp=iran_expected))\n",
    "print(chisquare(muslim_df.Syria, f_exp=syria_expected))\n",
    "print(chisquare(muslim_df['Saudi Arabia'], f_exp=saudi_expected))"
   ]
  },
  {
   "cell_type": "code",
   "execution_count": null,
   "metadata": {},
   "outputs": [],
   "source": [
    "muslim_df.reset_index(inplace=True) # \n",
    "muslim_df.rename(columns={'index': 'Year'}, inplace=True)\n",
    "muslim_df.plot(y=['Afghanistan', 'Iran', 'Syria', 'Saudi Arabia'], kind=\"bar\")\n",
    "plt.xticks(np.arange(4), ('1999', '2000', '2005', '2006'), rotation=0)\n",
    "plt.title(\"Number of naturalizations, pre- and post-9/11\")\n",
    "plt.ylabel(\"Naturalizations\")\n",
    "plt.xlabel(\"Year\")\n",
    "plt.legend(title=None)"
   ]
  },
  {
   "cell_type": "markdown",
   "metadata": {},
   "source": [
    "### Takeaway\n",
    "We found statistically significant differences in the pre- and post-9/11 naturalization numbers for Afghan, Iranian, Syrian, and Saudi Arabian immigrants. We tried to account for the time-lag in immigration by sampling for 4-5 years following 9/11, rather than immediately following. Interestingly, though the number of naturalizations for Iranian immigrants dropped substantially and also noticably for Afghans, numbers for Saudi Arabians increased."
   ]
  },
  {
   "cell_type": "code",
   "execution_count": null,
   "metadata": {},
   "outputs": [],
   "source": [
    "# Stacy end"
   ]
  },
  {
   "cell_type": "code",
   "execution_count": null,
   "metadata": {},
   "outputs": [],
   "source": [
    "# Kana start"
   ]
  },
  {
   "cell_type": "markdown",
   "metadata": {},
   "source": [
    "# Number of Immigrants by State "
   ]
  },
  {
   "cell_type": "code",
   "execution_count": null,
   "metadata": {},
   "outputs": [],
   "source": [
    "# Read immigrants by state data\n",
    "complete_state_df = pd.read_csv(\"Output_files/Immigrants By State.csv\")\n",
    "complete_state_df.head()"
   ]
  },
  {
   "cell_type": "code",
   "execution_count": null,
   "metadata": {},
   "outputs": [],
   "source": [
    "# Initialize the map:\n",
    "map_2000 = folium.Map(location=[37, -102], zoom_start=4)\n",
    "state_geo = os.path.join(\"Resources/us-states.json\")\n",
    "\n",
    "# Add the color for the choloropleth:\n",
    "map_2000.choropleth(geo_data = state_geo,\n",
    "                    name = 'choropleth',\n",
    "                    data = complete_state_df,\n",
    "                    columns = ['State', '2000'],\n",
    "                    key_on = 'feature.id',\n",
    "                    fill_color = 'OrRd',\n",
    "                    fill_opacity = 0.7,\n",
    "                    line_opacity = 0.2,\n",
    "                    threshold_scale=[0,500 ,50000, 100000, 200000, 250000],\n",
    "                    legend_name='Number of Immigrants in 2000')\n",
    "\n",
    "# Add the data layer to map\n",
    "folium.LayerControl().add_to(map_2000)\n",
    "\n",
    "# Show the map\n",
    "map_2000"
   ]
  },
  {
   "cell_type": "code",
   "execution_count": null,
   "metadata": {},
   "outputs": [],
   "source": [
    "# Retrive states information that has max and min number of immigrants for 2000\n",
    "max_2000  = complete_state_df.sort_values(\"2000\").tail(1)\n",
    "min_2000  = complete_state_df.sort_values(\"2000\", ascending=False).tail(1)\n",
    "\n",
    "# print(f\"Biggest: {max_2000[\"2000\"]} people immigrated to {max_2000[\"State\"]} in 2000.\")\n",
    "# print(f\"Smallest: {max_2000[\"2000\"]} people immigrated to {max_2000[\"State\"]} in 2000.\")"
   ]
  },
  {
   "cell_type": "code",
   "execution_count": null,
   "metadata": {},
   "outputs": [],
   "source": [
    "# Initialize the map\n",
    "state_geo = os.path.join(\"Resources/us-states.json\")\n",
    "map_2018 = folium.Map(location=[37, -102], zoom_start=4)\n",
    " \n",
    "# Add the color for the choloropleth:\n",
    "map_2018.choropleth(geo_data = state_geo,\n",
    "                    name = 'choropleth',\n",
    "                    data = complete_state_df,\n",
    "                    columns = ['State', '2018'],\n",
    "                    key_on = 'feature.id',\n",
    "                    fill_color = 'OrRd',\n",
    "                    fill_opacity = 0.7,\n",
    "                    line_opacity = 0.2,\n",
    "                    threshold_scale=[0,500 ,50000, 100000, 200000, 250000],\n",
    "                    legend_name ='Number of Immigrants in 2018')\n",
    "\n",
    "# Add the data layer to map\n",
    "folium.LayerControl().add_to(map_2018)\n",
    "\n",
    "# Show the map\n",
    "map_2018"
   ]
  },
  {
   "cell_type": "code",
   "execution_count": null,
   "metadata": {},
   "outputs": [],
   "source": [
    "# Retrive states information that has max and min number of immigrants for 2018\n",
    "max_2018  = complete_state_df.sort_values(\"2018\").tail(1)\n",
    "min_2018  = complete_state_df.sort_values(\"2018\", ascending=False).tail(1)\n",
    "# print(f\"Biggest: {max_2018[\"2018\"]} people immigrated to {max_2018[\"State\"]} in 2018.\")\n",
    "# print(f\"Smallest: {max_2018[\"2018\"]} people immigrated to {max_2018[\"State\"]} in 2018.\")"
   ]
  },
  {
   "cell_type": "markdown",
   "metadata": {},
   "source": [
    "# US Population vs Immigrants Population 1950 - 2017"
   ]
  },
  {
   "cell_type": "code",
   "execution_count": null,
   "metadata": {},
   "outputs": [],
   "source": [
    "# Read csv file for US population vs immigrants analysis\n",
    "population_comparison = pd.read_csv(\"Output_files/US Population vs Immigrants.csv\")\n",
    "population_comparison.head()"
   ]
  },
  {
   "cell_type": "code",
   "execution_count": null,
   "metadata": {},
   "outputs": [],
   "source": [
    "# Change the figure size\n",
    "plt.figure(figsize = (20,10))\n",
    "\n",
    "# Plot us population vs year\n",
    "plt.plot(population_comparison[\"Year\"],population_comparison[\"US Population\"])\n",
    "\n",
    "# Plot us number of immigrans vs year\n",
    "plt.plot(population_comparison[\"Year\"],population_comparison[\"Number of Immigrants\"])\n",
    "\n",
    "# Set legend\n",
    "plt.legend(['US Population','Number of Immigrants'], loc='upper left', fontsize=15)\n",
    "\n",
    "# Set title\n",
    "plt.title(\"US Population vs Immigtants Population in U.S. By Year\", fontsize = 15)\n",
    "\n",
    "# Set xlabel\n",
    "plt.xlabel(\"Year\",fontsize = 15)\n",
    "\n",
    "# Set ylabel\n",
    "plt.ylabel(\"Population\", fontsize = 15)\n",
    "\n",
    "# Change ticker label to plain from scientific\n",
    "plt.ticklabel_format(style='plain', axis='y', scilimits=(0,0))\n",
    "\n",
    "# Show the plot\n",
    "plt.show()"
   ]
  },
  {
   "cell_type": "code",
   "execution_count": null,
   "metadata": {},
   "outputs": [],
   "source": [
    "# Kana end"
   ]
  },
  {
   "cell_type": "code",
   "execution_count": null,
   "metadata": {},
   "outputs": [],
   "source": [
    "#Satish Start"
   ]
  },
  {
   "cell_type": "markdown",
   "metadata": {},
   "source": [
    "## Lawful Permanent Resident Throughout time"
   ]
  },
  {
   "cell_type": "code",
   "execution_count": null,
   "metadata": {},
   "outputs": [],
   "source": [
    "immigration_df=pd.read_csv(\"Output_files/LPR_Years.csv\")\n",
    "immigration_df.Year=pd.to_numeric(immigration_df.Year)\n",
    "immigration_df.Number=pd.to_numeric(immigration_df.Number)\n",
    "immigration_plt=immigration_df.plot(kind=\"line\", x=\"Year\", y=\"Number\", grid=True, figsize=(15,10),legend=False,title=\"Number of Lawful Permanent Resident Status Vs. Years\")\n",
    "max_arrow_y=immigration_df['Number'].max()\n",
    "max_arrow_x=immigration_df.loc[immigration_df['Number']==max_arrow_y,\"Year\"].reset_index(drop=True)\n",
    "plt.annotate(\n",
    "    f\"maximum {max_arrow_x[0],max_arrow_y}\", \n",
    "    xy=(max_arrow_x[0], max_arrow_y))\n",
    "\n",
    "min_arrow_y=immigration_df['Number'].min()\n",
    "min_arrow_x=immigration_df.loc[immigration_df['Number']==min_arrow_y,\"Year\"].reset_index(drop=True)\n",
    "plt.annotate(\n",
    "    f\"Minimum {min_arrow_x[0],min_arrow_y}\", \n",
    "    xy=(min_arrow_x[0], min_arrow_y))\n",
    "\n",
    "plt.ylabel(\"Number of Lawful Permanent Resident Status\")\n",
    "plt.xlabel(\"Timepoint in Years\")\n",
    "plt.tight_layout()\n",
    "plt.show()"
   ]
  },
  {
   "cell_type": "markdown",
   "metadata": {},
   "source": [
    "## Central America LPR before and after Trump election"
   ]
  },
  {
   "cell_type": "code",
   "execution_count": null,
   "metadata": {},
   "outputs": [],
   "source": [
    "Latin_Data_summ_df=pd.read_csv(\"Output_files/Latin_Data_summ_df.csv\")\n",
    "#Bar Graph showing the Central America and Years\n",
    "Latin_Data_summ_df.plot.bar(x='Year', y='Count', rot=0,legend=False)\n",
    "plt.axis('tight')\n",
    "plt.title(\"Number of Immigrants Vs Year\")\n",
    "plt.ylabel(\"Number of Immigrants from Central America\")\n",
    "plt.xlabel(\"Year\")\n",
    "plt.tight_layout()\n",
    "plt.show()"
   ]
  },
  {
   "cell_type": "markdown",
   "metadata": {},
   "source": [
    "## Islamic Countries LPR before and after 9/11"
   ]
  },
  {
   "cell_type": "code",
   "execution_count": null,
   "metadata": {},
   "outputs": [],
   "source": [
    "Islam_Country_summ=pd.read_csv(\"Output_files/Islam_Country_summ.csv\")\n",
    "#Ploting the Graph\n",
    "Islam_Country_summ.plot.bar(x='Year', y='Count', rot=0,legend=False)\n",
    "plt.axis('tight')\n",
    "plt.title(\"Number of Immigrants Vs Year\")\n",
    "plt.ylabel(\"Total Number of Immigrants from Arab Countries\")\n",
    "plt.xlabel(\"Year\")\n",
    "plt.tight_layout()\n",
    "plt.show()"
   ]
  },
  {
   "cell_type": "code",
   "execution_count": null,
   "metadata": {},
   "outputs": [],
   "source": [
    "location_df=pd.read_csv(\"Output_files/location_df.csv\").reset_index(drop=True)\n",
    "location_df=location_df.iloc[:, 1:]\n",
    "Country_Data_Merged=pd.read_csv(\"Output_files/Country_Data_Merged.csv\")"
   ]
  },
  {
   "cell_type": "markdown",
   "metadata": {},
   "source": [
    "## Heat Map showing Immigration from all over the world to US"
   ]
  },
  {
   "cell_type": "code",
   "execution_count": null,
   "metadata": {},
   "outputs": [],
   "source": [
    "#Configuring gmpas\n",
    "gmaps.configure(api_key=gkey)\n",
    "\n",
    "fig = gmaps.figure()\n",
    "\n",
    "#Creating Heat Map\n",
    "heat_layer = gmaps.heatmap_layer(location_df, weights=Country_Data_Merged['Total'], \n",
    "                                 dissipating=False, max_intensity=90000,\n",
    "                                 point_radius = 1)\n",
    "#Adding heat maps\n",
    "fig.add_layer(heat_layer)\n",
    "fig"
   ]
  },
  {
   "cell_type": "markdown",
   "metadata": {},
   "source": [
    "## Statistical Analysis between Islamic and Central America's LPR before and after 9/11"
   ]
  },
  {
   "cell_type": "code",
   "execution_count": null,
   "metadata": {},
   "outputs": [],
   "source": [
    "Central_America_Data=['Mexico', 'Guatemala', 'Honduras', 'Nicaragua', 'El Salvador', 'Costa Rica', 'Panama', 'Belize']\n",
    "Latin_Population=Country_Data_Merged[Country_Data_Merged['Region and country of birth'].isin(Central_America_Data)].T\n",
    "Islam_Country_Data=['Afghanistan','Iran','Yemen','Jordan','Saudi Arabia','Sudan','Pakistan','Syria','Oman']\n",
    "Islam_Population=Country_Data_Merged[Country_Data_Merged['Region and country of birth'].isin(Islam_Country_Data)].T"
   ]
  },
  {
   "cell_type": "code",
   "execution_count": null,
   "metadata": {},
   "outputs": [],
   "source": [
    "Latin_Population=Latin_Population[2:]\n",
    "#df.groupby(['']).mean()\n",
    "#new_header_Latin = Country_Data_2018_df.iloc[0]\n",
    "Latin_Population_1999=Latin_Population.loc['1999',:].sum()\n",
    "Latin_Population_2000=Latin_Population.loc['2000',:].sum()\n",
    "Latin_Population_2005=Latin_Population.loc['2005',:].sum()\n",
    "Latin_Population_2006=Latin_Population.loc['2006',:].sum()\n",
    "Islam_Population_1999=Islam_Population.loc['1999',:].sum()\n",
    "Islam_Population_2000=Islam_Population.loc['2000',:].sum()\n",
    "Islam_Population_2005=Islam_Population.loc['2005',:].sum()\n",
    "Islam_Population_2006=Islam_Population.loc['2006',:].sum()\n",
    "List_total=[['1999',Latin_Population_1999,Islam_Population_1999],['2000',Latin_Population_2000,Islam_Population_2000],['2005',Latin_Population_2005,Islam_Population_2005],['2006',Latin_Population_2006,Islam_Population_2006]]"
   ]
  },
  {
   "cell_type": "code",
   "execution_count": null,
   "metadata": {},
   "outputs": [],
   "source": [
    "List_total_df=pd.DataFrame(List_total, columns=['Year','Latin America', 'Islam Country'])\n",
    "Total_1999=Latin_Population_1999+Islam_Population_1999\n",
    "Total_2000=Latin_Population_2000+Islam_Population_2000\n",
    "Total_2005=Latin_Population_2005+Islam_Population_2005\n",
    "Total_2006=Latin_Population_2006+Islam_Population_2006"
   ]
  },
  {
   "cell_type": "code",
   "execution_count": null,
   "metadata": {},
   "outputs": [],
   "source": [
    "Latin_Total=Latin_Population_1999+Latin_Population_2000+Latin_Population_2005+Latin_Population_2006\n",
    "Islam_Total=Islam_Population_1999+Islam_Population_2000+Islam_Population_2005+Islam_Population_2006\n",
    "Grand_Total=Latin_Total+Islam_Total"
   ]
  },
  {
   "cell_type": "code",
   "execution_count": null,
   "metadata": {},
   "outputs": [],
   "source": [
    "expected_99 = expected(Total_1999, Islam_Total, Grand_Total)\n",
    "expected_00 = expected(Total_2000, Islam_Total, Grand_Total)\n",
    "expected_05 = expected(Total_2005, Islam_Total, Grand_Total)\n",
    "expected_06 = expected(Total_2006, Islam_Total, Grand_Total)\n",
    "expected_list=[expected_99,expected_00,expected_05,expected_06]\n",
    "expected_list"
   ]
  },
  {
   "cell_type": "code",
   "execution_count": null,
   "metadata": {},
   "outputs": [],
   "source": [
    "degree_of_freedom=3\n",
    "critical_value=7.815\n",
    "from scipy.stats import chisquare"
   ]
  },
  {
   "cell_type": "code",
   "execution_count": null,
   "metadata": {
    "scrolled": true
   },
   "outputs": [],
   "source": [
    "List_total_df.plot(kind=\"bar\")\n",
    "plt.xticks(np.arange(4), ('1999', '2000', '2005', '2006'), rotation=0)\n",
    "plt.title(\"Number of Central America vs Islam Countries pre/Post 9/11\")\n",
    "plt.ylabel(\"Number of LPR\")\n",
    "plt.xlabel(\"Year\")\n",
    "plt.show()"
   ]
  },
  {
   "cell_type": "code",
   "execution_count": null,
   "metadata": {},
   "outputs": [],
   "source": [
    "chisquare([ 675.63878934, 1636.52359017, 1512.45163711,  583.77323195], f_exp=expected_list, ddof=degree_of_freedom)"
   ]
  },
  {
   "cell_type": "markdown",
   "metadata": {},
   "source": [
    "#### We found statistically significant differences for LPR rates between Islamic countries and Central America after 9/11 . Even though the number of immigrants from Islam countries slightly increased as compare to pre 9/11 , but the rate of increase is less than the Central America."
   ]
  },
  {
   "cell_type": "code",
   "execution_count": null,
   "metadata": {},
   "outputs": [],
   "source": [
    "# Satish end"
   ]
  },
  {
   "cell_type": "code",
   "execution_count": null,
   "metadata": {},
   "outputs": [],
   "source": [
    "# Umar start"
   ]
  },
  {
   "cell_type": "code",
   "execution_count": null,
   "metadata": {},
   "outputs": [],
   "source": [
    "age = './Output_files/la_age.csv'\n",
    "age_pd =pd.read_csv(age)\n",
    "New_age_pd = age_pd.rename(columns={'Lawful Permanent Resident 2009': 'Lawful 2009'})\n",
    "New_age_pd.head()\n",
    "\n",
    "Final_age = New_age_pd.set_index('Age')\n",
    "New_age = Final_age.iloc[1:,:]\n",
    "New_age"
   ]
  },
  {
   "cell_type": "code",
   "execution_count": null,
   "metadata": {},
   "outputs": [],
   "source": [
    "fig, axes = plt.subplots(1,4, figsize=(15,9)) \n",
    "for ax, col in zip(axes, New_age.columns): \n",
    "    ax.pie(New_age[col], labels=New_age.index, autopct='%.2f') \n",
    "    ax.set(ylabel='', title=col, aspect='equal') \n",
    "axes[0].legend(bbox_to_anchor=(0, 0.5)) \n",
    "fig.savefig('your_file.png') \n",
    "plt.show()"
   ]
  },
  {
   "cell_type": "code",
   "execution_count": null,
   "metadata": {},
   "outputs": [],
   "source": [
    "marital = './Output_files/la_marital.csv' \n",
    "marital_pd =pd.read_csv(marital) \n",
    "marital_pd.head()"
   ]
  },
  {
   "cell_type": "code",
   "execution_count": null,
   "metadata": {},
   "outputs": [],
   "source": [
    "age = './Output_files/la_age.csv' \n",
    "age_pd =pd.read_csv(age) \n",
    "New_age_pd = age_pd.rename(columns={'Lawful Permanent Resident 2009': 'Lawful 2009'}) \n",
    "New_age_pd.head()"
   ]
  },
  {
   "cell_type": "code",
   "execution_count": null,
   "metadata": {},
   "outputs": [],
   "source": [
    "Final_age = New_age_pd.set_index('Age') \n",
    "New_age = Final_age.iloc[1:,:] \n",
    "New_age\n",
    "\n",
    "fig, axes = plt.subplots(1,4, figsize=(15,9)) \n",
    "for ax, col in zip(axes, New_age.columns): \n",
    "    ax.pie(New_age[col], labels=New_age.index, autopct='%.2f') \n",
    "    ax.set(ylabel='', title=col, aspect='equal') \n",
    "axes[0].legend(bbox_to_anchor=(0, 0.5)) \n",
    "fig.savefig('your_file.png') \n",
    "plt.show()"
   ]
  },
  {
   "cell_type": "code",
   "execution_count": null,
   "metadata": {},
   "outputs": [],
   "source": [
    "marital = './Output_files/la_marital.csv' \n",
    "marital_pd =pd.read_csv(marital) \n",
    "marital_pd.head()\n",
    "\n",
    "Final_marital = marital_pd.set_index('Marital Status') \n",
    "New_marital = Final_marital.iloc[:,:] \n",
    "New_marital\n",
    "\n",
    "fig, axes = plt.subplots(1,4, figsize=(15,9)) \n",
    "for ax, col in zip(axes, New_marital.columns): \n",
    "    ax.pie(New_marital[col], labels=New_marital.index, autopct='%.2f') \n",
    "    ax.set(ylabel='', title=col, aspect='equal') \n",
    "axes[0].legend(bbox_to_anchor=(0, 0.5)) \n",
    "fig.savefig('your_file.png') \n",
    "plt.show()"
   ]
  },
  {
   "cell_type": "code",
   "execution_count": null,
   "metadata": {},
   "outputs": [],
   "source": [
    "sex = './Output_files/la_sex.csv' \n",
    "sex_pd =pd.read_csv(sex) \n",
    "New_sex_pd = sex_pd.rename(columns={'Unnamed: 0': 'Sex'}) \n",
    "New_sex_pd.head()\n",
    "\n",
    "Final_sex = New_sex_pd.set_index('Sex') \n",
    "Graph_sex = Final_sex.iloc[1:,:] \n",
    "Graph_sex"
   ]
  },
  {
   "cell_type": "code",
   "execution_count": null,
   "metadata": {},
   "outputs": [],
   "source": [
    "fig, axes = plt.subplots(1,4, figsize=(15,9))\n",
    "for ax, col in zip(axes, Graph_sex.columns):\n",
    "    ax.pie(Graph_sex[col], labels=Graph_sex.index, autopct='%.2f')\n",
    "    ax.set(ylabel='', title=col, aspect='equal')\n",
    "axes[0].legend(bbox_to_anchor=(0, 0.5))\n",
    "fig.savefig('your_file.png')\n",
    "plt.show()"
   ]
  },
  {
   "cell_type": "code",
   "execution_count": null,
   "metadata": {},
   "outputs": [],
   "source": [
    "# Umar End"
   ]
  },
  {
   "cell_type": "code",
   "execution_count": null,
   "metadata": {},
   "outputs": [],
   "source": [
    "# Narrative/summary goes here"
   ]
  },
  {
   "cell_type": "code",
   "execution_count": null,
   "metadata": {},
   "outputs": [],
   "source": []
  }
 ],
 "metadata": {
  "kernelspec": {
   "display_name": "Python 3",
   "language": "python",
   "name": "python3"
  },
  "language_info": {
   "codemirror_mode": {
    "name": "ipython",
    "version": 3
   },
   "file_extension": ".py",
   "mimetype": "text/x-python",
   "name": "python",
   "nbconvert_exporter": "python",
   "pygments_lexer": "ipython3",
   "version": "3.6.10"
  }
 },
 "nbformat": 4,
 "nbformat_minor": 2
}
