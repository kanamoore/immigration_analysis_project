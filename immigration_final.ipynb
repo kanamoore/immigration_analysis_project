{
 "cells": [
  {
   "cell_type": "code",
   "execution_count": null,
   "metadata": {},
   "outputs": [],
   "source": [
    "# Import dependencies\n",
    "import matplotlib.pyplot as plt\n",
    "import pandas as pd\n",
    "import numpy as np\n",
    "import requests\n",
    "import folium\n",
    "import gmaps\n",
    "import os\n",
    "from expected import expected\n",
    "from countryinfo import CountryInfo\n",
    "from config import gkey"
   ]
  },
  {
   "cell_type": "code",
   "execution_count": null,
   "metadata": {},
   "outputs": [],
   "source": [
    "# Narrative/intro goes here"
   ]
  },
  {
   "cell_type": "code",
   "execution_count": null,
   "metadata": {},
   "outputs": [],
   "source": [
    "# Stacy start"
   ]
  },
  {
   "cell_type": "code",
   "execution_count": null,
   "metadata": {},
   "outputs": [],
   "source": [
    "# Import naturalization data\n",
    "filename = 'naturalization_filed_denied.csv'\n",
    "path = os.path.join('.', 'Output_files', filename)\n",
    "nat_df = pd.read_csv(path)\n",
    "\n",
    "nat_df.set_index(keys='Year', inplace=True)"
   ]
  },
  {
   "cell_type": "code",
   "execution_count": null,
   "metadata": {},
   "outputs": [],
   "source": [
    "# Plot the naturalization data - overall\n",
    "\n",
    "plt.figure(figsize=(10,6))\n",
    "plt.plot(nat_df.index, nat_df[['Petitions filed', 'Petitions denied', 'Naturalized, total']])\n",
    "plt.legend(loc='best', labels=['Petitions filed', 'Petitions denied', 'Naturalized, total'])\n",
    "plt.xlim(1907, 2020)\n",
    "plt.ylim(-1,1450000)\n",
    "plt.xticks(np.arange(1910, 2021, step=10))\n",
    "plt.grid(b=True, axis='y', color='#cccccc')\n",
    "\n",
    "# Add points of interest to grid\n",
    "plt.annotate(xy=(1915,300000), s='World War I begins')\n",
    "plt.vlines(x=1914.8, ymin = 0, ymax = 1450000, linestyle='dashed', alpha=0.2)\n",
    "plt.annotate(xy=(1940,460000), s='World War II begins')\n",
    "plt.vlines(x=1939.75, ymin = 0, ymax = 1450000, linestyle='dashed', alpha=0.2)\n",
    "plt.annotate(xy=(1997,250000), s='IIRIRA')\n",
    "plt.vlines(x=1996.75, ymin = 0, ymax = 1450000, linestyle='dashed', alpha=0.2)\n",
    "plt.annotate(xy=(2002,400000), s='9/11')\n",
    "plt.vlines(x=2001.75, ymin = 0, ymax = 1450000, linestyle='dashed', alpha=0.2)\n",
    "plt.annotate(xy=(2003,325000), s='Border wall EO')\n",
    "plt.vlines(x=2017, ymin = 0, ymax = 1450000, linestyle='dashed', alpha=0.2)\n",
    "plt.xlabel(\"Year\")\n",
    "plt.ylabel(\"Naturalizations\")\n",
    "plt.title(\"Trends in US naturalizations, 1907-2018\")\n",
    "plt.tight_layout()\n",
    "\n",
    "# Spike in 1996 - and general increase - can be explained by this bill: https://www.vox.com/2016/4/28/11515132/iirira-clinton-immigration"
   ]
  },
  {
   "cell_type": "code",
   "execution_count": null,
   "metadata": {},
   "outputs": [],
   "source": [
    "# Pre and post 9/11\n",
    "# create df\n",
    "nat_911 = nat_df.loc[1999:2004,:]\n",
    "\n",
    "# plot data\n",
    "plt.figure(figsize=(4,4))\n",
    "plt.plot(nat_911.index, nat_911[['Petitions filed', 'Petitions denied', 'Naturalized, total']])\n",
    "plt.legend(loc='best', labels=['Filed', 'Denied', 'Naturalized'])\n",
    "plt.xlim(1999,2003)\n",
    "plt.ylim(0,950000)\n",
    "plt.xticks(np.arange(1999,2005))\n",
    "plt.yticks(np.arange(0,1000000, step=100000))\n",
    "plt.annotate(xy=(2001.9,400000), s='9/11')\n",
    "plt.vlines(x=2001.75, ymin = 0, ymax = 1450000, linestyle='dashed', alpha=0.2)\n",
    "plt.xlabel(\"Year\")\n",
    "plt.ylabel(\"Naturalizations\")\n",
    "plt.title(\"Trends in US naturalizations, before and after 9/11\")"
   ]
  },
  {
   "cell_type": "code",
   "execution_count": null,
   "metadata": {},
   "outputs": [],
   "source": [
    "# Pre and post Trump\n",
    "# create df\n",
    "nat_trump = nat_df.loc[2015:2018,:]\n",
    "\n",
    "# plot data\n",
    "plt.figure(figsize=(5.75,4))\n",
    "plt.plot(nat_trump.index, nat_trump[['Petitions filed', 'Petitions denied', 'Naturalized, total']])\n",
    "plt.legend(loc='lower left', labels=['Filed', 'Denied', 'Naturalized'], bbox_to_anchor=(1, 0.7))\n",
    "plt.annotate(xy=(2016,400000), s='Border wall EO')\n",
    "plt.vlines(x=2017.1, ymin = 0, ymax = 1450000, linestyle='dashed', alpha=0.2)\n",
    "plt.xlabel(\"Year\")\n",
    "plt.ylabel(\"Naturalizations\")\n",
    "plt.title(\"Trends in US naturalizations, before and after border wall EO\")\n",
    "plt.xlim(2015,2018)\n",
    "plt.ylim(0,1100000)\n",
    "plt.xticks(np.arange(2015,2019))\n",
    "plt.yticks(np.arange(0,1100000, step=200000))\n",
    "plt.tight_layout()"
   ]
  },
  {
   "cell_type": "code",
   "execution_count": null,
   "metadata": {},
   "outputs": [],
   "source": [
    "# Pre and post IIRIRA\n",
    "# create df\n",
    "nat_iiria = nat_df.loc[1995:1999,:]\n",
    "\n",
    "# plot data\n",
    "plt.figure(figsize=(5.75,4))\n",
    "plt.plot(nat_iiria.index, nat_iiria[['Petitions filed', 'Petitions denied', 'Naturalized, total']])\n",
    "plt.legend(loc='lower left', labels=['Filed', 'Denied', 'Naturalized'], bbox_to_anchor=(1, 0.7))\n",
    "# plt.annotate(xy=(2016,400000), s='Border wall EO')\n",
    "# plt.vlines(x=2017.1, ymin = 0, ymax = 1450000, linestyle='dashed', alpha=0.2)\n",
    "plt.xlabel(\"Year\")\n",
    "plt.ylabel(\"Naturalizations\")\n",
    "plt.title(\"Trends in US naturalizations, before and after IIRIRA\")\n",
    "plt.annotate(xy=(1996.9,250000), s='IIRIRA')\n",
    "plt.vlines(x=1996.75, ymin = 0, ymax = 1500000, linestyle='dashed', alpha=0.2)\n",
    "plt.xlim(1995,1999)\n",
    "plt.ylim(0,1500000)\n",
    "plt.xticks(np.arange(1995,2000))\n",
    "plt.yticks(np.arange(0,1500000, step=200000))\n",
    "plt.tight_layout()"
   ]
  },
  {
   "cell_type": "code",
   "execution_count": null,
   "metadata": {},
   "outputs": [],
   "source": [
    "# Are these trends statistically significant? Apply chi-squared test.\n",
    "'''\n",
    "STEPS\n",
    "import by-country naturalization data\n",
    "create pre 9/11 sample for muslim countries 99-00\n",
    "create post 9/11 sample for muslim countries 04-05\n",
    "create pre 9/11 sample for random non-muslim countries (maybe overall immigration that year?)\n",
    "create post 9/11 sample for random non-muslim countries (maybe overall immigration that year?)\n",
    "find expected values for pre 9/11 and post 9/11 muslim countries\n",
    "find degrees of freedom\n",
    "perform chi-square test\n",
    "'''\n",
    "\n",
    "# Get the sample size for petitions filed, denied\n",
    "# Drop naturalization data (due to lag in how quickly policy changes might affect nat numbers)\n",
    "nat_iiria_df = nat_iiria.drop(columns=['Naturalized, total'])\n",
    "# # Create new column to show petitions in pipeline (return to this if needed)\n",
    "# nat_iiria_df['Petitions in pipeline'] = nat_iiria_df['Petitions filed'] - nat_iiria_df['Petitions denied']\n",
    "nat_total_pet_filed = nat_iiria_df.loc[:,'Petitions filed'].sum()\n",
    "nat_total_pet_denied = nat_iiria_df.loc[:,'Petitions denied'].sum()\n",
    "\n",
    "# Get the sample size for the years\n",
    "nat_95 = nat_iiria_df.loc[1995,:].sum()\n",
    "nat_96 = nat_iiria_df.loc[1996,:].sum()\n",
    "nat_97 = nat_iiria_df.loc[1997,:].sum()\n",
    "nat_98 = nat_iiria_df.loc[1998,:].sum()\n",
    "nat_99 = nat_iiria_df.loc[1999,:].sum()"
   ]
  },
  {
   "cell_type": "code",
   "execution_count": null,
   "metadata": {},
   "outputs": [],
   "source": [
    "# Get population size\n",
    "nat_totals = nat_total_pet_filed + nat_total_pet_denied"
   ]
  },
  {
   "cell_type": "code",
   "execution_count": null,
   "metadata": {},
   "outputs": [],
   "source": [
    "# Get expected values using 'expected' function we imported\n",
    "\n",
    "# Calculate expected value for petitions filed in 95-97 (pre-IIRIA)\n",
    "expected_filed_95 = expected(nat_95, nat_total_pet_filed, nat_totals)\n",
    "expected_filed_96 = expected(nat_96, nat_total_pet_filed, nat_totals)\n",
    "expected_filed_97 = expected(nat_97, nat_total_pet_filed, nat_totals)\n",
    "\n",
    "# Calculate expected value for petitions filed in 98-99 (post-IIRIA)\n",
    "expected_filed_98 = expected(nat_98, nat_total_pet_filed, nat_totals)\n",
    "expected_filed_99 = expected(nat_99, nat_total_pet_filed, nat_totals)\n",
    "\n",
    "# Calculate expected value for petitions denied 95-97\n",
    "expected_denied_95 = expected(nat_95, nat_total_pet_denied, nat_totals)\n",
    "expected_denied_96 = expected(nat_96, nat_total_pet_denied, nat_totals)\n",
    "expected_denied_97 = expected(nat_97, nat_total_pet_denied, nat_totals)\n",
    "\n",
    "# Calculate expected value for petitions denied 98-99\n",
    "expected_denied_98 = expected(nat_98, nat_total_pet_denied, nat_totals)\n",
    "expected_denied_99 = expected(nat_99, nat_total_pet_denied, nat_totals)\n",
    "\n",
    "# Create list so we can loop through these in a moment\n",
    "expected_filed = [expected_filed_95, expected_filed_96, expected_filed_97, expected_filed_98, expected_filed_99]\n",
    "# denied = [expected_denied_95, expected_denied_96, expected_denied_97, expected_denied_98, expected_denied_99]"
   ]
  },
  {
   "cell_type": "code",
   "execution_count": null,
   "metadata": {},
   "outputs": [],
   "source": [
    "degrees_freedom = 4\n",
    "crit_value = 9.49"
   ]
  },
  {
   "cell_type": "code",
   "execution_count": null,
   "metadata": {},
   "outputs": [],
   "source": [
    "expected_filed"
   ]
  },
  {
   "cell_type": "code",
   "execution_count": null,
   "metadata": {},
   "outputs": [],
   "source": [
    "# Apply chi-squared test for petitions filed and changes over time\n",
    "from scipy.stats import chisquare\n",
    "\n",
    "chisquare(nat_iiria_df['Petitions filed'].values, f_exp=expected_filed, ddof=degrees_freedom)"
   ]
  },
  {
   "cell_type": "code",
   "execution_count": null,
   "metadata": {},
   "outputs": [],
   "source": [
    "# bracketed values are same as nat_iiria_df['Petitions filed'].values\n",
    "chisquare([959963, 1277403, 1412712,  932957,  765346], f_exp=expected_filed, ddof=degrees_freedom)"
   ]
  },
  {
   "cell_type": "code",
   "execution_count": null,
   "metadata": {},
   "outputs": [],
   "source": [
    "# Stacy end"
   ]
  },
  {
   "cell_type": "code",
   "execution_count": null,
   "metadata": {},
   "outputs": [],
   "source": [
    "# Kana start"
   ]
  },
  {
   "cell_type": "code",
   "execution_count": null,
   "metadata": {},
   "outputs": [],
   "source": [
    "# Read immigrants by state data\n",
    "complete_state_df = pd.read_csv(\"Output_files,Immigrants By State.csv\")\n",
    "complete_state_df.head()"
   ]
  },
  {
   "cell_type": "code",
   "execution_count": null,
   "metadata": {},
   "outputs": [],
   "source": [
    "# Initialize the map:\n",
    "map_2000 = folium.Map(location=[37, -102], zoom_start=4)\n",
    "state_geo = os.path.join(\"Resources/us-states.json\")\n",
    "\n",
    "# Add the color for the chloropleth:\n",
    "map_2000.choropleth(geo_data = state_geo,\n",
    "                    name = 'choropleth',\n",
    "                    data = complete_state_df,\n",
    "                    columns = ['State', '2000'],\n",
    "                    key_on = 'feature.id',\n",
    "                    fill_color = 'OrRd',\n",
    "                    fill_opacity = 0.7,\n",
    "                    line_opacity = 0.2,\n",
    "                    legend_name='Number of Immigrants in 2000')\n",
    "\n",
    "folium.LayerControl().add_to(map_2000)\n",
    "\n",
    "# Show the map\n",
    "map_2000"
   ]
  },
  {
   "cell_type": "code",
   "execution_count": null,
   "metadata": {},
   "outputs": [],
   "source": [
    "# Initialize the map\n",
    "state_geo = os.path.join(\"Resources/us-states.json\")\n",
    "map_2018 = folium.Map(location=[37, -102], zoom_start=4)\n",
    " \n",
    "# Add the color for the chloropleth:\n",
    "map_2018.choropleth(geo_data = state_geo,\n",
    "                    name = 'choropleth',\n",
    "                    data = complete_state_df,\n",
    "                    columns = ['State', '2018'],\n",
    "                    key_on = 'feature.id',\n",
    "                    fill_color = 'OrRd',\n",
    "                    fill_opacity = 0.7,\n",
    "                    line_opacity = 0.2,\n",
    "                    legend_name ='Number of Immigrants in 2018')\n",
    "folium.LayerControl().add_to(map_2018)\n",
    "\n",
    "# Show the map\n",
    "map_2018"
   ]
  },
  {
   "cell_type": "code",
   "execution_count": null,
   "metadata": {},
   "outputs": [],
   "source": [
    "# Read csv file for US population vs immigrants analysis\n",
    "population_comparison = pd.read_csv(\"Output_files/US Population vs Immigrants.csv\")\n",
    "population_comparison"
   ]
  },
  {
   "cell_type": "code",
   "execution_count": null,
   "metadata": {},
   "outputs": [],
   "source": [
    "# Change the figure size\n",
    "plt.figure(figsize = (20,10))\n",
    "\n",
    "# Plot us population vs year\n",
    "plt.plot(population_comparison[\"Year\"],population_comparison[\"US Population\"])\n",
    "\n",
    "# Plot us number of immigrans vs year\n",
    "plt.plot(population_comparison[\"Year\"],population_comparison[\"Number of Immigrants\"])\n",
    "\n",
    "# Set legend\n",
    "plt.legend(['Number of Immigrants', 'US Population'], loc='upper left')\n",
    "\n",
    "# Set title\n",
    "plt.title(\"US Population vs Immigtants Population in U.S. By Year\")\n",
    "\n",
    "# Set xlabel\n",
    "plt.xlabel(\"Year\")\n",
    "\n",
    "# Set ylabel\n",
    "plt.ylabel(\"Population\")\n",
    "\n",
    "# Change ticker label to plain from scientific\n",
    "plt.ticklabel_format(style='plain', axis='y', scilimits=(0,0))\n",
    "\n",
    "# Show the plot\n",
    "plt.show()"
   ]
  },
  {
   "cell_type": "code",
   "execution_count": null,
   "metadata": {},
   "outputs": [],
   "source": [
    "# Kana end"
   ]
  },
  {
   "cell_type": "code",
   "execution_count": null,
   "metadata": {},
   "outputs": [],
   "source": [
    "#Satish Start"
   ]
  },
  {
   "cell_type": "code",
   "execution_count": null,
   "metadata": {},
   "outputs": [],
   "source": [
    "immigration_df=pd.read_csv(\"Output_files/LPR_Years.csv\")\n",
    "immigration_df.Year=pd.to_numeric(immigration_df.Year)\n",
    "immigration_df.Number=pd.to_numeric(immigration_df.Number)\n",
    "immigration_plt=immigration_df.plot(kind=\"line\", x=\"Year\", y=\"Number\", grid=True, figsize=(15,10),legend=False,title=\"Number of Lawful Permanent Resident Status Vs. Years\")\n",
    "max_arrow_y=immigration_df['Number'].max()\n",
    "max_arrow_x=immigration_df.loc[immigration_df['Number']==max_arrow_y,\"Year\"].reset_index(drop=True)\n",
    "plt.annotate(\n",
    "    f\"maximum {max_arrow_x[0],max_arrow_y}\", \n",
    "    xy=(max_arrow_x[0], max_arrow_y))\n",
    "\n",
    "min_arrow_y=immigration_df['Number'].min()\n",
    "min_arrow_x=immigration_df.loc[immigration_df['Number']==min_arrow_y,\"Year\"].reset_index(drop=True)\n",
    "plt.annotate(\n",
    "    f\"Minimum {min_arrow_x[0],min_arrow_y}\", \n",
    "    xy=(min_arrow_x[0], min_arrow_y))\n",
    "\n",
    "plt.ylabel(\"Number of Lawful Permanent Resident Status\")\n",
    "plt.xlabel(\"Timepoint in Years\")\n",
    "plt.tight_layout()\n",
    "plt.show()"
   ]
  },
  {
   "cell_type": "code",
   "execution_count": null,
   "metadata": {},
   "outputs": [],
   "source": [
    "Latin_Data_summ_df=pd.read_csv(\"Output_files/Latin_Data_summ_df.csv\")\n",
    "#Bar Graph showing the Central America and Years\n",
    "Latin_Data_summ_df.plot.bar(x='Year', y='Count', rot=0,legend=False)\n",
    "plt.axis('tight')\n",
    "plt.title(\"Number of Immigrants Vs Year\")\n",
    "plt.ylabel(\"Number of Immigrants from Central America\")\n",
    "plt.xlabel(\"Year\")\n",
    "plt.tight_layout()\n",
    "plt.show()"
   ]
  },
  {
   "cell_type": "code",
   "execution_count": null,
   "metadata": {},
   "outputs": [],
   "source": [
    "Islam_Country_summ=pd.read_csv(\"Output_files/Islam_Country_summ.csv\")\n",
    "#Ploting the Graph\n",
    "Islam_Country_summ.plot.bar(x='Year', y='Count', rot=0,legend=False)\n",
    "plt.axis('tight')\n",
    "plt.title(\"Number of Immigrants Vs Year\")\n",
    "plt.ylabel(\"Total Number of Immigrants from Arab Countries\")\n",
    "plt.xlabel(\"Year\")\n",
    "plt.tight_layout()\n",
    "plt.show()"
   ]
  },
  {
   "cell_type": "code",
   "execution_count": null,
   "metadata": {},
   "outputs": [],
   "source": [
    "location_df=pd.read_csv(\"Output_files/location_df.csv\").reset_index(drop=True)\n",
    "location_df=location_df.iloc[:, 1:]\n",
    "Country_Data_Merged=pd.read_csv(\"Output_files/Country_Data_Merged.csv\")"
   ]
  },
  {
   "cell_type": "code",
   "execution_count": null,
   "metadata": {},
   "outputs": [],
   "source": [
    "#Configuring gmpas\n",
    "gmaps.configure(api_key=gkey)\n",
    "\n",
    "fig = gmaps.figure()\n",
    "\n",
    "#Creating Heat Map\n",
    "heat_layer = gmaps.heatmap_layer(location_df, weights=Country_Data_Merged['Total'], \n",
    "                                 dissipating=False, max_intensity=90000,\n",
    "                                 point_radius = 1)\n",
    "#Adding heat maps\n",
    "fig.add_layer(heat_layer)\n",
    "fig"
   ]
  },
  {
   "cell_type": "code",
   "execution_count": null,
   "metadata": {},
   "outputs": [],
   "source": [
    "Central_America_Data=['Mexico', 'Guatemala', 'Honduras', 'Nicaragua', 'El Salvador', 'Costa Rica', 'Panama', 'Belize']\n",
    "Latin_Population=Country_Data_Merged[Country_Data_Merged['Region and country of birth'].isin(Central_America_Data)].T\n",
    "Islam_Country_Data=['Afghanistan','Iran','Yemen','Jordan','Saudi Arabia','Sudan','Pakistan','Syria','Oman']\n",
    "Islam_Population=Country_Data_Merged[Country_Data_Merged['Region and country of birth'].isin(Islam_Country_Data)].T"
   ]
  },
  {
   "cell_type": "code",
   "execution_count": null,
   "metadata": {},
   "outputs": [],
   "source": [
    "Latin_Population=Latin_Population[2:]\n",
    "#df.groupby(['']).mean()\n",
    "#new_header_Latin = Country_Data_2018_df.iloc[0]\n",
    "Latin_Population_1999=Latin_Population.loc['1999',:].sum()\n",
    "Latin_Population_2000=Latin_Population.loc['2000',:].sum()\n",
    "Latin_Population_2005=Latin_Population.loc['2005',:].sum()\n",
    "Latin_Population_2006=Latin_Population.loc['2006',:].sum()\n",
    "Islam_Population_1999=Islam_Population.loc['1999',:].sum()\n",
    "Islam_Population_2000=Islam_Population.loc['2000',:].sum()\n",
    "Islam_Population_2005=Islam_Population.loc['2005',:].sum()\n",
    "Islam_Population_2006=Islam_Population.loc['2006',:].sum()\n",
    "List_total=[['1999',Latin_Population_1999,Islam_Population_1999],['2000',Latin_Population_2000,Islam_Population_2000],['2005',Latin_Population_2005,Islam_Population_2005],['2006',Latin_Population_2006,Islam_Population_2006]]"
   ]
  },
  {
   "cell_type": "code",
   "execution_count": null,
   "metadata": {},
   "outputs": [],
   "source": [
    "List_total_df=pd.DataFrame(List_total, columns=['Year','Latin America', 'Islam Country'])\n",
    "Total_1999=Latin_Population_1999+Islam_Population_1999\n",
    "Total_2000=Latin_Population_2000+Islam_Population_2000\n",
    "Total_2005=Latin_Population_2005+Islam_Population_2005\n",
    "Total_2006=Latin_Population_2006+Islam_Population_2006"
   ]
  },
  {
   "cell_type": "code",
   "execution_count": null,
   "metadata": {},
   "outputs": [],
   "source": [
    "Latin_Total=Latin_Population_1999+Latin_Population_2000+Latin_Population_2005+Latin_Population_2006\n",
    "Islam_Total=Islam_Population_1999+Islam_Population_2000+Islam_Population_2005+Islam_Population_2006\n",
    "Grand_Total=Latin_Total+Islam_Total"
   ]
  },
  {
   "cell_type": "code",
   "execution_count": null,
   "metadata": {},
   "outputs": [],
   "source": [
    "expected_99 = expected(Total_1999, Islam_Total, Grand_Total)\n",
    "expected_00 = expected(Total_2000, Islam_Total, Grand_Total)\n",
    "expected_05 = expected(Total_2005, Islam_Total, Grand_Total)\n",
    "expected_06 = expected(Total_2006, Islam_Total, Grand_Total)\n",
    "expected_list=[expected_99,expected_00,expected_05,expected_06]\n",
    "expected_list"
   ]
  },
  {
   "cell_type": "code",
   "execution_count": null,
   "metadata": {},
   "outputs": [],
   "source": [
    "degree_of_freedom=3\n",
    "critical_value=7.815\n",
    "from scipy.stats import chisquare"
   ]
  },
  {
   "cell_type": "code",
   "execution_count": null,
   "metadata": {
    "scrolled": true
   },
   "outputs": [],
   "source": [
    "List_total_df.plot(kind=\"bar\")\n",
    "plt.xticks(np.arange(4), ('1999', '2000', '2005', '2006'), rotation=0)\n",
    "plt.title(\"Number of Central America vs Islam Countries pre/Post 9/11\")\n",
    "plt.ylabel(\"Number of LPR\")\n",
    "plt.xlabel(\"Year\")\n",
    "plt.show()"
   ]
  },
  {
   "cell_type": "code",
   "execution_count": null,
   "metadata": {},
   "outputs": [],
   "source": [
    "chisquare([ 675.63878934, 1636.52359017, 1512.45163711,  583.77323195], f_exp=expected_list, ddof=degree_of_freedom)"
   ]
  },
  {
   "cell_type": "code",
   "execution_count": null,
   "metadata": {},
   "outputs": [],
   "source": [
    "##Takeaway- We found statistically significant differences for LPR rates between Islamic countries and Central America after 9/11 . Even though the number of immigrants from Islam countries slightly increased as compare to pre 9/11 , but the rate of increase is less than the Central America."
   ]
  },
  {
   "cell_type": "code",
   "execution_count": null,
   "metadata": {},
   "outputs": [],
   "source": [
    "# Satish end"
   ]
  },
  {
   "cell_type": "code",
   "execution_count": null,
   "metadata": {},
   "outputs": [],
   "source": [
    "# Umar start"
   ]
  },
  {
   "cell_type": "code",
   "execution_count": null,
   "metadata": {},
   "outputs": [],
   "source": [
    "# Umar End"
   ]
  },
  {
   "cell_type": "code",
   "execution_count": null,
   "metadata": {},
   "outputs": [],
   "source": [
    "# Narrative/summary goes here"
   ]
  }
 ],
 "metadata": {
  "kernelspec": {
   "display_name": "Python 3",
   "language": "python",
   "name": "python3"
  },
  "language_info": {
   "codemirror_mode": {
    "name": "ipython",
    "version": 3
   },
   "file_extension": ".py",
   "mimetype": "text/x-python",
   "name": "python",
   "nbconvert_exporter": "python",
   "pygments_lexer": "ipython3",
   "version": "3.7.4"
  }
 },
 "nbformat": 4,
 "nbformat_minor": 2
}
