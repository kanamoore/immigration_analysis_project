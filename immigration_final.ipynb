{
 "cells": [
  {
   "cell_type": "code",
   "execution_count": 1,
   "metadata": {},
   "outputs": [],
   "source": [
    "# Import dependencies\n",
    "import matplotlib.pyplot as plt\n",
    "import pandas as pd\n",
    "import numpy as np\n",
    "import requests\n",
    "import gmaps\n",
    "import os"
   ]
  },
  {
   "cell_type": "code",
   "execution_count": null,
   "metadata": {},
   "outputs": [],
   "source": [
    "# Narrative/intro goes here"
   ]
  },
  {
   "cell_type": "code",
   "execution_count": null,
   "metadata": {},
   "outputs": [],
   "source": [
    "# Stacy start"
   ]
  },
  {
   "cell_type": "code",
   "execution_count": null,
   "metadata": {},
   "outputs": [],
   "source": [
    "# Plot the naturalization data\n",
    "\n",
    "## CLEAN THIS UP TO MATCH CORRECT VARIABLES\n",
    "\n",
    "plt.plot(naturalization.index, naturalization[['Petitions filed', 'Naturalized, total', 'Petitions denied']])\n",
    "plt.tight_layout()\n",
    "\n",
    "# Spike in 1996 - and general increase - can be explained by this bill: https://www.vox.com/2016/4/28/11515132/iirira-clinton-immigration\n",
    "# Need to plot just the 2000 - 2010, then 2015 - 2018 data - to examine whether there are trends"
   ]
  },
  {
   "cell_type": "code",
   "execution_count": null,
   "metadata": {},
   "outputs": [],
   "source": [
    "# Stacy end"
   ]
  },
  {
   "cell_type": "code",
   "execution_count": null,
   "metadata": {},
   "outputs": [],
   "source": [
    "# Kana start"
   ]
  },
  {
   "cell_type": "code",
   "execution_count": null,
   "metadata": {},
   "outputs": [],
   "source": [
    "# Kana end"
   ]
  },
  {
   "cell_type": "code",
   "execution_count": null,
   "metadata": {},
   "outputs": [],
   "source": [
    "# Satish start"
   ]
  },
  {
   "cell_type": "code",
   "execution_count": null,
   "metadata": {},
   "outputs": [],
   "source": [
    "# Satish end"
   ]
  },
  {
   "cell_type": "code",
   "execution_count": 2,
   "metadata": {},
   "outputs": [
    {
     "data": {
      "text/html": [
       "<div>\n",
       "<style scoped>\n",
       "    .dataframe tbody tr th:only-of-type {\n",
       "        vertical-align: middle;\n",
       "    }\n",
       "\n",
       "    .dataframe tbody tr th {\n",
       "        vertical-align: top;\n",
       "    }\n",
       "\n",
       "    .dataframe thead th {\n",
       "        text-align: right;\n",
       "    }\n",
       "</style>\n",
       "<table border=\"1\" class=\"dataframe\">\n",
       "  <thead>\n",
       "    <tr style=\"text-align: right;\">\n",
       "      <th></th>\n",
       "      <th>Age</th>\n",
       "      <th>Asylum 2009</th>\n",
       "      <th>Asylum 2018</th>\n",
       "      <th>Lawful 2009</th>\n",
       "      <th>Lawful 2018</th>\n",
       "    </tr>\n",
       "  </thead>\n",
       "  <tbody>\n",
       "    <tr>\n",
       "      <th>0</th>\n",
       "      <td>Total</td>\n",
       "      <td>74602.0</td>\n",
       "      <td>25439.0</td>\n",
       "      <td>1130818.0</td>\n",
       "      <td>1096611.0</td>\n",
       "    </tr>\n",
       "    <tr>\n",
       "      <th>1</th>\n",
       "      <td>&lt; 16</td>\n",
       "      <td>22288.0</td>\n",
       "      <td>4837.0</td>\n",
       "      <td>185960.0</td>\n",
       "      <td>177300.0</td>\n",
       "    </tr>\n",
       "    <tr>\n",
       "      <th>2</th>\n",
       "      <td>16 - 20</td>\n",
       "      <td>7889.0</td>\n",
       "      <td>3278.0</td>\n",
       "      <td>101864.0</td>\n",
       "      <td>85830.0</td>\n",
       "    </tr>\n",
       "    <tr>\n",
       "      <th>3</th>\n",
       "      <td>21+</td>\n",
       "      <td>44425.0</td>\n",
       "      <td>17324.0</td>\n",
       "      <td>842992.0</td>\n",
       "      <td>833481.0</td>\n",
       "    </tr>\n",
       "  </tbody>\n",
       "</table>\n",
       "</div>"
      ],
      "text/plain": [
       "       Age  Asylum 2009  Asylum 2018  Lawful 2009  Lawful 2018\n",
       "0    Total      74602.0      25439.0    1130818.0    1096611.0\n",
       "1     < 16      22288.0       4837.0     185960.0     177300.0\n",
       "2  16 - 20       7889.0       3278.0     101864.0      85830.0\n",
       "3      21+      44425.0      17324.0     842992.0     833481.0"
      ]
     },
     "execution_count": 2,
     "metadata": {},
     "output_type": "execute_result"
    }
   ],
   "source": [
    "#Umar start\n",
    "age = \"./Output_files/la_age.csv\"\n",
    "age_pd =pd.read_csv(age)\n",
    "New_age_pd = age_pd.rename(columns={\"Lawful Permanent Resident 2009\": \"Lawful 2009\"})\n",
    "New_age_pd.head()"
   ]
  },
  {
   "cell_type": "code",
   "execution_count": 3,
   "metadata": {},
   "outputs": [
    {
     "data": {
      "text/html": [
       "<div>\n",
       "<style scoped>\n",
       "    .dataframe tbody tr th:only-of-type {\n",
       "        vertical-align: middle;\n",
       "    }\n",
       "\n",
       "    .dataframe tbody tr th {\n",
       "        vertical-align: top;\n",
       "    }\n",
       "\n",
       "    .dataframe thead th {\n",
       "        text-align: right;\n",
       "    }\n",
       "</style>\n",
       "<table border=\"1\" class=\"dataframe\">\n",
       "  <thead>\n",
       "    <tr style=\"text-align: right;\">\n",
       "      <th></th>\n",
       "      <th>Asylum 2009</th>\n",
       "      <th>Asylum 2018</th>\n",
       "      <th>Lawful 2009</th>\n",
       "      <th>Lawful 2018</th>\n",
       "    </tr>\n",
       "    <tr>\n",
       "      <th>Age</th>\n",
       "      <th></th>\n",
       "      <th></th>\n",
       "      <th></th>\n",
       "      <th></th>\n",
       "    </tr>\n",
       "  </thead>\n",
       "  <tbody>\n",
       "    <tr>\n",
       "      <th>&lt; 16</th>\n",
       "      <td>22288.0</td>\n",
       "      <td>4837.0</td>\n",
       "      <td>185960.0</td>\n",
       "      <td>177300.0</td>\n",
       "    </tr>\n",
       "    <tr>\n",
       "      <th>16 - 20</th>\n",
       "      <td>7889.0</td>\n",
       "      <td>3278.0</td>\n",
       "      <td>101864.0</td>\n",
       "      <td>85830.0</td>\n",
       "    </tr>\n",
       "    <tr>\n",
       "      <th>21+</th>\n",
       "      <td>44425.0</td>\n",
       "      <td>17324.0</td>\n",
       "      <td>842992.0</td>\n",
       "      <td>833481.0</td>\n",
       "    </tr>\n",
       "  </tbody>\n",
       "</table>\n",
       "</div>"
      ],
      "text/plain": [
       "         Asylum 2009  Asylum 2018  Lawful 2009  Lawful 2018\n",
       "Age                                                        \n",
       "< 16         22288.0       4837.0     185960.0     177300.0\n",
       "16 - 20       7889.0       3278.0     101864.0      85830.0\n",
       "21+          44425.0      17324.0     842992.0     833481.0"
      ]
     },
     "execution_count": 3,
     "metadata": {},
     "output_type": "execute_result"
    }
   ],
   "source": [
    "Final_age = New_age_pd.set_index(\"Age\")\n",
    "New_age = Final_age.iloc[1:,:]\n",
    "New_age"
   ]
  },
  {
   "cell_type": "code",
   "execution_count": 22,
   "metadata": {},
   "outputs": [
    {
     "data": {
      "image/png": "[encoded data removed]",
      "text/plain": [
       "<Figure size 1080x648 with 4 Axes>"
      ]
     },
     "metadata": {},
     "output_type": "display_data"
    }
   ],
   "source": [
    "fig, axes = plt.subplots(1,4, figsize=(15,9))\n",
    "for ax, col in zip(axes, New_age.columns):\n",
    "    ax.pie(New_age[col], labels=New_age.index, autopct='%.2f')\n",
    "    ax.set(ylabel='', title=col, aspect='equal')\n",
    "axes[0].legend(bbox_to_anchor=(0, 0.5))\n",
    "fig.savefig('your_file.png')\n",
    "plt.show()"
   ]
  },
  {
   "cell_type": "code",
   "execution_count": 5,
   "metadata": {},
   "outputs": [
    {
     "data": {
      "text/html": [
       "<div>\n",
       "<style scoped>\n",
       "    .dataframe tbody tr th:only-of-type {\n",
       "        vertical-align: middle;\n",
       "    }\n",
       "\n",
       "    .dataframe tbody tr th {\n",
       "        vertical-align: top;\n",
       "    }\n",
       "\n",
       "    .dataframe thead th {\n",
       "        text-align: right;\n",
       "    }\n",
       "</style>\n",
       "<table border=\"1\" class=\"dataframe\">\n",
       "  <thead>\n",
       "    <tr style=\"text-align: right;\">\n",
       "      <th></th>\n",
       "      <th>Marital Status</th>\n",
       "      <th>Asylum 2009</th>\n",
       "      <th>Asylum 2018</th>\n",
       "      <th>Lawful 2009</th>\n",
       "      <th>Lawful 2018</th>\n",
       "    </tr>\n",
       "  </thead>\n",
       "  <tbody>\n",
       "    <tr>\n",
       "      <th>0</th>\n",
       "      <td>Single</td>\n",
       "      <td>40798.0</td>\n",
       "      <td>14154.0</td>\n",
       "      <td>417232.0</td>\n",
       "      <td>400196.0</td>\n",
       "    </tr>\n",
       "    <tr>\n",
       "      <th>1</th>\n",
       "      <td>Married</td>\n",
       "      <td>29770.0</td>\n",
       "      <td>10142.0</td>\n",
       "      <td>654674.0</td>\n",
       "      <td>627443.0</td>\n",
       "    </tr>\n",
       "    <tr>\n",
       "      <th>2</th>\n",
       "      <td>Widowed</td>\n",
       "      <td>2452.0</td>\n",
       "      <td>232.0</td>\n",
       "      <td>28439.0</td>\n",
       "      <td>26579.0</td>\n",
       "    </tr>\n",
       "    <tr>\n",
       "      <th>3</th>\n",
       "      <td>Divorced/separated</td>\n",
       "      <td>1483.0</td>\n",
       "      <td>896.0</td>\n",
       "      <td>26015.0</td>\n",
       "      <td>32416.0</td>\n",
       "    </tr>\n",
       "    <tr>\n",
       "      <th>4</th>\n",
       "      <td>Unknown</td>\n",
       "      <td>99.0</td>\n",
       "      <td>15.0</td>\n",
       "      <td>4458.0</td>\n",
       "      <td>9977.0</td>\n",
       "    </tr>\n",
       "  </tbody>\n",
       "</table>\n",
       "</div>"
      ],
      "text/plain": [
       "       Marital Status  Asylum 2009  Asylum 2018  Lawful 2009  Lawful 2018\n",
       "0              Single      40798.0      14154.0     417232.0     400196.0\n",
       "1             Married      29770.0      10142.0     654674.0     627443.0\n",
       "2             Widowed       2452.0        232.0      28439.0      26579.0\n",
       "3  Divorced/separated       1483.0        896.0      26015.0      32416.0\n",
       "4             Unknown         99.0         15.0       4458.0       9977.0"
      ]
     },
     "execution_count": 5,
     "metadata": {},
     "output_type": "execute_result"
    }
   ],
   "source": [
    "marital = \"./Output_files/la_marital.csv\"\n",
    "marital_pd =pd.read_csv(marital)\n",
    "marital_pd.head()"
   ]
  },
  {
   "cell_type": "code",
   "execution_count": 16,
   "metadata": {},
   "outputs": [
    {
     "data": {
      "text/html": [
       "<div>\n",
       "<style scoped>\n",
       "    .dataframe tbody tr th:only-of-type {\n",
       "        vertical-align: middle;\n",
       "    }\n",
       "\n",
       "    .dataframe tbody tr th {\n",
       "        vertical-align: top;\n",
       "    }\n",
       "\n",
       "    .dataframe thead th {\n",
       "        text-align: right;\n",
       "    }\n",
       "</style>\n",
       "<table border=\"1\" class=\"dataframe\">\n",
       "  <thead>\n",
       "    <tr style=\"text-align: right;\">\n",
       "      <th></th>\n",
       "      <th>Asylum 2009</th>\n",
       "      <th>Asylum 2018</th>\n",
       "      <th>Lawful 2009</th>\n",
       "      <th>Lawful 2018</th>\n",
       "    </tr>\n",
       "    <tr>\n",
       "      <th>Marital Status</th>\n",
       "      <th></th>\n",
       "      <th></th>\n",
       "      <th></th>\n",
       "      <th></th>\n",
       "    </tr>\n",
       "  </thead>\n",
       "  <tbody>\n",
       "    <tr>\n",
       "      <th>Single</th>\n",
       "      <td>40798.0</td>\n",
       "      <td>14154.0</td>\n",
       "      <td>417232.0</td>\n",
       "      <td>400196.0</td>\n",
       "    </tr>\n",
       "    <tr>\n",
       "      <th>Married</th>\n",
       "      <td>29770.0</td>\n",
       "      <td>10142.0</td>\n",
       "      <td>654674.0</td>\n",
       "      <td>627443.0</td>\n",
       "    </tr>\n",
       "    <tr>\n",
       "      <th>Widowed</th>\n",
       "      <td>2452.0</td>\n",
       "      <td>232.0</td>\n",
       "      <td>28439.0</td>\n",
       "      <td>26579.0</td>\n",
       "    </tr>\n",
       "    <tr>\n",
       "      <th>Divorced/separated</th>\n",
       "      <td>1483.0</td>\n",
       "      <td>896.0</td>\n",
       "      <td>26015.0</td>\n",
       "      <td>32416.0</td>\n",
       "    </tr>\n",
       "    <tr>\n",
       "      <th>Unknown</th>\n",
       "      <td>99.0</td>\n",
       "      <td>15.0</td>\n",
       "      <td>4458.0</td>\n",
       "      <td>9977.0</td>\n",
       "    </tr>\n",
       "  </tbody>\n",
       "</table>\n",
       "</div>"
      ],
      "text/plain": [
       "                    Asylum 2009  Asylum 2018  Lawful 2009  Lawful 2018\n",
       "Marital Status                                                        \n",
       "Single                  40798.0      14154.0     417232.0     400196.0\n",
       "Married                 29770.0      10142.0     654674.0     627443.0\n",
       "Widowed                  2452.0        232.0      28439.0      26579.0\n",
       "Divorced/separated       1483.0        896.0      26015.0      32416.0\n",
       "Unknown                    99.0         15.0       4458.0       9977.0"
      ]
     },
     "execution_count": 16,
     "metadata": {},
     "output_type": "execute_result"
    }
   ],
   "source": [
    "Final_marital = marital_pd.set_index(\"Marital Status\")\n",
    "New_marital = Final_marital.iloc[:,:]\n",
    "New_marital"
   ]
  },
  {
   "cell_type": "code",
   "execution_count": 18,
   "metadata": {},
   "outputs": [
    {
     "data": {
      "image/png": "[encoded data removed]",
      "text/plain": [
       "<Figure size 1080x648 with 4 Axes>"
      ]
     },
     "metadata": {},
     "output_type": "display_data"
    }
   ],
   "source": [
    "fig, axes = plt.subplots(1,4, figsize=(15,9))\n",
    "for ax, col in zip(axes, New_marital.columns):\n",
    "    ax.pie(New_marital[col], labels=New_marital.index, autopct='%.2f')\n",
    "    ax.set(ylabel='', title=col, aspect='equal')\n",
    "axes[0].legend(bbox_to_anchor=(0, 0.5))\n",
    "fig.savefig('your_file.png')\n",
    "plt.show()"
   ]
  },
  {
   "cell_type": "code",
   "execution_count": 15,
   "metadata": {},
   "outputs": [
    {
     "data": {
      "text/html": [
       "<div>\n",
       "<style scoped>\n",
       "    .dataframe tbody tr th:only-of-type {\n",
       "        vertical-align: middle;\n",
       "    }\n",
       "\n",
       "    .dataframe tbody tr th {\n",
       "        vertical-align: top;\n",
       "    }\n",
       "\n",
       "    .dataframe thead th {\n",
       "        text-align: right;\n",
       "    }\n",
       "</style>\n",
       "<table border=\"1\" class=\"dataframe\">\n",
       "  <thead>\n",
       "    <tr style=\"text-align: right;\">\n",
       "      <th></th>\n",
       "      <th>Sex</th>\n",
       "      <th>Asylum 2009</th>\n",
       "      <th>Asylum 2018</th>\n",
       "      <th>Lawful 2009</th>\n",
       "      <th>Lawful 2018</th>\n",
       "    </tr>\n",
       "  </thead>\n",
       "  <tbody>\n",
       "    <tr>\n",
       "      <th>0</th>\n",
       "      <td>Total</td>\n",
       "      <td>74602.0</td>\n",
       "      <td>25439.0</td>\n",
       "      <td>1130818.0</td>\n",
       "      <td>1096611.0</td>\n",
       "    </tr>\n",
       "    <tr>\n",
       "      <th>1</th>\n",
       "      <td>Male</td>\n",
       "      <td>38491.0</td>\n",
       "      <td>12956.0</td>\n",
       "      <td>513015.0</td>\n",
       "      <td>512176.0</td>\n",
       "    </tr>\n",
       "    <tr>\n",
       "      <th>2</th>\n",
       "      <td>Female</td>\n",
       "      <td>36111.0</td>\n",
       "      <td>12483.0</td>\n",
       "      <td>617799.0</td>\n",
       "      <td>584426.0</td>\n",
       "    </tr>\n",
       "  </tbody>\n",
       "</table>\n",
       "</div>"
      ],
      "text/plain": [
       "      Sex  Asylum 2009  Asylum 2018  Lawful 2009  Lawful 2018\n",
       "0   Total      74602.0      25439.0    1130818.0    1096611.0\n",
       "1    Male      38491.0      12956.0     513015.0     512176.0\n",
       "2  Female      36111.0      12483.0     617799.0     584426.0"
      ]
     },
     "execution_count": 15,
     "metadata": {},
     "output_type": "execute_result"
    }
   ],
   "source": [
    "sex = \"./Output_files/la_sex.csv\"\n",
    "sex_pd =pd.read_csv(sex)\n",
    "New_sex_pd = sex_pd.rename(columns={\"Unnamed: 0\": \"Sex\"})\n",
    "New_sex_pd.head()"
   ]
  },
  {
   "cell_type": "code",
   "execution_count": 20,
   "metadata": {},
   "outputs": [
    {
     "data": {
      "text/html": [
       "<div>\n",
       "<style scoped>\n",
       "    .dataframe tbody tr th:only-of-type {\n",
       "        vertical-align: middle;\n",
       "    }\n",
       "\n",
       "    .dataframe tbody tr th {\n",
       "        vertical-align: top;\n",
       "    }\n",
       "\n",
       "    .dataframe thead th {\n",
       "        text-align: right;\n",
       "    }\n",
       "</style>\n",
       "<table border=\"1\" class=\"dataframe\">\n",
       "  <thead>\n",
       "    <tr style=\"text-align: right;\">\n",
       "      <th></th>\n",
       "      <th>Asylum 2009</th>\n",
       "      <th>Asylum 2018</th>\n",
       "      <th>Lawful 2009</th>\n",
       "      <th>Lawful 2018</th>\n",
       "    </tr>\n",
       "    <tr>\n",
       "      <th>Sex</th>\n",
       "      <th></th>\n",
       "      <th></th>\n",
       "      <th></th>\n",
       "      <th></th>\n",
       "    </tr>\n",
       "  </thead>\n",
       "  <tbody>\n",
       "    <tr>\n",
       "      <th>Male</th>\n",
       "      <td>38491.0</td>\n",
       "      <td>12956.0</td>\n",
       "      <td>513015.0</td>\n",
       "      <td>512176.0</td>\n",
       "    </tr>\n",
       "    <tr>\n",
       "      <th>Female</th>\n",
       "      <td>36111.0</td>\n",
       "      <td>12483.0</td>\n",
       "      <td>617799.0</td>\n",
       "      <td>584426.0</td>\n",
       "    </tr>\n",
       "  </tbody>\n",
       "</table>\n",
       "</div>"
      ],
      "text/plain": [
       "        Asylum 2009  Asylum 2018  Lawful 2009  Lawful 2018\n",
       "Sex                                                       \n",
       "Male        38491.0      12956.0     513015.0     512176.0\n",
       "Female      36111.0      12483.0     617799.0     584426.0"
      ]
     },
     "execution_count": 20,
     "metadata": {},
     "output_type": "execute_result"
    }
   ],
   "source": [
    "Final_sex = New_sex_pd.set_index(\"Sex\")\n",
    "Graph_sex = Final_sex.iloc[1:,:]\n",
    "Graph_sex"
   ]
  },
  {
   "cell_type": "code",
   "execution_count": 21,
   "metadata": {},
   "outputs": [
    {
     "data": {
      "image/png": "[encoded data removed]",
      "text/plain": [
       "<Figure size 1080x648 with 4 Axes>"
      ]
     },
     "metadata": {},
     "output_type": "display_data"
    }
   ],
   "source": [
    "fig, axes = plt.subplots(1,4, figsize=(15,9))\n",
    "for ax, col in zip(axes, Graph_sex.columns):\n",
    "    ax.pie(Graph_sex[col], labels=Graph_sex.index, autopct='%.2f')\n",
    "    ax.set(ylabel='', title=col, aspect='equal')\n",
    "axes[0].legend(bbox_to_anchor=(0, 0.5))\n",
    "fig.savefig('your_file.png')\n",
    "plt.show()"
   ]
  },
  {
   "cell_type": "code",
   "execution_count": null,
   "metadata": {},
   "outputs": [],
   "source": [
    "# Umar End"
   ]
  },
  {
   "cell_type": "code",
   "execution_count": null,
   "metadata": {},
   "outputs": [],
   "source": [
    "# Narrative/summary goes here"
   ]
  }
 ],
 "metadata": {
  "kernelspec": {
   "display_name": "Python 3",
   "language": "python",
   "name": "python3"
  },
  "language_info": {
   "codemirror_mode": {
    "name": "ipython",
    "version": 3
   },
   "file_extension": ".py",
   "mimetype": "text/x-python",
   "name": "python",
   "nbconvert_exporter": "python",
   "pygments_lexer": "ipython3",
   "version": "3.7.4"
  }
 },
 "nbformat": 4,
 "nbformat_minor": 4
}
